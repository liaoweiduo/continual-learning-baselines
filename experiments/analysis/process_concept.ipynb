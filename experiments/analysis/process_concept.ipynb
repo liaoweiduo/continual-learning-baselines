{
 "cells": [
  {
   "cell_type": "markdown",
   "metadata": {
    "collapsed": true,
    "pycharm": {
     "name": "#%% md\n"
    }
   },
   "source": [
    "# construct subset of objects"
   ]
  },
  {
   "cell_type": "code",
   "execution_count": 1,
   "outputs": [],
   "source": [
    "import os\n",
    "import json\n",
    "\n",
    "json_path = os.path.join('../../datasets', 'gqa', 'GQA_100', 'fewshot')\n"
   ],
   "metadata": {
    "collapsed": false,
    "pycharm": {
     "name": "#%%\n"
    }
   }
  },
  {
   "cell_type": "code",
   "execution_count": 4,
   "outputs": [],
   "source": [
    "# load json\n",
    "\n",
    "file_path = os.path.join(json_path, 'non_novel', 'non_novel_fewshot.json')\n",
    "# objects = ('shirt', 'building', 'sign', 'car', 'flower', 'pants', 'helmet', 'pole', 'leaves', 'wall', 'door', 'fence', 'hat', 'shorts')      # fresh\n",
    "objects = (('plate', 'grass', 'table', 'chair', 'jacket', 'shoe', 'bench'))      # old\n",
    "new_name = 'nons.json'\n",
    "\n",
    "info = json.load(open(file_path))\n"
   ],
   "metadata": {
    "collapsed": false,
    "pycharm": {
     "name": "#%%\n"
    }
   }
  },
  {
   "cell_type": "code",
   "execution_count": 5,
   "outputs": [
    {
     "name": "stdout",
     "output_type": "stream",
     "text": [
      "1000\n",
      "[('bench', 'chair'), ('bench', 'jacket'), ('bench', 'table'), ('chair', 'grass'), ('chair', 'shoe'), ('grass', 'jacket'), ('grass', 'plate'), ('grass', 'shoe'), ('grass', 'table'), ('jacket', 'shoe')]\n"
     ]
    }
   ],
   "source": [
    "\n",
    "subset = []\n",
    "for item in info:\n",
    "    if len(set(item['comb']).difference(objects)) == 0:     # all objects in our desired set\n",
    "        subset.append(item)\n",
    "\n",
    "print(len(subset))\n",
    "print(sorted(list(set([tuple(sorted(item['comb'])) for item in subset]))))"
   ],
   "metadata": {
    "collapsed": false,
    "pycharm": {
     "name": "#%%\n"
    }
   }
  },
  {
   "cell_type": "code",
   "execution_count": 12,
   "outputs": [],
   "source": [
    "# save subset\n",
    "\n",
    "# with open(os.path.join(json_path, new_name), 'w') as f:\n",
    "#     json.dump(subset, f)"
   ],
   "metadata": {
    "collapsed": false,
    "pycharm": {
     "name": "#%%\n"
    }
   }
  },
  {
   "cell_type": "code",
   "execution_count": 7,
   "outputs": [
    {
     "name": "stdout",
     "output_type": "stream",
     "text": [
      "4200\n",
      "[('building', 'car'), ('building', 'door'), ('building', 'fence'), ('building', 'helmet'), ('building', 'pants'), ('building', 'shirt'), ('building', 'shorts'), ('building', 'wall'), ('car', 'door'), ('car', 'fence'), ('car', 'hat'), ('car', 'pole'), ('car', 'wall'), ('door', 'flower'), ('door', 'hat'), ('door', 'helmet'), ('door', 'pants'), ('door', 'shirt'), ('door', 'shorts'), ('door', 'sign'), ('door', 'wall'), ('fence', 'hat'), ('fence', 'shirt'), ('fence', 'sign'), ('flower', 'hat'), ('flower', 'leaves'), ('flower', 'shorts'), ('flower', 'sign'), ('hat', 'helmet'), ('hat', 'leaves'), ('hat', 'pants'), ('helmet', 'pants'), ('leaves', 'pants'), ('leaves', 'pole'), ('pants', 'pole'), ('pants', 'sign'), ('pole', 'shorts'), ('pole', 'sign'), ('shirt', 'shorts'), ('shirt', 'sign'), ('shorts', 'wall'), ('sign', 'wall')]\n"
     ]
    }
   ],
   "source": [
    "# for sys\n",
    "\n",
    "file_path = os.path.join(json_path, 'sys', 'sys_fewshot.json')\n",
    "objects = ('shirt', 'building', 'sign', 'car', 'flower', 'pants', 'helmet', 'pole', 'leaves', 'wall', 'door', 'fence', 'hat', 'shorts')      # fresh\n",
    "# objects = (('plate', 'grass', 'table', 'chair', 'jacket', 'shoe', 'bench'))      # old\n",
    "new_name = 'syss.json'\n",
    "\n",
    "info = json.load(open(file_path))\n",
    "\n",
    "subset = []\n",
    "for item in info:\n",
    "    if len(set(item['comb']).difference(objects)) == 0:     # all objects in our desired set\n",
    "        subset.append(item)\n",
    "\n",
    "print(len(subset))\n",
    "print(sorted(list(set([tuple(sorted(item['comb'])) for item in subset]))))\n",
    "\n",
    "# # save subset\n",
    "#\n",
    "# with open(os.path.join(json_path, new_name), 'w') as f:\n",
    "#     json.dump(subset, f)"
   ],
   "metadata": {
    "collapsed": false,
    "pycharm": {
     "name": "#%%\n"
    }
   }
  },
  {
   "cell_type": "markdown",
   "source": [
    "# Concept statistics (cobj)"
   ],
   "metadata": {
    "collapsed": false,
    "pycharm": {
     "name": "#%% md\n"
    }
   }
  },
  {
   "cell_type": "code",
   "execution_count": 2,
   "outputs": [
    {
     "name": "stdout",
     "output_type": "stream",
     "text": [
      "\\\\172.18.36.77\\datasets\\continual-learning-baselines\n",
      "[[('Bracelet', 'Person', 'Sneakers'), ('Car', 'SUV', 'Street Lights'), ('Bracelet', 'Glasses', 'Person'), ('Bench', 'Person'), ('Person', 'Sneakers'), ('Car', 'Person'), ('Boat', 'Sailboat'), ('Lamp', 'Person'), ('Glasses', 'Hat', 'Person'), ('Chair', 'Person')], [('Hat', 'Person', 'Sneakers'), ('Microphone', 'Person'), ('Basketball', 'Person', 'Sneakers'), ('Boat', 'Person'), ('Other Shoes', 'Person', 'Sneakers'), ('Other Shoes', 'Person'), ('Guitar', 'Microphone', 'Person'), ('Bracelet', 'Necklace', 'Person'), ('Glasses', 'Person'), ('Necklace', 'Person')], [('Car', 'Street Lights'), ('Car', 'Person', 'Street Lights'), ('Glasses', 'Person', 'Sneakers'), ('Person', 'Street Lights'), ('Hat', 'Other Shoes', 'Person'), ('Chair', 'Desk'), ('Hat', 'Person'), ('Bracelet', 'Person'), ('Handbag/Satchel', 'Person'), ('Glasses', 'Necklace', 'Person')]]\n"
     ]
    }
   ],
   "source": [
    "%cd \\\\172.18.36.77\\datasets\\continual-learning-baselines\n",
    "\n",
    "from datasets.cobj import continual_training_benchmark\n",
    "benchmark = continual_training_benchmark(\n",
    "    n_experiences=3, return_task_id=True,\n",
    "    seed=1234, shuffle=True,\n",
    "    dataset_root='../datasets',\n",
    "    memory_size=0,\n",
    ")\n",
    "class_exp = benchmark.original_classes_in_exp\n",
    "maps = benchmark.label_info[2]\n",
    "str_class_exp = []\n",
    "for classes in class_exp:\n",
    "    str_class_exp.append([maps[c] for c in classes])\n",
    "print(str_class_exp)"
   ],
   "metadata": {
    "collapsed": false,
    "pycharm": {
     "name": "#%%\n"
    }
   }
  },
  {
   "cell_type": "code",
   "execution_count": 4,
   "outputs": [
    {
     "name": "stdout",
     "output_type": "stream",
     "text": [
      "0 concepts: ['Bench', 'Boat', 'Bracelet', 'Car', 'Chair', 'Glasses', 'Hat', 'Lamp', 'Person', 'SUV', 'Sailboat', 'Sneakers', 'Street Lights'].\n",
      "1 concepts: ['Basketball', 'Boat', 'Bracelet', 'Glasses', 'Guitar', 'Hat', 'Microphone', 'Necklace', 'Other Shoes', 'Person', 'Sneakers'].\n",
      "2 concepts: ['Bracelet', 'Car', 'Chair', 'Desk', 'Glasses', 'Handbag/Satchel', 'Hat', 'Necklace', 'Other Shoes', 'Person', 'Sneakers', 'Street Lights'].\n"
     ]
    }
   ],
   "source": [
    "# concepts in each task\n",
    "str_concept_exp = []\n",
    "for task_id in range(3):\n",
    "    concepts = sorted(set([concept for concept_tuple in str_class_exp[task_id] for concept in concept_tuple]))\n",
    "    str_concept_exp.append(concepts)\n",
    "    print(f'{task_id} concepts: {concepts}.')"
   ],
   "metadata": {
    "collapsed": false,
    "pycharm": {
     "name": "#%%\n"
    }
   }
  },
  {
   "cell_type": "code",
   "execution_count": 8,
   "outputs": [
    {
     "name": "stdout",
     "output_type": "stream",
     "text": [
      "\\begin{tabular}{lrrr}\n",
      "{Task j} & {0} & {1} & {2} \\\\\n",
      "{Task i} & {} & {} & {} \\\\\n",
      "0 & 13 & 6 & 8 \\\\\n",
      "1 & 6 & 11 & 7 \\\\\n",
      "2 & 8 & 7 & 12 \\\\\n",
      "\\end{tabular}\n",
      "\n",
      "Task j   0   1   2\n",
      "Task i            \n",
      "0       13   6   8\n",
      "1        6  11   7\n",
      "2        8   7  12\n"
     ]
    },
    {
     "data": {
      "text/plain": "<Figure size 200x200 with 2 Axes>",
      "image/png": "[encoded data removed]"
     },
     "metadata": {},
     "output_type": "display_data"
    }
   ],
   "source": [
    "# num of same concepts: pair-wisely compare\n",
    "import os\n",
    "import pandas as pd\n",
    "import matplotlib\n",
    "import matplotlib.pyplot as plt\n",
    "import seaborn as sns\n",
    "\n",
    "collected_data = []\n",
    "for xid, concept_x in enumerate(str_concept_exp):\n",
    "    for yid, concept_y in enumerate(str_concept_exp):\n",
    "        num_same_concepts = len(set(concept_x) & set(concept_y))\n",
    "        collected_data.append(pd.DataFrame({'Task i': xid, 'Task j': yid, 'Num': num_same_concepts}, index=[0]))\n",
    "collected_data = pd.concat(collected_data, ignore_index=True)\n",
    "data = collected_data.pivot(index='Task i', columns='Task j', values='Num')\n",
    "plt.figure(figsize=(2, 2))\n",
    "matplotlib.rcParams.update({'font.size': 18})\n",
    "ax = sns.heatmap(data, annot=True, linewidth=.5)\n",
    "fig = ax.get_figure()\n",
    "fig.savefig(os.path.join('D:', 'Downloads', 'fig.png'), dpi = 400, bbox_inches='tight')\n",
    "print(data.style.to_latex())\n",
    "print(data)\n"
   ],
   "metadata": {
    "collapsed": false,
    "pycharm": {
     "name": "#%%\n"
    }
   }
  },
  {
   "cell_type": "code",
   "execution_count": 23,
   "outputs": [
    {
     "name": "stdout",
     "output_type": "stream",
     "text": [
      "concepts: ['Basketball', 'Bench', 'Boat', 'Bracelet', 'Car', 'Chair', 'Desk', 'Glasses', 'Guitar', 'Handbag/Satchel', 'Hat', 'Lamp', 'Microphone', 'Necklace', 'Other Shoes', 'Person', 'SUV', 'Sailboat', 'Sneakers', 'Street Lights']\n",
      "            Concept  # classes\n",
      "0        Basketball          1\n",
      "1             Bench          1\n",
      "2              Boat          2\n",
      "3          Bracelet          4\n",
      "4               Car          4\n",
      "5             Chair          2\n",
      "6              Desk          1\n",
      "7           Glasses          5\n",
      "8            Guitar          1\n",
      "9   Handbag/Satchel          1\n",
      "10              Hat          4\n",
      "11             Lamp          1\n",
      "12       Microphone          2\n",
      "13         Necklace          3\n",
      "14      Other Shoes          3\n",
      "15           Person         26\n",
      "16              SUV          1\n",
      "17         Sailboat          1\n",
      "18         Sneakers          6\n",
      "19    Street Lights          4\n"
     ]
    },
    {
     "data": {
      "text/plain": "<Figure size 1000x500 with 1 Axes>",
      "image/png": "[encoded data removed]"
     },
     "metadata": {},
     "output_type": "display_data"
    }
   ],
   "source": [
    "concepts = sorted(set([concept for concept_comb in benchmark.label_info[0] for concept in concept_comb]))\n",
    "print('concepts:', concepts)\n",
    "\n",
    "collected_data = []\n",
    "for concept in concepts:\n",
    "    num = 0\n",
    "    for cls in benchmark.label_info[0]:\n",
    "        if concept in cls:\n",
    "            num += 1\n",
    "    collected_data.append(pd.DataFrame({'Concept': concept, '# classes': num}, index=[0]))\n",
    "\n",
    "collected_data = pd.concat(collected_data, ignore_index=True)\n",
    "plt.figure(figsize=(10, 5))\n",
    "matplotlib.rcParams.update({'font.size': 18})\n",
    "ax = sns.barplot(data=collected_data, x='Concept', y='# classes', color='blue')\n",
    "ax.set_xticklabels(labels = concepts, rotation = 90,fontsize = 15)\n",
    "fig = ax.get_figure()\n",
    "fig.savefig(os.path.join('D:', 'Downloads', 'fig.png'), dpi = 400, bbox_inches='tight')\n",
    "print(collected_data)\n"
   ],
   "metadata": {
    "collapsed": false,
    "pycharm": {
     "name": "#%%\n"
    }
   }
  },
  {
   "cell_type": "markdown",
   "source": [
    "# Concept statistics (e.g., in or not in the last train task)"
   ],
   "metadata": {
    "collapsed": false,
    "pycharm": {
     "name": "#%% md\n"
    }
   }
  },
  {
   "cell_type": "code",
   "execution_count": 1,
   "outputs": [
    {
     "name": "stdout",
     "output_type": "stream",
     "text": [
      "\\\\172.18.36.77\\datasets\\continual-learning-baselines\n"
     ]
    }
   ],
   "source": [
    "%cd ../.."
   ],
   "metadata": {
    "collapsed": false,
    "pycharm": {
     "name": "#%%\n"
    }
   }
  },
  {
   "cell_type": "code",
   "execution_count": 4,
   "outputs": [
    {
     "name": "stdout",
     "output_type": "stream",
     "text": [
      "[[('fence', 'flower'), ('door', 'grass'), ('leaves', 'shirt'), ('grass', 'table'), ('shoe', 'shorts'), ('hat', 'table'), ('leaves', 'wall'), ('chair', 'grass'), ('door', 'shoe'), ('fence', 'helmet')], [('chair', 'sign'), ('grass', 'shorts'), ('hat', 'plate'), ('pole', 'shirt'), ('grass', 'pants'), ('pants', 'shoe'), ('pole', 'wall'), ('bench', 'chair'), ('helmet', 'plate'), ('leaves', 'shoe')], [('bench', 'shorts'), ('flower', 'pole'), ('chair', 'helmet'), ('pants', 'shorts'), ('helmet', 'shorts'), ('helmet', 'shoe'), ('hat', 'jacket'), ('hat', 'shorts'), ('jacket', 'shoe'), ('fence', 'wall')], [('bench', 'helmet'), ('hat', 'shirt'), ('bench', 'sign'), ('plate', 'wall'), ('grass', 'plate'), ('helmet', 'pole'), ('door', 'leaves'), ('bench', 'pants'), ('grass', 'jacket'), ('jacket', 'pole')], [('car', 'jacket'), ('building', 'plate'), ('helmet', 'leaves'), ('pants', 'shirt'), ('car', 'leaves'), ('bench', 'leaves'), ('fence', 'pants'), ('bench', 'shirt'), ('fence', 'grass'), ('building', 'jacket')], [('fence', 'plate'), ('car', 'helmet'), ('car', 'shorts'), ('grass', 'leaves'), ('jacket', 'shirt'), ('chair', 'shirt'), ('plate', 'sign'), ('bench', 'jacket'), ('leaves', 'sign'), ('chair', 'shoe')], [('flower', 'shirt'), ('building', 'chair'), ('plate', 'shorts'), ('building', 'leaves'), ('chair', 'hat'), ('fence', 'pole'), ('grass', 'sign'), ('building', 'grass'), ('hat', 'shoe'), ('bench', 'wall')], [('car', 'flower'), ('bench', 'door'), ('bench', 'hat'), ('bench', 'building'), ('bench', 'table'), ('hat', 'sign'), ('shirt', 'wall'), ('door', 'fence'), ('door', 'plate'), ('pole', 'table')], [('flower', 'pants'), ('shoe', 'sign'), ('helmet', 'shirt'), ('leaves', 'plate'), ('hat', 'wall'), ('grass', 'shoe'), ('plate', 'shirt'), ('pants', 'wall'), ('fence', 'leaves'), ('chair', 'pole')], [('car', 'sign'), ('car', 'pants'), ('flower', 'helmet'), ('building', 'hat'), ('car', 'shirt'), ('helmet', 'sign'), ('flower', 'wall'), ('door', 'pole'), ('leaves', 'shorts'), ('fence', 'shorts')]]\n"
     ]
    }
   ],
   "source": [
    "from datasets.cgqa import continual_training_benchmark\n",
    "benchmark = continual_training_benchmark(\n",
    "    n_experiences=10, return_task_id=True,\n",
    "    seed=1234, shuffle=True,\n",
    "    dataset_root='../datasets',\n",
    "    memory_size=0,\n",
    ")\n",
    "class_exp = benchmark.original_classes_in_exp\n",
    "maps = benchmark.label_info[2]\n",
    "str_class_exp = []\n",
    "for classes in class_exp:\n",
    "    str_class_exp.append([maps[c] for c in classes])\n",
    "print(str_class_exp)"
   ],
   "metadata": {
    "collapsed": false,
    "pycharm": {
     "name": "#%%\n"
    }
   }
  },
  {
   "cell_type": "code",
   "execution_count": 3,
   "outputs": [
    {
     "name": "stdout",
     "output_type": "stream",
     "text": [
      "0 concepts: ['Bracelet', 'Lamp', 'Person'].\n",
      "1 concepts: ['Boat', 'Other Shoes', 'Person', 'Sailboat'].\n",
      "2 concepts: ['Car', 'Microphone', 'Person', 'SUV'].\n",
      "3 concepts: ['Bench', 'Car', 'Person'].\n",
      "4 concepts: ['Flag', 'Person', 'Street Lights'].\n",
      "5 concepts: ['Handbag/Satchel', 'Person', 'Sneakers'].\n",
      "6 concepts: ['Flower', 'Glasses', 'Person', 'Vase'].\n",
      "7 concepts: ['Boat', 'Chair', 'Person'].\n",
      "8 concepts: ['Hat', 'Person', 'Tie'].\n",
      "9 concepts: ['Chair', 'Desk', 'Necklace', 'Person'].\n"
     ]
    }
   ],
   "source": [
    "# concepts in each task\n",
    "str_concept_exp = []\n",
    "for task_id in range(10):\n",
    "    concepts = sorted(set([concept for concept_tuple in str_class_exp[task_id] for concept in concept_tuple]))\n",
    "    str_concept_exp.append(concepts)\n",
    "    print(f'{task_id} concepts: {concepts}.')"
   ],
   "metadata": {
    "collapsed": false,
    "pycharm": {
     "name": "#%%\n"
    }
   }
  },
  {
   "cell_type": "code",
   "execution_count": 4,
   "outputs": [
    {
     "name": "stdout",
     "output_type": "stream",
     "text": [
      "\\begin{tabular}{lrrrrrrrrrr}\n",
      "{Task j} & {0} & {1} & {2} & {3} & {4} & {5} & {6} & {7} & {8} & {9} \\\\\n",
      "{Task i} & {} & {} & {} & {} & {} & {} & {} & {} & {} & {} \\\\\n",
      "0 & 3 & 1 & 1 & 1 & 1 & 1 & 1 & 1 & 1 & 1 \\\\\n",
      "1 & 1 & 4 & 1 & 1 & 1 & 1 & 1 & 2 & 1 & 1 \\\\\n",
      "2 & 1 & 1 & 4 & 2 & 1 & 1 & 1 & 1 & 1 & 1 \\\\\n",
      "3 & 1 & 1 & 2 & 3 & 1 & 1 & 1 & 1 & 1 & 1 \\\\\n",
      "4 & 1 & 1 & 1 & 1 & 3 & 1 & 1 & 1 & 1 & 1 \\\\\n",
      "5 & 1 & 1 & 1 & 1 & 1 & 3 & 1 & 1 & 1 & 1 \\\\\n",
      "6 & 1 & 1 & 1 & 1 & 1 & 1 & 4 & 1 & 1 & 1 \\\\\n",
      "7 & 1 & 2 & 1 & 1 & 1 & 1 & 1 & 3 & 1 & 2 \\\\\n",
      "8 & 1 & 1 & 1 & 1 & 1 & 1 & 1 & 1 & 3 & 1 \\\\\n",
      "9 & 1 & 1 & 1 & 1 & 1 & 1 & 1 & 2 & 1 & 4 \\\\\n",
      "\\end{tabular}\n",
      "\n",
      "Task j  0  1  2  3  4  5  6  7  8  9\n",
      "Task i                              \n",
      "0       3  1  1  1  1  1  1  1  1  1\n",
      "1       1  4  1  1  1  1  1  2  1  1\n",
      "2       1  1  4  2  1  1  1  1  1  1\n",
      "3       1  1  2  3  1  1  1  1  1  1\n",
      "4       1  1  1  1  3  1  1  1  1  1\n",
      "5       1  1  1  1  1  3  1  1  1  1\n",
      "6       1  1  1  1  1  1  4  1  1  1\n",
      "7       1  2  1  1  1  1  1  3  1  2\n",
      "8       1  1  1  1  1  1  1  1  3  1\n",
      "9       1  1  1  1  1  1  1  2  1  4\n"
     ]
    },
    {
     "data": {
      "text/plain": "<Figure size 500x500 with 2 Axes>",
      "image/png": "[encoded data removed]"
     },
     "metadata": {},
     "output_type": "display_data"
    }
   ],
   "source": [
    "# num of same concepts: pair-wisely compare\n",
    "import os\n",
    "import pandas as pd\n",
    "import matplotlib\n",
    "import matplotlib.pyplot as plt\n",
    "import seaborn as sns\n",
    "\n",
    "collected_data = []\n",
    "for xid, concept_x in enumerate(str_concept_exp):\n",
    "    for yid, concept_y in enumerate(str_concept_exp):\n",
    "        num_same_concepts = len(set(concept_x) & set(concept_y))\n",
    "        collected_data.append(pd.DataFrame({'Task i': xid, 'Task j': yid, 'Num': num_same_concepts}, index=[0]))\n",
    "collected_data = pd.concat(collected_data, ignore_index=True)\n",
    "data = collected_data.pivot(index='Task i', columns='Task j', values='Num')\n",
    "plt.figure(figsize=(5, 5))\n",
    "matplotlib.rcParams.update({'font.size': 18})\n",
    "ax = sns.heatmap(data, annot=True, linewidth=.5)\n",
    "fig = ax.get_figure()\n",
    "fig.savefig(os.path.join('D:', 'Downloads', 'fig.png'), dpi = 400, bbox_inches='tight')\n",
    "print(data.style.to_latex())\n",
    "print(data)\n"
   ],
   "metadata": {
    "collapsed": false,
    "pycharm": {
     "name": "#%%\n"
    }
   }
  },
  {
   "cell_type": "code",
   "execution_count": 12,
   "outputs": [
    {
     "data": {
      "text/plain": "{'fence', 'grass', 'helmet', 'leaves', 'shirt'}"
     },
     "execution_count": 12,
     "metadata": {},
     "output_type": "execute_result"
    }
   ],
   "source": [
    "set(str_concept_exp[0]) & set(str_concept_exp[4])"
   ],
   "metadata": {
    "collapsed": false,
    "pycharm": {
     "name": "#%%\n"
    }
   }
  },
  {
   "cell_type": "code",
   "execution_count": 3,
   "outputs": [
    {
     "name": "stdout",
     "output_type": "stream",
     "text": [
      "fresh_concepts: ['building', 'car', 'door', 'fence', 'flower', 'hat', 'helmet', 'leaves', 'pants', 'pole', 'shirt', 'shorts', 'sign', 'wall'].\n",
      "old_concepts: ['bench', 'chair', 'grass', 'jacket', 'plate', 'shoe', 'table'].\n"
     ]
    }
   ],
   "source": [
    "fresh_concepts = sorted(set([concept for concept_tuple in str_class_exp[-1] for concept in concept_tuple]))\n",
    "old_concepts = sorted(set([concept for concept_tuple in benchmark.label_info[0] for concept in concept_tuple]) - set(fresh_concepts))\n",
    "print(f'fresh_concepts: {fresh_concepts}.')\n",
    "print(f'old_concepts: {old_concepts}.')"
   ],
   "metadata": {
    "collapsed": false,
    "pycharm": {
     "name": "#%%\n"
    }
   }
  },
  {
   "cell_type": "code",
   "execution_count": 4,
   "outputs": [
    {
     "name": "stdout",
     "output_type": "stream",
     "text": [
      "nonf: [('building', 'hat'), ('building', 'leaves'), ('car', 'flower'), ('car', 'helmet'), ('car', 'leaves'), ('car', 'pants'), ('car', 'shirt'), ('car', 'shorts'), ('car', 'sign'), ('door', 'fence'), ('door', 'leaves'), ('door', 'pole'), ('fence', 'flower'), ('fence', 'helmet'), ('fence', 'leaves'), ('fence', 'pants'), ('fence', 'pole'), ('fence', 'shorts'), ('fence', 'wall'), ('flower', 'helmet'), ('flower', 'pants'), ('flower', 'pole'), ('flower', 'shirt'), ('flower', 'wall'), ('hat', 'shirt'), ('hat', 'shorts'), ('hat', 'sign'), ('hat', 'wall'), ('helmet', 'leaves'), ('helmet', 'pole'), ('helmet', 'shirt'), ('helmet', 'shorts'), ('helmet', 'sign'), ('leaves', 'shirt'), ('leaves', 'shorts'), ('leaves', 'sign'), ('leaves', 'wall'), ('pants', 'shirt'), ('pants', 'shorts'), ('pants', 'wall'), ('pole', 'shirt'), ('pole', 'wall'), ('shirt', 'wall')]\n",
      "nono: [('bench', 'chair'), ('bench', 'jacket'), ('bench', 'table'), ('chair', 'grass'), ('chair', 'shoe'), ('grass', 'jacket'), ('grass', 'plate'), ('grass', 'shoe'), ('grass', 'table'), ('jacket', 'shoe')]\n",
      "sysf: [('building', 'car'), ('building', 'door'), ('building', 'fence'), ('building', 'helmet'), ('building', 'pants'), ('building', 'shirt'), ('building', 'shorts'), ('building', 'wall'), ('car', 'door'), ('car', 'fence'), ('car', 'hat'), ('car', 'pole'), ('car', 'wall'), ('door', 'flower'), ('door', 'hat'), ('door', 'helmet'), ('door', 'pants'), ('door', 'shirt'), ('door', 'shorts'), ('door', 'sign'), ('door', 'wall'), ('fence', 'hat'), ('fence', 'shirt'), ('fence', 'sign'), ('flower', 'hat'), ('flower', 'leaves'), ('flower', 'shorts'), ('flower', 'sign'), ('hat', 'helmet'), ('hat', 'leaves'), ('hat', 'pants'), ('helmet', 'pants'), ('leaves', 'pants'), ('leaves', 'pole'), ('pants', 'pole'), ('pants', 'sign'), ('pole', 'shorts'), ('pole', 'sign'), ('shirt', 'shorts'), ('shirt', 'sign'), ('shorts', 'wall'), ('sign', 'wall')]\n",
      "syso: [('bench', 'grass'), ('bench', 'plate'), ('bench', 'shoe'), ('chair', 'jacket'), ('chair', 'plate'), ('chair', 'table'), ('jacket', 'plate'), ('jacket', 'table'), ('plate', 'shoe'), ('plate', 'table'), ('shoe', 'table')]\n"
     ]
    }
   ],
   "source": [
    "from datasets.cgqa import fewshot_testing_benchmark\n",
    "\n",
    "benchmark_non = fewshot_testing_benchmark(\n",
    "    n_experiences=300, mode='non', n_way=10, n_shot=10, n_val=5, n_query=10, task_offset=1, seed=1234, dataset_root='../datasets')\n",
    "# non(f)\n",
    "nonf = []\n",
    "for concept_tuple in benchmark_non.label_info[0]:\n",
    "    is_target = True\n",
    "    for concept in concept_tuple:\n",
    "        if concept not in fresh_concepts:\n",
    "            is_target = False\n",
    "    if is_target:\n",
    "        nonf.append(concept_tuple)\n",
    "nonf = sorted(nonf)\n",
    "print(f'nonf: {nonf}')\n",
    "# non(o)\n",
    "nono = []\n",
    "for concept_tuple in benchmark_non.label_info[0]:\n",
    "    is_target = True\n",
    "    for concept in concept_tuple:\n",
    "        if concept not in old_concepts:\n",
    "            is_target = False\n",
    "    if is_target:\n",
    "        nono.append(concept_tuple)\n",
    "nono = sorted(nono)\n",
    "print(f'nono: {nono}')\n",
    "\n",
    "benchmark_non = fewshot_testing_benchmark(\n",
    "    n_experiences=300, mode='sys', n_way=10, n_shot=10, n_val=5, n_query=10, task_offset=1, seed=1234, dataset_root='../datasets')\n",
    "# sys(f)\n",
    "sysf = []\n",
    "for concept_tuple in benchmark_non.label_info[0]:\n",
    "    is_target = True\n",
    "    for concept in concept_tuple:\n",
    "        if concept not in fresh_concepts:\n",
    "            is_target = False\n",
    "    if is_target:\n",
    "        sysf.append(concept_tuple)\n",
    "sysf = sorted(sysf)\n",
    "print(f'sysf: {sysf}')\n",
    "# sys(o)\n",
    "syso = []\n",
    "for concept_tuple in benchmark_non.label_info[0]:\n",
    "    is_target = True\n",
    "    for concept in concept_tuple:\n",
    "        if concept not in old_concepts:\n",
    "            is_target = False\n",
    "    if is_target:\n",
    "        syso.append(concept_tuple)\n",
    "syso = sorted(syso)\n",
    "print(f'syso: {syso}')"
   ],
   "metadata": {
    "collapsed": false,
    "pycharm": {
     "name": "#%%\n"
    }
   }
  },
  {
   "cell_type": "code",
   "execution_count": 5,
   "outputs": [
    {
     "name": "stdout",
     "output_type": "stream",
     "text": [
      "nonf: [26, 43, 67, 17, 49, 19, 76, 66, 70, 50, 81, 86, 22, 51, 84, 75, 66, 42, 25, 94, 26, 47, 75, 44, 15, 52, 76, 96, 67, 76, 36, 70, 83, 48, 15, 81, 17, 85, 76, 47, 85, 66, 96, 46, 36, 76, 73, 50, 26, 36, 51, 38, 46, 70, 48, 73, 84, 49, 88, 44, 86, 40, 43, 53, 84, 51, 15, 19, 51, 48, 89, 34, 66, 97, 83, 73, 19, 23, 76, 26, 53, 88, 19, 70, 34, 36, 64, 15, 66, 20, 64, 51, 89, 42, 81, 66, 15, 67, 96, 48, 51, 94, 89, 81, 25, 23, 94, 46, 97, 51, 64, 86, 53, 86, 88, 84, 69, 83, 44, 38, 17, 96, 96, 50, 46, 25, 34, 50, 49, 89, 69, 49, 85, 97, 23, 83, 20, 48, 75, 36, 81, 17, 66, 81, 53, 48, 26, 51, 43, 89, 50, 24, 73, 97, 49, 38, 94, 50, 22, 64, 40, 44, 36, 22, 19, 43, 38, 67, 86, 49, 48, 69, 36, 96, 46, 49, 15, 70, 40, 53, 72, 15, 69, 75, 49, 67, 25, 22, 66, 86, 52, 15, 38, 40, 94, 22, 36, 44, 97, 64, 15, 89, 66, 76, 17, 94, 36, 50, 52, 75, 88, 43, 72, 38, 38, 40, 83, 49, 67, 75, 85, 26, 46, 67, 20, 46, 48, 72, 83, 97, 34, 76, 20, 24, 23, 46, 53, 26, 96, 86, 20, 38, 83, 47, 20, 72, 86, 42, 84, 38, 69, 26, 52, 96, 24, 70, 46, 25, 19, 40, 66, 97, 81, 75, 94, 22, 38, 76, 38, 24, 47, 43, 89, 50, 94, 19, 88, 89, 38, 23, 38, 51, 81, 85, 40, 72, 64, 88, 48, 36, 43, 40, 96, 43, 64, 97, 19, 81, 89, 69, 76, 42, 96, 22, 23, 49, 47, 69, 47, 73, 49, 26, 66, 76, 23, 76, 42, 67, 53, 26, 94, 24, 23, 19, 46, 25, 70, 69, 94, 76, 88, 48, 48, 44, 85, 70, 50, 75, 47, 73, 94, 49, 66, 34, 49, 69, 75, 17, 44, 51, 75, 66, 23, 40, 46, 86, 97, 85, 96, 15, 42, 17, 84, 25, 23, 17, 75, 49, 66, 64, 24, 52, 53, 66, 89, 24, 36, 34, 43, 89, 22, 42, 94, 34, 85, 38, 64, 26, 46, 64, 17, 96, 64, 97, 46, 86, 64, 38, 66, 88, 25, 66, 50, 43, 34, 43, 26, 48, 51, 73, 94, 23, 96, 44, 83, 50, 97, 43, 43, 47, 25, 89, 69, 89, 36, 50, 70, 15, 20, 94, 69, 38, 53, 22, 76, 67, 24, 84, 50, 85, 83, 24, 48, 49, 81, 86, 24, 42, 22, 70, 85, 75, 86, 25, 75, 76, 38, 26, 83, 42, 15, 70, 67, 23, 84, 17, 17, 85, 76, 73, 25, 73, 43, 42, 49, 50, 49, 26, 44, 42, 43, 51, 83, 86, 25, 50, 34, 64, 69, 81, 25, 44, 40, 47, 76, 50, 52, 20, 20, 88, 72, 84, 42, 48, 49, 50, 73, 69, 42, 44, 48, 20, 34, 42, 34, 25, 36, 72, 36, 47, 52, 86, 73, 52, 42, 47, 84, 67, 89, 25, 83, 51, 53, 69, 97, 46, 19, 40, 23, 97, 81, 88, 69, 20, 48, 84, 69, 34, 73, 50, 76, 50, 19, 83, 73, 42, 89, 42, 15, 19, 76, 22, 36, 83, 97, 73, 75, 85, 44, 66, 40, 73, 83, 94, 66, 38, 24, 67, 22, 84, 69, 20, 22, 75, 70, 42, 19, 48, 83, 48, 85, 47, 94, 44, 84, 15, 24, 50, 73, 66]\n",
      "nono: [58, 11, 58, 27, 58, 5, 32, 79, 61, 1, 61, 11, 58, 11, 54, 1, 1, 58, 27, 5, 61, 32, 79, 32, 54, 27, 1, 61, 5, 57, 27, 54, 32, 54, 57, 79, 61, 11, 58, 54, 11, 57, 61, 58, 11, 32, 1, 32, 79, 32, 79, 57, 11, 79, 61, 32, 57, 61, 5, 11, 11, 54, 1, 79, 1, 61, 57, 58, 58, 32, 58, 1, 79, 54, 5, 54, 27, 32, 27, 57, 32, 58, 5, 57, 1, 58, 57, 5, 32, 1, 61, 11, 1, 27, 1, 32, 57, 5, 54, 61, 11, 1, 1, 57, 32, 58, 27, 58, 58, 11, 1, 58, 32, 11, 27, 11, 58, 79, 54, 57, 54, 32, 57, 5, 1, 61, 1, 58, 32, 1, 58, 11, 79, 1, 1, 11, 11, 1, 57, 27, 27, 1, 57, 32, 79, 1, 11, 79, 32, 54, 61, 11, 27, 58, 1, 5, 5, 61, 79, 11, 27, 1, 57, 32, 57, 11, 79, 1, 57, 27, 54, 79, 5, 32, 57, 11, 1, 32, 61, 54, 57, 32, 57, 58, 32, 79, 5, 61, 61, 58, 57, 1, 57, 1, 1, 61, 11, 27, 57, 1, 5, 61, 61, 5, 27, 61, 1, 58, 27, 32, 58, 5, 27, 1, 58, 57, 27, 58, 5, 58, 32, 5, 79, 5, 5, 58, 1, 11, 27, 57, 1, 54, 61, 58, 61, 54, 57, 27, 61, 27, 32, 58, 79, 58, 1, 58, 61, 27, 32, 11, 5, 61, 27, 79, 32, 57, 27, 61, 1, 5, 58, 11, 79, 32, 54, 5, 57, 27, 11, 5, 5, 54, 32, 5, 27, 32, 5, 32, 54, 11, 32, 61, 79, 54, 61, 27, 58, 57, 5, 79, 32, 58, 61, 57, 58, 61, 58, 61, 61, 58, 58, 5, 54, 79, 57, 61, 57, 5, 54, 58, 61, 1, 58, 54, 32, 79, 79, 58, 54, 58, 32, 11, 54, 1, 58, 54, 32, 11, 5, 54, 5, 54, 54, 79, 54, 11, 11, 54, 32, 11, 32, 79, 32, 58, 11, 61, 1, 11, 27, 79, 54, 79, 5, 79, 79, 32, 1, 58, 57, 11, 32, 57, 58, 32, 5, 27, 5, 61, 58, 5, 1, 11, 54, 61, 57, 54, 1, 54, 32, 27, 57, 1, 32, 5, 11, 58, 79, 58, 5, 58, 27, 32, 5, 79, 79, 57, 5, 27, 11, 1, 11, 32, 79, 27, 32, 54, 79, 1, 32, 58, 79, 61, 1, 54, 1, 11, 54, 27, 11, 5, 1, 32, 27, 11, 11, 61, 79, 5, 57, 5, 58, 27, 5, 54, 79, 58, 32, 79, 27, 1, 61, 1, 27, 1, 54, 32, 57, 11, 58, 79, 32, 27, 79, 61, 1, 79, 27, 5, 32, 61, 11, 58, 11, 79, 32, 1, 79, 54, 54, 32, 58, 27, 57, 32, 58, 54, 11, 58, 58, 11, 11, 5, 57, 58, 58, 1, 32, 1, 61, 58, 79, 61, 58, 61, 5, 32, 5, 79, 54, 11, 61, 5, 27, 79, 57, 27, 11, 54, 58, 54, 61, 11, 11, 54, 1, 32, 11, 61, 5, 11, 11, 79, 61, 11, 79, 61, 57, 61, 1, 79, 61, 32, 1, 61, 1, 54, 1, 5, 1, 54, 11, 27, 27, 58, 57, 11, 58, 61, 58, 32, 61, 1, 79, 61, 57, 79, 79, 61, 5, 79, 54, 11, 11, 5, 5, 79, 11, 1, 58, 61, 32, 54, 11, 61, 5, 11, 79, 32, 61, 5, 79, 11, 79, 61, 58, 61, 1, 54, 58, 79, 11, 54, 57, 27, 11, 27, 11, 1, 27, 57]\n",
      "sysf: [19, 98, 7, 52, 47, 8, 65, 64, 91, 9, 78, 88, 10, 57, 78, 65, 54, 35, 98, 45, 6, 9, 88, 91, 98, 17, 24, 54, 10, 24, 37, 8, 77, 44, 6, 21, 7, 88, 65, 49, 36, 54, 47, 17, 91, 7, 37, 11, 36, 21, 35, 77, 87, 9, 7, 19, 52, 64, 47, 42, 16, 14, 35, 16, 36, 49, 35, 52, 80, 8, 8, 91, 52, 98, 49, 54, 41, 52, 90, 64, 8, 35, 65, 19, 6, 41, 11, 17, 19, 11, 16, 36, 39, 42, 96, 36, 78, 44, 7, 77, 41, 19, 8, 49, 96, 6, 68, 40, 91, 39, 64, 12, 11, 42, 45, 44, 36, 24, 47, 88, 65, 66, 42, 47, 65, 6, 9, 42, 78, 65, 80, 7, 12, 37, 36, 96, 9, 36, 65, 17, 9, 54, 68, 90, 45, 65, 41, 16, 98, 44, 6, 10, 88, 44, 11, 7, 42, 54, 44, 8, 87, 21, 12, 81, 56, 64, 7, 39, 9, 45, 19, 24, 39, 91, 54, 96, 10, 17, 39, 44, 6, 57, 68, 45, 65, 6, 57, 98, 42, 56, 14, 10, 54, 96, 47, 6, 21, 24, 56, 10, 44, 47, 90, 77, 6, 88, 65, 66, 7, 24, 42, 16, 65, 81, 41, 11, 6, 35, 81, 78, 65, 91, 45, 8, 47, 77, 78, 77, 96, 39, 88, 44, 80, 14, 80, 91, 17, 77, 9, 12, 11, 39, 64, 16, 45, 96, 9, 21, 78, 37, 19, 40, 98, 37, 36, 41, 12, 16, 14, 44, 8, 39, 35, 80, 52, 11, 57, 54, 90, 9, 11, 96, 52, 96, 57, 14, 12, 17, 41, 81, 88, 44, 80, 87, 35, 66, 54, 87, 54, 40, 78, 12, 19, 77, 49, 24, 64, 39, 44, 36, 77, 42, 9, 11, 91, 54, 87, 12, 56, 7, 39, 8, 49, 44, 49, 6, 88, 45, 98, 78, 77, 11, 11, 52, 24, 10, 42, 87, 98, 54, 45, 11, 81, 12, 98, 9, 19, 77, 12, 52, 35, 87, 66, 16, 47, 78, 6, 19, 90, 17, 65, 16, 11, 17, 47, 87, 21, 45, 24, 49, 68, 36, 8, 68, 12, 16, 96, 91, 96, 6, 35, 7, 80, 14, 81, 39, 14, 81, 10, 78, 12, 91, 98, 49, 44, 11, 17, 52, 36, 90, 10, 35, 91, 17, 87, 21, 80, 16, 81, 17, 39, 68, 8, 65, 78, 49, 47, 41, 96, 47, 96, 14, 49, 90, 17, 36, 9, 45, 10, 54, 40, 19, 6, 77, 81, 17, 9, 96, 36, 80, 19, 90, 36, 42, 10, 42, 78, 56, 56, 42, 80, 16, 81, 7, 42, 16, 11, 21, 57, 21, 8, 40, 87, 52, 91, 56, 39, 98, 44, 52, 49, 7, 66, 41, 21, 81, 78, 24, 80, 54, 7, 49, 54, 52, 16, 40, 24, 77, 7, 56, 78, 17, 12, 19, 14, 37, 65, 8, 17, 87, 68, 16, 39, 64, 10, 64, 64, 44, 44, 57, 40, 68, 57, 78, 41, 39, 24, 19, 57, 81, 47, 90, 45, 98, 96, 68, 88, 54, 42, 9, 37, 39, 8, 98, 65, 21, 88, 65, 88, 90, 9, 21, 66, 57, 45, 7, 90, 12, 90, 11, 49, 68, 41, 45, 64, 90, 10, 81, 11, 66, 42, 77, 78, 37, 47, 39, 40, 96, 81, 7, 52, 47, 96, 90, 80, 40, 68, 9, 8, 54, 88, 14, 91, 35, 19, 8, 45, 90, 39, 64, 96, 81, 68, 87, 65, 37, 77, 98, 49, 90, 77, 54, 45, 40, 68, 52, 7, 78, 19, 9]\n",
      "syso: [84, 5, 28, 93, 84, 3, 93, 33, 93, 5, 75, 5, 31, 2, 3, 84, 84, 31, 93, 31, 33, 28, 75, 2, 5, 28, 3, 75, 28, 93, 93, 85, 84, 75, 2, 84, 75, 84, 5, 31, 85, 2, 75, 2, 31, 72, 5, 85, 84, 31, 72, 5, 5, 33, 33, 2, 33, 84, 75, 31, 85, 33, 75, 3, 5, 28, 28, 72, 75, 85, 3, 75, 75, 5, 84, 72, 28, 85, 2, 85, 2, 31, 84, 3, 28, 85, 75, 3, 3, 5, 2, 28, 93, 84, 84, 5, 5, 93, 75, 85, 33, 84, 72, 75, 2, 33, 2, 85, 93, 5, 85, 3, 85, 5, 75, 31, 75, 28, 72, 31, 93, 2, 93, 5, 93, 85, 2, 93, 5, 75, 75, 3, 85, 5, 84, 93, 31, 85, 93, 5, 3, 2, 84, 28, 2, 28, 93, 72, 72, 93, 5, 33, 72, 31, 84, 72, 31, 5, 3, 2, 72, 85, 5, 2, 5, 84, 31, 33, 5, 33, 3, 31, 33, 3, 84, 33, 2, 28, 84, 5, 75, 3, 85, 2, 84, 72, 28, 85, 3, 93, 33, 31, 72, 93, 75, 72, 85, 93, 31, 2, 72, 28, 33, 84, 33, 31, 31, 75, 2, 72, 33, 5, 31, 5, 3, 84, 72, 28, 2, 31, 85, 93, 28, 33, 93, 31, 3, 2, 28, 85, 3, 28, 72, 3, 28, 31, 3, 85, 72, 5, 72, 85, 5, 33, 84, 28, 31, 93, 72, 31, 84, 72, 84, 85, 84, 93, 85, 72, 75, 3, 3, 85, 33, 3, 85, 3, 31, 84, 75, 33, 31, 85, 75, 85, 72, 84, 31, 5, 28, 33, 31, 5, 3, 72, 93, 3, 85, 5, 5, 33, 31, 5, 31, 33, 5, 93, 2, 5, 28, 85, 93, 31, 3, 33, 2, 72, 72, 5, 31, 72, 31, 85, 3, 28, 3, 85, 75, 3, 5, 2, 85, 5, 72, 75, 31, 28, 75, 2, 31, 3, 28, 75, 93, 2, 28, 93, 84, 33, 84, 33, 3, 84, 2, 72, 28, 2, 93, 33, 85, 28, 85, 84, 2, 28, 84, 2, 28, 2, 5, 93, 2, 31, 5, 28, 33, 3, 93, 3, 3, 72, 28, 31, 3, 28, 72, 33, 85, 72, 28, 85, 85, 2, 33, 31, 72, 5, 93, 75, 93, 28, 84, 3, 85, 84, 33, 93, 5, 75, 2, 93, 75, 31, 3, 93, 31, 72, 84, 75, 31, 5, 85, 84, 5, 33, 72, 84, 72, 33, 84, 93, 93, 2, 85, 75, 2, 85, 93, 31, 33, 3, 31, 85, 3, 28, 85, 93, 75, 93, 28, 5, 85, 5, 33, 5, 85, 5, 3, 5, 93, 28, 72, 5, 72, 28, 85, 84, 33, 31, 33, 93, 2, 28, 85, 72, 33, 72, 84, 85, 33, 93, 75, 5, 75, 31, 72, 85, 3, 5, 93, 2, 31, 33, 3, 5, 72, 5, 3, 85, 33, 5, 28, 75, 31, 33, 5, 85, 3, 5, 75, 33, 33, 84, 31, 84, 72, 85, 93, 33, 28, 93, 5, 33, 2, 93, 28, 5, 2, 85, 28, 84, 93, 75, 28, 93, 84, 85, 93, 85, 3, 72, 31, 2, 28, 93, 85, 2, 75, 3, 93, 5, 28, 2, 84, 28, 93, 5, 75, 93, 2, 3, 93, 85, 75, 28, 28, 84, 2, 93, 28, 3, 72, 2, 84, 31, 31, 75, 28, 33, 3, 75, 84, 75, 3, 72, 84, 85, 33, 28, 2, 5, 28, 72, 93, 84, 93, 5, 33, 28, 85, 33, 75, 5, 3, 72, 28, 5, 28, 2, 85, 33]\n"
     ]
    }
   ],
   "source": [
    "'''Generate fixed_class_order for 4 subset'''\n",
    "import numpy as np\n",
    "from datasets.cgqa import fewshot_testing_benchmark\n",
    "\n",
    "# nonf\n",
    "benchmark_non = fewshot_testing_benchmark(\n",
    "    n_experiences=300, mode='non', n_way=10, n_shot=10, n_val=5, n_query=10, task_offset=1, seed=1234, dataset_root='../datasets')\n",
    "\n",
    "maps = benchmark_non.label_info[1]      # from str to int\n",
    "nonf_int = [maps[c] for c in nonf]\n",
    "n_experiences = 300\n",
    "selected_classes_in_exp = []\n",
    "rng = np.random.RandomState(seed=1234)\n",
    "for exp_idx in range(n_experiences):\n",
    "    '''select n_way classes for each exp'''\n",
    "    selected_class_idxs = list(rng.choice(nonf_int, 2, replace=False))   # 2-way\n",
    "    selected_classes_in_exp.extend(selected_class_idxs)\n",
    "\n",
    "print(f'nonf: {selected_classes_in_exp}')\n",
    "\n",
    "# nono\n",
    "nono_int = [maps[c] for c in nono]\n",
    "n_experiences = 300\n",
    "selected_classes_in_exp = []\n",
    "rng = np.random.RandomState(seed=1234)\n",
    "for exp_idx in range(n_experiences):\n",
    "    '''select n_way classes for each exp'''\n",
    "    selected_class_idxs = list(rng.choice(nono_int, 2, replace=False))   # 2-way\n",
    "    selected_classes_in_exp.extend(selected_class_idxs)\n",
    "\n",
    "print(f'nono: {selected_classes_in_exp}')\n",
    "\n",
    "# sysf\n",
    "benchmark_sys = fewshot_testing_benchmark(\n",
    "    n_experiences=300, mode='sys', n_way=10, n_shot=10, n_val=5, n_query=10, task_offset=1, seed=1234, dataset_root='../datasets')\n",
    "\n",
    "maps = benchmark_sys.label_info[1]      # from str to int\n",
    "sysf_int = [maps[c] for c in sysf]\n",
    "n_experiences = 300\n",
    "selected_classes_in_exp = []\n",
    "rng = np.random.RandomState(seed=1234)\n",
    "for exp_idx in range(n_experiences):\n",
    "    '''select n_way classes for each exp'''\n",
    "    selected_class_idxs = list(rng.choice(sysf_int, 2, replace=False))   # 2-way\n",
    "    selected_classes_in_exp.extend(selected_class_idxs)\n",
    "\n",
    "print(f'sysf: {selected_classes_in_exp}')\n",
    "\n",
    "# syso\n",
    "syso_int = [maps[c] for c in syso]\n",
    "n_experiences = 300\n",
    "selected_classes_in_exp = []\n",
    "rng = np.random.RandomState(seed=1234)\n",
    "for exp_idx in range(n_experiences):\n",
    "    '''select n_way classes for each exp'''\n",
    "    selected_class_idxs = list(rng.choice(syso_int, 2, replace=False))   # 2-way\n",
    "    selected_classes_in_exp.extend(selected_class_idxs)\n",
    "\n",
    "print(f'syso: {selected_classes_in_exp}')"
   ],
   "metadata": {
    "collapsed": false,
    "pycharm": {
     "name": "#%%\n"
    }
   }
  },
  {
   "cell_type": "markdown",
   "source": [
    "# Learn new dataset"
   ],
   "metadata": {
    "collapsed": false,
    "pycharm": {
     "name": "#%% md\n"
    }
   }
  },
  {
   "cell_type": "code",
   "execution_count": 6,
   "outputs": [
    {
     "name": "stdout",
     "output_type": "stream",
     "text": [
      "50\n",
      "100\n",
      "targets 100\n",
      "targets_task_labels 100\n",
      "targets 10\n",
      "targets_task_labels 10\n",
      "[0, 1, 2, 3, 4, 5, 6, 7, 8, 9]\n",
      "targets 200\n",
      "targets_task_labels 200\n"
     ]
    }
   ],
   "source": [
    "import torch\n",
    "from torch.utils.data.dataset import TensorDataset\n",
    "from avalanche.benchmarks.utils import AvalancheDataset\n",
    "\n",
    "# Create a dataset of 100 data points described by 22 features + 1 class label\n",
    "x_data = torch.rand(100, 22)\n",
    "y_data = torch.randint(0, 5, (100,))\n",
    "\n",
    "# Create the Dataset\n",
    "torch_data = TensorDataset(x_data, y_data)\n",
    "\n",
    "avl_data = AvalancheDataset(torch_data)\n",
    "\n",
    "sub_data = avl_data.subset(list(range(50)))\n",
    "print(len(sub_data))  # 50\n",
    "print(len(avl_data))  # 100, original data stays the same\n",
    "\n",
    "from avalanche.benchmarks.utils import make_classification_dataset\n",
    "\n",
    "# first, we add targets to the dataset. This will be used by the AvalancheDataset\n",
    "# If possible, avalanche tries to extract the targets from the dataset.\n",
    "# most datasets in torchvision already have a targets field so you don't need this step.\n",
    "torch_data.targets = torch.randint(0, 5, (100,)).tolist()\n",
    "tls = [0 for _ in range(100)] # one task label for each sample\n",
    "sup_data = make_classification_dataset(torch_data, task_labels=tls)\n",
    "tls_1 = [1 for _ in range(100)] # one task label for each sample\n",
    "sup_data_1 = make_classification_dataset(torch_data, task_labels=tls_1)\n",
    "\n",
    "print(sup_data.targets.name, len(sup_data.targets._data))\n",
    "print(sup_data.targets_task_labels.name, len(sup_data.targets_task_labels._data))\n",
    "\n",
    "# after subsampling\n",
    "sub_data = sup_data.subset(list(range(10)))\n",
    "print(sub_data.targets.name, len(sub_data.targets._data))\n",
    "print(sub_data.targets_task_labels.name, len(sub_data.targets_task_labels._data))\n",
    "\n",
    "print(sub_data._get_indices())\n",
    "\n",
    "# after concat\n",
    "cat_data = sup_data.concat(sup_data_1)\n",
    "print(cat_data.targets.name, len(cat_data.targets._data))\n",
    "print(cat_data.targets_task_labels.name, len(cat_data.targets_task_labels._data))"
   ],
   "metadata": {
    "collapsed": false,
    "pycharm": {
     "name": "#%%\n"
    }
   }
  },
  {
   "cell_type": "code",
   "execution_count": null,
   "outputs": [],
   "source": [],
   "metadata": {
    "collapsed": false,
    "pycharm": {
     "name": "#%%\n"
    }
   }
  }
 ],
 "metadata": {
  "kernelspec": {
   "display_name": "Python 3",
   "language": "python",
   "name": "python3"
  },
  "language_info": {
   "codemirror_mode": {
    "name": "ipython",
    "version": 2
   },
   "file_extension": ".py",
   "mimetype": "text/x-python",
   "name": "python",
   "nbconvert_exporter": "python",
   "pygments_lexer": "ipython2",
   "version": "2.7.6"
  }
 },
 "nbformat": 4,
 "nbformat_minor": 0
}