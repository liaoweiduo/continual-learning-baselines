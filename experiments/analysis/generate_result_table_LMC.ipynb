{
 "cells": [
  {
   "cell_type": "markdown",
   "metadata": {
    "collapsed": true,
    "pycharm": {
     "name": "#%% md\n"
    }
   },
   "source": [
    "# Generate results table for LMC"
   ]
  },
  {
   "cell_type": "code",
   "execution_count": 9,
   "outputs": [
    {
     "name": "stdout",
     "output_type": "stream",
     "text": [
      "[0.52000004 0.63499999 0.63166666 0.50333333 0.50666666]\n",
      "continual: 55.93\n",
      "continual: 55.93 & +0.20\n",
      "sys: 40.06 $\\pm$ 0.98 & -0.14\n",
      "pro: 37.48 $\\pm$ 1.20 & -0.19\n",
      "non: 46.52 $\\pm$ 1.06 & +0.00\n",
      "noc: 34.28 $\\pm$ 1.01 & -0.26\n",
      "hm_nov: 38.73, hm_ref: 39.47, hm_all: 39.10\n"
     ]
    }
   ],
   "source": [
    "import numpy as np\n",
    "import os\n",
    "import pandas as pd\n",
    "\n",
    "# exp_name = 'mntdp_vit_cgqa_lr1e-4'\n",
    "# exp_name = 'lmc_resnet18_cgqa_dp5'\n",
    "exp_name = 'mntdp_resnet18_cobj_5tasks_lr7e-4'\n",
    "\n",
    "results = np.load(os.path.join('../../../LMC-experiments', exp_name, 'results-continual.npy'))\n",
    "print(results)\n",
    "print(f'continual: {results.mean()*100:.2f}')\n",
    "\n",
    "results_sys = np.load(os.path.join('../../../LMC-experiments', exp_name, 'results-sys.npy'))\n",
    "results_pro = np.load(os.path.join('../../../LMC-experiments', exp_name, 'results-pro.npy'))\n",
    "# results_sub = np.load(os.path.join('../../../LMC-experiments', exp_name, 'results-sub.npy'))\n",
    "results_non = np.load(os.path.join('../../../LMC-experiments', exp_name, 'results-non.npy'))\n",
    "results_noc = np.load(os.path.join('../../../LMC-experiments', exp_name, 'results-noc.npy'))\n",
    "\n",
    "print(f'continual: {results.mean()*100:.2f} & {(results.mean() - results_non.mean()) / results_non.mean():+.2f}')\n",
    "print(f'sys: {results_sys.mean()*100:.2f} $\\\\pm$ {1.96 * (results_sys.std()/np.sqrt(len(results_sys)))*100:.2f} & {(results_sys.mean() - results_non.mean()) / results_non.mean():+.2f}')\n",
    "print(f'pro: {results_pro.mean()*100:.2f} $\\\\pm$ {1.96 * (results_pro.std()/np.sqrt(len(results_pro)))*100:.2f} & {(results_pro.mean() - results_non.mean()) / results_non.mean():+.2f}')\n",
    "# print(f'sub: {results_sub.mean()*100:.2f} $\\\\pm$ {1.96 * (results_sub.std()/np.sqrt(len(results_sub)))*100:.2f} & {(results_sub.mean() - results_non.mean()) / results_non.mean():+.2f}')\n",
    "print(f'non: {results_non.mean()*100:.2f} $\\\\pm$ {1.96 * (results_non.std()/np.sqrt(len(results_non)))*100:.2f} & {(results_non.mean() - results_non.mean()) / results_non.mean():+.2f}')\n",
    "print(f'noc: {results_noc.mean()*100:.2f} $\\\\pm$ {1.96 * (results_noc.std()/np.sqrt(len(results_noc)))*100:.2f} & {(results_noc.mean() - results_non.mean()) / results_non.mean():+.2f}')\n",
    "\n",
    "mean_dict = {\n",
    "    'sys': results_sys.mean()*100,\n",
    "    'pro': results_pro.mean()*100,\n",
    "    # 'sub': results_sub.mean()*100,\n",
    "    'non': results_non.mean()*100,\n",
    "    'noc': results_noc.mean()*100,\n",
    "}\n",
    "\n",
    "# 3x1*x2*x3/(x1*x2+x1*x3+x2*x3)\n",
    "# hm_nov = 3 * mean_dict['sys'] * mean_dict['pro'] * mean_dict['sub'] / (mean_dict['sys'] * mean_dict['pro'] + mean_dict['sys'] * mean_dict['sub'] + mean_dict['pro'] * mean_dict['sub'])\n",
    "hm_nov = 2 * mean_dict['sys'] * mean_dict['pro'] / (mean_dict['sys'] +  mean_dict['pro'])\n",
    "\n",
    "# 2x1*x2/(x1+x2)\n",
    "hm_ref = 2 * mean_dict['non'] * mean_dict['noc'] / (mean_dict['non'] + mean_dict['noc'])\n",
    "\n",
    "hm_all = 4 / (1/mean_dict['sys'] + 1/mean_dict['pro'] + 1/mean_dict['non'] + 1/mean_dict['noc'])\n",
    "\n",
    "print(f'hm_nov: {hm_nov:.2f}, hm_ref: {hm_ref:.2f}, hm_all: {hm_all:.2f}')"
   ],
   "metadata": {
    "collapsed": false,
    "pycharm": {
     "name": "#%%\n"
    }
   }
  },
  {
   "cell_type": "code",
   "execution_count": 1,
   "outputs": [
    {
     "name": "stdout",
     "output_type": "stream",
     "text": [
      "[0.69999999 0.66300005 0.59299999 0.68599999 0.64500004 0.60100001\n",
      " 0.73099995 0.68700004 0.741      0.65200001]\n",
      "continual: 66.99\n",
      "[0.78299993 0.74399996 0.59299999 0.68300003 0.741      0.639\n",
      " 0.67000002 0.69200003 0.65199995 0.64799994]\n",
      "continual: 68.45\n",
      "[0.65499991 0.76199996 0.64899999 0.64700001 0.65999997 0.63\n",
      " 0.67099994 0.667      0.61199999 0.64500004]\n",
      "continual: 65.98\n",
      "[0.77699989 0.65100002 0.73800004 0.63099998 0.713      0.71199995\n",
      " 0.55500001 0.66500008 0.62799996 0.56      ]\n",
      "continual: 66.30\n",
      "[0.68499994 0.66799998 0.70699996 0.574      0.69399995 0.62700003\n",
      " 0.62600005 0.67199999 0.62099999 0.66799992]\n",
      "continual: 65.42\n",
      "[0.79000002 0.71500003 0.74900001 0.64799994 0.704      0.546\n",
      " 0.634      0.70899999 0.76799995 0.62199998]\n",
      "continual: 68.85\n",
      "[0.68699998 0.63499999 0.648      0.63700002 0.72499996 0.59100002\n",
      " 0.65600002 0.66900003 0.71900004 0.76899999]\n",
      "continual: 67.36\n",
      "[0.71999997 0.55199999 0.56900001 0.61799997 0.59599996 0.71699995\n",
      " 0.65999997 0.80999994 0.66899997 0.70300001]\n",
      "continual: 66.14\n",
      "[66.99000060558319, 68.44999849796295, 65.97999811172485, 66.29999935626984, 65.41999816894531, 68.84999930858612, 67.36000061035156, 66.13999724388123]\n",
      "66.94% +- 0.79%\n"
     ]
    }
   ],
   "source": [
    "import numpy as np\n",
    "import os\n",
    "import pandas as pd\n",
    "\n",
    "accs = []\n",
    "for i in range(1,9):\n",
    "    exp_name = f'mntdp_res_scifar_lr1e-3-{i}'\n",
    "    # exp_name = 'lmc_resnet18_cgqa_dp5'\n",
    "\n",
    "    results = np.load(os.path.join('../../../LMC-experiments', exp_name, 'results-continual.npy'))\n",
    "    print(results)\n",
    "    print(f'continual: {results.mean()*100:.2f}')\n",
    "    accs.append(results.mean()*100)\n",
    "\n",
    "print(accs)\n",
    "print(f'{np.mean(accs):.2f}% +- {1.96 * (np.std(accs)/np.sqrt(len(accs))):.2f}%')"
   ],
   "metadata": {
    "collapsed": false,
    "pycharm": {
     "name": "#%%\n"
    }
   }
  },
  {
   "cell_type": "code",
   "execution_count": null,
   "outputs": [],
   "source": [
    "import torch\n",
    "\n",
    "checkpoint = torch.load(os.path.join('../../LMC-experiments', 'mntdp_resnet18_cgqa_lr1e-3_', 'model.pt'), map_location=torch.device('cuda'))\n",
    "\n",
    "checkpoint['structure_pool'] = [[0, 0, 0, 0], [1, 1, 1, 1], [1, 1, 2, 2], [1, 2, 3, 3], [1, 3, 4, 4], [0, 4, 5, 5], [1, 5, 6, 6], [1, 6, 7, 7], [2, 7, 8, 8], [1, 8, 9, 9]]\n",
    "\n",
    "torch.save(checkpoint, os.path.join('../../LMC-experiments', 'mntdp_resnet18_cgqa_lr1e-3_', 'model_.pt'))"
   ],
   "metadata": {
    "collapsed": false,
    "pycharm": {
     "name": "#%%\n"
    }
   }
  },
  {
   "cell_type": "code",
   "execution_count": null,
   "outputs": [],
   "source": [
    "print(checkpoint['state_dict'].keys())"
   ],
   "metadata": {
    "collapsed": false,
    "pycharm": {
     "name": "#%%\n"
    }
   }
  }
 ],
 "metadata": {
  "kernelspec": {
   "display_name": "Python 3",
   "language": "python",
   "name": "python3"
  },
  "language_info": {
   "codemirror_mode": {
    "name": "ipython",
    "version": 2
   },
   "file_extension": ".py",
   "mimetype": "text/x-python",
   "name": "python",
   "nbconvert_exporter": "python",
   "pygments_lexer": "ipython2",
   "version": "2.7.6"
  }
 },
 "nbformat": 4,
 "nbformat_minor": 0
}