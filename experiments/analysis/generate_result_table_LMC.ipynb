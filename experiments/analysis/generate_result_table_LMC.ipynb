{
 "cells": [
  {
   "cell_type": "markdown",
   "metadata": {
    "collapsed": true,
    "pycharm": {
     "name": "#%% md\n"
    }
   },
   "source": [
    "# Generate results table for LMC"
   ]
  },
  {
   "cell_type": "code",
   "execution_count": 10,
   "outputs": [
    {
     "name": "stdout",
     "output_type": "stream",
     "text": [
      "continual: 68.98\n",
      "continual: 68.98 & +0.32\n",
      "sys: 47.27 $\\pm$ 0.91 & -0.10\n",
      "pro: 47.41 $\\pm$ 0.86 & -0.09\n",
      "sub: 47.50 $\\pm$ 0.85 & -0.09\n",
      "non: 52.28 $\\pm$ 0.81 & +0.00\n",
      "noc: 32.29 $\\pm$ 0.83 & -0.38\n",
      "hm_nov: 47.39, hm_ref: 39.93, hm_all: 44.09\n"
     ]
    }
   ],
   "source": [
    "import numpy as np\n",
    "import os\n",
    "import pandas as pd\n",
    "\n",
    "exp_name = 'mntdp_resnet18_cgqa_lr4e-4'\n",
    "# exp_name = 'lmc_resnet18_cgqa_dp5'\n",
    "\n",
    "results = np.load(os.path.join('../../../LMC-experiments', exp_name, 'results-continual.npy'))\n",
    "print(f'continual: {results.mean()*100:.2f}')\n",
    "\n",
    "results_sys = np.load(os.path.join('../../../LMC-experiments', exp_name, 'results-sys.npy'))\n",
    "results_pro = np.load(os.path.join('../../../LMC-experiments', exp_name, 'results-pro.npy'))\n",
    "results_sub = np.load(os.path.join('../../../LMC-experiments', exp_name, 'results-sub.npy'))\n",
    "results_non = np.load(os.path.join('../../../LMC-experiments', exp_name, 'results-non.npy'))\n",
    "results_noc = np.load(os.path.join('../../../LMC-experiments', exp_name, 'results-noc.npy'))\n",
    "\n",
    "print(f'continual: {results.mean()*100:.2f} & {(results.mean() - results_non.mean()) / results_non.mean():+.2f}')\n",
    "print(f'sys: {results_sys.mean()*100:.2f} $\\\\pm$ {1.96 * (results_sys.std()/np.sqrt(len(results_sys)))*100:.2f} & {(results_sys.mean() - results_non.mean()) / results_non.mean():+.2f}')\n",
    "print(f'pro: {results_pro.mean()*100:.2f} $\\\\pm$ {1.96 * (results_pro.std()/np.sqrt(len(results_pro)))*100:.2f} & {(results_pro.mean() - results_non.mean()) / results_non.mean():+.2f}')\n",
    "print(f'sub: {results_sub.mean()*100:.2f} $\\\\pm$ {1.96 * (results_sub.std()/np.sqrt(len(results_sub)))*100:.2f} & {(results_sub.mean() - results_non.mean()) / results_non.mean():+.2f}')\n",
    "print(f'non: {results_non.mean()*100:.2f} $\\\\pm$ {1.96 * (results_non.std()/np.sqrt(len(results_non)))*100:.2f} & {(results_non.mean() - results_non.mean()) / results_non.mean():+.2f}')\n",
    "print(f'noc: {results_noc.mean()*100:.2f} $\\\\pm$ {1.96 * (results_noc.std()/np.sqrt(len(results_noc)))*100:.2f} & {(results_noc.mean() - results_non.mean()) / results_non.mean():+.2f}')\n",
    "\n",
    "mean_dict = {\n",
    "    'sys': results_sys.mean()*100,\n",
    "    'pro': results_pro.mean()*100,\n",
    "    'sub': results_sub.mean()*100,\n",
    "    'non': results_non.mean()*100,\n",
    "    'noc': results_noc.mean()*100,\n",
    "}\n",
    "\n",
    "# 3x1*x2*x3/(x1*x2+x1*x3+x2*x3)\n",
    "hm_nov = 3 * mean_dict['sys'] * mean_dict['pro'] * mean_dict['sub'] / (mean_dict['sys'] * mean_dict['pro'] + mean_dict['sys'] * mean_dict['sub'] + mean_dict['pro'] * mean_dict['sub'])\n",
    "\n",
    "# 2x1*x2/(x1+x2)\n",
    "hm_ref = 2 * mean_dict['non'] * mean_dict['noc'] / (mean_dict['non'] + mean_dict['noc'])\n",
    "\n",
    "hm_all = 5 / (1/mean_dict['sys'] + 1/mean_dict['pro'] + 1/mean_dict['sub'] + 1/mean_dict['non'] + 1/mean_dict['noc'])\n",
    "\n",
    "print(f'hm_nov: {hm_nov:.2f}, hm_ref: {hm_ref:.2f}, hm_all: {hm_all:.2f}')"
   ],
   "metadata": {
    "collapsed": false,
    "pycharm": {
     "name": "#%%\n"
    }
   }
  },
  {
   "cell_type": "code",
   "execution_count": null,
   "outputs": [],
   "source": [
    "import torch\n",
    "\n",
    "checkpoint = torch.load(os.path.join('../../LMC-experiments', 'mntdp_resnet18_cgqa_lr1e-3_', 'model.pt'), map_location=torch.device('cuda'))\n",
    "\n",
    "checkpoint['structure_pool'] = [[0, 0, 0, 0], [1, 1, 1, 1], [1, 1, 2, 2], [1, 2, 3, 3], [1, 3, 4, 4], [0, 4, 5, 5], [1, 5, 6, 6], [1, 6, 7, 7], [2, 7, 8, 8], [1, 8, 9, 9]]\n",
    "\n",
    "torch.save(checkpoint, os.path.join('../../LMC-experiments', 'mntdp_resnet18_cgqa_lr1e-3_', 'model_.pt'))"
   ],
   "metadata": {
    "collapsed": false,
    "pycharm": {
     "name": "#%%\n"
    }
   }
  },
  {
   "cell_type": "code",
   "execution_count": null,
   "outputs": [],
   "source": [
    "print(checkpoint['state_dict'].keys())"
   ],
   "metadata": {
    "collapsed": false,
    "pycharm": {
     "name": "#%%\n"
    }
   }
  }
 ],
 "metadata": {
  "kernelspec": {
   "display_name": "Python 3",
   "language": "python",
   "name": "python3"
  },
  "language_info": {
   "codemirror_mode": {
    "name": "ipython",
    "version": 2
   },
   "file_extension": ".py",
   "mimetype": "text/x-python",
   "name": "python",
   "nbconvert_exporter": "python",
   "pygments_lexer": "ipython2",
   "version": "2.7.6"
  }
 },
 "nbformat": 4,
 "nbformat_minor": 0
}