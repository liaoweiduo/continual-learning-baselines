{
 "cells": [
  {
   "cell_type": "code",
   "execution_count": 43,
   "metadata": {
    "collapsed": true
   },
   "outputs": [],
   "source": [
    "%matplotlib inline\n",
    "import matplotlib.pyplot as plt\n",
    "import os\n",
    "import numpy as np"
   ]
  },
  {
   "cell_type": "code",
   "execution_count": 44,
   "outputs": [],
   "source": [
    "project_name = 'Split_Sys_VQA'\n",
    "exp_name = 'Naive'\n",
    "# exp_name = 'ER'\n",
    "# exp_name = 'LwF'\n",
    "# exp_name = 'GEM'"
   ],
   "metadata": {
    "collapsed": false,
    "pycharm": {
     "name": "#%%\n"
    }
   }
  },
  {
   "cell_type": "code",
   "execution_count": 45,
   "outputs": [
    {
     "name": "stdout",
     "output_type": "stream",
     "text": [
      "[{'Top1_Acc_Exp/eval_phase/test_stream/Task000/Exp000': 0.6, 'Loss_Exp/eval_phase/test_stream/Task000/Exp000': 1.5807034373283386, 'Top1_Acc_Stream/eval_phase/test_stream/Task000': 0.6, 'Loss_Stream/eval_phase/test_stream/Task000': 1.5807034373283386, 'Top1_Acc_Epoch/train_phase/train_stream/Task000': 1.0, 'Loss_Epoch/train_phase/train_stream/Task000': 0.005347466601190371}\n",
      " {'Top1_Acc_Exp/eval_phase/test_stream/Task000/Exp000': 0.6, 'Loss_Exp/eval_phase/test_stream/Task000/Exp000': 1.5807034373283386, 'Top1_Acc_Stream/eval_phase/test_stream/Task000': 0.81, 'Loss_Stream/eval_phase/test_stream/Task000': 0.7675045132637024, 'Top1_Acc_Epoch/train_phase/train_stream/Task000': 1.0, 'Loss_Epoch/train_phase/train_stream/Task000': 0.0016083522454007633, 'Top1_Acc_Exp/eval_phase/test_stream/Task000/Exp001': 0.81, 'Loss_Exp/eval_phase/test_stream/Task000/Exp001': 0.7675045132637024}\n",
      " {'Top1_Acc_Exp/eval_phase/test_stream/Task000/Exp000': 0.6, 'Loss_Exp/eval_phase/test_stream/Task000/Exp000': 1.5807034373283386, 'Top1_Acc_Stream/eval_phase/test_stream/Task000': 0.65, 'Loss_Stream/eval_phase/test_stream/Task000': 0.7579403817653656, 'Top1_Acc_Epoch/train_phase/train_stream/Task000': 0.9770992366412213, 'Loss_Epoch/train_phase/train_stream/Task000': 0.0853892651791791, 'Top1_Acc_Exp/eval_phase/test_stream/Task000/Exp001': 0.81, 'Loss_Exp/eval_phase/test_stream/Task000/Exp001': 0.7675045132637024, 'Top1_Acc_Exp/eval_phase/test_stream/Task000/Exp002': 0.65, 'Loss_Exp/eval_phase/test_stream/Task000/Exp002': 0.7579403817653656}\n",
      " {'Top1_Acc_Exp/eval_phase/test_stream/Task000/Exp000': 0.6, 'Loss_Exp/eval_phase/test_stream/Task000/Exp000': 1.5807034373283386, 'Top1_Acc_Stream/eval_phase/test_stream/Task000': 0.77, 'Loss_Stream/eval_phase/test_stream/Task000': 1.0811872482299805, 'Top1_Acc_Epoch/train_phase/train_stream/Task000': 0.9956616052060737, 'Loss_Epoch/train_phase/train_stream/Task000': 0.008486153757898641, 'Top1_Acc_Exp/eval_phase/test_stream/Task000/Exp001': 0.81, 'Loss_Exp/eval_phase/test_stream/Task000/Exp001': 0.7675045132637024, 'Top1_Acc_Exp/eval_phase/test_stream/Task000/Exp002': 0.65, 'Loss_Exp/eval_phase/test_stream/Task000/Exp002': 0.7579403817653656, 'Top1_Acc_Exp/eval_phase/test_stream/Task000/Exp003': 0.77, 'Loss_Exp/eval_phase/test_stream/Task000/Exp003': 1.0811872482299805}\n",
      " {'Top1_Acc_Exp/eval_phase/test_stream/Task000/Exp000': 0.6, 'Loss_Exp/eval_phase/test_stream/Task000/Exp000': 1.5807034373283386, 'Top1_Acc_Stream/eval_phase/test_stream/Task000': 0.78, 'Loss_Stream/eval_phase/test_stream/Task000': 0.6053905785083771, 'Top1_Acc_Epoch/train_phase/train_stream/Task000': 0.9892086330935251, 'Loss_Epoch/train_phase/train_stream/Task000': 0.056338872304923245, 'Top1_Acc_Exp/eval_phase/test_stream/Task000/Exp001': 0.81, 'Loss_Exp/eval_phase/test_stream/Task000/Exp001': 0.7675045132637024, 'Top1_Acc_Exp/eval_phase/test_stream/Task000/Exp002': 0.65, 'Loss_Exp/eval_phase/test_stream/Task000/Exp002': 0.7579403817653656, 'Top1_Acc_Exp/eval_phase/test_stream/Task000/Exp003': 0.77, 'Loss_Exp/eval_phase/test_stream/Task000/Exp003': 1.0811872482299805, 'Top1_Acc_Exp/eval_phase/test_stream/Task000/Exp004': 0.78, 'Loss_Exp/eval_phase/test_stream/Task000/Exp004': 0.6053905785083771}\n",
      " {'Top1_Acc_Exp/eval_phase/test_stream/Task000/Exp000': 0.6, 'Loss_Exp/eval_phase/test_stream/Task000/Exp000': 1.5807034373283386, 'Top1_Acc_Stream/eval_phase/test_stream/Task000': 0.81, 'Loss_Stream/eval_phase/test_stream/Task000': 0.9853350073099136, 'Top1_Acc_Epoch/train_phase/train_stream/Task000': 1.0, 'Loss_Epoch/train_phase/train_stream/Task000': 0.0014279975588174744, 'Top1_Acc_Exp/eval_phase/test_stream/Task000/Exp001': 0.81, 'Loss_Exp/eval_phase/test_stream/Task000/Exp001': 0.7675045132637024, 'Top1_Acc_Exp/eval_phase/test_stream/Task000/Exp002': 0.65, 'Loss_Exp/eval_phase/test_stream/Task000/Exp002': 0.7579403817653656, 'Top1_Acc_Exp/eval_phase/test_stream/Task000/Exp003': 0.77, 'Loss_Exp/eval_phase/test_stream/Task000/Exp003': 1.0811872482299805, 'Top1_Acc_Exp/eval_phase/test_stream/Task000/Exp004': 0.78, 'Loss_Exp/eval_phase/test_stream/Task000/Exp004': 0.6053905785083771, 'Top1_Acc_Exp/eval_phase/test_stream/Task000/Exp005': 0.81, 'Loss_Exp/eval_phase/test_stream/Task000/Exp005': 0.9853350073099136}\n",
      " {'Top1_Acc_Exp/eval_phase/test_stream/Task000/Exp000': 0.6, 'Loss_Exp/eval_phase/test_stream/Task000/Exp000': 1.5807034373283386, 'Top1_Acc_Stream/eval_phase/test_stream/Task000': 0.62, 'Loss_Stream/eval_phase/test_stream/Task000': 1.8216487169265747, 'Top1_Acc_Epoch/train_phase/train_stream/Task000': 1.0, 'Loss_Epoch/train_phase/train_stream/Task000': 0.00485405218543523, 'Top1_Acc_Exp/eval_phase/test_stream/Task000/Exp001': 0.81, 'Loss_Exp/eval_phase/test_stream/Task000/Exp001': 0.7675045132637024, 'Top1_Acc_Exp/eval_phase/test_stream/Task000/Exp002': 0.65, 'Loss_Exp/eval_phase/test_stream/Task000/Exp002': 0.7579403817653656, 'Top1_Acc_Exp/eval_phase/test_stream/Task000/Exp003': 0.77, 'Loss_Exp/eval_phase/test_stream/Task000/Exp003': 1.0811872482299805, 'Top1_Acc_Exp/eval_phase/test_stream/Task000/Exp004': 0.78, 'Loss_Exp/eval_phase/test_stream/Task000/Exp004': 0.6053905785083771, 'Top1_Acc_Exp/eval_phase/test_stream/Task000/Exp005': 0.81, 'Loss_Exp/eval_phase/test_stream/Task000/Exp005': 0.9853350073099136, 'Top1_Acc_Exp/eval_phase/test_stream/Task000/Exp006': 0.62, 'Loss_Exp/eval_phase/test_stream/Task000/Exp006': 1.8216487169265747}\n",
      " {'Top1_Acc_Exp/eval_phase/test_stream/Task000/Exp000': 0.6, 'Loss_Exp/eval_phase/test_stream/Task000/Exp000': 1.5807034373283386, 'Top1_Acc_Stream/eval_phase/test_stream/Task000': 0.77, 'Loss_Stream/eval_phase/test_stream/Task000': 0.7915516793727875, 'Top1_Acc_Epoch/train_phase/train_stream/Task000': 0.9978308026030369, 'Loss_Epoch/train_phase/train_stream/Task000': 0.008035568257797825, 'Top1_Acc_Exp/eval_phase/test_stream/Task000/Exp001': 0.81, 'Loss_Exp/eval_phase/test_stream/Task000/Exp001': 0.7675045132637024, 'Top1_Acc_Exp/eval_phase/test_stream/Task000/Exp002': 0.65, 'Loss_Exp/eval_phase/test_stream/Task000/Exp002': 0.7579403817653656, 'Top1_Acc_Exp/eval_phase/test_stream/Task000/Exp003': 0.77, 'Loss_Exp/eval_phase/test_stream/Task000/Exp003': 1.0811872482299805, 'Top1_Acc_Exp/eval_phase/test_stream/Task000/Exp004': 0.78, 'Loss_Exp/eval_phase/test_stream/Task000/Exp004': 0.6053905785083771, 'Top1_Acc_Exp/eval_phase/test_stream/Task000/Exp005': 0.81, 'Loss_Exp/eval_phase/test_stream/Task000/Exp005': 0.9853350073099136, 'Top1_Acc_Exp/eval_phase/test_stream/Task000/Exp006': 0.62, 'Loss_Exp/eval_phase/test_stream/Task000/Exp006': 1.8216487169265747, 'Top1_Acc_Exp/eval_phase/test_stream/Task000/Exp007': 0.77, 'Loss_Exp/eval_phase/test_stream/Task000/Exp007': 0.7915516793727875}\n",
      " {'Top1_Acc_Exp/eval_phase/test_stream/Task000/Exp000': 0.6, 'Loss_Exp/eval_phase/test_stream/Task000/Exp000': 1.5807034373283386, 'Top1_Acc_Stream/eval_phase/test_stream/Task000': 0.81, 'Loss_Stream/eval_phase/test_stream/Task000': 0.6336277276277542, 'Top1_Acc_Epoch/train_phase/train_stream/Task000': 0.9928057553956835, 'Loss_Epoch/train_phase/train_stream/Task000': 0.05236497928770326, 'Top1_Acc_Exp/eval_phase/test_stream/Task000/Exp001': 0.81, 'Loss_Exp/eval_phase/test_stream/Task000/Exp001': 0.7675045132637024, 'Top1_Acc_Exp/eval_phase/test_stream/Task000/Exp002': 0.65, 'Loss_Exp/eval_phase/test_stream/Task000/Exp002': 0.7579403817653656, 'Top1_Acc_Exp/eval_phase/test_stream/Task000/Exp003': 0.77, 'Loss_Exp/eval_phase/test_stream/Task000/Exp003': 1.0811872482299805, 'Top1_Acc_Exp/eval_phase/test_stream/Task000/Exp004': 0.78, 'Loss_Exp/eval_phase/test_stream/Task000/Exp004': 0.6053905785083771, 'Top1_Acc_Exp/eval_phase/test_stream/Task000/Exp005': 0.81, 'Loss_Exp/eval_phase/test_stream/Task000/Exp005': 0.9853350073099136, 'Top1_Acc_Exp/eval_phase/test_stream/Task000/Exp006': 0.62, 'Loss_Exp/eval_phase/test_stream/Task000/Exp006': 1.8216487169265747, 'Top1_Acc_Exp/eval_phase/test_stream/Task000/Exp007': 0.77, 'Loss_Exp/eval_phase/test_stream/Task000/Exp007': 0.7915516793727875, 'Top1_Acc_Exp/eval_phase/test_stream/Task000/Exp008': 0.81, 'Loss_Exp/eval_phase/test_stream/Task000/Exp008': 0.6336277276277542}\n",
      " {'Top1_Acc_Exp/eval_phase/test_stream/Task000/Exp000': 0.6, 'Loss_Exp/eval_phase/test_stream/Task000/Exp000': 1.5807034373283386, 'Top1_Acc_Stream/eval_phase/test_stream/Task000': 0.66, 'Loss_Stream/eval_phase/test_stream/Task000': 1.2705557942390442, 'Top1_Acc_Epoch/train_phase/train_stream/Task000': 0.9977528089887641, 'Loss_Epoch/train_phase/train_stream/Task000': 0.00754363260472591, 'Top1_Acc_Exp/eval_phase/test_stream/Task000/Exp001': 0.81, 'Loss_Exp/eval_phase/test_stream/Task000/Exp001': 0.7675045132637024, 'Top1_Acc_Exp/eval_phase/test_stream/Task000/Exp002': 0.65, 'Loss_Exp/eval_phase/test_stream/Task000/Exp002': 0.7579403817653656, 'Top1_Acc_Exp/eval_phase/test_stream/Task000/Exp003': 0.77, 'Loss_Exp/eval_phase/test_stream/Task000/Exp003': 1.0811872482299805, 'Top1_Acc_Exp/eval_phase/test_stream/Task000/Exp004': 0.78, 'Loss_Exp/eval_phase/test_stream/Task000/Exp004': 0.6053905785083771, 'Top1_Acc_Exp/eval_phase/test_stream/Task000/Exp005': 0.81, 'Loss_Exp/eval_phase/test_stream/Task000/Exp005': 0.9853350073099136, 'Top1_Acc_Exp/eval_phase/test_stream/Task000/Exp006': 0.62, 'Loss_Exp/eval_phase/test_stream/Task000/Exp006': 1.8216487169265747, 'Top1_Acc_Exp/eval_phase/test_stream/Task000/Exp007': 0.77, 'Loss_Exp/eval_phase/test_stream/Task000/Exp007': 0.7915516793727875, 'Top1_Acc_Exp/eval_phase/test_stream/Task000/Exp008': 0.81, 'Loss_Exp/eval_phase/test_stream/Task000/Exp008': 0.6336277276277542, 'Top1_Acc_Exp/eval_phase/test_stream/Task000/Exp009': 0.66, 'Loss_Exp/eval_phase/test_stream/Task000/Exp009': 1.2705557942390442}]\n"
     ]
    }
   ],
   "source": [
    "results = np.load(os.path.join('../../avalanche-experiments', project_name, exp_name, f'results-Novel-{exp_name}.npy'), allow_pickle=True)\n",
    "print(results)"
   ],
   "metadata": {
    "collapsed": false,
    "pycharm": {
     "name": "#%%\n"
    }
   }
  },
  {
   "cell_type": "markdown",
   "source": [],
   "metadata": {
    "collapsed": false
   }
  },
  {
   "cell_type": "code",
   "execution_count": 46,
   "outputs": [
    {
     "name": "stdout",
     "output_type": "stream",
     "text": [
      "[0.6, 0.81, 0.65, 0.77, 0.78, 0.81, 0.62, 0.77, 0.81, 0.66]\n"
     ]
    }
   ],
   "source": [
    "accs = [result['Top1_Acc_Stream/eval_phase/test_stream/Task000'] for result in results]\n",
    "print(accs)"
   ],
   "metadata": {
    "collapsed": false,
    "pycharm": {
     "name": "#%%\n"
    }
   }
  },
  {
   "cell_type": "code",
   "execution_count": 47,
   "outputs": [
    {
     "name": "stdout",
     "output_type": "stream",
     "text": [
      "72.80% (8.07%)\n"
     ]
    }
   ],
   "source": [
    "print(f'{np.mean(accs)*100:.2f}% ({np.std(accs)*100:.2f}%)')"
   ],
   "metadata": {
    "collapsed": false,
    "pycharm": {
     "name": "#%%\n"
    }
   }
  },
  {
   "cell_type": "code",
   "execution_count": 47,
   "outputs": [],
   "source": [],
   "metadata": {
    "collapsed": false,
    "pycharm": {
     "name": "#%%\n"
    }
   }
  }
 ],
 "metadata": {
  "kernelspec": {
   "display_name": "Python 3",
   "language": "python",
   "name": "python3"
  },
  "language_info": {
   "codemirror_mode": {
    "name": "ipython",
    "version": 2
   },
   "file_extension": ".py",
   "mimetype": "text/x-python",
   "name": "python",
   "nbconvert_exporter": "python",
   "pygments_lexer": "ipython2",
   "version": "2.7.6"
  }
 },
 "nbformat": 4,
 "nbformat_minor": 0
}