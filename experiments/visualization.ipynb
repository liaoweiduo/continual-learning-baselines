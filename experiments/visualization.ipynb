{
 "cells": [
  {
   "cell_type": "code",
   "execution_count": 31,
   "metadata": {
    "collapsed": true
   },
   "outputs": [],
   "source": [
    "%matplotlib inline\n",
    "import matplotlib.pyplot as plt\n",
    "import os\n",
    "import numpy as np"
   ]
  },
  {
   "cell_type": "code",
   "execution_count": 32,
   "outputs": [],
   "source": [
    "# project_name = 'Split_Sys_VQA'\n",
    "project_name = 'Split_Sub_VQA'\n",
    "# exp_name = 'nc-Naive'       # nc-\n",
    "exp_name = 'nc-ER'\n",
    "# exp_name = 'nc-LwF'\n",
    "# exp_name = 'GEM'\n",
    "test_case_name = 'Novel-{}'.format(exp_name)\n",
    "# test_case_name = 'Novel-{}-frz'.format(exp_name)\n",
    "# test_case_name = 'Novel-{}-lm'.format(exp_name)\n",
    "# test_case_name = 'Novel-{}-frz-lm'.format(exp_name)"
   ],
   "metadata": {
    "collapsed": false,
    "pycharm": {
     "name": "#%%\n"
    }
   }
  },
  {
   "cell_type": "code",
   "execution_count": 33,
   "outputs": [
    {
     "name": "stdout",
     "output_type": "stream",
     "text": [
      "[{'Top1_Acc_Epoch/train_phase/train_stream/Task000': 1.0, 'Loss_Epoch/train_phase/train_stream/Task000': 0.002793627093409414, 'Top1_Acc_Exp/eval_phase/test_stream/Task000/Exp000': 0.92, 'Loss_Exp/eval_phase/test_stream/Task000/Exp000': 0.26589810848236084, 'Top1_Acc_Stream/eval_phase/test_stream/Task000': 0.92, 'Loss_Stream/eval_phase/test_stream/Task000': 0.26589810848236084}\n",
      " {'Top1_Acc_Epoch/train_phase/train_stream/Task000': 1.0, 'Loss_Epoch/train_phase/train_stream/Task000': 0.00368402004547295, 'Top1_Acc_Exp/eval_phase/test_stream/Task000/Exp000': 0.92, 'Loss_Exp/eval_phase/test_stream/Task000/Exp000': 0.26589810848236084, 'Top1_Acc_Stream/eval_phase/test_stream/Task000': 0.95, 'Loss_Stream/eval_phase/test_stream/Task000': 0.16256767511367798, 'Top1_Acc_Exp/eval_phase/test_stream/Task000/Exp001': 0.95, 'Loss_Exp/eval_phase/test_stream/Task000/Exp001': 0.16256767511367798}\n",
      " {'Top1_Acc_Epoch/train_phase/train_stream/Task000': 1.0, 'Loss_Epoch/train_phase/train_stream/Task000': 0.0018078746346984315, 'Top1_Acc_Exp/eval_phase/test_stream/Task000/Exp000': 0.92, 'Loss_Exp/eval_phase/test_stream/Task000/Exp000': 0.26589810848236084, 'Top1_Acc_Stream/eval_phase/test_stream/Task000': 0.9, 'Loss_Stream/eval_phase/test_stream/Task000': 0.49069786071777344, 'Top1_Acc_Exp/eval_phase/test_stream/Task000/Exp001': 0.95, 'Loss_Exp/eval_phase/test_stream/Task000/Exp001': 0.16256767511367798, 'Top1_Acc_Exp/eval_phase/test_stream/Task000/Exp002': 0.9, 'Loss_Exp/eval_phase/test_stream/Task000/Exp002': 0.49069786071777344}\n",
      " {'Top1_Acc_Epoch/train_phase/train_stream/Task000': 1.0, 'Loss_Epoch/train_phase/train_stream/Task000': 0.002713316579284966, 'Top1_Acc_Exp/eval_phase/test_stream/Task000/Exp000': 0.92, 'Loss_Exp/eval_phase/test_stream/Task000/Exp000': 0.26589810848236084, 'Top1_Acc_Stream/eval_phase/test_stream/Task000': 0.96, 'Loss_Stream/eval_phase/test_stream/Task000': 0.26564883487299085, 'Top1_Acc_Exp/eval_phase/test_stream/Task000/Exp001': 0.95, 'Loss_Exp/eval_phase/test_stream/Task000/Exp001': 0.16256767511367798, 'Top1_Acc_Exp/eval_phase/test_stream/Task000/Exp002': 0.9, 'Loss_Exp/eval_phase/test_stream/Task000/Exp002': 0.49069786071777344, 'Top1_Acc_Exp/eval_phase/test_stream/Task000/Exp003': 0.96, 'Loss_Exp/eval_phase/test_stream/Task000/Exp003': 0.26564883487299085}\n",
      " {'Top1_Acc_Epoch/train_phase/train_stream/Task000': 0.9974554707379135, 'Loss_Epoch/train_phase/train_stream/Task000': 0.008426038692166208, 'Top1_Acc_Exp/eval_phase/test_stream/Task000/Exp000': 0.92, 'Loss_Exp/eval_phase/test_stream/Task000/Exp000': 0.26589810848236084, 'Top1_Acc_Stream/eval_phase/test_stream/Task000': 0.97, 'Loss_Stream/eval_phase/test_stream/Task000': 0.2736800484126434, 'Top1_Acc_Exp/eval_phase/test_stream/Task000/Exp001': 0.95, 'Loss_Exp/eval_phase/test_stream/Task000/Exp001': 0.16256767511367798, 'Top1_Acc_Exp/eval_phase/test_stream/Task000/Exp002': 0.9, 'Loss_Exp/eval_phase/test_stream/Task000/Exp002': 0.49069786071777344, 'Top1_Acc_Exp/eval_phase/test_stream/Task000/Exp003': 0.96, 'Loss_Exp/eval_phase/test_stream/Task000/Exp003': 0.26564883487299085, 'Top1_Acc_Exp/eval_phase/test_stream/Task000/Exp004': 0.97, 'Loss_Exp/eval_phase/test_stream/Task000/Exp004': 0.2736800484126434}\n",
      " {'Top1_Acc_Epoch/train_phase/train_stream/Task000': 0.9875346260387812, 'Loss_Epoch/train_phase/train_stream/Task000': 0.03060858013557265, 'Top1_Acc_Exp/eval_phase/test_stream/Task000/Exp000': 0.92, 'Loss_Exp/eval_phase/test_stream/Task000/Exp000': 0.26589810848236084, 'Top1_Acc_Stream/eval_phase/test_stream/Task000': 0.91, 'Loss_Stream/eval_phase/test_stream/Task000': 0.1655784174799919, 'Top1_Acc_Exp/eval_phase/test_stream/Task000/Exp001': 0.95, 'Loss_Exp/eval_phase/test_stream/Task000/Exp001': 0.16256767511367798, 'Top1_Acc_Exp/eval_phase/test_stream/Task000/Exp002': 0.9, 'Loss_Exp/eval_phase/test_stream/Task000/Exp002': 0.49069786071777344, 'Top1_Acc_Exp/eval_phase/test_stream/Task000/Exp003': 0.96, 'Loss_Exp/eval_phase/test_stream/Task000/Exp003': 0.26564883487299085, 'Top1_Acc_Exp/eval_phase/test_stream/Task000/Exp004': 0.97, 'Loss_Exp/eval_phase/test_stream/Task000/Exp004': 0.2736800484126434, 'Top1_Acc_Exp/eval_phase/test_stream/Task000/Exp005': 0.91, 'Loss_Exp/eval_phase/test_stream/Task000/Exp005': 0.1655784174799919}\n",
      " {'Top1_Acc_Epoch/train_phase/train_stream/Task000': 0.9993150684931507, 'Loss_Epoch/train_phase/train_stream/Task000': 0.005710925962712156, 'Top1_Acc_Exp/eval_phase/test_stream/Task000/Exp000': 0.92, 'Loss_Exp/eval_phase/test_stream/Task000/Exp000': 0.26589810848236084, 'Top1_Acc_Stream/eval_phase/test_stream/Task000': 0.99, 'Loss_Stream/eval_phase/test_stream/Task000': 0.014077742584049702, 'Top1_Acc_Exp/eval_phase/test_stream/Task000/Exp001': 0.95, 'Loss_Exp/eval_phase/test_stream/Task000/Exp001': 0.16256767511367798, 'Top1_Acc_Exp/eval_phase/test_stream/Task000/Exp002': 0.9, 'Loss_Exp/eval_phase/test_stream/Task000/Exp002': 0.49069786071777344, 'Top1_Acc_Exp/eval_phase/test_stream/Task000/Exp003': 0.96, 'Loss_Exp/eval_phase/test_stream/Task000/Exp003': 0.26564883487299085, 'Top1_Acc_Exp/eval_phase/test_stream/Task000/Exp004': 0.97, 'Loss_Exp/eval_phase/test_stream/Task000/Exp004': 0.2736800484126434, 'Top1_Acc_Exp/eval_phase/test_stream/Task000/Exp005': 0.91, 'Loss_Exp/eval_phase/test_stream/Task000/Exp005': 0.1655784174799919, 'Top1_Acc_Exp/eval_phase/test_stream/Task000/Exp006': 0.99, 'Loss_Exp/eval_phase/test_stream/Task000/Exp006': 0.014077742584049702}\n",
      " {'Top1_Acc_Epoch/train_phase/train_stream/Task000': 0.9986945169712794, 'Loss_Epoch/train_phase/train_stream/Task000': 0.007439778291625785, 'Top1_Acc_Exp/eval_phase/test_stream/Task000/Exp000': 0.92, 'Loss_Exp/eval_phase/test_stream/Task000/Exp000': 0.26589810848236084, 'Top1_Acc_Stream/eval_phase/test_stream/Task000': 0.94, 'Loss_Stream/eval_phase/test_stream/Task000': 0.1259804554283619, 'Top1_Acc_Exp/eval_phase/test_stream/Task000/Exp001': 0.95, 'Loss_Exp/eval_phase/test_stream/Task000/Exp001': 0.16256767511367798, 'Top1_Acc_Exp/eval_phase/test_stream/Task000/Exp002': 0.9, 'Loss_Exp/eval_phase/test_stream/Task000/Exp002': 0.49069786071777344, 'Top1_Acc_Exp/eval_phase/test_stream/Task000/Exp003': 0.96, 'Loss_Exp/eval_phase/test_stream/Task000/Exp003': 0.26564883487299085, 'Top1_Acc_Exp/eval_phase/test_stream/Task000/Exp004': 0.97, 'Loss_Exp/eval_phase/test_stream/Task000/Exp004': 0.2736800484126434, 'Top1_Acc_Exp/eval_phase/test_stream/Task000/Exp005': 0.91, 'Loss_Exp/eval_phase/test_stream/Task000/Exp005': 0.1655784174799919, 'Top1_Acc_Exp/eval_phase/test_stream/Task000/Exp006': 0.99, 'Loss_Exp/eval_phase/test_stream/Task000/Exp006': 0.014077742584049702, 'Top1_Acc_Exp/eval_phase/test_stream/Task000/Exp007': 0.94, 'Loss_Exp/eval_phase/test_stream/Task000/Exp007': 0.1259804554283619}\n",
      " {'Top1_Acc_Epoch/train_phase/train_stream/Task000': 1.0, 'Loss_Epoch/train_phase/train_stream/Task000': 0.007917597866904588, 'Top1_Acc_Exp/eval_phase/test_stream/Task000/Exp000': 0.92, 'Loss_Exp/eval_phase/test_stream/Task000/Exp000': 0.26589810848236084, 'Top1_Acc_Stream/eval_phase/test_stream/Task000': 0.71, 'Loss_Stream/eval_phase/test_stream/Task000': 0.9477938413619995, 'Top1_Acc_Exp/eval_phase/test_stream/Task000/Exp001': 0.95, 'Loss_Exp/eval_phase/test_stream/Task000/Exp001': 0.16256767511367798, 'Top1_Acc_Exp/eval_phase/test_stream/Task000/Exp002': 0.9, 'Loss_Exp/eval_phase/test_stream/Task000/Exp002': 0.49069786071777344, 'Top1_Acc_Exp/eval_phase/test_stream/Task000/Exp003': 0.96, 'Loss_Exp/eval_phase/test_stream/Task000/Exp003': 0.26564883487299085, 'Top1_Acc_Exp/eval_phase/test_stream/Task000/Exp004': 0.97, 'Loss_Exp/eval_phase/test_stream/Task000/Exp004': 0.2736800484126434, 'Top1_Acc_Exp/eval_phase/test_stream/Task000/Exp005': 0.91, 'Loss_Exp/eval_phase/test_stream/Task000/Exp005': 0.1655784174799919, 'Top1_Acc_Exp/eval_phase/test_stream/Task000/Exp006': 0.99, 'Loss_Exp/eval_phase/test_stream/Task000/Exp006': 0.014077742584049702, 'Top1_Acc_Exp/eval_phase/test_stream/Task000/Exp007': 0.94, 'Loss_Exp/eval_phase/test_stream/Task000/Exp007': 0.1259804554283619, 'Top1_Acc_Exp/eval_phase/test_stream/Task000/Exp008': 0.71, 'Loss_Exp/eval_phase/test_stream/Task000/Exp008': 0.9477938413619995}\n",
      " {'Top1_Acc_Epoch/train_phase/train_stream/Task000': 1.0, 'Loss_Epoch/train_phase/train_stream/Task000': 0.002694544928251869, 'Top1_Acc_Exp/eval_phase/test_stream/Task000/Exp000': 0.92, 'Loss_Exp/eval_phase/test_stream/Task000/Exp000': 0.26589810848236084, 'Top1_Acc_Stream/eval_phase/test_stream/Task000': 0.95, 'Loss_Stream/eval_phase/test_stream/Task000': 0.17015544325113297, 'Top1_Acc_Exp/eval_phase/test_stream/Task000/Exp001': 0.95, 'Loss_Exp/eval_phase/test_stream/Task000/Exp001': 0.16256767511367798, 'Top1_Acc_Exp/eval_phase/test_stream/Task000/Exp002': 0.9, 'Loss_Exp/eval_phase/test_stream/Task000/Exp002': 0.49069786071777344, 'Top1_Acc_Exp/eval_phase/test_stream/Task000/Exp003': 0.96, 'Loss_Exp/eval_phase/test_stream/Task000/Exp003': 0.26564883487299085, 'Top1_Acc_Exp/eval_phase/test_stream/Task000/Exp004': 0.97, 'Loss_Exp/eval_phase/test_stream/Task000/Exp004': 0.2736800484126434, 'Top1_Acc_Exp/eval_phase/test_stream/Task000/Exp005': 0.91, 'Loss_Exp/eval_phase/test_stream/Task000/Exp005': 0.1655784174799919, 'Top1_Acc_Exp/eval_phase/test_stream/Task000/Exp006': 0.99, 'Loss_Exp/eval_phase/test_stream/Task000/Exp006': 0.014077742584049702, 'Top1_Acc_Exp/eval_phase/test_stream/Task000/Exp007': 0.94, 'Loss_Exp/eval_phase/test_stream/Task000/Exp007': 0.1259804554283619, 'Top1_Acc_Exp/eval_phase/test_stream/Task000/Exp008': 0.71, 'Loss_Exp/eval_phase/test_stream/Task000/Exp008': 0.9477938413619995, 'Top1_Acc_Exp/eval_phase/test_stream/Task000/Exp009': 0.95, 'Loss_Exp/eval_phase/test_stream/Task000/Exp009': 0.17015544325113297}]\n"
     ]
    }
   ],
   "source": [
    "results = np.load(os.path.join('../../avalanche-experiments', project_name, exp_name, f'results-{test_case_name}.npy'), allow_pickle=True)\n",
    "print(results)"
   ],
   "metadata": {
    "collapsed": false,
    "pycharm": {
     "name": "#%%\n"
    }
   }
  },
  {
   "cell_type": "markdown",
   "source": [],
   "metadata": {
    "collapsed": false
   }
  },
  {
   "cell_type": "code",
   "execution_count": 34,
   "outputs": [
    {
     "name": "stdout",
     "output_type": "stream",
     "text": [
      "[0.92, 0.95, 0.9, 0.96, 0.97, 0.91, 0.99, 0.94, 0.71, 0.95]\n"
     ]
    }
   ],
   "source": [
    "accs = [result['Top1_Acc_Stream/eval_phase/test_stream/Task000'] for result in results]\n",
    "print(accs)"
   ],
   "metadata": {
    "collapsed": false,
    "pycharm": {
     "name": "#%%\n"
    }
   }
  },
  {
   "cell_type": "code",
   "execution_count": 35,
   "outputs": [
    {
     "name": "stdout",
     "output_type": "stream",
     "text": [
      "92.00% (7.47%)\n"
     ]
    }
   ],
   "source": [
    "print(f'{np.mean(accs)*100:.2f}% ({np.std(accs)*100:.2f}%)')"
   ],
   "metadata": {
    "collapsed": false,
    "pycharm": {
     "name": "#%%\n"
    }
   }
  },
  {
   "cell_type": "code",
   "execution_count": 35,
   "outputs": [],
   "source": [],
   "metadata": {
    "collapsed": false,
    "pycharm": {
     "name": "#%%\n"
    }
   }
  }
 ],
 "metadata": {
  "kernelspec": {
   "display_name": "Python 3",
   "language": "python",
   "name": "python3"
  },
  "language_info": {
   "codemirror_mode": {
    "name": "ipython",
    "version": 2
   },
   "file_extension": ".py",
   "mimetype": "text/x-python",
   "name": "python",
   "nbconvert_exporter": "python",
   "pygments_lexer": "ipython2",
   "version": "2.7.6"
  }
 },
 "nbformat": 4,
 "nbformat_minor": 0
}