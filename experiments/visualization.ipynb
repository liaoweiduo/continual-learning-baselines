{
 "cells": [
  {
   "cell_type": "code",
   "execution_count": 56,
   "metadata": {
    "collapsed": true
   },
   "outputs": [],
   "source": [
    "%matplotlib inline\n",
    "import matplotlib.pyplot as plt\n",
    "import os\n",
    "import numpy as np"
   ]
  },
  {
   "cell_type": "code",
   "execution_count": 57,
   "outputs": [],
   "source": [
    "# project_name = 'Split_Sys_VQA'\n",
    "project_name = 'Split_Sub_VQA'\n",
    "# exp_name = 'Naive'\n",
    "# exp_name = 'ER'\n",
    "exp_name = 'LwF'\n",
    "# exp_name = 'GEM'\n",
    "# test_case_name = 'Novel-{}'.format(exp_name)\n",
    "# test_case_name = 'Novel-{}-frz'.format(exp_name)\n",
    "# test_case_name = 'Novel-{}-lm'.format(exp_name)\n",
    "test_case_name = 'Novel-{}-frz-lm'.format(exp_name)"
   ],
   "metadata": {
    "collapsed": false,
    "pycharm": {
     "name": "#%%\n"
    }
   }
  },
  {
   "cell_type": "code",
   "execution_count": 58,
   "outputs": [
    {
     "name": "stdout",
     "output_type": "stream",
     "text": [
      "[{'Top1_Acc_Epoch/train_phase/train_stream/Task000': 0.863481228668942, 'Loss_Epoch/train_phase/train_stream/Task000': 0.3512238384513725, 'Top1_Acc_Exp/eval_phase/test_stream/Task000/Exp000': 0.8, 'Loss_Exp/eval_phase/test_stream/Task000/Exp000': 0.545504093170166, 'Top1_Acc_Stream/eval_phase/test_stream/Task000': 0.8, 'Loss_Stream/eval_phase/test_stream/Task000': 0.545504093170166}\n",
      " {'Top1_Acc_Epoch/train_phase/train_stream/Task000': 0.8863387978142077, 'Loss_Epoch/train_phase/train_stream/Task000': 0.2865055879119967, 'Top1_Acc_Exp/eval_phase/test_stream/Task000/Exp000': 0.8, 'Loss_Exp/eval_phase/test_stream/Task000/Exp000': 0.545504093170166, 'Top1_Acc_Stream/eval_phase/test_stream/Task000': 0.91, 'Loss_Stream/eval_phase/test_stream/Task000': 0.29774728417396545, 'Top1_Acc_Exp/eval_phase/test_stream/Task000/Exp001': 0.91, 'Loss_Exp/eval_phase/test_stream/Task000/Exp001': 0.29774728417396545}\n",
      " {'Top1_Acc_Epoch/train_phase/train_stream/Task000': 0.924618320610687, 'Loss_Epoch/train_phase/train_stream/Task000': 0.22502589009645332, 'Top1_Acc_Exp/eval_phase/test_stream/Task000/Exp000': 0.8, 'Loss_Exp/eval_phase/test_stream/Task000/Exp000': 0.545504093170166, 'Top1_Acc_Stream/eval_phase/test_stream/Task000': 0.81, 'Loss_Stream/eval_phase/test_stream/Task000': 0.6173840016126633, 'Top1_Acc_Exp/eval_phase/test_stream/Task000/Exp001': 0.91, 'Loss_Exp/eval_phase/test_stream/Task000/Exp001': 0.29774728417396545, 'Top1_Acc_Exp/eval_phase/test_stream/Task000/Exp002': 0.81, 'Loss_Exp/eval_phase/test_stream/Task000/Exp002': 0.6173840016126633}\n",
      " {'Top1_Acc_Epoch/train_phase/train_stream/Task000': 0.8850987432675045, 'Loss_Epoch/train_phase/train_stream/Task000': 0.31911027817393334, 'Top1_Acc_Exp/eval_phase/test_stream/Task000/Exp000': 0.8, 'Loss_Exp/eval_phase/test_stream/Task000/Exp000': 0.545504093170166, 'Top1_Acc_Stream/eval_phase/test_stream/Task000': 0.94, 'Loss_Stream/eval_phase/test_stream/Task000': 0.15935896337032318, 'Top1_Acc_Exp/eval_phase/test_stream/Task000/Exp001': 0.91, 'Loss_Exp/eval_phase/test_stream/Task000/Exp001': 0.29774728417396545, 'Top1_Acc_Exp/eval_phase/test_stream/Task000/Exp002': 0.81, 'Loss_Exp/eval_phase/test_stream/Task000/Exp002': 0.6173840016126633, 'Top1_Acc_Exp/eval_phase/test_stream/Task000/Exp003': 0.94, 'Loss_Exp/eval_phase/test_stream/Task000/Exp003': 0.15935896337032318}\n",
      " {'Top1_Acc_Epoch/train_phase/train_stream/Task000': 0.950381679389313, 'Loss_Epoch/train_phase/train_stream/Task000': 0.1404884996380818, 'Top1_Acc_Exp/eval_phase/test_stream/Task000/Exp000': 0.8, 'Loss_Exp/eval_phase/test_stream/Task000/Exp000': 0.545504093170166, 'Top1_Acc_Stream/eval_phase/test_stream/Task000': 0.92, 'Loss_Stream/eval_phase/test_stream/Task000': 0.26950928568840027, 'Top1_Acc_Exp/eval_phase/test_stream/Task000/Exp001': 0.91, 'Loss_Exp/eval_phase/test_stream/Task000/Exp001': 0.29774728417396545, 'Top1_Acc_Exp/eval_phase/test_stream/Task000/Exp002': 0.81, 'Loss_Exp/eval_phase/test_stream/Task000/Exp002': 0.6173840016126633, 'Top1_Acc_Exp/eval_phase/test_stream/Task000/Exp003': 0.94, 'Loss_Exp/eval_phase/test_stream/Task000/Exp003': 0.15935896337032318, 'Top1_Acc_Exp/eval_phase/test_stream/Task000/Exp004': 0.92, 'Loss_Exp/eval_phase/test_stream/Task000/Exp004': 0.26950928568840027}\n",
      " {'Top1_Acc_Epoch/train_phase/train_stream/Task000': 0.8601108033240997, 'Loss_Epoch/train_phase/train_stream/Task000': 0.35879461669525614, 'Top1_Acc_Exp/eval_phase/test_stream/Task000/Exp000': 0.8, 'Loss_Exp/eval_phase/test_stream/Task000/Exp000': 0.545504093170166, 'Top1_Acc_Stream/eval_phase/test_stream/Task000': 0.84, 'Loss_Stream/eval_phase/test_stream/Task000': 0.42868858575820923, 'Top1_Acc_Exp/eval_phase/test_stream/Task000/Exp001': 0.91, 'Loss_Exp/eval_phase/test_stream/Task000/Exp001': 0.29774728417396545, 'Top1_Acc_Exp/eval_phase/test_stream/Task000/Exp002': 0.81, 'Loss_Exp/eval_phase/test_stream/Task000/Exp002': 0.6173840016126633, 'Top1_Acc_Exp/eval_phase/test_stream/Task000/Exp003': 0.94, 'Loss_Exp/eval_phase/test_stream/Task000/Exp003': 0.15935896337032318, 'Top1_Acc_Exp/eval_phase/test_stream/Task000/Exp004': 0.92, 'Loss_Exp/eval_phase/test_stream/Task000/Exp004': 0.26950928568840027, 'Top1_Acc_Exp/eval_phase/test_stream/Task000/Exp005': 0.84, 'Loss_Exp/eval_phase/test_stream/Task000/Exp005': 0.42868858575820923}\n",
      " {'Top1_Acc_Epoch/train_phase/train_stream/Task000': 0.9616438356164384, 'Loss_Epoch/train_phase/train_stream/Task000': 0.1181265091855232, 'Top1_Acc_Exp/eval_phase/test_stream/Task000/Exp000': 0.8, 'Loss_Exp/eval_phase/test_stream/Task000/Exp000': 0.545504093170166, 'Top1_Acc_Stream/eval_phase/test_stream/Task000': 0.94, 'Loss_Stream/eval_phase/test_stream/Task000': 0.19614587724208832, 'Top1_Acc_Exp/eval_phase/test_stream/Task000/Exp001': 0.91, 'Loss_Exp/eval_phase/test_stream/Task000/Exp001': 0.29774728417396545, 'Top1_Acc_Exp/eval_phase/test_stream/Task000/Exp002': 0.81, 'Loss_Exp/eval_phase/test_stream/Task000/Exp002': 0.6173840016126633, 'Top1_Acc_Exp/eval_phase/test_stream/Task000/Exp003': 0.94, 'Loss_Exp/eval_phase/test_stream/Task000/Exp003': 0.15935896337032318, 'Top1_Acc_Exp/eval_phase/test_stream/Task000/Exp004': 0.92, 'Loss_Exp/eval_phase/test_stream/Task000/Exp004': 0.26950928568840027, 'Top1_Acc_Exp/eval_phase/test_stream/Task000/Exp005': 0.84, 'Loss_Exp/eval_phase/test_stream/Task000/Exp005': 0.42868858575820923, 'Top1_Acc_Exp/eval_phase/test_stream/Task000/Exp006': 0.94, 'Loss_Exp/eval_phase/test_stream/Task000/Exp006': 0.19614587724208832}\n",
      " {'Top1_Acc_Epoch/train_phase/train_stream/Task000': 0.9073107049608355, 'Loss_Epoch/train_phase/train_stream/Task000': 0.2258576139729888, 'Top1_Acc_Exp/eval_phase/test_stream/Task000/Exp000': 0.8, 'Loss_Exp/eval_phase/test_stream/Task000/Exp000': 0.545504093170166, 'Top1_Acc_Stream/eval_phase/test_stream/Task000': 0.91, 'Loss_Stream/eval_phase/test_stream/Task000': 0.25568320602178574, 'Top1_Acc_Exp/eval_phase/test_stream/Task000/Exp001': 0.91, 'Loss_Exp/eval_phase/test_stream/Task000/Exp001': 0.29774728417396545, 'Top1_Acc_Exp/eval_phase/test_stream/Task000/Exp002': 0.81, 'Loss_Exp/eval_phase/test_stream/Task000/Exp002': 0.6173840016126633, 'Top1_Acc_Exp/eval_phase/test_stream/Task000/Exp003': 0.94, 'Loss_Exp/eval_phase/test_stream/Task000/Exp003': 0.15935896337032318, 'Top1_Acc_Exp/eval_phase/test_stream/Task000/Exp004': 0.92, 'Loss_Exp/eval_phase/test_stream/Task000/Exp004': 0.26950928568840027, 'Top1_Acc_Exp/eval_phase/test_stream/Task000/Exp005': 0.84, 'Loss_Exp/eval_phase/test_stream/Task000/Exp005': 0.42868858575820923, 'Top1_Acc_Exp/eval_phase/test_stream/Task000/Exp006': 0.94, 'Loss_Exp/eval_phase/test_stream/Task000/Exp006': 0.19614587724208832, 'Top1_Acc_Exp/eval_phase/test_stream/Task000/Exp007': 0.91, 'Loss_Exp/eval_phase/test_stream/Task000/Exp007': 0.25568320602178574}\n",
      " {'Top1_Acc_Epoch/train_phase/train_stream/Task000': 0.7160493827160493, 'Loss_Epoch/train_phase/train_stream/Task000': 0.8148676922291885, 'Top1_Acc_Exp/eval_phase/test_stream/Task000/Exp000': 0.8, 'Loss_Exp/eval_phase/test_stream/Task000/Exp000': 0.545504093170166, 'Top1_Acc_Stream/eval_phase/test_stream/Task000': 0.57, 'Loss_Stream/eval_phase/test_stream/Task000': 1.276656150817871, 'Top1_Acc_Exp/eval_phase/test_stream/Task000/Exp001': 0.91, 'Loss_Exp/eval_phase/test_stream/Task000/Exp001': 0.29774728417396545, 'Top1_Acc_Exp/eval_phase/test_stream/Task000/Exp002': 0.81, 'Loss_Exp/eval_phase/test_stream/Task000/Exp002': 0.6173840016126633, 'Top1_Acc_Exp/eval_phase/test_stream/Task000/Exp003': 0.94, 'Loss_Exp/eval_phase/test_stream/Task000/Exp003': 0.15935896337032318, 'Top1_Acc_Exp/eval_phase/test_stream/Task000/Exp004': 0.92, 'Loss_Exp/eval_phase/test_stream/Task000/Exp004': 0.26950928568840027, 'Top1_Acc_Exp/eval_phase/test_stream/Task000/Exp005': 0.84, 'Loss_Exp/eval_phase/test_stream/Task000/Exp005': 0.42868858575820923, 'Top1_Acc_Exp/eval_phase/test_stream/Task000/Exp006': 0.94, 'Loss_Exp/eval_phase/test_stream/Task000/Exp006': 0.19614587724208832, 'Top1_Acc_Exp/eval_phase/test_stream/Task000/Exp007': 0.91, 'Loss_Exp/eval_phase/test_stream/Task000/Exp007': 0.25568320602178574, 'Top1_Acc_Exp/eval_phase/test_stream/Task000/Exp008': 0.57, 'Loss_Exp/eval_phase/test_stream/Task000/Exp008': 1.276656150817871}\n",
      " {'Top1_Acc_Epoch/train_phase/train_stream/Task000': 0.912962962962963, 'Loss_Epoch/train_phase/train_stream/Task000': 0.3267334588147976, 'Top1_Acc_Exp/eval_phase/test_stream/Task000/Exp000': 0.8, 'Loss_Exp/eval_phase/test_stream/Task000/Exp000': 0.545504093170166, 'Top1_Acc_Stream/eval_phase/test_stream/Task000': 0.94, 'Loss_Stream/eval_phase/test_stream/Task000': 0.31497107446193695, 'Top1_Acc_Exp/eval_phase/test_stream/Task000/Exp001': 0.91, 'Loss_Exp/eval_phase/test_stream/Task000/Exp001': 0.29774728417396545, 'Top1_Acc_Exp/eval_phase/test_stream/Task000/Exp002': 0.81, 'Loss_Exp/eval_phase/test_stream/Task000/Exp002': 0.6173840016126633, 'Top1_Acc_Exp/eval_phase/test_stream/Task000/Exp003': 0.94, 'Loss_Exp/eval_phase/test_stream/Task000/Exp003': 0.15935896337032318, 'Top1_Acc_Exp/eval_phase/test_stream/Task000/Exp004': 0.92, 'Loss_Exp/eval_phase/test_stream/Task000/Exp004': 0.26950928568840027, 'Top1_Acc_Exp/eval_phase/test_stream/Task000/Exp005': 0.84, 'Loss_Exp/eval_phase/test_stream/Task000/Exp005': 0.42868858575820923, 'Top1_Acc_Exp/eval_phase/test_stream/Task000/Exp006': 0.94, 'Loss_Exp/eval_phase/test_stream/Task000/Exp006': 0.19614587724208832, 'Top1_Acc_Exp/eval_phase/test_stream/Task000/Exp007': 0.91, 'Loss_Exp/eval_phase/test_stream/Task000/Exp007': 0.25568320602178574, 'Top1_Acc_Exp/eval_phase/test_stream/Task000/Exp008': 0.57, 'Loss_Exp/eval_phase/test_stream/Task000/Exp008': 1.276656150817871, 'Top1_Acc_Exp/eval_phase/test_stream/Task000/Exp009': 0.94, 'Loss_Exp/eval_phase/test_stream/Task000/Exp009': 0.31497107446193695}]\n"
     ]
    }
   ],
   "source": [
    "results = np.load(os.path.join('../../avalanche-experiments', project_name, exp_name, f'results-{test_case_name}.npy'), allow_pickle=True)\n",
    "print(results)"
   ],
   "metadata": {
    "collapsed": false,
    "pycharm": {
     "name": "#%%\n"
    }
   }
  },
  {
   "cell_type": "markdown",
   "source": [],
   "metadata": {
    "collapsed": false
   }
  },
  {
   "cell_type": "code",
   "execution_count": 59,
   "outputs": [
    {
     "name": "stdout",
     "output_type": "stream",
     "text": [
      "[0.8, 0.91, 0.81, 0.94, 0.92, 0.84, 0.94, 0.91, 0.57, 0.94]\n"
     ]
    }
   ],
   "source": [
    "accs = [result['Top1_Acc_Stream/eval_phase/test_stream/Task000'] for result in results]\n",
    "print(accs)"
   ],
   "metadata": {
    "collapsed": false,
    "pycharm": {
     "name": "#%%\n"
    }
   }
  },
  {
   "cell_type": "code",
   "execution_count": 60,
   "outputs": [
    {
     "name": "stdout",
     "output_type": "stream",
     "text": [
      "85.80% (10.88%)\n"
     ]
    }
   ],
   "source": [
    "print(f'{np.mean(accs)*100:.2f}% ({np.std(accs)*100:.2f}%)')"
   ],
   "metadata": {
    "collapsed": false,
    "pycharm": {
     "name": "#%%\n"
    }
   }
  },
  {
   "cell_type": "code",
   "execution_count": 60,
   "outputs": [],
   "source": [],
   "metadata": {
    "collapsed": false,
    "pycharm": {
     "name": "#%%\n"
    }
   }
  }
 ],
 "metadata": {
  "kernelspec": {
   "display_name": "Python 3",
   "language": "python",
   "name": "python3"
  },
  "language_info": {
   "codemirror_mode": {
    "name": "ipython",
    "version": 2
   },
   "file_extension": ".py",
   "mimetype": "text/x-python",
   "name": "python",
   "nbconvert_exporter": "python",
   "pygments_lexer": "ipython2",
   "version": "2.7.6"
  }
 },
 "nbformat": 4,
 "nbformat_minor": 0
}