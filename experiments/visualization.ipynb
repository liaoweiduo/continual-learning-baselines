{
 "cells": [
  {
   "cell_type": "code",
   "execution_count": 1,
   "metadata": {
    "collapsed": true
   },
   "outputs": [],
   "source": [
    "%matplotlib inline\n",
    "import matplotlib.pyplot as plt\n",
    "import os\n",
    "import numpy as np"
   ]
  },
  {
   "cell_type": "code",
   "execution_count": 4,
   "outputs": [],
   "source": [
    "# project_name = 'Split_Sys_VQA'\n",
    "project_name = 'Split_Sub_VQA'"
   ],
   "metadata": {
    "collapsed": false,
    "pycharm": {
     "name": "#%%\n"
    }
   }
  },
  {
   "cell_type": "markdown",
   "source": [
    "# Show Novel and Non-novel Testing Results"
   ],
   "metadata": {
    "collapsed": false,
    "pycharm": {
     "name": "#%% md\n"
    }
   }
  },
  {
   "cell_type": "code",
   "execution_count": null,
   "outputs": [],
   "source": [
    "\n",
    "exp_name = 'Naive-lr0_005'       # nc-\n",
    "# exp_name = 'nc-LwF'\n",
    "# exp_name = 'nc-LwF'\n",
    "# exp_name = 'GEM'\n",
    "\n",
    "test_case_name = 'Novel-{}'.format(exp_name)\n",
    "# test_case_name = 'Novel-{}-frz'.format(exp_name)\n",
    "# test_case_name = 'Novel-{}-lm'.format(exp_name)\n",
    "# test_case_name = 'Novel-{}-frz-lm'.format(exp_name)"
   ],
   "metadata": {
    "collapsed": false,
    "pycharm": {
     "name": "#%%\n"
    }
   }
  },
  {
   "cell_type": "code",
   "execution_count": 31,
   "outputs": [
    {
     "name": "stdout",
     "output_type": "stream",
     "text": [
      "[{'Top1_Acc_Epoch/train_phase/train_stream/Task000': 0.6334140435835351, 'Loss_Epoch/train_phase/train_stream/Task000': 0.6589970446094763, 'Top1_Acc_Exp/eval_phase/test_stream/Task000/Exp000': 0.5, 'Loss_Exp/eval_phase/test_stream/Task000/Exp000': 0.7359500527381897, 'Top1_Acc_Stream/eval_phase/test_stream/Task000': 0.5, 'Loss_Stream/eval_phase/test_stream/Task000': 0.7359500527381897, 'StreamForgetting/eval_phase/test_stream': 0.0}\n",
      " {'Top1_Acc_Epoch/train_phase/train_stream/Task000': 0.8539196940726578, 'Loss_Epoch/train_phase/train_stream/Task000': 0.3170702129830366, 'Top1_Acc_Exp/eval_phase/test_stream/Task000/Exp000': 0.0, 'Loss_Exp/eval_phase/test_stream/Task000/Exp000': 20.3140230178833, 'Top1_Acc_Stream/eval_phase/test_stream/Task000': 0.4, 'Loss_Stream/eval_phase/test_stream/Task000': 10.416035443544388, 'StreamForgetting/eval_phase/test_stream': 0.5, 'ExperienceForgetting/eval_phase/test_stream/Task000/Exp000': 0.5, 'Top1_Acc_Exp/eval_phase/test_stream/Task000/Exp001': 0.8, 'Loss_Exp/eval_phase/test_stream/Task000/Exp001': 0.5180478692054749}\n",
      " {'Top1_Acc_Epoch/train_phase/train_stream/Task000': 0.9822485207100592, 'Loss_Epoch/train_phase/train_stream/Task000': 0.041110172091602164, 'Top1_Acc_Exp/eval_phase/test_stream/Task000/Exp000': 0.0, 'Loss_Exp/eval_phase/test_stream/Task000/Exp000': 37.87306785583496, 'Top1_Acc_Stream/eval_phase/test_stream/Task000': 0.2966666666666667, 'Loss_Stream/eval_phase/test_stream/Task000': 26.213793108860653, 'StreamForgetting/eval_phase/test_stream': 0.65, 'ExperienceForgetting/eval_phase/test_stream/Task000/Exp000': 0.5, 'Top1_Acc_Exp/eval_phase/test_stream/Task000/Exp001': 0.0, 'Loss_Exp/eval_phase/test_stream/Task000/Exp001': 40.11691761016846, 'ExperienceForgetting/eval_phase/test_stream/Task000/Exp001': 0.8, 'Top1_Acc_Exp/eval_phase/test_stream/Task000/Exp002': 0.89, 'Loss_Exp/eval_phase/test_stream/Task000/Exp002': 0.651393860578537}\n",
      " {'Top1_Acc_Epoch/train_phase/train_stream/Task000': 0.97398091934085, 'Loss_Epoch/train_phase/train_stream/Task000': 0.07454491584704735, 'Top1_Acc_Exp/eval_phase/test_stream/Task000/Exp000': 0.0, 'Loss_Exp/eval_phase/test_stream/Task000/Exp000': 36.96990203857422, 'Top1_Acc_Stream/eval_phase/test_stream/Task000': 0.1775, 'Loss_Stream/eval_phase/test_stream/Task000': 25.888780243694782, 'StreamForgetting/eval_phase/test_stream': 0.73, 'ExperienceForgetting/eval_phase/test_stream/Task000/Exp000': 0.5, 'Top1_Acc_Exp/eval_phase/test_stream/Task000/Exp001': 0.0, 'Loss_Exp/eval_phase/test_stream/Task000/Exp001': 46.375349044799805, 'ExperienceForgetting/eval_phase/test_stream/Task000/Exp001': 0.8, 'Top1_Acc_Exp/eval_phase/test_stream/Task000/Exp002': 0.0, 'Loss_Exp/eval_phase/test_stream/Task000/Exp002': 19.30104112625122, 'ExperienceForgetting/eval_phase/test_stream/Task000/Exp002': 0.89, 'Top1_Acc_Exp/eval_phase/test_stream/Task000/Exp003': 0.71, 'Loss_Exp/eval_phase/test_stream/Task000/Exp003': 0.9088287651538849}\n",
      " {'Top1_Acc_Epoch/train_phase/train_stream/Task000': 0.9931129476584022, 'Loss_Epoch/train_phase/train_stream/Task000': 0.020493931486805828, 'Top1_Acc_Exp/eval_phase/test_stream/Task000/Exp000': 0.0, 'Loss_Exp/eval_phase/test_stream/Task000/Exp000': 41.37591552734375, 'Top1_Acc_Stream/eval_phase/test_stream/Task000': 0.17, 'Loss_Stream/eval_phase/test_stream/Task000': 33.73901388049126, 'StreamForgetting/eval_phase/test_stream': 0.725, 'ExperienceForgetting/eval_phase/test_stream/Task000/Exp000': 0.5, 'Top1_Acc_Exp/eval_phase/test_stream/Task000/Exp001': 0.0, 'Loss_Exp/eval_phase/test_stream/Task000/Exp001': 37.85237121582031, 'ExperienceForgetting/eval_phase/test_stream/Task000/Exp001': 0.8, 'Top1_Acc_Exp/eval_phase/test_stream/Task000/Exp002': 0.0, 'Loss_Exp/eval_phase/test_stream/Task000/Exp002': 51.10124969482422, 'ExperienceForgetting/eval_phase/test_stream/Task000/Exp002': 0.89, 'Top1_Acc_Exp/eval_phase/test_stream/Task000/Exp003': 0.0, 'Loss_Exp/eval_phase/test_stream/Task000/Exp003': 37.77141857147217, 'ExperienceForgetting/eval_phase/test_stream/Task000/Exp003': 0.71, 'Top1_Acc_Exp/eval_phase/test_stream/Task000/Exp004': 0.85, 'Loss_Exp/eval_phase/test_stream/Task000/Exp004': 0.5941143929958344}\n",
      " {'Top1_Acc_Epoch/train_phase/train_stream/Task000': 0.997639282341832, 'Loss_Epoch/train_phase/train_stream/Task000': 0.006708956208928214, 'Top1_Acc_Exp/eval_phase/test_stream/Task000/Exp000': 0.0, 'Loss_Exp/eval_phase/test_stream/Task000/Exp000': 39.39423179626465, 'Top1_Acc_Stream/eval_phase/test_stream/Task000': 0.15833333333333333, 'Loss_Stream/eval_phase/test_stream/Task000': 44.27597858151421, 'StreamForgetting/eval_phase/test_stream': 0.75, 'ExperienceForgetting/eval_phase/test_stream/Task000/Exp000': 0.5, 'Top1_Acc_Exp/eval_phase/test_stream/Task000/Exp001': 0.0, 'Loss_Exp/eval_phase/test_stream/Task000/Exp001': 38.79170036315918, 'ExperienceForgetting/eval_phase/test_stream/Task000/Exp001': 0.8, 'Top1_Acc_Exp/eval_phase/test_stream/Task000/Exp002': 0.0, 'Loss_Exp/eval_phase/test_stream/Task000/Exp002': 75.47870254516602, 'ExperienceForgetting/eval_phase/test_stream/Task000/Exp002': 0.89, 'Top1_Acc_Exp/eval_phase/test_stream/Task000/Exp003': 0.0, 'Loss_Exp/eval_phase/test_stream/Task000/Exp003': 75.65799713134766, 'ExperienceForgetting/eval_phase/test_stream/Task000/Exp003': 0.71, 'Top1_Acc_Exp/eval_phase/test_stream/Task000/Exp004': 0.0, 'Loss_Exp/eval_phase/test_stream/Task000/Exp004': 36.04860877990723, 'ExperienceForgetting/eval_phase/test_stream/Task000/Exp004': 0.85, 'Top1_Acc_Exp/eval_phase/test_stream/Task000/Exp005': 0.95, 'Loss_Exp/eval_phase/test_stream/Task000/Exp005': 0.2846308732405305}\n",
      " {'Top1_Acc_Epoch/train_phase/train_stream/Task000': 0.998006379585327, 'Loss_Epoch/train_phase/train_stream/Task000': 0.005590415968532017, 'Top1_Acc_Exp/eval_phase/test_stream/Task000/Exp000': 0.0, 'Loss_Exp/eval_phase/test_stream/Task000/Exp000': 53.34814453125, 'Top1_Acc_Stream/eval_phase/test_stream/Task000': 0.12, 'Loss_Stream/eval_phase/test_stream/Task000': 48.46121727831529, 'StreamForgetting/eval_phase/test_stream': 0.7833333333333333, 'ExperienceForgetting/eval_phase/test_stream/Task000/Exp000': 0.5, 'Top1_Acc_Exp/eval_phase/test_stream/Task000/Exp001': 0.0, 'Loss_Exp/eval_phase/test_stream/Task000/Exp001': 36.96856117248535, 'ExperienceForgetting/eval_phase/test_stream/Task000/Exp001': 0.8, 'Top1_Acc_Exp/eval_phase/test_stream/Task000/Exp002': 0.0, 'Loss_Exp/eval_phase/test_stream/Task000/Exp002': 78.90516090393066, 'ExperienceForgetting/eval_phase/test_stream/Task000/Exp002': 0.89, 'Top1_Acc_Exp/eval_phase/test_stream/Task000/Exp003': 0.0, 'Loss_Exp/eval_phase/test_stream/Task000/Exp003': 108.05139541625977, 'ExperienceForgetting/eval_phase/test_stream/Task000/Exp003': 0.71, 'Top1_Acc_Exp/eval_phase/test_stream/Task000/Exp004': 0.0, 'Loss_Exp/eval_phase/test_stream/Task000/Exp004': 41.05686378479004, 'ExperienceForgetting/eval_phase/test_stream/Task000/Exp004': 0.85, 'Top1_Acc_Exp/eval_phase/test_stream/Task000/Exp005': 0.0, 'Loss_Exp/eval_phase/test_stream/Task000/Exp005': 19.67544174194336, 'ExperienceForgetting/eval_phase/test_stream/Task000/Exp005': 0.95, 'Top1_Acc_Exp/eval_phase/test_stream/Task000/Exp006': 0.84, 'Loss_Exp/eval_phase/test_stream/Task000/Exp006': 1.2229533975478262}\n",
      " {'Top1_Acc_Epoch/train_phase/train_stream/Task000': 0.9953580901856764, 'Loss_Epoch/train_phase/train_stream/Task000': 0.02049630823784782, 'Top1_Acc_Exp/eval_phase/test_stream/Task000/Exp000': 0.0, 'Loss_Exp/eval_phase/test_stream/Task000/Exp000': 46.44426918029785, 'Top1_Acc_Stream/eval_phase/test_stream/Task000': 0.09625, 'Loss_Stream/eval_phase/test_stream/Task000': 32.912082608789206, 'StreamForgetting/eval_phase/test_stream': 0.7914285714285715, 'ExperienceForgetting/eval_phase/test_stream/Task000/Exp000': 0.5, 'Top1_Acc_Exp/eval_phase/test_stream/Task000/Exp001': 0.0, 'Loss_Exp/eval_phase/test_stream/Task000/Exp001': 28.41225528717041, 'ExperienceForgetting/eval_phase/test_stream/Task000/Exp001': 0.8, 'Top1_Acc_Exp/eval_phase/test_stream/Task000/Exp002': 0.0, 'Loss_Exp/eval_phase/test_stream/Task000/Exp002': 56.51165962219238, 'ExperienceForgetting/eval_phase/test_stream/Task000/Exp002': 0.89, 'Top1_Acc_Exp/eval_phase/test_stream/Task000/Exp003': 0.0, 'Loss_Exp/eval_phase/test_stream/Task000/Exp003': 67.79173851013184, 'ExperienceForgetting/eval_phase/test_stream/Task000/Exp003': 0.71, 'Top1_Acc_Exp/eval_phase/test_stream/Task000/Exp004': 0.0, 'Loss_Exp/eval_phase/test_stream/Task000/Exp004': 29.706619262695312, 'ExperienceForgetting/eval_phase/test_stream/Task000/Exp004': 0.85, 'Top1_Acc_Exp/eval_phase/test_stream/Task000/Exp005': 0.0, 'Loss_Exp/eval_phase/test_stream/Task000/Exp005': 22.165188789367676, 'ExperienceForgetting/eval_phase/test_stream/Task000/Exp005': 0.95, 'Top1_Acc_Exp/eval_phase/test_stream/Task000/Exp006': 0.0, 'Loss_Exp/eval_phase/test_stream/Task000/Exp006': 11.148475170135498, 'ExperienceForgetting/eval_phase/test_stream/Task000/Exp006': 0.84, 'Top1_Acc_Exp/eval_phase/test_stream/Task000/Exp007': 0.77, 'Loss_Exp/eval_phase/test_stream/Task000/Exp007': 1.1164550483226776}\n",
      " {'Top1_Acc_Epoch/train_phase/train_stream/Task000': 0.9917895129688374, 'Loss_Epoch/train_phase/train_stream/Task000': 0.02208111409302374, 'Top1_Acc_Exp/eval_phase/test_stream/Task000/Exp000': 0.0, 'Loss_Exp/eval_phase/test_stream/Task000/Exp000': 36.41699981689453, 'Top1_Acc_Stream/eval_phase/test_stream/Task000': 0.08, 'Loss_Stream/eval_phase/test_stream/Task000': 33.751185822404096, 'StreamForgetting/eval_phase/test_stream': 0.7887500000000001, 'ExperienceForgetting/eval_phase/test_stream/Task000/Exp000': 0.5, 'Top1_Acc_Exp/eval_phase/test_stream/Task000/Exp001': 0.0, 'Loss_Exp/eval_phase/test_stream/Task000/Exp001': 28.661230087280273, 'ExperienceForgetting/eval_phase/test_stream/Task000/Exp001': 0.8, 'Top1_Acc_Exp/eval_phase/test_stream/Task000/Exp002': 0.0, 'Loss_Exp/eval_phase/test_stream/Task000/Exp002': 49.90692329406738, 'ExperienceForgetting/eval_phase/test_stream/Task000/Exp002': 0.89, 'Top1_Acc_Exp/eval_phase/test_stream/Task000/Exp003': 0.0, 'Loss_Exp/eval_phase/test_stream/Task000/Exp003': 51.49011993408203, 'ExperienceForgetting/eval_phase/test_stream/Task000/Exp003': 0.71, 'Top1_Acc_Exp/eval_phase/test_stream/Task000/Exp004': 0.0, 'Loss_Exp/eval_phase/test_stream/Task000/Exp004': 30.814647674560547, 'ExperienceForgetting/eval_phase/test_stream/Task000/Exp004': 0.85, 'Top1_Acc_Exp/eval_phase/test_stream/Task000/Exp005': 0.0, 'Loss_Exp/eval_phase/test_stream/Task000/Exp005': 37.98536491394043, 'ExperienceForgetting/eval_phase/test_stream/Task000/Exp005': 0.95, 'Top1_Acc_Exp/eval_phase/test_stream/Task000/Exp006': 0.0, 'Loss_Exp/eval_phase/test_stream/Task000/Exp006': 30.279674530029297, 'ExperienceForgetting/eval_phase/test_stream/Task000/Exp006': 0.84, 'Top1_Acc_Exp/eval_phase/test_stream/Task000/Exp007': 0.0, 'Loss_Exp/eval_phase/test_stream/Task000/Exp007': 35.41972064971924, 'ExperienceForgetting/eval_phase/test_stream/Task000/Exp007': 0.77, 'Top1_Acc_Exp/eval_phase/test_stream/Task000/Exp008': 0.72, 'Loss_Exp/eval_phase/test_stream/Task000/Exp008': 2.7859915010631084}\n",
      " {'Top1_Acc_Epoch/train_phase/train_stream/Task000': 0.9811688311688311, 'Loss_Epoch/train_phase/train_stream/Task000': 0.04857165020914724, 'Top1_Acc_Exp/eval_phase/test_stream/Task000/Exp000': 0.0, 'Loss_Exp/eval_phase/test_stream/Task000/Exp000': 29.675317764282227, 'Top1_Acc_Stream/eval_phase/test_stream/Task000': 0.078, 'Loss_Stream/eval_phase/test_stream/Task000': 30.194818636775018, 'StreamForgetting/eval_phase/test_stream': 0.7811111111111111, 'ExperienceForgetting/eval_phase/test_stream/Task000/Exp000': 0.5, 'Top1_Acc_Exp/eval_phase/test_stream/Task000/Exp001': 0.0, 'Loss_Exp/eval_phase/test_stream/Task000/Exp001': 28.082929611206055, 'ExperienceForgetting/eval_phase/test_stream/Task000/Exp001': 0.8, 'Top1_Acc_Exp/eval_phase/test_stream/Task000/Exp002': 0.0, 'Loss_Exp/eval_phase/test_stream/Task000/Exp002': 31.603737831115723, 'ExperienceForgetting/eval_phase/test_stream/Task000/Exp002': 0.89, 'Top1_Acc_Exp/eval_phase/test_stream/Task000/Exp003': 0.0, 'Loss_Exp/eval_phase/test_stream/Task000/Exp003': 44.15786552429199, 'ExperienceForgetting/eval_phase/test_stream/Task000/Exp003': 0.71, 'Top1_Acc_Exp/eval_phase/test_stream/Task000/Exp004': 0.0, 'Loss_Exp/eval_phase/test_stream/Task000/Exp004': 28.540515899658203, 'ExperienceForgetting/eval_phase/test_stream/Task000/Exp004': 0.85, 'Top1_Acc_Exp/eval_phase/test_stream/Task000/Exp005': 0.0, 'Loss_Exp/eval_phase/test_stream/Task000/Exp005': 32.955034255981445, 'ExperienceForgetting/eval_phase/test_stream/Task000/Exp005': 0.95, 'Top1_Acc_Exp/eval_phase/test_stream/Task000/Exp006': 0.0, 'Loss_Exp/eval_phase/test_stream/Task000/Exp006': 40.824100494384766, 'ExperienceForgetting/eval_phase/test_stream/Task000/Exp006': 0.84, 'Top1_Acc_Exp/eval_phase/test_stream/Task000/Exp007': 0.0, 'Loss_Exp/eval_phase/test_stream/Task000/Exp007': 41.442155838012695, 'ExperienceForgetting/eval_phase/test_stream/Task000/Exp007': 0.77, 'Top1_Acc_Exp/eval_phase/test_stream/Task000/Exp008': 0.0, 'Loss_Exp/eval_phase/test_stream/Task000/Exp008': 23.616915702819824, 'ExperienceForgetting/eval_phase/test_stream/Task000/Exp008': 0.72, 'Top1_Acc_Exp/eval_phase/test_stream/Task000/Exp009': 0.78, 'Loss_Exp/eval_phase/test_stream/Task000/Exp009': 1.0496134459972382}]\n"
     ]
    }
   ],
   "source": [
    "results = np.load(os.path.join('../../avalanche-experiments', project_name, exp_name, f'results-{test_case_name}.npy'), allow_pickle=True)\n",
    "print(results)"
   ],
   "metadata": {
    "collapsed": false,
    "pycharm": {
     "name": "#%%\n"
    }
   }
  },
  {
   "cell_type": "markdown",
   "source": [],
   "metadata": {
    "collapsed": false
   }
  },
  {
   "cell_type": "code",
   "execution_count": 32,
   "outputs": [
    {
     "name": "stdout",
     "output_type": "stream",
     "text": [
      "[0.5, 0.4, 0.2966666666666667, 0.1775, 0.17, 0.15833333333333333, 0.12, 0.09625, 0.08, 0.078]\n"
     ]
    }
   ],
   "source": [
    "'''Test acc'''\n",
    "accs = [result['Top1_Acc_Stream/eval_phase/test_stream/Task000'] for result in results]\n",
    "print(accs)"
   ],
   "metadata": {
    "collapsed": false,
    "pycharm": {
     "name": "#%%\n"
    }
   }
  },
  {
   "cell_type": "code",
   "execution_count": 33,
   "outputs": [
    {
     "name": "stdout",
     "output_type": "stream",
     "text": [
      "20.77% (13.72%)\n"
     ]
    }
   ],
   "source": [
    "print(f'{np.mean(accs)*100:.2f}% ({np.std(accs)*100:.2f}%)')"
   ],
   "metadata": {
    "collapsed": false,
    "pycharm": {
     "name": "#%%\n"
    }
   }
  },
  {
   "cell_type": "markdown",
   "source": [
    "# Show Hyper-Parameter Tuning Results"
   ],
   "metadata": {
    "collapsed": false,
    "pycharm": {
     "name": "#%% md\n"
    }
   }
  },
  {
   "cell_type": "code",
   "execution_count": 3,
   "outputs": [],
   "source": [
    "def display_results(exp_name, test_case_name):\n",
    "    print(f'{exp_name}, {test_case_name}:')\n",
    "    results = np.load(os.path.join('../../avalanche-experiments', project_name, exp_name, f'results-{test_case_name}.npy'), allow_pickle=True)\n",
    "    accs = [result['Top1_Acc_Stream/eval_phase/test_stream/Task000'] for result in results]\n",
    "    print(f'==> {accs}')\n",
    "    print(f'==> {np.mean(accs)*100:.2f}% ({np.std(accs)*100:.2f}%)')"
   ],
   "metadata": {
    "collapsed": false,
    "pycharm": {
     "name": "#%%\n"
    }
   }
  },
  {
   "cell_type": "code",
   "execution_count": 5,
   "outputs": [
    {
     "name": "stdout",
     "output_type": "stream",
     "text": [
      "color-Naive-lr0_001, color-Naive-lr0_001:\n",
      "==> [0.97, 0.48, 0.30333333333333334, 0.2375, 0.178, 0.16, 0.13428571428571429, 0.10625, 0.10333333333333333, 0.092]\n",
      "==> 27.65% (25.71%)\n",
      "color-Naive-lr0_005, color-Naive-lr0_005:\n",
      "==> [0.98, 0.475, 0.3, 0.24, 0.174, 0.15, 0.14, 0.11125, 0.10666666666666667, 0.093]\n",
      "==> 27.70% (25.91%)\n",
      "color-Naive-lr0_01, color-Naive-lr0_01:\n",
      "==> [0.96, 0.465, 0.30666666666666664, 0.2425, 0.172, 0.145, 0.13714285714285715, 0.115, 0.10333333333333333, 0.091]\n",
      "==> 27.38% (25.35%)\n",
      "color-Naive-lr0_05, color-Naive-lr0_05:\n",
      "==> [0.95, 0.47, 0.30333333333333334, 0.245, 0.168, 0.16, 0.13857142857142857, 0.10875, 0.09888888888888889, 0.092]\n",
      "==> 27.35% (25.11%)\n",
      "color-Naive-lr0_1, color-Naive-lr0_1:\n",
      "==> [0.98, 0.47, 0.31, 0.2375, 0.162, 0.15333333333333332, 0.14, 0.1075, 0.09888888888888889, 0.091]\n",
      "==> 27.50% (26.01%)\n"
     ]
    }
   ],
   "source": [
    "exp_names = [\n",
    "    'Naive-lr0_001', 'Naive-lr0_005', 'Naive-lr0_01', 'Naive-lr0_05', 'Naive-lr0_1',\n",
    "]\n",
    "exp_names = [f'color-{exp_names[i]}' for i in range(len(exp_names))]\n",
    "\n",
    "for exp_name in exp_names:\n",
    "    display_results(exp_name, exp_name)"
   ],
   "metadata": {
    "collapsed": false,
    "pycharm": {
     "name": "#%%\n"
    }
   }
  },
  {
   "cell_type": "code",
   "execution_count": 42,
   "outputs": [
    {
     "name": "stdout",
     "output_type": "stream",
     "text": [
      "ER-lr0_001-m100, ER-lr0_001-m100:\n",
      "==> [0.64, 0.4, 0.29333333333333333, 0.2375, 0.182, 0.165, 0.12714285714285714, 0.115, 0.1, 0.082]\n",
      "==> 23.42% (16.43%)\n",
      "ER-lr0_01-m100, ER-lr0_01-m100:\n",
      "==> [0.66, 0.415, 0.2866666666666667, 0.25, 0.174, 0.16333333333333333, 0.13142857142857142, 0.10625, 0.09666666666666666, 0.085]\n",
      "==> 23.68% (17.14%)\n",
      "ER-lr0_1-m100, ER-lr0_1-m100:\n",
      "==> [0.5, 0.41, 0.29333333333333333, 0.225, 0.176, 0.16333333333333333, 0.12285714285714286, 0.1175, 0.09111111111111111, 0.085]\n",
      "==> 21.84% (13.41%)\n",
      "ER-lr0_001-m500, ER-lr0_001-m500:\n",
      "==> [0.64, 0.525, 0.33666666666666667, 0.2375, 0.23, 0.2, 0.1742857142857143, 0.145, 0.13, 0.116]\n",
      "==> 27.34% (16.79%)\n",
      "ER-lr0_01-m500, ER-lr0_01-m500:\n",
      "==> [0.66, 0.6, 0.35333333333333333, 0.32, 0.222, 0.205, 0.19, 0.18, 0.17, 0.13]\n",
      "==> 30.30% (17.61%)\n",
      "ER-lr0_1-m500, ER-lr0_1-m500:\n",
      "==> [0.5, 0.54, 0.4, 0.245, 0.274, 0.195, 0.17714285714285713, 0.15, 0.10444444444444445, 0.108]\n",
      "==> 26.94% (15.02%)\n",
      "ER-lr0_001-m1000, ER-lr0_001-m1000:\n",
      "==> [0.64, 0.45, 0.4, 0.265, 0.276, 0.22333333333333333, 0.22714285714285715, 0.20625, 0.17222222222222222, 0.14]\n",
      "==> 30.00% (14.55%)\n",
      "ER-lr0_01-m1000, ER-lr0_01-m1000:\n",
      "==> [0.66, 0.555, 0.39, 0.3475, 0.332, 0.295, 0.25285714285714284, 0.20875, 0.2, 0.139]\n",
      "==> 33.80% (15.43%)\n",
      "ER-lr0_1-m1000, ER-lr0_1-m1000:\n",
      "==> [0.5, 0.58, 0.37333333333333335, 0.29, 0.316, 0.235, 0.22, 0.15625, 0.14333333333333334, 0.114]\n",
      "==> 29.28% (14.63%)\n"
     ]
    }
   ],
   "source": [
    "exp_names = [\n",
    "    'LwF-lr0_001-m100', 'LwF-lr0_01-m100', 'LwF-lr0_1-m100',\n",
    "    'LwF-lr0_001-m500', 'LwF-lr0_01-m500', 'LwF-lr0_1-m500',\n",
    "    'LwF-lr0_001-m1000', 'LwF-lr0_01-m1000', 'LwF-lr0_1-m1000',\n",
    "]\n",
    "exp_names = [f'color-{exp_names[i]}' for i in range(len(exp_names))]\n",
    "\n",
    "for exp_name in exp_names:\n",
    "    display_results(exp_name, exp_name)"
   ],
   "metadata": {
    "collapsed": false,
    "pycharm": {
     "name": "#%%\n"
    }
   }
  },
  {
   "cell_type": "code",
   "execution_count": 6,
   "outputs": [
    {
     "name": "stdout",
     "output_type": "stream",
     "text": [
      "color-LwF-lr0_001-a10-t2, color-LwF-lr0_001-a10-t2:\n",
      "==> [0.97, 0.445, 0.3, 0.2425, 0.168, 0.16333333333333333, 0.14, 0.10375, 0.10222222222222223, 0.092]\n",
      "==> 27.27% (25.46%)\n",
      "color-LwF-lr0_005-a10-t2, color-LwF-lr0_005-a10-t2:\n",
      "==> [0.98, 0.455, 0.31, 0.2375, 0.178, 0.16, 0.14, 0.11, 0.10555555555555556, 0.094]\n",
      "==> 27.70% (25.72%)\n",
      "color-LwF-lr0_01-a10-t2, color-LwF-lr0_01-a10-t2:\n",
      "==> [0.96, 0.47, 0.30333333333333334, 0.2375, 0.168, 0.15166666666666667, 0.13714285714285715, 0.105, 0.10222222222222223, 0.091]\n",
      "==> 27.26% (25.45%)\n",
      "color-LwF-lr0_05-a10-t2, color-LwF-lr0_05-a10-t2:\n",
      "==> [0.95, 0.445, 0.2833333333333333, 0.235, 0.136, 0.15, 0.1357142857142857, 0.11, 0.10222222222222223, 0.09]\n",
      "==> 26.37% (25.11%)\n",
      "color-LwF-lr0_1-a10-t2, color-LwF-lr0_1-a10-t2:\n",
      "==> [0.98, 0.43, 0.2966666666666667, 0.24, 0.154, 0.16, 0.1357142857142857, 0.105, 0.08888888888888889, 0.09]\n",
      "==> 26.80% (25.83%)\n"
     ]
    }
   ],
   "source": [
    "exp_names = [\n",
    "    'LwF-lr0_001-a10-t2', 'LwF-lr0_005-a10-t2', 'LwF-lr0_01-a10-t2', 'LwF-lr0_05-a10-t2',  'LwF-lr0_1-a10-t2',\n",
    "]\n",
    "exp_names = [f'color-{exp_names[i]}' for i in range(len(exp_names))]\n",
    "\n",
    "for exp_name in exp_names:\n",
    "    display_results(exp_name, exp_name)"
   ],
   "metadata": {
    "collapsed": false,
    "pycharm": {
     "name": "#%%\n"
    }
   }
  },
  {
   "cell_type": "code",
   "execution_count": 45,
   "outputs": [
    {
     "name": "stdout",
     "output_type": "stream",
     "text": [
      "GEM-lr0_01-p16-m0_3, GEM-lr0_01-p16-m0_3:\n",
      "==> [0.66, 0.36, 0.2866666666666667, 0.145, 0.18, 0.14833333333333334, 0.16428571428571428, 0.11, 0.10111111111111111, 0.093]\n",
      "==> 22.48% (16.59%)\n",
      "GEM-lr0_01-p32-m0_3, GEM-lr0_01-p32-m0_3:\n",
      "==> [0.66, 0.35, 0.28, 0.205, 0.186, 0.17666666666666667, 0.11857142857142858, 0.105, 0.08666666666666667, 0.087]\n",
      "==> 22.55% (16.61%)\n",
      "GEM-lr0_01-p16-m0_5, GEM-lr0_01-p16-m0_5:\n",
      "==> [0.66, 0.37, 0.26666666666666666, 0.1975, 0.186, 0.13666666666666666, 0.13, 0.1225, 0.08333333333333333, 0.08]\n",
      "==> 22.33% (16.81%)\n",
      "GEM-lr0_1-p16-m0_3, GEM-lr0_1-p16-m0_3:\n",
      "==> [0.5, 0.28, 0.27666666666666667, 0.1975, 0.148, 0.16166666666666665, 0.14, 0.10375, 0.07444444444444444, 0.086]\n",
      "==> 19.68% (12.16%)\n",
      "GEM-lr0_1-p32-m0_3, GEM-lr0_1-p32-m0_3:\n",
      "==> [0.5, 0.395, 0.2866666666666667, 0.24, 0.164, 0.16666666666666666, 0.16285714285714287, 0.11625, 0.09888888888888889, 0.088]\n",
      "==> 22.18% (12.88%)\n",
      "GEM-lr0_1-p16-m0_5, GEM-lr0_1-p16-m0_5:\n",
      "==> [0.5, 0.37, 0.2866666666666667, 0.215, 0.172, 0.16333333333333333, 0.12428571428571429, 0.125, 0.10111111111111111, 0.101]\n",
      "==> 21.58% (12.54%)\n"
     ]
    }
   ],
   "source": [
    "exp_names = [\n",
    "    'GEM-lr0_01-p16-m0_3', 'GEM-lr0_01-p32-m0_3',\n",
    "    'GEM-lr0_01-p16-m0_5', # 'GEM-lr0_01-p32-m0_5',\n",
    "\n",
    "    'GEM-lr0_1-p16-m0_3', 'GEM-lr0_1-p32-m0_3',\n",
    "    'GEM-lr0_1-p16-m0_5', # 'GEM-lr0_1-p32-m0_5',\n",
    "]\n",
    "exp_names = [f'color-{exp_names[i]}' for i in range(len(exp_names))]\n",
    "\n",
    "for exp_name in exp_names:\n",
    "    display_results(exp_name, exp_name)"
   ],
   "metadata": {
    "collapsed": false,
    "pycharm": {
     "name": "#%%\n"
    }
   }
  },
  {
   "cell_type": "code",
   "execution_count": null,
   "outputs": [],
   "source": [],
   "metadata": {
    "collapsed": false,
    "pycharm": {
     "name": "#%%\n"
    }
   }
  }
 ],
 "metadata": {
  "kernelspec": {
   "display_name": "Python 3",
   "language": "python",
   "name": "python3"
  },
  "language_info": {
   "codemirror_mode": {
    "name": "ipython",
    "version": 2
   },
   "file_extension": ".py",
   "mimetype": "text/x-python",
   "name": "python",
   "nbconvert_exporter": "python",
   "pygments_lexer": "ipython2",
   "version": "2.7.6"
  }
 },
 "nbformat": 4,
 "nbformat_minor": 0
}