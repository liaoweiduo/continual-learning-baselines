{
 "cells": [
  {
   "cell_type": "code",
   "execution_count": 1,
   "metadata": {
    "collapsed": true
   },
   "outputs": [],
   "source": [
    "%matplotlib inline\n",
    "import os\n",
    "import numpy as np\n",
    "import pandas as pd\n",
    "import matplotlib\n",
    "import matplotlib.pyplot as plt\n",
    "from plotly.subplots import make_subplots\n",
    "import seaborn as sns\n",
    "import plotly.express as px\n",
    "import plotly.graph_objs as go"
   ]
  },
  {
   "cell_type": "code",
   "execution_count": 2,
   "outputs": [
    {
     "name": "stdout",
     "output_type": "stream",
     "text": [
      "\\\\172.18.36.77\\datasets\\continual-learning-baselines\n"
     ]
    }
   ],
   "source": [
    "%cd .."
   ],
   "metadata": {
    "collapsed": false,
    "pycharm": {
     "name": "#%%\n"
    }
   }
  },
  {
   "cell_type": "code",
   "execution_count": 3,
   "outputs": [],
   "source": [
    "project_name = 'CGQA'\n",
    "# project_name = 'Split_Sub_VQA'"
   ],
   "metadata": {
    "collapsed": false,
    "pycharm": {
     "name": "#%%\n"
    }
   }
  },
  {
   "cell_type": "markdown",
   "source": [
    "# Show Continual Training Results"
   ],
   "metadata": {
    "collapsed": false,
    "pycharm": {
     "name": "#%% md\n"
    }
   }
  },
  {
   "cell_type": "code",
   "execution_count": 7,
   "outputs": [],
   "source": [
    "def get_accs(exp_name):\n",
    "    results = np.load(os.path.join('../../avalanche-experiments', project_name, exp_name, f'results-{exp_name}.npy'), allow_pickle=True)\n",
    "    accs = [results[i]['Top1_Acc_Stream/eval_phase/test_stream/Task000'] for i in range(len(results))]\n",
    "    losses = [results[i]['Loss_Stream/eval_phase/test_stream/Task000'] for i in range(len(results))]\n",
    "    return accs, losses"
   ],
   "metadata": {
    "collapsed": false,
    "pycharm": {
     "name": "#%%\n"
    }
   }
  },
  {
   "cell_type": "code",
   "execution_count": 5,
   "outputs": [],
   "source": [
    "'''Load one exp'''\n",
    "exp_name = 'Naive-tsk'\n",
    "results = np.load(os.path.join('../../avalanche-experiments', project_name, exp_name, f'results-{exp_name}.npy'), allow_pickle=True)\n",
    "last_result = results[-1]"
   ],
   "metadata": {
    "collapsed": false,
    "pycharm": {
     "name": "#%%\n"
    }
   }
  },
  {
   "cell_type": "markdown",
   "source": [],
   "metadata": {
    "collapsed": false
   }
  },
  {
   "cell_type": "code",
   "execution_count": 8,
   "outputs": [],
   "source": [
    "exp_names = ['Naive-lr0_005', 'ER-lr0_01-m1000', 'ER-lr0_01-m5000', 'LwF-lr0_005-a11-t2', 'GEM-lr0_01-p32-m0_5']\n",
    "dsp_names = ['Naive', 'ER-1000', 'ER-5000', 'LwF', 'GEM']\n",
    "all_accs = [get_accs(exp_names[i])[0] for i in range(len(exp_names))]\n",
    "all_losses = [get_accs(exp_names[i])[1] for i in range(len(exp_names))]"
   ],
   "metadata": {
    "collapsed": false,
    "pycharm": {
     "name": "#%%\n"
    }
   }
  },
  {
   "cell_type": "code",
   "execution_count": 14,
   "outputs": [
    {
     "data": {
      "application/vnd.plotly.v1+json": {
       "data": [
        {
         "hovertemplate": "Algo.=Naive<br>Num classes=%{x}<br>Value=%{y}<extra></extra>",
         "legendgroup": "Naive",
         "line": {
          "color": "#636efa",
          "dash": "solid"
         },
         "marker": {
          "symbol": "circle"
         },
         "mode": "lines",
         "name": "Naive",
         "orientation": "v",
         "showlegend": true,
         "x": [
          2,
          4,
          6,
          8,
          10,
          12,
          14,
          16,
          18,
          20
         ],
         "xaxis": "x",
         "y": [
          0.67,
          0.425,
          0.3,
          0.2,
          0.168,
          0.16,
          0.12285714285714286,
          0.0975,
          0.09,
          0.084
         ],
         "yaxis": "y",
         "type": "scatter"
        },
        {
         "hovertemplate": "Algo.=ER-1000<br>Num classes=%{x}<br>Value=%{y}<extra></extra>",
         "legendgroup": "ER-1000",
         "line": {
          "color": "#EF553B",
          "dash": "solid"
         },
         "marker": {
          "symbol": "circle"
         },
         "mode": "lines",
         "name": "ER-1000",
         "orientation": "v",
         "showlegend": true,
         "x": [
          2,
          4,
          6,
          8,
          10,
          12,
          14,
          16,
          18,
          20
         ],
         "xaxis": "x",
         "y": [
          0.66,
          0.555,
          0.39,
          0.3475,
          0.332,
          0.295,
          0.25285714285714284,
          0.20875,
          0.2,
          0.139
         ],
         "yaxis": "y",
         "type": "scatter"
        },
        {
         "hovertemplate": "Algo.=ER-5000<br>Num classes=%{x}<br>Value=%{y}<extra></extra>",
         "legendgroup": "ER-5000",
         "line": {
          "color": "#00cc96",
          "dash": "solid"
         },
         "marker": {
          "symbol": "circle"
         },
         "mode": "lines",
         "name": "ER-5000",
         "orientation": "v",
         "showlegend": true,
         "x": [
          2,
          4,
          6,
          8,
          10,
          12,
          14,
          16,
          18,
          20
         ],
         "xaxis": "x",
         "y": [
          0.66,
          0.58,
          0.4866666666666667,
          0.3825,
          0.382,
          0.41,
          0.3271428571428571,
          0.32875,
          0.28888888888888886,
          0.26
         ],
         "yaxis": "y",
         "type": "scatter"
        },
        {
         "hovertemplate": "Algo.=LwF<br>Num classes=%{x}<br>Value=%{y}<extra></extra>",
         "legendgroup": "LwF",
         "line": {
          "color": "#ab63fa",
          "dash": "solid"
         },
         "marker": {
          "symbol": "circle"
         },
         "mode": "lines",
         "name": "LwF",
         "orientation": "v",
         "showlegend": true,
         "x": [
          2,
          4,
          6,
          8,
          10,
          12,
          14,
          16,
          18,
          20
         ],
         "xaxis": "x",
         "y": [
          0.67,
          0.405,
          0.31,
          0.1775,
          0.18,
          0.15333333333333332,
          0.12285714285714286,
          0.09375,
          0.07555555555555556,
          0.081
         ],
         "yaxis": "y",
         "type": "scatter"
        },
        {
         "hovertemplate": "Algo.=GEM<br>Num classes=%{x}<br>Value=%{y}<extra></extra>",
         "legendgroup": "GEM",
         "line": {
          "color": "#FFA15A",
          "dash": "solid"
         },
         "marker": {
          "symbol": "circle"
         },
         "mode": "lines",
         "name": "GEM",
         "orientation": "v",
         "showlegend": true,
         "x": [
          2,
          4,
          6,
          8,
          10,
          12,
          14,
          16,
          18,
          20
         ],
         "xaxis": "x",
         "y": [
          0.66,
          0.385,
          0.2866666666666667,
          0.215,
          0.184,
          0.18333333333333332,
          0.14142857142857143,
          0.12625,
          0.09666666666666666,
          0.085
         ],
         "yaxis": "y",
         "type": "scatter"
        },
        {
         "hovertemplate": "Algo.=RPSnet<br>Num classes=%{x}<br>Value=%{y}<extra></extra>",
         "legendgroup": "RPSnet",
         "line": {
          "color": "#19d3f3",
          "dash": "solid"
         },
         "marker": {
          "symbol": "circle"
         },
         "mode": "lines",
         "name": "RPSnet",
         "orientation": "v",
         "showlegend": true,
         "x": [
          2,
          4,
          6,
          8,
          10,
          12,
          14,
          16,
          18,
          20
         ],
         "xaxis": "x",
         "y": [
          0.745,
          0.6875,
          0.5816666699999999,
          0.50875,
          0.474,
          0.435,
          0.35785713999999996,
          0.344375,
          0.22277778,
          0.20149999999999998
         ],
         "yaxis": "y",
         "type": "scatter"
        }
       ],
       "layout": {
        "template": {
         "data": {
          "histogram2dcontour": [
           {
            "type": "histogram2dcontour",
            "colorbar": {
             "outlinewidth": 0,
             "ticks": ""
            },
            "colorscale": [
             [
              0.0,
              "#0d0887"
             ],
             [
              0.1111111111111111,
              "#46039f"
             ],
             [
              0.2222222222222222,
              "#7201a8"
             ],
             [
              0.3333333333333333,
              "#9c179e"
             ],
             [
              0.4444444444444444,
              "#bd3786"
             ],
             [
              0.5555555555555556,
              "#d8576b"
             ],
             [
              0.6666666666666666,
              "#ed7953"
             ],
             [
              0.7777777777777778,
              "#fb9f3a"
             ],
             [
              0.8888888888888888,
              "#fdca26"
             ],
             [
              1.0,
              "#f0f921"
             ]
            ]
           }
          ],
          "choropleth": [
           {
            "type": "choropleth",
            "colorbar": {
             "outlinewidth": 0,
             "ticks": ""
            }
           }
          ],
          "histogram2d": [
           {
            "type": "histogram2d",
            "colorbar": {
             "outlinewidth": 0,
             "ticks": ""
            },
            "colorscale": [
             [
              0.0,
              "#0d0887"
             ],
             [
              0.1111111111111111,
              "#46039f"
             ],
             [
              0.2222222222222222,
              "#7201a8"
             ],
             [
              0.3333333333333333,
              "#9c179e"
             ],
             [
              0.4444444444444444,
              "#bd3786"
             ],
             [
              0.5555555555555556,
              "#d8576b"
             ],
             [
              0.6666666666666666,
              "#ed7953"
             ],
             [
              0.7777777777777778,
              "#fb9f3a"
             ],
             [
              0.8888888888888888,
              "#fdca26"
             ],
             [
              1.0,
              "#f0f921"
             ]
            ]
           }
          ],
          "heatmap": [
           {
            "type": "heatmap",
            "colorbar": {
             "outlinewidth": 0,
             "ticks": ""
            },
            "colorscale": [
             [
              0.0,
              "#0d0887"
             ],
             [
              0.1111111111111111,
              "#46039f"
             ],
             [
              0.2222222222222222,
              "#7201a8"
             ],
             [
              0.3333333333333333,
              "#9c179e"
             ],
             [
              0.4444444444444444,
              "#bd3786"
             ],
             [
              0.5555555555555556,
              "#d8576b"
             ],
             [
              0.6666666666666666,
              "#ed7953"
             ],
             [
              0.7777777777777778,
              "#fb9f3a"
             ],
             [
              0.8888888888888888,
              "#fdca26"
             ],
             [
              1.0,
              "#f0f921"
             ]
            ]
           }
          ],
          "heatmapgl": [
           {
            "type": "heatmapgl",
            "colorbar": {
             "outlinewidth": 0,
             "ticks": ""
            },
            "colorscale": [
             [
              0.0,
              "#0d0887"
             ],
             [
              0.1111111111111111,
              "#46039f"
             ],
             [
              0.2222222222222222,
              "#7201a8"
             ],
             [
              0.3333333333333333,
              "#9c179e"
             ],
             [
              0.4444444444444444,
              "#bd3786"
             ],
             [
              0.5555555555555556,
              "#d8576b"
             ],
             [
              0.6666666666666666,
              "#ed7953"
             ],
             [
              0.7777777777777778,
              "#fb9f3a"
             ],
             [
              0.8888888888888888,
              "#fdca26"
             ],
             [
              1.0,
              "#f0f921"
             ]
            ]
           }
          ],
          "contourcarpet": [
           {
            "type": "contourcarpet",
            "colorbar": {
             "outlinewidth": 0,
             "ticks": ""
            }
           }
          ],
          "contour": [
           {
            "type": "contour",
            "colorbar": {
             "outlinewidth": 0,
             "ticks": ""
            },
            "colorscale": [
             [
              0.0,
              "#0d0887"
             ],
             [
              0.1111111111111111,
              "#46039f"
             ],
             [
              0.2222222222222222,
              "#7201a8"
             ],
             [
              0.3333333333333333,
              "#9c179e"
             ],
             [
              0.4444444444444444,
              "#bd3786"
             ],
             [
              0.5555555555555556,
              "#d8576b"
             ],
             [
              0.6666666666666666,
              "#ed7953"
             ],
             [
              0.7777777777777778,
              "#fb9f3a"
             ],
             [
              0.8888888888888888,
              "#fdca26"
             ],
             [
              1.0,
              "#f0f921"
             ]
            ]
           }
          ],
          "surface": [
           {
            "type": "surface",
            "colorbar": {
             "outlinewidth": 0,
             "ticks": ""
            },
            "colorscale": [
             [
              0.0,
              "#0d0887"
             ],
             [
              0.1111111111111111,
              "#46039f"
             ],
             [
              0.2222222222222222,
              "#7201a8"
             ],
             [
              0.3333333333333333,
              "#9c179e"
             ],
             [
              0.4444444444444444,
              "#bd3786"
             ],
             [
              0.5555555555555556,
              "#d8576b"
             ],
             [
              0.6666666666666666,
              "#ed7953"
             ],
             [
              0.7777777777777778,
              "#fb9f3a"
             ],
             [
              0.8888888888888888,
              "#fdca26"
             ],
             [
              1.0,
              "#f0f921"
             ]
            ]
           }
          ],
          "mesh3d": [
           {
            "type": "mesh3d",
            "colorbar": {
             "outlinewidth": 0,
             "ticks": ""
            }
           }
          ],
          "scatter": [
           {
            "fillpattern": {
             "fillmode": "overlay",
             "size": 10,
             "solidity": 0.2
            },
            "type": "scatter"
           }
          ],
          "parcoords": [
           {
            "type": "parcoords",
            "line": {
             "colorbar": {
              "outlinewidth": 0,
              "ticks": ""
             }
            }
           }
          ],
          "scatterpolargl": [
           {
            "type": "scatterpolargl",
            "marker": {
             "colorbar": {
              "outlinewidth": 0,
              "ticks": ""
             }
            }
           }
          ],
          "bar": [
           {
            "error_x": {
             "color": "#2a3f5f"
            },
            "error_y": {
             "color": "#2a3f5f"
            },
            "marker": {
             "line": {
              "color": "#E5ECF6",
              "width": 0.5
             },
             "pattern": {
              "fillmode": "overlay",
              "size": 10,
              "solidity": 0.2
             }
            },
            "type": "bar"
           }
          ],
          "scattergeo": [
           {
            "type": "scattergeo",
            "marker": {
             "colorbar": {
              "outlinewidth": 0,
              "ticks": ""
             }
            }
           }
          ],
          "scatterpolar": [
           {
            "type": "scatterpolar",
            "marker": {
             "colorbar": {
              "outlinewidth": 0,
              "ticks": ""
             }
            }
           }
          ],
          "histogram": [
           {
            "marker": {
             "pattern": {
              "fillmode": "overlay",
              "size": 10,
              "solidity": 0.2
             }
            },
            "type": "histogram"
           }
          ],
          "scattergl": [
           {
            "type": "scattergl",
            "marker": {
             "colorbar": {
              "outlinewidth": 0,
              "ticks": ""
             }
            }
           }
          ],
          "scatter3d": [
           {
            "type": "scatter3d",
            "line": {
             "colorbar": {
              "outlinewidth": 0,
              "ticks": ""
             }
            },
            "marker": {
             "colorbar": {
              "outlinewidth": 0,
              "ticks": ""
             }
            }
           }
          ],
          "scattermapbox": [
           {
            "type": "scattermapbox",
            "marker": {
             "colorbar": {
              "outlinewidth": 0,
              "ticks": ""
             }
            }
           }
          ],
          "scatterternary": [
           {
            "type": "scatterternary",
            "marker": {
             "colorbar": {
              "outlinewidth": 0,
              "ticks": ""
             }
            }
           }
          ],
          "scattercarpet": [
           {
            "type": "scattercarpet",
            "marker": {
             "colorbar": {
              "outlinewidth": 0,
              "ticks": ""
             }
            }
           }
          ],
          "carpet": [
           {
            "aaxis": {
             "endlinecolor": "#2a3f5f",
             "gridcolor": "white",
             "linecolor": "white",
             "minorgridcolor": "white",
             "startlinecolor": "#2a3f5f"
            },
            "baxis": {
             "endlinecolor": "#2a3f5f",
             "gridcolor": "white",
             "linecolor": "white",
             "minorgridcolor": "white",
             "startlinecolor": "#2a3f5f"
            },
            "type": "carpet"
           }
          ],
          "table": [
           {
            "cells": {
             "fill": {
              "color": "#EBF0F8"
             },
             "line": {
              "color": "white"
             }
            },
            "header": {
             "fill": {
              "color": "#C8D4E3"
             },
             "line": {
              "color": "white"
             }
            },
            "type": "table"
           }
          ],
          "barpolar": [
           {
            "marker": {
             "line": {
              "color": "#E5ECF6",
              "width": 0.5
             },
             "pattern": {
              "fillmode": "overlay",
              "size": 10,
              "solidity": 0.2
             }
            },
            "type": "barpolar"
           }
          ],
          "pie": [
           {
            "automargin": true,
            "type": "pie"
           }
          ]
         },
         "layout": {
          "autotypenumbers": "strict",
          "colorway": [
           "#636efa",
           "#EF553B",
           "#00cc96",
           "#ab63fa",
           "#FFA15A",
           "#19d3f3",
           "#FF6692",
           "#B6E880",
           "#FF97FF",
           "#FECB52"
          ],
          "font": {
           "color": "#2a3f5f"
          },
          "hovermode": "closest",
          "hoverlabel": {
           "align": "left"
          },
          "paper_bgcolor": "white",
          "plot_bgcolor": "#E5ECF6",
          "polar": {
           "bgcolor": "#E5ECF6",
           "angularaxis": {
            "gridcolor": "white",
            "linecolor": "white",
            "ticks": ""
           },
           "radialaxis": {
            "gridcolor": "white",
            "linecolor": "white",
            "ticks": ""
           }
          },
          "ternary": {
           "bgcolor": "#E5ECF6",
           "aaxis": {
            "gridcolor": "white",
            "linecolor": "white",
            "ticks": ""
           },
           "baxis": {
            "gridcolor": "white",
            "linecolor": "white",
            "ticks": ""
           },
           "caxis": {
            "gridcolor": "white",
            "linecolor": "white",
            "ticks": ""
           }
          },
          "coloraxis": {
           "colorbar": {
            "outlinewidth": 0,
            "ticks": ""
           }
          },
          "colorscale": {
           "sequential": [
            [
             0.0,
             "#0d0887"
            ],
            [
             0.1111111111111111,
             "#46039f"
            ],
            [
             0.2222222222222222,
             "#7201a8"
            ],
            [
             0.3333333333333333,
             "#9c179e"
            ],
            [
             0.4444444444444444,
             "#bd3786"
            ],
            [
             0.5555555555555556,
             "#d8576b"
            ],
            [
             0.6666666666666666,
             "#ed7953"
            ],
            [
             0.7777777777777778,
             "#fb9f3a"
            ],
            [
             0.8888888888888888,
             "#fdca26"
            ],
            [
             1.0,
             "#f0f921"
            ]
           ],
           "sequentialminus": [
            [
             0.0,
             "#0d0887"
            ],
            [
             0.1111111111111111,
             "#46039f"
            ],
            [
             0.2222222222222222,
             "#7201a8"
            ],
            [
             0.3333333333333333,
             "#9c179e"
            ],
            [
             0.4444444444444444,
             "#bd3786"
            ],
            [
             0.5555555555555556,
             "#d8576b"
            ],
            [
             0.6666666666666666,
             "#ed7953"
            ],
            [
             0.7777777777777778,
             "#fb9f3a"
            ],
            [
             0.8888888888888888,
             "#fdca26"
            ],
            [
             1.0,
             "#f0f921"
            ]
           ],
           "diverging": [
            [
             0,
             "#8e0152"
            ],
            [
             0.1,
             "#c51b7d"
            ],
            [
             0.2,
             "#de77ae"
            ],
            [
             0.3,
             "#f1b6da"
            ],
            [
             0.4,
             "#fde0ef"
            ],
            [
             0.5,
             "#f7f7f7"
            ],
            [
             0.6,
             "#e6f5d0"
            ],
            [
             0.7,
             "#b8e186"
            ],
            [
             0.8,
             "#7fbc41"
            ],
            [
             0.9,
             "#4d9221"
            ],
            [
             1,
             "#276419"
            ]
           ]
          },
          "xaxis": {
           "gridcolor": "white",
           "linecolor": "white",
           "ticks": "",
           "title": {
            "standoff": 15
           },
           "zerolinecolor": "white",
           "automargin": true,
           "zerolinewidth": 2
          },
          "yaxis": {
           "gridcolor": "white",
           "linecolor": "white",
           "ticks": "",
           "title": {
            "standoff": 15
           },
           "zerolinecolor": "white",
           "automargin": true,
           "zerolinewidth": 2
          },
          "scene": {
           "xaxis": {
            "backgroundcolor": "#E5ECF6",
            "gridcolor": "white",
            "linecolor": "white",
            "showbackground": true,
            "ticks": "",
            "zerolinecolor": "white",
            "gridwidth": 2
           },
           "yaxis": {
            "backgroundcolor": "#E5ECF6",
            "gridcolor": "white",
            "linecolor": "white",
            "showbackground": true,
            "ticks": "",
            "zerolinecolor": "white",
            "gridwidth": 2
           },
           "zaxis": {
            "backgroundcolor": "#E5ECF6",
            "gridcolor": "white",
            "linecolor": "white",
            "showbackground": true,
            "ticks": "",
            "zerolinecolor": "white",
            "gridwidth": 2
           }
          },
          "shapedefaults": {
           "line": {
            "color": "#2a3f5f"
           }
          },
          "annotationdefaults": {
           "arrowcolor": "#2a3f5f",
           "arrowhead": 0,
           "arrowwidth": 1
          },
          "geo": {
           "bgcolor": "white",
           "landcolor": "#E5ECF6",
           "subunitcolor": "white",
           "showland": true,
           "showlakes": true,
           "lakecolor": "white"
          },
          "title": {
           "x": 0.05
          },
          "mapbox": {
           "style": "light"
          }
         }
        },
        "xaxis": {
         "anchor": "y",
         "domain": [
          0.0,
          1.0
         ],
         "title": {
          "text": "Num classes"
         }
        },
        "yaxis": {
         "anchor": "x",
         "domain": [
          0.0,
          1.0
         ],
         "title": {
          "text": "Value"
         }
        },
        "legend": {
         "title": {
          "text": "Algo."
         },
         "tracegroupgap": 0
        },
        "title": {
         "text": "Acc"
        }
       },
       "config": {
        "plotlyServerURL": "https://plot.ly"
       }
      },
      "text/html": "<div>                            <div id=\"1b022423-dc27-407f-b13d-fe4a3316683a\" class=\"plotly-graph-div\" style=\"height:525px; width:100%;\"></div>            <script type=\"text/javascript\">                require([\"plotly\"], function(Plotly) {                    window.PLOTLYENV=window.PLOTLYENV || {};                                    if (document.getElementById(\"1b022423-dc27-407f-b13d-fe4a3316683a\")) {                    Plotly.newPlot(                        \"1b022423-dc27-407f-b13d-fe4a3316683a\",                        [{\"hovertemplate\":\"Algo.=Naive<br>Num classes=%{x}<br>Value=%{y}<extra></extra>\",\"legendgroup\":\"Naive\",\"line\":{\"color\":\"#636efa\",\"dash\":\"solid\"},\"marker\":{\"symbol\":\"circle\"},\"mode\":\"lines\",\"name\":\"Naive\",\"orientation\":\"v\",\"showlegend\":true,\"x\":[2,4,6,8,10,12,14,16,18,20],\"xaxis\":\"x\",\"y\":[0.67,0.425,0.3,0.2,0.168,0.16,0.12285714285714286,0.0975,0.09,0.084],\"yaxis\":\"y\",\"type\":\"scatter\"},{\"hovertemplate\":\"Algo.=ER-1000<br>Num classes=%{x}<br>Value=%{y}<extra></extra>\",\"legendgroup\":\"ER-1000\",\"line\":{\"color\":\"#EF553B\",\"dash\":\"solid\"},\"marker\":{\"symbol\":\"circle\"},\"mode\":\"lines\",\"name\":\"ER-1000\",\"orientation\":\"v\",\"showlegend\":true,\"x\":[2,4,6,8,10,12,14,16,18,20],\"xaxis\":\"x\",\"y\":[0.66,0.555,0.39,0.3475,0.332,0.295,0.25285714285714284,0.20875,0.2,0.139],\"yaxis\":\"y\",\"type\":\"scatter\"},{\"hovertemplate\":\"Algo.=ER-5000<br>Num classes=%{x}<br>Value=%{y}<extra></extra>\",\"legendgroup\":\"ER-5000\",\"line\":{\"color\":\"#00cc96\",\"dash\":\"solid\"},\"marker\":{\"symbol\":\"circle\"},\"mode\":\"lines\",\"name\":\"ER-5000\",\"orientation\":\"v\",\"showlegend\":true,\"x\":[2,4,6,8,10,12,14,16,18,20],\"xaxis\":\"x\",\"y\":[0.66,0.58,0.4866666666666667,0.3825,0.382,0.41,0.3271428571428571,0.32875,0.28888888888888886,0.26],\"yaxis\":\"y\",\"type\":\"scatter\"},{\"hovertemplate\":\"Algo.=LwF<br>Num classes=%{x}<br>Value=%{y}<extra></extra>\",\"legendgroup\":\"LwF\",\"line\":{\"color\":\"#ab63fa\",\"dash\":\"solid\"},\"marker\":{\"symbol\":\"circle\"},\"mode\":\"lines\",\"name\":\"LwF\",\"orientation\":\"v\",\"showlegend\":true,\"x\":[2,4,6,8,10,12,14,16,18,20],\"xaxis\":\"x\",\"y\":[0.67,0.405,0.31,0.1775,0.18,0.15333333333333332,0.12285714285714286,0.09375,0.07555555555555556,0.081],\"yaxis\":\"y\",\"type\":\"scatter\"},{\"hovertemplate\":\"Algo.=GEM<br>Num classes=%{x}<br>Value=%{y}<extra></extra>\",\"legendgroup\":\"GEM\",\"line\":{\"color\":\"#FFA15A\",\"dash\":\"solid\"},\"marker\":{\"symbol\":\"circle\"},\"mode\":\"lines\",\"name\":\"GEM\",\"orientation\":\"v\",\"showlegend\":true,\"x\":[2,4,6,8,10,12,14,16,18,20],\"xaxis\":\"x\",\"y\":[0.66,0.385,0.2866666666666667,0.215,0.184,0.18333333333333332,0.14142857142857143,0.12625,0.09666666666666666,0.085],\"yaxis\":\"y\",\"type\":\"scatter\"},{\"hovertemplate\":\"Algo.=RPSnet<br>Num classes=%{x}<br>Value=%{y}<extra></extra>\",\"legendgroup\":\"RPSnet\",\"line\":{\"color\":\"#19d3f3\",\"dash\":\"solid\"},\"marker\":{\"symbol\":\"circle\"},\"mode\":\"lines\",\"name\":\"RPSnet\",\"orientation\":\"v\",\"showlegend\":true,\"x\":[2,4,6,8,10,12,14,16,18,20],\"xaxis\":\"x\",\"y\":[0.745,0.6875,0.5816666699999999,0.50875,0.474,0.435,0.35785713999999996,0.344375,0.22277778,0.20149999999999998],\"yaxis\":\"y\",\"type\":\"scatter\"}],                        {\"template\":{\"data\":{\"histogram2dcontour\":[{\"type\":\"histogram2dcontour\",\"colorbar\":{\"outlinewidth\":0,\"ticks\":\"\"},\"colorscale\":[[0.0,\"#0d0887\"],[0.1111111111111111,\"#46039f\"],[0.2222222222222222,\"#7201a8\"],[0.3333333333333333,\"#9c179e\"],[0.4444444444444444,\"#bd3786\"],[0.5555555555555556,\"#d8576b\"],[0.6666666666666666,\"#ed7953\"],[0.7777777777777778,\"#fb9f3a\"],[0.8888888888888888,\"#fdca26\"],[1.0,\"#f0f921\"]]}],\"choropleth\":[{\"type\":\"choropleth\",\"colorbar\":{\"outlinewidth\":0,\"ticks\":\"\"}}],\"histogram2d\":[{\"type\":\"histogram2d\",\"colorbar\":{\"outlinewidth\":0,\"ticks\":\"\"},\"colorscale\":[[0.0,\"#0d0887\"],[0.1111111111111111,\"#46039f\"],[0.2222222222222222,\"#7201a8\"],[0.3333333333333333,\"#9c179e\"],[0.4444444444444444,\"#bd3786\"],[0.5555555555555556,\"#d8576b\"],[0.6666666666666666,\"#ed7953\"],[0.7777777777777778,\"#fb9f3a\"],[0.8888888888888888,\"#fdca26\"],[1.0,\"#f0f921\"]]}],\"heatmap\":[{\"type\":\"heatmap\",\"colorbar\":{\"outlinewidth\":0,\"ticks\":\"\"},\"colorscale\":[[0.0,\"#0d0887\"],[0.1111111111111111,\"#46039f\"],[0.2222222222222222,\"#7201a8\"],[0.3333333333333333,\"#9c179e\"],[0.4444444444444444,\"#bd3786\"],[0.5555555555555556,\"#d8576b\"],[0.6666666666666666,\"#ed7953\"],[0.7777777777777778,\"#fb9f3a\"],[0.8888888888888888,\"#fdca26\"],[1.0,\"#f0f921\"]]}],\"heatmapgl\":[{\"type\":\"heatmapgl\",\"colorbar\":{\"outlinewidth\":0,\"ticks\":\"\"},\"colorscale\":[[0.0,\"#0d0887\"],[0.1111111111111111,\"#46039f\"],[0.2222222222222222,\"#7201a8\"],[0.3333333333333333,\"#9c179e\"],[0.4444444444444444,\"#bd3786\"],[0.5555555555555556,\"#d8576b\"],[0.6666666666666666,\"#ed7953\"],[0.7777777777777778,\"#fb9f3a\"],[0.8888888888888888,\"#fdca26\"],[1.0,\"#f0f921\"]]}],\"contourcarpet\":[{\"type\":\"contourcarpet\",\"colorbar\":{\"outlinewidth\":0,\"ticks\":\"\"}}],\"contour\":[{\"type\":\"contour\",\"colorbar\":{\"outlinewidth\":0,\"ticks\":\"\"},\"colorscale\":[[0.0,\"#0d0887\"],[0.1111111111111111,\"#46039f\"],[0.2222222222222222,\"#7201a8\"],[0.3333333333333333,\"#9c179e\"],[0.4444444444444444,\"#bd3786\"],[0.5555555555555556,\"#d8576b\"],[0.6666666666666666,\"#ed7953\"],[0.7777777777777778,\"#fb9f3a\"],[0.8888888888888888,\"#fdca26\"],[1.0,\"#f0f921\"]]}],\"surface\":[{\"type\":\"surface\",\"colorbar\":{\"outlinewidth\":0,\"ticks\":\"\"},\"colorscale\":[[0.0,\"#0d0887\"],[0.1111111111111111,\"#46039f\"],[0.2222222222222222,\"#7201a8\"],[0.3333333333333333,\"#9c179e\"],[0.4444444444444444,\"#bd3786\"],[0.5555555555555556,\"#d8576b\"],[0.6666666666666666,\"#ed7953\"],[0.7777777777777778,\"#fb9f3a\"],[0.8888888888888888,\"#fdca26\"],[1.0,\"#f0f921\"]]}],\"mesh3d\":[{\"type\":\"mesh3d\",\"colorbar\":{\"outlinewidth\":0,\"ticks\":\"\"}}],\"scatter\":[{\"fillpattern\":{\"fillmode\":\"overlay\",\"size\":10,\"solidity\":0.2},\"type\":\"scatter\"}],\"parcoords\":[{\"type\":\"parcoords\",\"line\":{\"colorbar\":{\"outlinewidth\":0,\"ticks\":\"\"}}}],\"scatterpolargl\":[{\"type\":\"scatterpolargl\",\"marker\":{\"colorbar\":{\"outlinewidth\":0,\"ticks\":\"\"}}}],\"bar\":[{\"error_x\":{\"color\":\"#2a3f5f\"},\"error_y\":{\"color\":\"#2a3f5f\"},\"marker\":{\"line\":{\"color\":\"#E5ECF6\",\"width\":0.5},\"pattern\":{\"fillmode\":\"overlay\",\"size\":10,\"solidity\":0.2}},\"type\":\"bar\"}],\"scattergeo\":[{\"type\":\"scattergeo\",\"marker\":{\"colorbar\":{\"outlinewidth\":0,\"ticks\":\"\"}}}],\"scatterpolar\":[{\"type\":\"scatterpolar\",\"marker\":{\"colorbar\":{\"outlinewidth\":0,\"ticks\":\"\"}}}],\"histogram\":[{\"marker\":{\"pattern\":{\"fillmode\":\"overlay\",\"size\":10,\"solidity\":0.2}},\"type\":\"histogram\"}],\"scattergl\":[{\"type\":\"scattergl\",\"marker\":{\"colorbar\":{\"outlinewidth\":0,\"ticks\":\"\"}}}],\"scatter3d\":[{\"type\":\"scatter3d\",\"line\":{\"colorbar\":{\"outlinewidth\":0,\"ticks\":\"\"}},\"marker\":{\"colorbar\":{\"outlinewidth\":0,\"ticks\":\"\"}}}],\"scattermapbox\":[{\"type\":\"scattermapbox\",\"marker\":{\"colorbar\":{\"outlinewidth\":0,\"ticks\":\"\"}}}],\"scatterternary\":[{\"type\":\"scatterternary\",\"marker\":{\"colorbar\":{\"outlinewidth\":0,\"ticks\":\"\"}}}],\"scattercarpet\":[{\"type\":\"scattercarpet\",\"marker\":{\"colorbar\":{\"outlinewidth\":0,\"ticks\":\"\"}}}],\"carpet\":[{\"aaxis\":{\"endlinecolor\":\"#2a3f5f\",\"gridcolor\":\"white\",\"linecolor\":\"white\",\"minorgridcolor\":\"white\",\"startlinecolor\":\"#2a3f5f\"},\"baxis\":{\"endlinecolor\":\"#2a3f5f\",\"gridcolor\":\"white\",\"linecolor\":\"white\",\"minorgridcolor\":\"white\",\"startlinecolor\":\"#2a3f5f\"},\"type\":\"carpet\"}],\"table\":[{\"cells\":{\"fill\":{\"color\":\"#EBF0F8\"},\"line\":{\"color\":\"white\"}},\"header\":{\"fill\":{\"color\":\"#C8D4E3\"},\"line\":{\"color\":\"white\"}},\"type\":\"table\"}],\"barpolar\":[{\"marker\":{\"line\":{\"color\":\"#E5ECF6\",\"width\":0.5},\"pattern\":{\"fillmode\":\"overlay\",\"size\":10,\"solidity\":0.2}},\"type\":\"barpolar\"}],\"pie\":[{\"automargin\":true,\"type\":\"pie\"}]},\"layout\":{\"autotypenumbers\":\"strict\",\"colorway\":[\"#636efa\",\"#EF553B\",\"#00cc96\",\"#ab63fa\",\"#FFA15A\",\"#19d3f3\",\"#FF6692\",\"#B6E880\",\"#FF97FF\",\"#FECB52\"],\"font\":{\"color\":\"#2a3f5f\"},\"hovermode\":\"closest\",\"hoverlabel\":{\"align\":\"left\"},\"paper_bgcolor\":\"white\",\"plot_bgcolor\":\"#E5ECF6\",\"polar\":{\"bgcolor\":\"#E5ECF6\",\"angularaxis\":{\"gridcolor\":\"white\",\"linecolor\":\"white\",\"ticks\":\"\"},\"radialaxis\":{\"gridcolor\":\"white\",\"linecolor\":\"white\",\"ticks\":\"\"}},\"ternary\":{\"bgcolor\":\"#E5ECF6\",\"aaxis\":{\"gridcolor\":\"white\",\"linecolor\":\"white\",\"ticks\":\"\"},\"baxis\":{\"gridcolor\":\"white\",\"linecolor\":\"white\",\"ticks\":\"\"},\"caxis\":{\"gridcolor\":\"white\",\"linecolor\":\"white\",\"ticks\":\"\"}},\"coloraxis\":{\"colorbar\":{\"outlinewidth\":0,\"ticks\":\"\"}},\"colorscale\":{\"sequential\":[[0.0,\"#0d0887\"],[0.1111111111111111,\"#46039f\"],[0.2222222222222222,\"#7201a8\"],[0.3333333333333333,\"#9c179e\"],[0.4444444444444444,\"#bd3786\"],[0.5555555555555556,\"#d8576b\"],[0.6666666666666666,\"#ed7953\"],[0.7777777777777778,\"#fb9f3a\"],[0.8888888888888888,\"#fdca26\"],[1.0,\"#f0f921\"]],\"sequentialminus\":[[0.0,\"#0d0887\"],[0.1111111111111111,\"#46039f\"],[0.2222222222222222,\"#7201a8\"],[0.3333333333333333,\"#9c179e\"],[0.4444444444444444,\"#bd3786\"],[0.5555555555555556,\"#d8576b\"],[0.6666666666666666,\"#ed7953\"],[0.7777777777777778,\"#fb9f3a\"],[0.8888888888888888,\"#fdca26\"],[1.0,\"#f0f921\"]],\"diverging\":[[0,\"#8e0152\"],[0.1,\"#c51b7d\"],[0.2,\"#de77ae\"],[0.3,\"#f1b6da\"],[0.4,\"#fde0ef\"],[0.5,\"#f7f7f7\"],[0.6,\"#e6f5d0\"],[0.7,\"#b8e186\"],[0.8,\"#7fbc41\"],[0.9,\"#4d9221\"],[1,\"#276419\"]]},\"xaxis\":{\"gridcolor\":\"white\",\"linecolor\":\"white\",\"ticks\":\"\",\"title\":{\"standoff\":15},\"zerolinecolor\":\"white\",\"automargin\":true,\"zerolinewidth\":2},\"yaxis\":{\"gridcolor\":\"white\",\"linecolor\":\"white\",\"ticks\":\"\",\"title\":{\"standoff\":15},\"zerolinecolor\":\"white\",\"automargin\":true,\"zerolinewidth\":2},\"scene\":{\"xaxis\":{\"backgroundcolor\":\"#E5ECF6\",\"gridcolor\":\"white\",\"linecolor\":\"white\",\"showbackground\":true,\"ticks\":\"\",\"zerolinecolor\":\"white\",\"gridwidth\":2},\"yaxis\":{\"backgroundcolor\":\"#E5ECF6\",\"gridcolor\":\"white\",\"linecolor\":\"white\",\"showbackground\":true,\"ticks\":\"\",\"zerolinecolor\":\"white\",\"gridwidth\":2},\"zaxis\":{\"backgroundcolor\":\"#E5ECF6\",\"gridcolor\":\"white\",\"linecolor\":\"white\",\"showbackground\":true,\"ticks\":\"\",\"zerolinecolor\":\"white\",\"gridwidth\":2}},\"shapedefaults\":{\"line\":{\"color\":\"#2a3f5f\"}},\"annotationdefaults\":{\"arrowcolor\":\"#2a3f5f\",\"arrowhead\":0,\"arrowwidth\":1},\"geo\":{\"bgcolor\":\"white\",\"landcolor\":\"#E5ECF6\",\"subunitcolor\":\"white\",\"showland\":true,\"showlakes\":true,\"lakecolor\":\"white\"},\"title\":{\"x\":0.05},\"mapbox\":{\"style\":\"light\"}}},\"xaxis\":{\"anchor\":\"y\",\"domain\":[0.0,1.0],\"title\":{\"text\":\"Num classes\"}},\"yaxis\":{\"anchor\":\"x\",\"domain\":[0.0,1.0],\"title\":{\"text\":\"Value\"}},\"legend\":{\"title\":{\"text\":\"Algo.\"},\"tracegroupgap\":0},\"title\":{\"text\":\"Acc\"}},                        {\"responsive\": true}                    ).then(function(){\n                            \nvar gd = document.getElementById('1b022423-dc27-407f-b13d-fe4a3316683a');\nvar x = new MutationObserver(function (mutations, observer) {{\n        var display = window.getComputedStyle(gd).display;\n        if (!display || display === 'none') {{\n            console.log([gd, 'removed!']);\n            Plotly.purge(gd);\n            observer.disconnect();\n        }}\n}});\n\n// Listen for the removal of the full notebook cells\nvar notebookContainer = gd.closest('#notebook-container');\nif (notebookContainer) {{\n    x.observe(notebookContainer, {childList: true});\n}}\n\n// Listen for the clearing of the current output cell\nvar outputEl = gd.closest('.output');\nif (outputEl) {{\n    x.observe(outputEl, {childList: true});\n}}\n\n                        })                };                });            </script>        </div>"
     },
     "metadata": {},
     "output_type": "display_data"
    }
   ],
   "source": [
    "collected_data = []\n",
    "for idx in range(len(exp_names)):\n",
    "    collected_data.append(pd.DataFrame({'Num classes': np.arange(2, 21, 2), 'Algo.': dsp_names[idx], 'Type': 'Acc', 'Value': all_accs[idx]}))\n",
    "\n",
    "'''add RPSnet'''\n",
    "collected_data.append(pd.DataFrame({\n",
    "    'Num classes': np.arange(2, 21, 2), 'Algo.': 'RPSnet', 'Type': 'Acc',\n",
    "    'Value': np.array([74.5, 68.75, 58.166667, 50.875, 47.4, 43.5, 35.785714, 34.4375, 22.277778, 20.15])/100\n",
    "}))\n",
    "\n",
    "collected_data = pd.concat(collected_data, ignore_index=True)\n",
    "\n",
    "fig = px.line(collected_data, x=\"Num classes\", y=\"Value\", color=\"Algo.\", title='Acc')\n",
    "fig.show()\n",
    "# write_image(fig, experiment_name, \"train.png\")"
   ],
   "metadata": {
    "collapsed": false,
    "pycharm": {
     "name": "#%%\n"
    }
   }
  },
  {
   "cell_type": "code",
   "execution_count": 15,
   "outputs": [
    {
     "data": {
      "application/vnd.plotly.v1+json": {
       "data": [
        {
         "hovertemplate": "Algo.=Naive<br>Num classes=%{x}<br>Value=%{y}<extra></extra>",
         "legendgroup": "Naive",
         "line": {
          "color": "#636efa",
          "dash": "solid"
         },
         "marker": {
          "symbol": "circle"
         },
         "mode": "lines",
         "name": "Naive",
         "orientation": "v",
         "showlegend": true,
         "x": [
          2,
          4,
          6,
          8,
          10,
          12,
          14,
          16,
          18,
          20
         ],
         "xaxis": "x",
         "y": [
          0.7688295990228653,
          12.85469315201044,
          20.81732978920142,
          20.911019150167704,
          24.779240912199022,
          30.488832644031692,
          33.525126001398476,
          26.86351663991809,
          25.533809366739458,
          30.504309025406837
         ],
         "yaxis": "y",
         "type": "scatter"
        },
        {
         "hovertemplate": "Algo.=ER-1000<br>Num classes=%{x}<br>Value=%{y}<extra></extra>",
         "legendgroup": "ER-1000",
         "line": {
          "color": "#EF553B",
          "dash": "solid"
         },
         "marker": {
          "symbol": "circle"
         },
         "mode": "lines",
         "name": "ER-1000",
         "orientation": "v",
         "showlegend": true,
         "x": [
          2,
          4,
          6,
          8,
          10,
          12,
          14,
          16,
          18,
          20
         ],
         "xaxis": "x",
         "y": [
          0.6734009832143784,
          3.3520695567131042,
          7.116531779368718,
          8.981884598731995,
          9.585365343093873,
          10.244957365095615,
          9.928345245974404,
          12.315305639058352,
          11.833768159151077,
          14.848361441493035
         ],
         "yaxis": "y",
         "type": "scatter"
        },
        {
         "hovertemplate": "Algo.=ER-5000<br>Num classes=%{x}<br>Value=%{y}<extra></extra>",
         "legendgroup": "ER-5000",
         "line": {
          "color": "#00cc96",
          "dash": "solid"
         },
         "marker": {
          "symbol": "circle"
         },
         "mode": "lines",
         "name": "ER-5000",
         "orientation": "v",
         "showlegend": true,
         "x": [
          2,
          4,
          6,
          8,
          10,
          12,
          14,
          16,
          18,
          20
         ],
         "xaxis": "x",
         "y": [
          0.6734009832143784,
          4.043731600046158,
          4.374542514483134,
          5.812861204147339,
          6.096344399452209,
          6.229446510473887,
          9.009892372148377,
          8.164483726024628,
          7.950130530529552,
          9.917822283506393
         ],
         "yaxis": "y",
         "type": "scatter"
        },
        {
         "hovertemplate": "Algo.=LwF<br>Num classes=%{x}<br>Value=%{y}<extra></extra>",
         "legendgroup": "LwF",
         "line": {
          "color": "#ab63fa",
          "dash": "solid"
         },
         "marker": {
          "symbol": "circle"
         },
         "mode": "lines",
         "name": "LwF",
         "orientation": "v",
         "showlegend": true,
         "x": [
          2,
          4,
          6,
          8,
          10,
          12,
          14,
          16,
          18,
          20
         ],
         "xaxis": "x",
         "y": [
          0.7688295990228653,
          7.0272264033555984,
          12.792644947767258,
          15.302468355745077,
          18.927348190546034,
          19.981253845617175,
          30.757104758705413,
          25.28140541166067,
          24.308500225345295,
          32.213524878025055
         ],
         "yaxis": "y",
         "type": "scatter"
        },
        {
         "hovertemplate": "Algo.=GEM<br>Num classes=%{x}<br>Value=%{y}<extra></extra>",
         "legendgroup": "GEM",
         "line": {
          "color": "#FFA15A",
          "dash": "solid"
         },
         "marker": {
          "symbol": "circle"
         },
         "mode": "lines",
         "name": "GEM",
         "orientation": "v",
         "showlegend": true,
         "x": [
          2,
          4,
          6,
          8,
          10,
          12,
          14,
          16,
          18,
          20
         ],
         "xaxis": "x",
         "y": [
          0.6734009832143784,
          2.1894447058439255,
          8.716310362021128,
          5.902040466666222,
          6.931861859560013,
          7.113099699219068,
          8.460080363920756,
          8.283611670136452,
          12.54451272274471,
          9.447628697752952
         ],
         "yaxis": "y",
         "type": "scatter"
        }
       ],
       "layout": {
        "template": {
         "data": {
          "histogram2dcontour": [
           {
            "type": "histogram2dcontour",
            "colorbar": {
             "outlinewidth": 0,
             "ticks": ""
            },
            "colorscale": [
             [
              0.0,
              "#0d0887"
             ],
             [
              0.1111111111111111,
              "#46039f"
             ],
             [
              0.2222222222222222,
              "#7201a8"
             ],
             [
              0.3333333333333333,
              "#9c179e"
             ],
             [
              0.4444444444444444,
              "#bd3786"
             ],
             [
              0.5555555555555556,
              "#d8576b"
             ],
             [
              0.6666666666666666,
              "#ed7953"
             ],
             [
              0.7777777777777778,
              "#fb9f3a"
             ],
             [
              0.8888888888888888,
              "#fdca26"
             ],
             [
              1.0,
              "#f0f921"
             ]
            ]
           }
          ],
          "choropleth": [
           {
            "type": "choropleth",
            "colorbar": {
             "outlinewidth": 0,
             "ticks": ""
            }
           }
          ],
          "histogram2d": [
           {
            "type": "histogram2d",
            "colorbar": {
             "outlinewidth": 0,
             "ticks": ""
            },
            "colorscale": [
             [
              0.0,
              "#0d0887"
             ],
             [
              0.1111111111111111,
              "#46039f"
             ],
             [
              0.2222222222222222,
              "#7201a8"
             ],
             [
              0.3333333333333333,
              "#9c179e"
             ],
             [
              0.4444444444444444,
              "#bd3786"
             ],
             [
              0.5555555555555556,
              "#d8576b"
             ],
             [
              0.6666666666666666,
              "#ed7953"
             ],
             [
              0.7777777777777778,
              "#fb9f3a"
             ],
             [
              0.8888888888888888,
              "#fdca26"
             ],
             [
              1.0,
              "#f0f921"
             ]
            ]
           }
          ],
          "heatmap": [
           {
            "type": "heatmap",
            "colorbar": {
             "outlinewidth": 0,
             "ticks": ""
            },
            "colorscale": [
             [
              0.0,
              "#0d0887"
             ],
             [
              0.1111111111111111,
              "#46039f"
             ],
             [
              0.2222222222222222,
              "#7201a8"
             ],
             [
              0.3333333333333333,
              "#9c179e"
             ],
             [
              0.4444444444444444,
              "#bd3786"
             ],
             [
              0.5555555555555556,
              "#d8576b"
             ],
             [
              0.6666666666666666,
              "#ed7953"
             ],
             [
              0.7777777777777778,
              "#fb9f3a"
             ],
             [
              0.8888888888888888,
              "#fdca26"
             ],
             [
              1.0,
              "#f0f921"
             ]
            ]
           }
          ],
          "heatmapgl": [
           {
            "type": "heatmapgl",
            "colorbar": {
             "outlinewidth": 0,
             "ticks": ""
            },
            "colorscale": [
             [
              0.0,
              "#0d0887"
             ],
             [
              0.1111111111111111,
              "#46039f"
             ],
             [
              0.2222222222222222,
              "#7201a8"
             ],
             [
              0.3333333333333333,
              "#9c179e"
             ],
             [
              0.4444444444444444,
              "#bd3786"
             ],
             [
              0.5555555555555556,
              "#d8576b"
             ],
             [
              0.6666666666666666,
              "#ed7953"
             ],
             [
              0.7777777777777778,
              "#fb9f3a"
             ],
             [
              0.8888888888888888,
              "#fdca26"
             ],
             [
              1.0,
              "#f0f921"
             ]
            ]
           }
          ],
          "contourcarpet": [
           {
            "type": "contourcarpet",
            "colorbar": {
             "outlinewidth": 0,
             "ticks": ""
            }
           }
          ],
          "contour": [
           {
            "type": "contour",
            "colorbar": {
             "outlinewidth": 0,
             "ticks": ""
            },
            "colorscale": [
             [
              0.0,
              "#0d0887"
             ],
             [
              0.1111111111111111,
              "#46039f"
             ],
             [
              0.2222222222222222,
              "#7201a8"
             ],
             [
              0.3333333333333333,
              "#9c179e"
             ],
             [
              0.4444444444444444,
              "#bd3786"
             ],
             [
              0.5555555555555556,
              "#d8576b"
             ],
             [
              0.6666666666666666,
              "#ed7953"
             ],
             [
              0.7777777777777778,
              "#fb9f3a"
             ],
             [
              0.8888888888888888,
              "#fdca26"
             ],
             [
              1.0,
              "#f0f921"
             ]
            ]
           }
          ],
          "surface": [
           {
            "type": "surface",
            "colorbar": {
             "outlinewidth": 0,
             "ticks": ""
            },
            "colorscale": [
             [
              0.0,
              "#0d0887"
             ],
             [
              0.1111111111111111,
              "#46039f"
             ],
             [
              0.2222222222222222,
              "#7201a8"
             ],
             [
              0.3333333333333333,
              "#9c179e"
             ],
             [
              0.4444444444444444,
              "#bd3786"
             ],
             [
              0.5555555555555556,
              "#d8576b"
             ],
             [
              0.6666666666666666,
              "#ed7953"
             ],
             [
              0.7777777777777778,
              "#fb9f3a"
             ],
             [
              0.8888888888888888,
              "#fdca26"
             ],
             [
              1.0,
              "#f0f921"
             ]
            ]
           }
          ],
          "mesh3d": [
           {
            "type": "mesh3d",
            "colorbar": {
             "outlinewidth": 0,
             "ticks": ""
            }
           }
          ],
          "scatter": [
           {
            "fillpattern": {
             "fillmode": "overlay",
             "size": 10,
             "solidity": 0.2
            },
            "type": "scatter"
           }
          ],
          "parcoords": [
           {
            "type": "parcoords",
            "line": {
             "colorbar": {
              "outlinewidth": 0,
              "ticks": ""
             }
            }
           }
          ],
          "scatterpolargl": [
           {
            "type": "scatterpolargl",
            "marker": {
             "colorbar": {
              "outlinewidth": 0,
              "ticks": ""
             }
            }
           }
          ],
          "bar": [
           {
            "error_x": {
             "color": "#2a3f5f"
            },
            "error_y": {
             "color": "#2a3f5f"
            },
            "marker": {
             "line": {
              "color": "#E5ECF6",
              "width": 0.5
             },
             "pattern": {
              "fillmode": "overlay",
              "size": 10,
              "solidity": 0.2
             }
            },
            "type": "bar"
           }
          ],
          "scattergeo": [
           {
            "type": "scattergeo",
            "marker": {
             "colorbar": {
              "outlinewidth": 0,
              "ticks": ""
             }
            }
           }
          ],
          "scatterpolar": [
           {
            "type": "scatterpolar",
            "marker": {
             "colorbar": {
              "outlinewidth": 0,
              "ticks": ""
             }
            }
           }
          ],
          "histogram": [
           {
            "marker": {
             "pattern": {
              "fillmode": "overlay",
              "size": 10,
              "solidity": 0.2
             }
            },
            "type": "histogram"
           }
          ],
          "scattergl": [
           {
            "type": "scattergl",
            "marker": {
             "colorbar": {
              "outlinewidth": 0,
              "ticks": ""
             }
            }
           }
          ],
          "scatter3d": [
           {
            "type": "scatter3d",
            "line": {
             "colorbar": {
              "outlinewidth": 0,
              "ticks": ""
             }
            },
            "marker": {
             "colorbar": {
              "outlinewidth": 0,
              "ticks": ""
             }
            }
           }
          ],
          "scattermapbox": [
           {
            "type": "scattermapbox",
            "marker": {
             "colorbar": {
              "outlinewidth": 0,
              "ticks": ""
             }
            }
           }
          ],
          "scatterternary": [
           {
            "type": "scatterternary",
            "marker": {
             "colorbar": {
              "outlinewidth": 0,
              "ticks": ""
             }
            }
           }
          ],
          "scattercarpet": [
           {
            "type": "scattercarpet",
            "marker": {
             "colorbar": {
              "outlinewidth": 0,
              "ticks": ""
             }
            }
           }
          ],
          "carpet": [
           {
            "aaxis": {
             "endlinecolor": "#2a3f5f",
             "gridcolor": "white",
             "linecolor": "white",
             "minorgridcolor": "white",
             "startlinecolor": "#2a3f5f"
            },
            "baxis": {
             "endlinecolor": "#2a3f5f",
             "gridcolor": "white",
             "linecolor": "white",
             "minorgridcolor": "white",
             "startlinecolor": "#2a3f5f"
            },
            "type": "carpet"
           }
          ],
          "table": [
           {
            "cells": {
             "fill": {
              "color": "#EBF0F8"
             },
             "line": {
              "color": "white"
             }
            },
            "header": {
             "fill": {
              "color": "#C8D4E3"
             },
             "line": {
              "color": "white"
             }
            },
            "type": "table"
           }
          ],
          "barpolar": [
           {
            "marker": {
             "line": {
              "color": "#E5ECF6",
              "width": 0.5
             },
             "pattern": {
              "fillmode": "overlay",
              "size": 10,
              "solidity": 0.2
             }
            },
            "type": "barpolar"
           }
          ],
          "pie": [
           {
            "automargin": true,
            "type": "pie"
           }
          ]
         },
         "layout": {
          "autotypenumbers": "strict",
          "colorway": [
           "#636efa",
           "#EF553B",
           "#00cc96",
           "#ab63fa",
           "#FFA15A",
           "#19d3f3",
           "#FF6692",
           "#B6E880",
           "#FF97FF",
           "#FECB52"
          ],
          "font": {
           "color": "#2a3f5f"
          },
          "hovermode": "closest",
          "hoverlabel": {
           "align": "left"
          },
          "paper_bgcolor": "white",
          "plot_bgcolor": "#E5ECF6",
          "polar": {
           "bgcolor": "#E5ECF6",
           "angularaxis": {
            "gridcolor": "white",
            "linecolor": "white",
            "ticks": ""
           },
           "radialaxis": {
            "gridcolor": "white",
            "linecolor": "white",
            "ticks": ""
           }
          },
          "ternary": {
           "bgcolor": "#E5ECF6",
           "aaxis": {
            "gridcolor": "white",
            "linecolor": "white",
            "ticks": ""
           },
           "baxis": {
            "gridcolor": "white",
            "linecolor": "white",
            "ticks": ""
           },
           "caxis": {
            "gridcolor": "white",
            "linecolor": "white",
            "ticks": ""
           }
          },
          "coloraxis": {
           "colorbar": {
            "outlinewidth": 0,
            "ticks": ""
           }
          },
          "colorscale": {
           "sequential": [
            [
             0.0,
             "#0d0887"
            ],
            [
             0.1111111111111111,
             "#46039f"
            ],
            [
             0.2222222222222222,
             "#7201a8"
            ],
            [
             0.3333333333333333,
             "#9c179e"
            ],
            [
             0.4444444444444444,
             "#bd3786"
            ],
            [
             0.5555555555555556,
             "#d8576b"
            ],
            [
             0.6666666666666666,
             "#ed7953"
            ],
            [
             0.7777777777777778,
             "#fb9f3a"
            ],
            [
             0.8888888888888888,
             "#fdca26"
            ],
            [
             1.0,
             "#f0f921"
            ]
           ],
           "sequentialminus": [
            [
             0.0,
             "#0d0887"
            ],
            [
             0.1111111111111111,
             "#46039f"
            ],
            [
             0.2222222222222222,
             "#7201a8"
            ],
            [
             0.3333333333333333,
             "#9c179e"
            ],
            [
             0.4444444444444444,
             "#bd3786"
            ],
            [
             0.5555555555555556,
             "#d8576b"
            ],
            [
             0.6666666666666666,
             "#ed7953"
            ],
            [
             0.7777777777777778,
             "#fb9f3a"
            ],
            [
             0.8888888888888888,
             "#fdca26"
            ],
            [
             1.0,
             "#f0f921"
            ]
           ],
           "diverging": [
            [
             0,
             "#8e0152"
            ],
            [
             0.1,
             "#c51b7d"
            ],
            [
             0.2,
             "#de77ae"
            ],
            [
             0.3,
             "#f1b6da"
            ],
            [
             0.4,
             "#fde0ef"
            ],
            [
             0.5,
             "#f7f7f7"
            ],
            [
             0.6,
             "#e6f5d0"
            ],
            [
             0.7,
             "#b8e186"
            ],
            [
             0.8,
             "#7fbc41"
            ],
            [
             0.9,
             "#4d9221"
            ],
            [
             1,
             "#276419"
            ]
           ]
          },
          "xaxis": {
           "gridcolor": "white",
           "linecolor": "white",
           "ticks": "",
           "title": {
            "standoff": 15
           },
           "zerolinecolor": "white",
           "automargin": true,
           "zerolinewidth": 2
          },
          "yaxis": {
           "gridcolor": "white",
           "linecolor": "white",
           "ticks": "",
           "title": {
            "standoff": 15
           },
           "zerolinecolor": "white",
           "automargin": true,
           "zerolinewidth": 2
          },
          "scene": {
           "xaxis": {
            "backgroundcolor": "#E5ECF6",
            "gridcolor": "white",
            "linecolor": "white",
            "showbackground": true,
            "ticks": "",
            "zerolinecolor": "white",
            "gridwidth": 2
           },
           "yaxis": {
            "backgroundcolor": "#E5ECF6",
            "gridcolor": "white",
            "linecolor": "white",
            "showbackground": true,
            "ticks": "",
            "zerolinecolor": "white",
            "gridwidth": 2
           },
           "zaxis": {
            "backgroundcolor": "#E5ECF6",
            "gridcolor": "white",
            "linecolor": "white",
            "showbackground": true,
            "ticks": "",
            "zerolinecolor": "white",
            "gridwidth": 2
           }
          },
          "shapedefaults": {
           "line": {
            "color": "#2a3f5f"
           }
          },
          "annotationdefaults": {
           "arrowcolor": "#2a3f5f",
           "arrowhead": 0,
           "arrowwidth": 1
          },
          "geo": {
           "bgcolor": "white",
           "landcolor": "#E5ECF6",
           "subunitcolor": "white",
           "showland": true,
           "showlakes": true,
           "lakecolor": "white"
          },
          "title": {
           "x": 0.05
          },
          "mapbox": {
           "style": "light"
          }
         }
        },
        "xaxis": {
         "anchor": "y",
         "domain": [
          0.0,
          1.0
         ],
         "title": {
          "text": "Num classes"
         }
        },
        "yaxis": {
         "anchor": "x",
         "domain": [
          0.0,
          1.0
         ],
         "title": {
          "text": "Value"
         }
        },
        "legend": {
         "title": {
          "text": "Algo."
         },
         "tracegroupgap": 0
        },
        "title": {
         "text": "Loss"
        }
       },
       "config": {
        "plotlyServerURL": "https://plot.ly"
       }
      },
      "text/html": "<div>                            <div id=\"8bdf84f9-dbfa-4954-9454-ed75dc86615b\" class=\"plotly-graph-div\" style=\"height:525px; width:100%;\"></div>            <script type=\"text/javascript\">                require([\"plotly\"], function(Plotly) {                    window.PLOTLYENV=window.PLOTLYENV || {};                                    if (document.getElementById(\"8bdf84f9-dbfa-4954-9454-ed75dc86615b\")) {                    Plotly.newPlot(                        \"8bdf84f9-dbfa-4954-9454-ed75dc86615b\",                        [{\"hovertemplate\":\"Algo.=Naive<br>Num classes=%{x}<br>Value=%{y}<extra></extra>\",\"legendgroup\":\"Naive\",\"line\":{\"color\":\"#636efa\",\"dash\":\"solid\"},\"marker\":{\"symbol\":\"circle\"},\"mode\":\"lines\",\"name\":\"Naive\",\"orientation\":\"v\",\"showlegend\":true,\"x\":[2,4,6,8,10,12,14,16,18,20],\"xaxis\":\"x\",\"y\":[0.7688295990228653,12.85469315201044,20.81732978920142,20.911019150167704,24.779240912199022,30.488832644031692,33.525126001398476,26.86351663991809,25.533809366739458,30.504309025406837],\"yaxis\":\"y\",\"type\":\"scatter\"},{\"hovertemplate\":\"Algo.=ER-1000<br>Num classes=%{x}<br>Value=%{y}<extra></extra>\",\"legendgroup\":\"ER-1000\",\"line\":{\"color\":\"#EF553B\",\"dash\":\"solid\"},\"marker\":{\"symbol\":\"circle\"},\"mode\":\"lines\",\"name\":\"ER-1000\",\"orientation\":\"v\",\"showlegend\":true,\"x\":[2,4,6,8,10,12,14,16,18,20],\"xaxis\":\"x\",\"y\":[0.6734009832143784,3.3520695567131042,7.116531779368718,8.981884598731995,9.585365343093873,10.244957365095615,9.928345245974404,12.315305639058352,11.833768159151077,14.848361441493035],\"yaxis\":\"y\",\"type\":\"scatter\"},{\"hovertemplate\":\"Algo.=ER-5000<br>Num classes=%{x}<br>Value=%{y}<extra></extra>\",\"legendgroup\":\"ER-5000\",\"line\":{\"color\":\"#00cc96\",\"dash\":\"solid\"},\"marker\":{\"symbol\":\"circle\"},\"mode\":\"lines\",\"name\":\"ER-5000\",\"orientation\":\"v\",\"showlegend\":true,\"x\":[2,4,6,8,10,12,14,16,18,20],\"xaxis\":\"x\",\"y\":[0.6734009832143784,4.043731600046158,4.374542514483134,5.812861204147339,6.096344399452209,6.229446510473887,9.009892372148377,8.164483726024628,7.950130530529552,9.917822283506393],\"yaxis\":\"y\",\"type\":\"scatter\"},{\"hovertemplate\":\"Algo.=LwF<br>Num classes=%{x}<br>Value=%{y}<extra></extra>\",\"legendgroup\":\"LwF\",\"line\":{\"color\":\"#ab63fa\",\"dash\":\"solid\"},\"marker\":{\"symbol\":\"circle\"},\"mode\":\"lines\",\"name\":\"LwF\",\"orientation\":\"v\",\"showlegend\":true,\"x\":[2,4,6,8,10,12,14,16,18,20],\"xaxis\":\"x\",\"y\":[0.7688295990228653,7.0272264033555984,12.792644947767258,15.302468355745077,18.927348190546034,19.981253845617175,30.757104758705413,25.28140541166067,24.308500225345295,32.213524878025055],\"yaxis\":\"y\",\"type\":\"scatter\"},{\"hovertemplate\":\"Algo.=GEM<br>Num classes=%{x}<br>Value=%{y}<extra></extra>\",\"legendgroup\":\"GEM\",\"line\":{\"color\":\"#FFA15A\",\"dash\":\"solid\"},\"marker\":{\"symbol\":\"circle\"},\"mode\":\"lines\",\"name\":\"GEM\",\"orientation\":\"v\",\"showlegend\":true,\"x\":[2,4,6,8,10,12,14,16,18,20],\"xaxis\":\"x\",\"y\":[0.6734009832143784,2.1894447058439255,8.716310362021128,5.902040466666222,6.931861859560013,7.113099699219068,8.460080363920756,8.283611670136452,12.54451272274471,9.447628697752952],\"yaxis\":\"y\",\"type\":\"scatter\"}],                        {\"template\":{\"data\":{\"histogram2dcontour\":[{\"type\":\"histogram2dcontour\",\"colorbar\":{\"outlinewidth\":0,\"ticks\":\"\"},\"colorscale\":[[0.0,\"#0d0887\"],[0.1111111111111111,\"#46039f\"],[0.2222222222222222,\"#7201a8\"],[0.3333333333333333,\"#9c179e\"],[0.4444444444444444,\"#bd3786\"],[0.5555555555555556,\"#d8576b\"],[0.6666666666666666,\"#ed7953\"],[0.7777777777777778,\"#fb9f3a\"],[0.8888888888888888,\"#fdca26\"],[1.0,\"#f0f921\"]]}],\"choropleth\":[{\"type\":\"choropleth\",\"colorbar\":{\"outlinewidth\":0,\"ticks\":\"\"}}],\"histogram2d\":[{\"type\":\"histogram2d\",\"colorbar\":{\"outlinewidth\":0,\"ticks\":\"\"},\"colorscale\":[[0.0,\"#0d0887\"],[0.1111111111111111,\"#46039f\"],[0.2222222222222222,\"#7201a8\"],[0.3333333333333333,\"#9c179e\"],[0.4444444444444444,\"#bd3786\"],[0.5555555555555556,\"#d8576b\"],[0.6666666666666666,\"#ed7953\"],[0.7777777777777778,\"#fb9f3a\"],[0.8888888888888888,\"#fdca26\"],[1.0,\"#f0f921\"]]}],\"heatmap\":[{\"type\":\"heatmap\",\"colorbar\":{\"outlinewidth\":0,\"ticks\":\"\"},\"colorscale\":[[0.0,\"#0d0887\"],[0.1111111111111111,\"#46039f\"],[0.2222222222222222,\"#7201a8\"],[0.3333333333333333,\"#9c179e\"],[0.4444444444444444,\"#bd3786\"],[0.5555555555555556,\"#d8576b\"],[0.6666666666666666,\"#ed7953\"],[0.7777777777777778,\"#fb9f3a\"],[0.8888888888888888,\"#fdca26\"],[1.0,\"#f0f921\"]]}],\"heatmapgl\":[{\"type\":\"heatmapgl\",\"colorbar\":{\"outlinewidth\":0,\"ticks\":\"\"},\"colorscale\":[[0.0,\"#0d0887\"],[0.1111111111111111,\"#46039f\"],[0.2222222222222222,\"#7201a8\"],[0.3333333333333333,\"#9c179e\"],[0.4444444444444444,\"#bd3786\"],[0.5555555555555556,\"#d8576b\"],[0.6666666666666666,\"#ed7953\"],[0.7777777777777778,\"#fb9f3a\"],[0.8888888888888888,\"#fdca26\"],[1.0,\"#f0f921\"]]}],\"contourcarpet\":[{\"type\":\"contourcarpet\",\"colorbar\":{\"outlinewidth\":0,\"ticks\":\"\"}}],\"contour\":[{\"type\":\"contour\",\"colorbar\":{\"outlinewidth\":0,\"ticks\":\"\"},\"colorscale\":[[0.0,\"#0d0887\"],[0.1111111111111111,\"#46039f\"],[0.2222222222222222,\"#7201a8\"],[0.3333333333333333,\"#9c179e\"],[0.4444444444444444,\"#bd3786\"],[0.5555555555555556,\"#d8576b\"],[0.6666666666666666,\"#ed7953\"],[0.7777777777777778,\"#fb9f3a\"],[0.8888888888888888,\"#fdca26\"],[1.0,\"#f0f921\"]]}],\"surface\":[{\"type\":\"surface\",\"colorbar\":{\"outlinewidth\":0,\"ticks\":\"\"},\"colorscale\":[[0.0,\"#0d0887\"],[0.1111111111111111,\"#46039f\"],[0.2222222222222222,\"#7201a8\"],[0.3333333333333333,\"#9c179e\"],[0.4444444444444444,\"#bd3786\"],[0.5555555555555556,\"#d8576b\"],[0.6666666666666666,\"#ed7953\"],[0.7777777777777778,\"#fb9f3a\"],[0.8888888888888888,\"#fdca26\"],[1.0,\"#f0f921\"]]}],\"mesh3d\":[{\"type\":\"mesh3d\",\"colorbar\":{\"outlinewidth\":0,\"ticks\":\"\"}}],\"scatter\":[{\"fillpattern\":{\"fillmode\":\"overlay\",\"size\":10,\"solidity\":0.2},\"type\":\"scatter\"}],\"parcoords\":[{\"type\":\"parcoords\",\"line\":{\"colorbar\":{\"outlinewidth\":0,\"ticks\":\"\"}}}],\"scatterpolargl\":[{\"type\":\"scatterpolargl\",\"marker\":{\"colorbar\":{\"outlinewidth\":0,\"ticks\":\"\"}}}],\"bar\":[{\"error_x\":{\"color\":\"#2a3f5f\"},\"error_y\":{\"color\":\"#2a3f5f\"},\"marker\":{\"line\":{\"color\":\"#E5ECF6\",\"width\":0.5},\"pattern\":{\"fillmode\":\"overlay\",\"size\":10,\"solidity\":0.2}},\"type\":\"bar\"}],\"scattergeo\":[{\"type\":\"scattergeo\",\"marker\":{\"colorbar\":{\"outlinewidth\":0,\"ticks\":\"\"}}}],\"scatterpolar\":[{\"type\":\"scatterpolar\",\"marker\":{\"colorbar\":{\"outlinewidth\":0,\"ticks\":\"\"}}}],\"histogram\":[{\"marker\":{\"pattern\":{\"fillmode\":\"overlay\",\"size\":10,\"solidity\":0.2}},\"type\":\"histogram\"}],\"scattergl\":[{\"type\":\"scattergl\",\"marker\":{\"colorbar\":{\"outlinewidth\":0,\"ticks\":\"\"}}}],\"scatter3d\":[{\"type\":\"scatter3d\",\"line\":{\"colorbar\":{\"outlinewidth\":0,\"ticks\":\"\"}},\"marker\":{\"colorbar\":{\"outlinewidth\":0,\"ticks\":\"\"}}}],\"scattermapbox\":[{\"type\":\"scattermapbox\",\"marker\":{\"colorbar\":{\"outlinewidth\":0,\"ticks\":\"\"}}}],\"scatterternary\":[{\"type\":\"scatterternary\",\"marker\":{\"colorbar\":{\"outlinewidth\":0,\"ticks\":\"\"}}}],\"scattercarpet\":[{\"type\":\"scattercarpet\",\"marker\":{\"colorbar\":{\"outlinewidth\":0,\"ticks\":\"\"}}}],\"carpet\":[{\"aaxis\":{\"endlinecolor\":\"#2a3f5f\",\"gridcolor\":\"white\",\"linecolor\":\"white\",\"minorgridcolor\":\"white\",\"startlinecolor\":\"#2a3f5f\"},\"baxis\":{\"endlinecolor\":\"#2a3f5f\",\"gridcolor\":\"white\",\"linecolor\":\"white\",\"minorgridcolor\":\"white\",\"startlinecolor\":\"#2a3f5f\"},\"type\":\"carpet\"}],\"table\":[{\"cells\":{\"fill\":{\"color\":\"#EBF0F8\"},\"line\":{\"color\":\"white\"}},\"header\":{\"fill\":{\"color\":\"#C8D4E3\"},\"line\":{\"color\":\"white\"}},\"type\":\"table\"}],\"barpolar\":[{\"marker\":{\"line\":{\"color\":\"#E5ECF6\",\"width\":0.5},\"pattern\":{\"fillmode\":\"overlay\",\"size\":10,\"solidity\":0.2}},\"type\":\"barpolar\"}],\"pie\":[{\"automargin\":true,\"type\":\"pie\"}]},\"layout\":{\"autotypenumbers\":\"strict\",\"colorway\":[\"#636efa\",\"#EF553B\",\"#00cc96\",\"#ab63fa\",\"#FFA15A\",\"#19d3f3\",\"#FF6692\",\"#B6E880\",\"#FF97FF\",\"#FECB52\"],\"font\":{\"color\":\"#2a3f5f\"},\"hovermode\":\"closest\",\"hoverlabel\":{\"align\":\"left\"},\"paper_bgcolor\":\"white\",\"plot_bgcolor\":\"#E5ECF6\",\"polar\":{\"bgcolor\":\"#E5ECF6\",\"angularaxis\":{\"gridcolor\":\"white\",\"linecolor\":\"white\",\"ticks\":\"\"},\"radialaxis\":{\"gridcolor\":\"white\",\"linecolor\":\"white\",\"ticks\":\"\"}},\"ternary\":{\"bgcolor\":\"#E5ECF6\",\"aaxis\":{\"gridcolor\":\"white\",\"linecolor\":\"white\",\"ticks\":\"\"},\"baxis\":{\"gridcolor\":\"white\",\"linecolor\":\"white\",\"ticks\":\"\"},\"caxis\":{\"gridcolor\":\"white\",\"linecolor\":\"white\",\"ticks\":\"\"}},\"coloraxis\":{\"colorbar\":{\"outlinewidth\":0,\"ticks\":\"\"}},\"colorscale\":{\"sequential\":[[0.0,\"#0d0887\"],[0.1111111111111111,\"#46039f\"],[0.2222222222222222,\"#7201a8\"],[0.3333333333333333,\"#9c179e\"],[0.4444444444444444,\"#bd3786\"],[0.5555555555555556,\"#d8576b\"],[0.6666666666666666,\"#ed7953\"],[0.7777777777777778,\"#fb9f3a\"],[0.8888888888888888,\"#fdca26\"],[1.0,\"#f0f921\"]],\"sequentialminus\":[[0.0,\"#0d0887\"],[0.1111111111111111,\"#46039f\"],[0.2222222222222222,\"#7201a8\"],[0.3333333333333333,\"#9c179e\"],[0.4444444444444444,\"#bd3786\"],[0.5555555555555556,\"#d8576b\"],[0.6666666666666666,\"#ed7953\"],[0.7777777777777778,\"#fb9f3a\"],[0.8888888888888888,\"#fdca26\"],[1.0,\"#f0f921\"]],\"diverging\":[[0,\"#8e0152\"],[0.1,\"#c51b7d\"],[0.2,\"#de77ae\"],[0.3,\"#f1b6da\"],[0.4,\"#fde0ef\"],[0.5,\"#f7f7f7\"],[0.6,\"#e6f5d0\"],[0.7,\"#b8e186\"],[0.8,\"#7fbc41\"],[0.9,\"#4d9221\"],[1,\"#276419\"]]},\"xaxis\":{\"gridcolor\":\"white\",\"linecolor\":\"white\",\"ticks\":\"\",\"title\":{\"standoff\":15},\"zerolinecolor\":\"white\",\"automargin\":true,\"zerolinewidth\":2},\"yaxis\":{\"gridcolor\":\"white\",\"linecolor\":\"white\",\"ticks\":\"\",\"title\":{\"standoff\":15},\"zerolinecolor\":\"white\",\"automargin\":true,\"zerolinewidth\":2},\"scene\":{\"xaxis\":{\"backgroundcolor\":\"#E5ECF6\",\"gridcolor\":\"white\",\"linecolor\":\"white\",\"showbackground\":true,\"ticks\":\"\",\"zerolinecolor\":\"white\",\"gridwidth\":2},\"yaxis\":{\"backgroundcolor\":\"#E5ECF6\",\"gridcolor\":\"white\",\"linecolor\":\"white\",\"showbackground\":true,\"ticks\":\"\",\"zerolinecolor\":\"white\",\"gridwidth\":2},\"zaxis\":{\"backgroundcolor\":\"#E5ECF6\",\"gridcolor\":\"white\",\"linecolor\":\"white\",\"showbackground\":true,\"ticks\":\"\",\"zerolinecolor\":\"white\",\"gridwidth\":2}},\"shapedefaults\":{\"line\":{\"color\":\"#2a3f5f\"}},\"annotationdefaults\":{\"arrowcolor\":\"#2a3f5f\",\"arrowhead\":0,\"arrowwidth\":1},\"geo\":{\"bgcolor\":\"white\",\"landcolor\":\"#E5ECF6\",\"subunitcolor\":\"white\",\"showland\":true,\"showlakes\":true,\"lakecolor\":\"white\"},\"title\":{\"x\":0.05},\"mapbox\":{\"style\":\"light\"}}},\"xaxis\":{\"anchor\":\"y\",\"domain\":[0.0,1.0],\"title\":{\"text\":\"Num classes\"}},\"yaxis\":{\"anchor\":\"x\",\"domain\":[0.0,1.0],\"title\":{\"text\":\"Value\"}},\"legend\":{\"title\":{\"text\":\"Algo.\"},\"tracegroupgap\":0},\"title\":{\"text\":\"Loss\"}},                        {\"responsive\": true}                    ).then(function(){\n                            \nvar gd = document.getElementById('8bdf84f9-dbfa-4954-9454-ed75dc86615b');\nvar x = new MutationObserver(function (mutations, observer) {{\n        var display = window.getComputedStyle(gd).display;\n        if (!display || display === 'none') {{\n            console.log([gd, 'removed!']);\n            Plotly.purge(gd);\n            observer.disconnect();\n        }}\n}});\n\n// Listen for the removal of the full notebook cells\nvar notebookContainer = gd.closest('#notebook-container');\nif (notebookContainer) {{\n    x.observe(notebookContainer, {childList: true});\n}}\n\n// Listen for the clearing of the current output cell\nvar outputEl = gd.closest('.output');\nif (outputEl) {{\n    x.observe(outputEl, {childList: true});\n}}\n\n                        })                };                });            </script>        </div>"
     },
     "metadata": {},
     "output_type": "display_data"
    }
   ],
   "source": [
    "collected_data = []\n",
    "for idx in range(len(exp_names)):\n",
    "    collected_data.append(pd.DataFrame({'Num classes': np.arange(2, 21, 2), 'Algo.': dsp_names[idx], 'Type': 'Loss', 'Value': all_losses[idx]}))\n",
    "\n",
    "\n",
    "collected_data = pd.concat(collected_data, ignore_index=True)\n",
    "\n",
    "fig = px.line(collected_data, x=\"Num classes\", y=\"Value\", color=\"Algo.\", title='Loss')\n",
    "fig.show()\n",
    "# write_image(fig, experiment_name, \"train.png\")"
   ],
   "metadata": {
    "collapsed": false,
    "pycharm": {
     "name": "#%%\n"
    }
   }
  },
  {
   "cell_type": "markdown",
   "source": [
    "# Show Novel and Non-novel Testing Results"
   ],
   "metadata": {
    "collapsed": false
   }
  },
  {
   "cell_type": "code",
   "execution_count": 40,
   "outputs": [],
   "source": [
    "\n",
    "# exp_name = 'Naive-lr0_005'       # nc-\n",
    "# exp_name = 'ER-lr0_01-m1000'\n",
    "# exp_name = 'LwF-lr0_005-a11-t2'\n",
    "exp_name = 'GEM-lr0_01-p32-m0_5'        # GEM-lr0_01-p32-m0_5 color-GEM-lr0_01-p32-m0_3\n",
    "\n",
    "# test_case_name = 'Novel-{}'.format(exp_name)\n",
    "# test_case_name = 'Non-novel-{}'.format(exp_name)\n",
    "# test_case_name = 'Novel-{}-frz'.format(exp_name)\n",
    "test_case_name = 'Non-novel-{}-frz'.format(exp_name)\n",
    "# test_case_name = 'Novel-{}-lm'.format(exp_name)\n",
    "# test_case_name = 'Novel-{}-frz-lm'.format(exp_name)"
   ],
   "metadata": {
    "collapsed": false,
    "pycharm": {
     "name": "#%%\n"
    }
   }
  },
  {
   "cell_type": "code",
   "execution_count": 41,
   "outputs": [],
   "source": [
    "results = np.load(os.path.join('../../avalanche-experiments', project_name, exp_name, f'results-{test_case_name}.npy'), allow_pickle=True)"
   ],
   "metadata": {
    "collapsed": false,
    "pycharm": {
     "name": "#%%\n"
    }
   }
  },
  {
   "cell_type": "code",
   "execution_count": 42,
   "outputs": [
    {
     "name": "stdout",
     "output_type": "stream",
     "text": [
      "[0.45, 0.53, 0.4, 0.41, 0.49, 0.61, 0.39, 0.51, 0.57, 0.44, 0.48, 0.57, 0.66, 0.53, 0.55, 0.53, 0.6, 0.5, 0.6, 0.37, 0.54, 0.55, 0.4, 0.48, 0.51, 0.48, 0.56, 0.42, 0.47, 0.44, 0.42, 0.6, 0.52, 0.34, 0.63, 0.51, 0.35, 0.62, 0.5, 0.58, 0.53, 0.61, 0.52, 0.46, 0.47, 0.48, 0.56, 0.52, 0.36, 0.58, 0.4, 0.46, 0.41, 0.55, 0.42, 0.46, 0.56, 0.44, 0.53, 0.5, 0.59, 0.41, 0.49, 0.52, 0.39, 0.48, 0.46, 0.43, 0.37, 0.5, 0.4, 0.46, 0.53, 0.46, 0.41, 0.29, 0.49, 0.49, 0.45, 0.32, 0.48, 0.38, 0.48, 0.47, 0.45, 0.69, 0.44, 0.5, 0.59, 0.48, 0.48, 0.35, 0.53, 0.44, 0.53, 0.53, 0.42, 0.64, 0.52, 0.44, 0.55, 0.36, 0.64, 0.61, 0.65, 0.44, 0.47, 0.47, 0.49, 0.5, 0.43, 0.58, 0.5, 0.46, 0.54, 0.55, 0.49, 0.47, 0.64, 0.5, 0.46, 0.5, 0.49, 0.46, 0.3, 0.58, 0.55, 0.49, 0.63, 0.58, 0.43, 0.35, 0.39, 0.59, 0.45, 0.49, 0.57, 0.38, 0.55, 0.47, 0.58, 0.38, 0.52, 0.45, 0.51, 0.48, 0.37, 0.52, 0.63, 0.58, 0.51, 0.54, 0.59, 0.4, 0.45, 0.44, 0.36, 0.44, 0.41, 0.58, 0.4, 0.5, 0.53, 0.53, 0.59, 0.49, 0.39, 0.52, 0.49, 0.5, 0.33, 0.53, 0.49, 0.7, 0.38, 0.63, 0.63, 0.63, 0.4, 0.43, 0.53, 0.44, 0.47, 0.52, 0.39, 0.46, 0.49, 0.68, 0.52, 0.73, 0.46, 0.5, 0.37, 0.5, 0.66, 0.43, 0.61, 0.7, 0.46, 0.52, 0.39, 0.49, 0.65, 0.55, 0.61, 0.7, 0.47, 0.43, 0.53, 0.6, 0.51, 0.5, 0.58, 0.51, 0.46, 0.35, 0.46, 0.47, 0.64, 0.46, 0.47, 0.45, 0.5, 0.64, 0.55, 0.55, 0.36, 0.61, 0.42, 0.51, 0.63, 0.37, 0.52, 0.41, 0.56, 0.46, 0.49, 0.59, 0.62, 0.52, 0.52, 0.6, 0.46, 0.5, 0.38, 0.52, 0.5, 0.45, 0.52, 0.6, 0.49, 0.66, 0.54, 0.38, 0.59, 0.45, 0.47, 0.44, 0.46, 0.43, 0.48, 0.5, 0.69, 0.53, 0.75, 0.56, 0.52, 0.39, 0.34, 0.53, 0.44, 0.4, 0.55, 0.46, 0.55, 0.32, 0.6, 0.47, 0.54, 0.46, 0.4, 0.33, 0.45, 0.47, 0.56, 0.46, 0.52, 0.49, 0.45, 0.45, 0.46, 0.44, 0.53, 0.44, 0.74, 0.54, 0.61, 0.45, 0.43, 0.61]\n"
     ]
    }
   ],
   "source": [
    "'''Test acc'''\n",
    "accs = [result['Top1_Acc_Stream/eval_phase/test_stream/Task000'] for result in results]\n",
    "print(accs)"
   ],
   "metadata": {
    "collapsed": false,
    "pycharm": {
     "name": "#%%\n"
    }
   }
  },
  {
   "cell_type": "code",
   "execution_count": 43,
   "outputs": [
    {
     "name": "stdout",
     "output_type": "stream",
     "text": [
      "49.83% (8.51%)\n"
     ]
    }
   ],
   "source": [
    "print(f'{np.mean(accs)*100:.2f}% ({np.std(accs)*100:.2f}%)')"
   ],
   "metadata": {
    "collapsed": false,
    "pycharm": {
     "name": "#%%\n"
    }
   }
  },
  {
   "cell_type": "markdown",
   "source": [
    "# Show Hyper-Parameter Tuning Results"
   ],
   "metadata": {
    "collapsed": false
   }
  },
  {
   "cell_type": "code",
   "execution_count": 33,
   "outputs": [],
   "source": [
    "def display_results(exp_name, test_case_name):\n",
    "    print(f'{exp_name}, {test_case_name}:')\n",
    "    if os.path.exists(os.path.join('../../avalanche-experiments', project_name, exp_name, f'results-{test_case_name}.npy')):\n",
    "        results = np.load(os.path.join('../../avalanche-experiments', project_name, exp_name, f'results-{test_case_name}.npy'), allow_pickle=True)\n",
    "    else:\n",
    "        print(f'results-{test_case_name}.npy does not exist.')\n",
    "        return\n",
    "    accs = [result['Top1_Acc_Stream/eval_phase/test_stream/Task000'] for result in results]\n",
    "    print(f'==> {accs}')\n",
    "    print(f'==> {np.mean(accs)*100:.2f}% ({np.std(accs)*100:.2f}%)')"
   ],
   "metadata": {
    "collapsed": false,
    "pycharm": {
     "name": "#%%\n"
    }
   }
  },
  {
   "cell_type": "code",
   "execution_count": 5,
   "outputs": [
    {
     "name": "stdout",
     "output_type": "stream",
     "text": [
      "color-Naive-lr0_001, color-Naive-lr0_001:\n",
      "==> [0.97, 0.48, 0.30333333333333334, 0.2375, 0.178, 0.16, 0.13428571428571429, 0.10625, 0.10333333333333333, 0.092]\n",
      "==> 27.65% (25.71%)\n",
      "color-Naive-lr0_005, color-Naive-lr0_005:\n",
      "==> [0.98, 0.475, 0.3, 0.24, 0.174, 0.15, 0.14, 0.11125, 0.10666666666666667, 0.093]\n",
      "==> 27.70% (25.91%)\n",
      "color-Naive-lr0_01, color-Naive-lr0_01:\n",
      "==> [0.96, 0.465, 0.30666666666666664, 0.2425, 0.172, 0.145, 0.13714285714285715, 0.115, 0.10333333333333333, 0.091]\n",
      "==> 27.38% (25.35%)\n",
      "color-Naive-lr0_05, color-Naive-lr0_05:\n",
      "==> [0.95, 0.47, 0.30333333333333334, 0.245, 0.168, 0.16, 0.13857142857142857, 0.10875, 0.09888888888888889, 0.092]\n",
      "==> 27.35% (25.11%)\n",
      "color-Naive-lr0_1, color-Naive-lr0_1:\n",
      "==> [0.98, 0.47, 0.31, 0.2375, 0.162, 0.15333333333333332, 0.14, 0.1075, 0.09888888888888889, 0.091]\n",
      "==> 27.50% (26.01%)\n"
     ]
    }
   ],
   "source": [
    "exp_names = [\n",
    "    'Naive-lr0_001', 'Naive-lr0_005', 'Naive-lr0_01', 'Naive-lr0_05', 'Naive-lr0_1',\n",
    "]\n",
    "exp_names = [f'color-{exp_names[i]}' for i in range(len(exp_names))]\n",
    "\n",
    "for exp_name in exp_names:\n",
    "    display_results(exp_name, exp_name)"
   ],
   "metadata": {
    "collapsed": false,
    "pycharm": {
     "name": "#%%\n"
    }
   }
  },
  {
   "cell_type": "code",
   "execution_count": 37,
   "outputs": [
    {
     "name": "stdout",
     "output_type": "stream",
     "text": [
      "color-ER-lr0_001-m100, color-ER-lr0_001-m100:\n",
      "==> [0.97, 0.695, 0.45666666666666667, 0.2925, 0.222, 0.18, 0.15428571428571428, 0.125, 0.11333333333333333, 0.094]\n",
      "==> 33.03% (27.75%)\n",
      "color-ER-lr0_01-m100, color-ER-lr0_01-m100:\n",
      "==> [0.96, 0.71, 0.4633333333333333, 0.3025, 0.24, 0.175, 0.16857142857142857, 0.13625, 0.12333333333333334, 0.092]\n",
      "==> 33.71% (27.47%)\n",
      "color-ER-lr0_1-m100, color-ER-lr0_1-m100:\n",
      "==> [0.98, 0.635, 0.37333333333333335, 0.285, 0.23, 0.20333333333333334, 0.16142857142857142, 0.13, 0.12222222222222222, 0.095]\n",
      "==> 32.15% (26.68%)\n",
      "color-ER-lr0_001-m500, color-ER-lr0_001-m500:\n",
      "==> [0.97, 0.805, 0.6, 0.33, 0.362, 0.3016666666666667, 0.21285714285714286, 0.1775, 0.18777777777777777, 0.109]\n",
      "==> 40.56% (27.55%)\n",
      "color-ER-lr0_01-m500, color-ER-lr0_01-m500:\n",
      "==> [0.96, 0.78, 0.61, 0.3775, 0.36, 0.36666666666666664, 0.23714285714285716, 0.21, 0.1988888888888889, 0.127]\n",
      "==> 42.27% (26.03%)\n",
      "color-ER-lr0_1-m500, color-ER-lr0_1-m500:\n",
      "results-color-ER-lr0_1-m500.npy does not exist.\n",
      "color-ER-lr0_001-m1000, color-ER-lr0_001-m1000:\n",
      "results-color-ER-lr0_001-m1000.npy does not exist.\n",
      "color-ER-lr0_01-m1000, color-ER-lr0_01-m1000:\n",
      "results-color-ER-lr0_01-m1000.npy does not exist.\n",
      "color-ER-lr0_1-m1000, color-ER-lr0_1-m1000:\n",
      "results-color-ER-lr0_1-m1000.npy does not exist.\n",
      "color-ER-lr0_001-m5000, color-ER-lr0_001-m5000:\n",
      "results-color-ER-lr0_001-m5000.npy does not exist.\n",
      "color-ER-lr0_01-m5000, color-ER-lr0_01-m5000:\n",
      "results-color-ER-lr0_01-m5000.npy does not exist.\n",
      "color-ER-lr0_1-m5000, color-ER-lr0_1-m5000:\n",
      "results-color-ER-lr0_1-m5000.npy does not exist.\n"
     ]
    }
   ],
   "source": [
    "exp_names = [\n",
    "    'ER-lr0_001-m100', 'ER-lr0_01-m100', 'ER-lr0_1-m100',\n",
    "    'ER-lr0_001-m500', 'ER-lr0_01-m500', 'ER-lr0_1-m500',\n",
    "    'ER-lr0_001-m1000', 'ER-lr0_01-m1000', 'ER-lr0_1-m1000',\n",
    "    'ER-lr0_001-m5000', 'ER-lr0_01-m5000', 'ER-lr0_1-m5000',\n",
    "]\n",
    "exp_names = [f'color-{exp_names[i]}' for i in range(len(exp_names))]\n",
    "\n",
    "for exp_name in exp_names:\n",
    "    display_results(exp_name, exp_name)"
   ],
   "metadata": {
    "collapsed": false,
    "pycharm": {
     "name": "#%%\n"
    }
   }
  },
  {
   "cell_type": "code",
   "execution_count": 38,
   "outputs": [
    {
     "name": "stdout",
     "output_type": "stream",
     "text": [
      "color-LwF-lr0_001-a9-t2, color-LwF-lr0_001-a9-t2:\n",
      "==> [0.97, 0.445, 0.3, 0.24, 0.162, 0.15, 0.13857142857142857, 0.10875, 0.10555555555555556, 0.093]\n",
      "==> 27.13% (25.50%)\n",
      "color-LwF-lr0_005-a9-t2, color-LwF-lr0_005-a9-t2:\n",
      "==> [0.98, 0.445, 0.3, 0.2375, 0.178, 0.15166666666666667, 0.14142857142857143, 0.11125, 0.10444444444444445, 0.094]\n",
      "==> 27.43% (25.67%)\n",
      "color-LwF-lr0_01-a9-t2, color-LwF-lr0_01-a9-t2:\n",
      "results-color-LwF-lr0_01-a9-t2.npy does not exist.\n",
      "color-LwF-lr0_05-a9-t2, color-LwF-lr0_05-a9-t2:\n",
      "results-color-LwF-lr0_05-a9-t2.npy does not exist.\n",
      "color-LwF-lr0_1-a9-t2, color-LwF-lr0_1-a9-t2:\n",
      "results-color-LwF-lr0_1-a9-t2.npy does not exist.\n",
      "color-LwF-lr0_001-a11-t2, color-LwF-lr0_001-a11-t2:\n",
      "==> [0.97, 0.435, 0.30333333333333334, 0.2425, 0.164, 0.15833333333333333, 0.13857142857142857, 0.1075, 0.10555555555555556, 0.093]\n",
      "==> 27.18% (25.39%)\n",
      "color-LwF-lr0_005-a11-t2, color-LwF-lr0_005-a11-t2:\n",
      "results-color-LwF-lr0_005-a11-t2.npy does not exist.\n",
      "color-LwF-lr0_01-a11-t2, color-LwF-lr0_01-a11-t2:\n",
      "results-color-LwF-lr0_01-a11-t2.npy does not exist.\n",
      "color-LwF-lr0_05-a11-t2, color-LwF-lr0_05-a11-t2:\n",
      "results-color-LwF-lr0_05-a11-t2.npy does not exist.\n",
      "color-LwF-lr0_1-a11-t2, color-LwF-lr0_1-a11-t2:\n",
      "results-color-LwF-lr0_1-a11-t2.npy does not exist.\n"
     ]
    }
   ],
   "source": [
    "exp_names = [\n",
    "    'LwF-lr0_001-a9-t2', 'LwF-lr0_005-a9-t2', 'LwF-lr0_01-a9-t2', 'LwF-lr0_05-a9-t2',  'LwF-lr0_1-a9-t2',\n",
    "    # 'LwF-lr0_001-a10-t2', 'LwF-lr0_005-a10-t2', 'LwF-lr0_01-a10-t2', 'LwF-lr0_05-a10-t2',  'LwF-lr0_1-a10-t2',\n",
    "    'LwF-lr0_001-a11-t2', 'LwF-lr0_005-a11-t2', 'LwF-lr0_01-a11-t2', 'LwF-lr0_05-a11-t2',  'LwF-lr0_1-a11-t2',\n",
    "]\n",
    "# exp_names = [\n",
    "#     'LwF-lr0_005-a5-t1','LwF-lr0_005-a10-t1', 'LwF-lr0_005-a15-t1', 'LwF-lr0_005-a20-t1', 'LwF-lr0_005-a25-t1',\n",
    "#     'LwF-lr0_005-a5-t2','LwF-lr0_005-a10-t2', 'LwF-lr0_005-a15-t2', 'LwF-lr0_005-a20-t2', 'LwF-lr0_005-a25-t2',\n",
    "#     'LwF-lr0_005-a5-t3','LwF-lr0_005-a10-t3', 'LwF-lr0_005-a15-t3', 'LwF-lr0_005-a20-t3', 'LwF-lr0_005-a25-t3',\n",
    "#     'LwF-lr0_005-a5-t4','LwF-lr0_005-a10-t4', 'LwF-lr0_005-a15-t4', 'LwF-lr0_005-a20-t4', 'LwF-lr0_005-a25-t4',\n",
    "#     'LwF-lr0_005-a5-t5','LwF-lr0_005-a10-t5', 'LwF-lr0_005-a15-t5', 'LwF-lr0_005-a20-t5', 'LwF-lr0_005-a25-t5',\n",
    "# ]\n",
    "exp_names = [f'color-{exp_names[i]}' for i in range(len(exp_names))]\n",
    "\n",
    "for exp_name in exp_names:\n",
    "    display_results(exp_name, exp_name)"
   ],
   "metadata": {
    "collapsed": false,
    "pycharm": {
     "name": "#%%\n"
    }
   }
  },
  {
   "cell_type": "code",
   "execution_count": 39,
   "outputs": [
    {
     "name": "stdout",
     "output_type": "stream",
     "text": [
      "color-GEM-lr0_01-p16-m0_3, color-GEM-lr0_01-p16-m0_3:\n",
      "==> [0.96, 0.515, 0.35, 0.2675, 0.152, 0.19666666666666666, 0.15285714285714286, 0.12, 0.11, 0.104]\n",
      "==> 29.28% (25.42%)\n",
      "color-GEM-lr0_01-p32-m0_3, color-GEM-lr0_01-p32-m0_3:\n",
      "==> [0.96, 0.585, 0.41, 0.2725, 0.204, 0.225, 0.17714285714285713, 0.12625, 0.12, 0.102]\n",
      "==> 31.82% (25.65%)\n",
      "color-GEM-lr0_01-p16-m0_5, color-GEM-lr0_01-p16-m0_5:\n",
      "==> [0.96, 0.49, 0.31, 0.2775, 0.154, 0.14666666666666667, 0.14142857142857143, 0.115, 0.12111111111111111, 0.089]\n",
      "==> 28.05% (25.48%)\n",
      "color-GEM-lr0_01-p32-m0_5, color-GEM-lr0_01-p32-m0_5:\n",
      "results-color-GEM-lr0_01-p32-m0_5.npy does not exist.\n",
      "color-GEM-lr0_1-p16-m0_3, color-GEM-lr0_1-p16-m0_3:\n",
      "results-color-GEM-lr0_1-p16-m0_3.npy does not exist.\n",
      "color-GEM-lr0_1-p32-m0_3, color-GEM-lr0_1-p32-m0_3:\n",
      "results-color-GEM-lr0_1-p32-m0_3.npy does not exist.\n",
      "color-GEM-lr0_1-p16-m0_5, color-GEM-lr0_1-p16-m0_5:\n",
      "results-color-GEM-lr0_1-p16-m0_5.npy does not exist.\n",
      "color-GEM-lr0_1-p32-m0_5, color-GEM-lr0_1-p32-m0_5:\n",
      "results-color-GEM-lr0_1-p32-m0_5.npy does not exist.\n"
     ]
    }
   ],
   "source": [
    "exp_names = [\n",
    "    'GEM-lr0_01-p16-m0_3', 'GEM-lr0_01-p32-m0_3',\n",
    "    'GEM-lr0_01-p16-m0_5', 'GEM-lr0_01-p32-m0_5',\n",
    "\n",
    "    'GEM-lr0_1-p16-m0_3', 'GEM-lr0_1-p32-m0_3',\n",
    "    'GEM-lr0_1-p16-m0_5', 'GEM-lr0_1-p32-m0_5',\n",
    "]\n",
    "exp_names = [f'color-{exp_names[i]}' for i in range(len(exp_names))]\n",
    "\n",
    "for exp_name in exp_names:\n",
    "    display_results(exp_name, exp_name)"
   ],
   "metadata": {
    "collapsed": false,
    "pycharm": {
     "name": "#%%\n"
    }
   }
  },
  {
   "cell_type": "markdown",
   "source": [
    "# Show baseline results: with/without frozen feature extractor"
   ],
   "metadata": {
    "collapsed": false,
    "pycharm": {
     "name": "#%% md\n"
    }
   }
  },
  {
   "cell_type": "code",
   "execution_count": 23,
   "outputs": [],
   "source": [
    "# x = ['sys', 'pro', 'sub', 'non', 'noc']\n",
    "# methods = [r'Finetune$\\dagger$', r'Finetune', r'ER$\\dagger$', r'ER', r'GEM$\\dagger$', r'GEM', r'LwF$\\dagger$', r'LwF', r'EWC$\\dagger$', r'EWC', ]\n",
    "\n",
    "'''Multi-head'''\n",
    "data = []\n",
    "r'Finetune$\\dagger$'\n",
    "data.append(pd.DataFrame({\n",
    "    'Method': r'Finetune$\\dagger$',\n",
    "    'Case': 'sys',\n",
    "    'Accuracy': [0.68, 0.67, 0.59, 0.54, 0.65, 0.58, 0.57, 0.58, 0.54, 0.58, 0.66, 0.6, 0.46, 0.48, 0.6, 0.51, 0.71, 0.68, 0.6, 0.51, 0.51, 0.61, 0.64, 0.63, 0.45, 0.57, 0.75, 0.61, 0.59, 0.61, 0.59, 0.51, 0.56, 0.62, 0.61, 0.57, 0.65, 0.58, 0.65, 0.57, 0.45, 0.56, 0.64, 0.53, 0.55, 0.7, 0.64, 0.55, 0.61, 0.52, 0.55, 0.71, 0.63, 0.61, 0.58, 0.63, 0.66, 0.58, 0.62, 0.63, 0.64, 0.55, 0.47, 0.64, 0.71, 0.61, 0.59, 0.61, 0.59, 0.48, 0.63, 0.68, 0.52, 0.59, 0.59, 0.64, 0.61, 0.51, 0.58, 0.75, 0.47, 0.63, 0.49, 0.5, 0.51, 0.62, 0.67, 0.67, 0.65, 0.61, 0.47, 0.65, 0.53, 0.52, 0.67, 0.7, 0.56, 0.62, 0.5, 0.53, 0.54, 0.58, 0.58, 0.52, 0.57, 0.66, 0.65, 0.68, 0.57, 0.51, 0.5, 0.69, 0.65, 0.6, 0.65, 0.61, 0.61, 0.44, 0.69, 0.54, 0.57, 0.63, 0.46, 0.69, 0.59, 0.5, 0.58, 0.65, 0.53, 0.67, 0.66, 0.64, 0.65, 0.53, 0.51, 0.51, 0.51, 0.6, 0.6, 0.59, 0.58, 0.59, 0.65, 0.54, 0.64, 0.58, 0.6, 0.54, 0.53, 0.5, 0.57, 0.6, 0.59, 0.57, 0.48, 0.57, 0.64, 0.57, 0.55, 0.5, 0.7, 0.66, 0.51, 0.67, 0.68, 0.54, 0.57, 0.6, 0.66, 0.72, 0.61, 0.56, 0.49, 0.66, 0.65, 0.69, 0.62, 0.67, 0.55, 0.5, 0.64, 0.65, 0.62, 0.7, 0.64, 0.53, 0.71, 0.62, 0.7, 0.48, 0.51, 0.6, 0.46, 0.73, 0.57, 0.56, 0.69, 0.54, 0.55, 0.45, 0.59, 0.82, 0.66, 0.61, 0.65, 0.49, 0.59, 0.53, 0.58, 0.64, 0.47, 0.63, 0.65, 0.58, 0.46, 0.63, 0.68, 0.64, 0.63, 0.57, 0.6, 0.6, 0.58, 0.58, 0.56, 0.66, 0.62, 0.62, 0.51, 0.5, 0.56, 0.54, 0.69, 0.51, 0.65, 0.59, 0.67, 0.55, 0.62, 0.55, 0.67, 0.59, 0.64, 0.59, 0.48, 0.64, 0.55, 0.53, 0.49, 0.41, 0.59, 0.49, 0.48, 0.6, 0.61, 0.64, 0.71, 0.61, 0.56, 0.53, 0.65, 0.58, 0.59, 0.51, 0.58, 0.62, 0.65, 0.7, 0.52, 0.4, 0.54, 0.63, 0.51, 0.68, 0.6, 0.63, 0.64, 0.58, 0.5, 0.57, 0.51, 0.62, 0.62, 0.67, 0.5, 0.57, 0.65, 0.6, 0.66, 0.53, 0.71, 0.53, 0.56, 0.55, 0.64, 0.59, 0.63, 0.47, 0.62, 0.52]\n",
    "}))\n",
    "data.append(pd.DataFrame({\n",
    "    'Method': r'Finetune$\\dagger$',\n",
    "    'Case': 'pro',\n",
    "    'Accuracy': [0.65, 0.61, 0.6, 0.67, 0.73, 0.7, 0.67, 0.64, 0.67, 0.76, 0.55, 0.64, 0.77, 0.62, 0.63, 0.63, 0.61, 0.74, 0.66, 0.52, 0.66, 0.65, 0.71, 0.72, 0.53, 0.55, 0.52, 0.73, 0.72, 0.56, 0.62, 0.55, 0.58, 0.75, 0.63, 0.69, 0.58, 0.61, 0.7, 0.74, 0.74, 0.68, 0.67, 0.67, 0.6, 0.62, 0.68, 0.7, 0.65, 0.46, 0.64, 0.69, 0.6, 0.66, 0.69, 0.75, 0.74, 0.64, 0.62, 0.66, 0.63, 0.76, 0.65, 0.71, 0.75, 0.64, 0.61, 0.63, 0.58, 0.66, 0.67, 0.62, 0.74, 0.64, 0.66, 0.71, 0.68, 0.71, 0.69, 0.71, 0.6, 0.7, 0.65, 0.67, 0.63, 0.65, 0.62, 0.66, 0.71, 0.6, 0.72, 0.61, 0.67, 0.66, 0.66, 0.57, 0.65, 0.59, 0.71, 0.67, 0.66, 0.56, 0.72, 0.67, 0.75, 0.6, 0.64, 0.69, 0.61, 0.6, 0.66, 0.69, 0.67, 0.58, 0.69, 0.67, 0.61, 0.7, 0.61, 0.67, 0.65, 0.72, 0.65, 0.71, 0.63, 0.72, 0.67, 0.67, 0.71, 0.67, 0.61, 0.56, 0.75, 0.66, 0.61, 0.49, 0.65, 0.61, 0.63, 0.47, 0.64, 0.68, 0.63, 0.65, 0.71, 0.59, 0.66, 0.63, 0.67, 0.64, 0.54, 0.68, 0.59, 0.71, 0.69, 0.72, 0.66, 0.63, 0.56, 0.48, 0.55, 0.58, 0.71, 0.75, 0.72, 0.61, 0.66, 0.6, 0.59, 0.63, 0.69, 0.65, 0.75, 0.71, 0.6, 0.73, 0.59, 0.63, 0.64, 0.62, 0.7, 0.7, 0.75, 0.74, 0.67, 0.6, 0.63, 0.53, 0.6, 0.66, 0.57, 0.68, 0.73, 0.67, 0.63, 0.66, 0.6, 0.59, 0.72, 0.6, 0.63, 0.72, 0.6, 0.77, 0.63, 0.65, 0.69, 0.56, 0.57, 0.65, 0.64, 0.7, 0.61, 0.51, 0.59, 0.56, 0.65, 0.68, 0.69, 0.61, 0.65, 0.6, 0.68, 0.61, 0.62, 0.66, 0.76, 0.63, 0.54, 0.64, 0.63, 0.54, 0.59, 0.68, 0.57, 0.68, 0.72, 0.68, 0.62, 0.66, 0.7, 0.54, 0.71, 0.73, 0.69, 0.56, 0.69, 0.71, 0.65, 0.63, 0.7, 0.67, 0.65, 0.6, 0.62, 0.61, 0.63, 0.66, 0.57, 0.68, 0.64, 0.6, 0.59, 0.58, 0.69, 0.64, 0.57, 0.76, 0.65, 0.75, 0.73, 0.6, 0.62, 0.58, 0.67, 0.62, 0.66, 0.54, 0.67, 0.66, 0.65, 0.54, 0.58, 0.56, 0.57, 0.63, 0.68, 0.7, 0.62, 0.72, 0.64, 0.66, 0.64, 0.67, 0.64, 0.63, 0.57, 0.57, 0.64, 0.6]\n",
    "}))\n",
    "data.append(pd.DataFrame({\n",
    "    'Method': r'Finetune$\\dagger$',\n",
    "    'Case': 'sub',\n",
    "    'Accuracy': [0.65, 0.6, 0.57, 0.45, 0.72, 0.63, 0.71, 0.68, 0.57, 0.46, 0.57, 0.67, 0.62, 0.59, 0.5, 0.69, 0.52, 0.47, 0.57, 0.58, 0.64, 0.57, 0.58, 0.6, 0.67, 0.68, 0.52, 0.64, 0.63, 0.63, 0.6, 0.5, 0.62, 0.66, 0.64, 0.56, 0.6, 0.58, 0.63, 0.47, 0.49, 0.55, 0.46, 0.58, 0.7, 0.58, 0.49, 0.55, 0.61, 0.55, 0.58, 0.63, 0.65, 0.47, 0.44, 0.56, 0.48, 0.61, 0.51, 0.57, 0.62, 0.58, 0.57, 0.6, 0.44, 0.54, 0.54, 0.55, 0.65, 0.54, 0.64, 0.5, 0.56, 0.53, 0.48, 0.55, 0.42, 0.49, 0.56, 0.52, 0.62, 0.45, 0.5, 0.55, 0.56, 0.51, 0.6, 0.44, 0.69, 0.54, 0.57, 0.59, 0.57, 0.49, 0.54, 0.63, 0.66, 0.57, 0.67, 0.53, 0.54, 0.59, 0.56, 0.63, 0.52, 0.53, 0.62, 0.53, 0.65, 0.56, 0.56, 0.5, 0.61, 0.64, 0.5, 0.59, 0.54, 0.52, 0.65, 0.63, 0.51, 0.52, 0.59, 0.51, 0.51, 0.56, 0.7, 0.77, 0.53, 0.64, 0.47, 0.56, 0.43, 0.56, 0.67, 0.61, 0.59, 0.49, 0.51, 0.6, 0.64, 0.48, 0.68, 0.61, 0.58, 0.62, 0.52, 0.54, 0.47, 0.6, 0.52, 0.56, 0.69, 0.61, 0.58, 0.53, 0.61, 0.5, 0.72, 0.65, 0.68, 0.47, 0.65, 0.54, 0.57, 0.43, 0.63, 0.58, 0.66, 0.63, 0.48, 0.56, 0.56, 0.55, 0.52, 0.55, 0.6, 0.55, 0.6, 0.58, 0.64, 0.48, 0.6, 0.52, 0.41, 0.63, 0.55, 0.59, 0.61, 0.49, 0.56, 0.49, 0.62, 0.57, 0.51, 0.59, 0.43, 0.42, 0.59, 0.49, 0.7, 0.64, 0.56, 0.6, 0.65, 0.54, 0.51, 0.51, 0.62, 0.69, 0.44, 0.47, 0.55, 0.4200000000000001, 0.53, 0.56, 0.6, 0.71, 0.52, 0.52, 0.53, 0.49, 0.64, 0.44, 0.5, 0.57, 0.56, 0.61, 0.65, 0.54, 0.69, 0.64, 0.55, 0.62, 0.5, 0.52, 0.39, 0.54, 0.52, 0.63, 0.61, 0.43, 0.46, 0.58, 0.5, 0.5, 0.6, 0.55, 0.66, 0.53, 0.48, 0.58, 0.65, 0.61, 0.55, 0.54, 0.57, 0.56, 0.58, 0.53, 0.56, 0.61, 0.61, 0.48, 0.49, 0.53, 0.65, 0.54, 0.59, 0.54, 0.51, 0.56, 0.64, 0.51, 0.66, 0.46, 0.64, 0.52, 0.56, 0.6, 0.46, 0.57, 0.56, 0.59, 0.57, 0.57, 0.63, 0.63, 0.74, 0.57, 0.48, 0.61, 0.49, 0.59, 0.61, 0.51, 0.51, 0.61, 0.69, 0.52]\n",
    "}))\n",
    "data.append(pd.DataFrame({\n",
    "    'Method': r'Finetune$\\dagger$',\n",
    "    'Case': 'non',\n",
    "    'Accuracy': [0.5, 0.68, 0.68, 0.53, 0.59, 0.63, 0.62, 0.53, 0.63, 0.58, 0.58, 0.59, 0.74, 0.55, 0.5, 0.56, 0.68, 0.57, 0.68, 0.56, 0.63, 0.59, 0.43, 0.44, 0.51, 0.73, 0.55, 0.58, 0.5, 0.66, 0.61, 0.47, 0.51, 0.56, 0.64, 0.61, 0.68, 0.51, 0.62, 0.49, 0.55, 0.57, 0.42, 0.69, 0.72, 0.55, 0.47, 0.58, 0.5, 0.66, 0.65, 0.55, 0.6, 0.53, 0.54, 0.63, 0.58, 0.55, 0.53, 0.52, 0.54, 0.65, 0.66, 0.64, 0.58, 0.57, 0.53, 0.58, 0.67, 0.54, 0.65, 0.48, 0.49, 0.51, 0.56, 0.6, 0.33, 0.62, 0.64, 0.54, 0.72, 0.51, 0.63, 0.56, 0.53, 0.47, 0.59, 0.66, 0.62, 0.61, 0.66, 0.62, 0.42, 0.49, 0.6, 0.52, 0.59, 0.53, 0.59, 0.41, 0.61, 0.65, 0.63, 0.68, 0.59, 0.56, 0.63, 0.5, 0.56, 0.59, 0.53, 0.51, 0.66, 0.42, 0.55, 0.62, 0.5, 0.61, 0.65, 0.54, 0.61, 0.55, 0.63, 0.6, 0.47, 0.56, 0.65, 0.78, 0.71, 0.57, 0.47, 0.57, 0.49, 0.57, 0.72, 0.67, 0.44, 0.4, 0.55, 0.72, 0.59, 0.49, 0.6, 0.56, 0.64, 0.62, 0.57, 0.61, 0.52, 0.48, 0.52, 0.56, 0.72, 0.58, 0.6, 0.61, 0.67, 0.51, 0.6, 0.53, 0.55, 0.55, 0.5, 0.54, 0.53, 0.57, 0.6, 0.58, 0.59, 0.63, 0.62, 0.58, 0.49, 0.56, 0.56, 0.42, 0.69, 0.61, 0.63, 0.54, 0.64, 0.52, 0.51, 0.37, 0.46, 0.43, 0.64, 0.59, 0.59, 0.47, 0.6, 0.55, 0.62, 0.55, 0.55, 0.57, 0.64, 0.56, 0.49, 0.63, 0.59, 0.63, 0.55, 0.52, 0.53, 0.63, 0.76, 0.55, 0.68, 0.64, 0.5, 0.48, 0.71, 0.58, 0.53, 0.63, 0.45, 0.7, 0.57, 0.61, 0.44, 0.55, 0.6, 0.44, 0.53, 0.67, 0.65, 0.61, 0.67, 0.51, 0.52, 0.56, 0.68, 0.69, 0.52, 0.48, 0.43, 0.5, 0.47, 0.57, 0.56, 0.55, 0.52, 0.56, 0.57, 0.5, 0.52, 0.76, 0.68, 0.64, 0.61, 0.45, 0.6, 0.62, 0.61, 0.56, 0.59, 0.53, 0.6, 0.73, 0.64, 0.66, 0.59, 0.57, 0.66, 0.52, 0.53, 0.49, 0.55, 0.53, 0.52, 0.58, 0.57, 0.54, 0.48, 0.66, 0.44, 0.47, 0.7, 0.61, 0.6, 0.74, 0.58, 0.57, 0.66, 0.54, 0.52, 0.56, 0.61, 0.57, 0.56, 0.65, 0.6, 0.5, 0.66, 0.66, 0.59, 0.64, 0.57, 0.68]\n",
    "}))\n",
    "data.append(pd.DataFrame({\n",
    "    'Method': r'Finetune$\\dagger$',\n",
    "    'Case': 'noc',\n",
    "    'Accuracy': [0.44, 0.44, 0.37, 0.4, 0.37, 0.34, 0.51, 0.32, 0.52, 0.43, 0.47, 0.48, 0.3, 0.2, 0.4, 0.54, 0.44, 0.45, 0.3, 0.48, 0.36, 0.34, 0.27, 0.46, 0.35, 0.45, 0.41, 0.37, 0.28, 0.4, 0.41, 0.48, 0.44, 0.37, 0.35, 0.44, 0.46, 0.4, 0.26, 0.42, 0.44, 0.47, 0.27, 0.36, 0.29, 0.42, 0.49, 0.23, 0.56, 0.39, 0.43, 0.35, 0.51, 0.33, 0.39, 0.44, 0.5, 0.39, 0.31, 0.28, 0.38, 0.44, 0.43, 0.36, 0.5, 0.4, 0.37, 0.46, 0.41, 0.44, 0.48, 0.35, 0.43, 0.34, 0.41, 0.45, 0.41, 0.4, 0.37, 0.25, 0.54, 0.48, 0.33, 0.33, 0.43, 0.29, 0.47, 0.4, 0.56, 0.28, 0.28, 0.38, 0.45, 0.33, 0.45, 0.37, 0.34, 0.33, 0.33, 0.46, 0.39, 0.24, 0.36, 0.43, 0.33, 0.35, 0.27, 0.29, 0.38, 0.45, 0.6, 0.5, 0.3, 0.23, 0.35, 0.35, 0.34, 0.48, 0.34, 0.41, 0.58, 0.45, 0.33, 0.37, 0.26, 0.35, 0.31, 0.4, 0.38, 0.58, 0.33, 0.32, 0.46, 0.31, 0.36, 0.37, 0.44, 0.45, 0.44, 0.42, 0.35, 0.38, 0.35, 0.4, 0.37, 0.34, 0.44, 0.5, 0.25, 0.41, 0.31, 0.38, 0.44, 0.28, 0.44, 0.5, 0.45, 0.43, 0.41, 0.49, 0.44, 0.46, 0.43, 0.33, 0.24, 0.34, 0.31, 0.32, 0.38, 0.33, 0.4, 0.54, 0.44, 0.37, 0.48, 0.44, 0.37, 0.34, 0.41, 0.42, 0.41, 0.45, 0.48, 0.42, 0.38, 0.39, 0.36, 0.27, 0.3, 0.43, 0.3, 0.37, 0.42, 0.44, 0.41, 0.3, 0.38, 0.3, 0.27, 0.52, 0.36, 0.34, 0.27, 0.45, 0.28, 0.3, 0.4, 0.42, 0.47, 0.4, 0.46, 0.3, 0.39, 0.45, 0.35, 0.47, 0.35, 0.42, 0.42, 0.31, 0.37, 0.41, 0.33, 0.42, 0.39, 0.3, 0.41, 0.41, 0.52, 0.35, 0.43, 0.28, 0.4, 0.41, 0.45, 0.39, 0.39, 0.39, 0.54, 0.36, 0.43, 0.29, 0.33, 0.25, 0.32, 0.4, 0.34, 0.38, 0.23, 0.3, 0.33, 0.42, 0.34, 0.6, 0.35, 0.55, 0.42, 0.36, 0.32, 0.32, 0.37, 0.33, 0.31, 0.33, 0.29, 0.38, 0.33, 0.39, 0.34, 0.41, 0.33, 0.37, 0.36, 0.49, 0.45, 0.25, 0.35, 0.48, 0.39, 0.38, 0.5, 0.28, 0.41, 0.39, 0.28, 0.31, 0.41, 0.41, 0.35, 0.4, 0.38, 0.37, 0.44, 0.36, 0.48, 0.48, 0.38, 0.27, 0.51, 0.44]\n",
    "}))\n",
    "r'Finetune'\n",
    "data.append(pd.DataFrame({\n",
    "    'Method': r'Finetune',\n",
    "    'Case': 'sys',\n",
    "    'Accuracy': [0.71, 0.74, 0.63, 0.61, 0.6, 0.61, 0.56, 0.57, 0.59, 0.61, 0.71, 0.6, 0.58, 0.56, 0.66, 0.62, 0.74, 0.69, 0.64, 0.59, 0.62, 0.66, 0.64, 0.72, 0.66, 0.75, 0.66, 0.67, 0.56, 0.7, 0.68, 0.68, 0.67, 0.64, 0.57, 0.62, 0.67, 0.61, 0.65, 0.74, 0.58, 0.63, 0.6, 0.64, 0.58, 0.7, 0.77, 0.6, 0.69, 0.51, 0.58, 0.65, 0.68, 0.61, 0.68, 0.64, 0.71, 0.61, 0.68, 0.71, 0.7, 0.62, 0.51, 0.71, 0.75, 0.65, 0.72, 0.62, 0.61, 0.62, 0.74, 0.54, 0.63, 0.69, 0.72, 0.78, 0.76, 0.64, 0.68, 0.7, 0.59, 0.69, 0.62, 0.63, 0.71, 0.68, 0.65, 0.69, 0.66, 0.71, 0.68, 0.7, 0.6, 0.73, 0.61, 0.66, 0.6, 0.71, 0.64, 0.56, 0.7, 0.58, 0.64, 0.59, 0.62, 0.67, 0.64, 0.7, 0.67, 0.59, 0.65, 0.72, 0.75, 0.71, 0.64, 0.6, 0.63, 0.56, 0.73, 0.64, 0.69, 0.71, 0.56, 0.63, 0.61, 0.63, 0.64, 0.66, 0.55, 0.62, 0.68, 0.71, 0.66, 0.68, 0.63, 0.66, 0.64, 0.68, 0.67, 0.64, 0.66, 0.69, 0.63, 0.71, 0.77, 0.71, 0.68, 0.62, 0.67, 0.56, 0.72, 0.66, 0.7, 0.68, 0.66, 0.67, 0.65, 0.66, 0.66, 0.59, 0.76, 0.72, 0.55, 0.62, 0.67, 0.68, 0.66, 0.59, 0.68, 0.73, 0.61, 0.69, 0.64, 0.6, 0.76, 0.69, 0.64, 0.62, 0.69, 0.65, 0.67, 0.63, 0.55, 0.75, 0.69, 0.62, 0.75, 0.76, 0.65, 0.73, 0.57, 0.53, 0.64, 0.64, 0.66, 0.7, 0.69, 0.52, 0.66, 0.59, 0.65, 0.79, 0.64, 0.66, 0.59, 0.57, 0.68, 0.61, 0.64, 0.69, 0.62, 0.68, 0.7, 0.7, 0.57, 0.7, 0.65, 0.65, 0.68, 0.64, 0.7, 0.55, 0.62, 0.64, 0.59, 0.71, 0.72, 0.71, 0.61, 0.6, 0.6, 0.61, 0.76, 0.6, 0.65, 0.6, 0.7, 0.62, 0.68, 0.66, 0.65, 0.73, 0.69, 0.64, 0.57, 0.65, 0.57, 0.65, 0.63, 0.61, 0.62, 0.59, 0.58, 0.65, 0.74, 0.71, 0.73, 0.61, 0.6, 0.65, 0.7, 0.64, 0.67, 0.63, 0.59, 0.68, 0.64, 0.65, 0.59, 0.6, 0.72, 0.64, 0.7, 0.67, 0.71, 0.68, 0.71, 0.66, 0.66, 0.67, 0.67, 0.67, 0.63, 0.68, 0.59, 0.65, 0.77, 0.72, 0.72, 0.61, 0.66, 0.59, 0.62, 0.56, 0.54, 0.71, 0.63, 0.6, 0.65, 0.6]\n",
    "}))\n",
    "data.append(pd.DataFrame({\n",
    "    'Method': r'Finetune',\n",
    "    'Case': 'pro',\n",
    "    'Accuracy': [0.7, 0.73, 0.66, 0.7, 0.72, 0.75, 0.68, 0.7, 0.72, 0.75, 0.6, 0.64, 0.73, 0.56, 0.73, 0.64, 0.58, 0.73, 0.67, 0.66, 0.7, 0.61, 0.67, 0.7, 0.54, 0.68, 0.59, 0.7, 0.79, 0.65, 0.69, 0.64, 0.64, 0.78, 0.65, 0.64, 0.62, 0.65, 0.77, 0.7, 0.68, 0.66, 0.71, 0.66, 0.64, 0.72, 0.66, 0.72, 0.7, 0.48, 0.71, 0.75, 0.65, 0.71, 0.6, 0.74, 0.77, 0.71, 0.68, 0.59, 0.67, 0.78, 0.63, 0.68, 0.72, 0.66, 0.71, 0.66, 0.57, 0.74, 0.73, 0.7, 0.75, 0.69, 0.72, 0.73, 0.67, 0.7, 0.65, 0.73, 0.66, 0.68, 0.68, 0.76, 0.66, 0.7, 0.65, 0.72, 0.67, 0.62, 0.71, 0.51, 0.69, 0.65, 0.71, 0.58, 0.75, 0.67, 0.73, 0.7, 0.66, 0.64, 0.7, 0.69, 0.77, 0.63, 0.7, 0.67, 0.67, 0.71, 0.75, 0.64, 0.74, 0.62, 0.68, 0.7, 0.71, 0.7, 0.61, 0.73, 0.63, 0.68, 0.71, 0.76, 0.62, 0.77, 0.71, 0.7, 0.67, 0.75, 0.67, 0.58, 0.66, 0.72, 0.66, 0.46, 0.7, 0.61, 0.63, 0.6, 0.65, 0.73, 0.69, 0.67, 0.74, 0.64, 0.68, 0.64, 0.7, 0.66, 0.65, 0.66, 0.67, 0.79, 0.66, 0.72, 0.69, 0.7, 0.66, 0.6, 0.58, 0.67, 0.71, 0.72, 0.71, 0.66, 0.68, 0.65, 0.75, 0.71, 0.7, 0.65, 0.76, 0.73, 0.68, 0.62, 0.68, 0.68, 0.69, 0.63, 0.67, 0.7, 0.72, 0.76, 0.59, 0.65, 0.67, 0.59, 0.64, 0.79, 0.68, 0.74, 0.74, 0.66, 0.61, 0.69, 0.61, 0.76, 0.72, 0.64, 0.59, 0.74, 0.63, 0.78, 0.68, 0.63, 0.71, 0.62, 0.6, 0.74, 0.6, 0.7, 0.61, 0.57, 0.68, 0.63, 0.64, 0.66, 0.7, 0.68, 0.68, 0.75, 0.69, 0.6, 0.68, 0.71, 0.79, 0.66, 0.58, 0.62, 0.64, 0.62, 0.63, 0.76, 0.61, 0.66, 0.69, 0.73, 0.6, 0.65, 0.73, 0.66, 0.73, 0.61, 0.63, 0.66, 0.65, 0.7, 0.67, 0.77, 0.64, 0.72, 0.7, 0.73, 0.57, 0.62, 0.71, 0.69, 0.54, 0.68, 0.64, 0.69, 0.67, 0.61, 0.61, 0.66, 0.67, 0.7, 0.67, 0.75, 0.69, 0.69, 0.7, 0.64, 0.72, 0.59, 0.6, 0.54, 0.68, 0.66, 0.6, 0.57, 0.7, 0.72, 0.67, 0.65, 0.7, 0.75, 0.56, 0.76, 0.68, 0.6, 0.68, 0.74, 0.7, 0.68, 0.67, 0.62, 0.67, 0.65]\n",
    "}))\n",
    "data.append(pd.DataFrame({\n",
    "    'Method': r'Finetune',\n",
    "    'Case': 'sub',\n",
    "    'Accuracy': [0.61, 0.71, 0.62, 0.49, 0.68, 0.67, 0.67, 0.67, 0.37, 0.5, 0.53, 0.62, 0.68, 0.62, 0.53, 0.65, 0.68, 0.52, 0.6, 0.68, 0.72, 0.63, 0.67, 0.52, 0.68, 0.74, 0.48, 0.69, 0.66, 0.67, 0.52, 0.5, 0.63, 0.68, 0.63, 0.7, 0.58, 0.58, 0.6, 0.47, 0.64, 0.57, 0.45, 0.59, 0.66, 0.45, 0.53, 0.52, 0.59, 0.63, 0.6, 0.64, 0.65, 0.53, 0.49, 0.69, 0.57, 0.6, 0.52, 0.66, 0.49, 0.64, 0.67, 0.65, 0.51, 0.69, 0.57, 0.62, 0.61, 0.6, 0.65, 0.56, 0.64, 0.62, 0.5, 0.6, 0.43, 0.54, 0.6, 0.6, 0.6, 0.6, 0.68, 0.64, 0.51, 0.51, 0.55, 0.68, 0.62, 0.59, 0.62, 0.62, 0.61, 0.54, 0.68, 0.58, 0.63, 0.59, 0.65, 0.54, 0.57, 0.57, 0.55, 0.61, 0.66, 0.54, 0.66, 0.56, 0.63, 0.57, 0.44, 0.58, 0.67, 0.63, 0.5, 0.62, 0.5, 0.54, 0.68, 0.61, 0.55, 0.61, 0.48, 0.63, 0.62, 0.66, 0.63, 0.68, 0.66, 0.65, 0.54, 0.62, 0.46, 0.56, 0.71, 0.61, 0.5, 0.45, 0.51, 0.59, 0.65, 0.53, 0.73, 0.6, 0.52, 0.58, 0.56, 0.58, 0.61, 0.66, 0.58, 0.63, 0.71, 0.6, 0.58, 0.66, 0.69, 0.46, 0.73, 0.67, 0.66, 0.58, 0.63, 0.56, 0.56, 0.56, 0.62, 0.69, 0.63, 0.46, 0.58, 0.58, 0.61, 0.65, 0.61, 0.57, 0.64, 0.6, 0.6, 0.56, 0.59, 0.53, 0.53, 0.5, 0.42, 0.67, 0.63, 0.6, 0.64, 0.63, 0.53, 0.66, 0.65, 0.54, 0.5, 0.71, 0.58, 0.47, 0.55, 0.58, 0.66, 0.49, 0.59, 0.64, 0.56, 0.59, 0.67, 0.47, 0.61, 0.64, 0.53, 0.55, 0.61, 0.55, 0.58, 0.61, 0.58, 0.68, 0.51, 0.58, 0.53, 0.56, 0.65, 0.45, 0.53, 0.61, 0.6, 0.58, 0.68, 0.58, 0.64, 0.61, 0.53, 0.64, 0.67, 0.69, 0.38, 0.56, 0.56, 0.61, 0.65, 0.64, 0.59, 0.5, 0.48, 0.58, 0.59, 0.66, 0.58, 0.71, 0.53, 0.57, 0.71, 0.57, 0.68, 0.62, 0.7, 0.65, 0.58, 0.65, 0.56, 0.64, 0.61, 0.56, 0.53, 0.6, 0.6, 0.55, 0.67, 0.67, 0.55, 0.6, 0.59, 0.62, 0.56, 0.51, 0.57, 0.48, 0.55, 0.63, 0.51, 0.58, 0.62, 0.59, 0.52, 0.61, 0.67, 0.59, 0.73, 0.67, 0.52, 0.7, 0.49, 0.57, 0.67, 0.67, 0.56, 0.64, 0.65, 0.63]\n",
    "}))\n",
    "data.append(pd.DataFrame({\n",
    "    'Method': r'Finetune',\n",
    "    'Case': 'non',\n",
    "    'Accuracy': [0.76, 0.8, 0.7, 0.61, 0.77, 0.71, 0.6, 0.75, 0.57, 0.64, 0.6, 0.72, 0.75, 0.64, 0.52, 0.63, 0.78, 0.59, 0.73, 0.67, 0.73, 0.66, 0.46, 0.47, 0.67, 0.7, 0.46, 0.65, 0.58, 0.74, 0.67, 0.56, 0.52, 0.72, 0.65, 0.59, 0.69, 0.48, 0.56, 0.57, 0.62, 0.6, 0.58, 0.68, 0.74, 0.7, 0.67, 0.64, 0.58, 0.77, 0.67, 0.63, 0.72, 0.5, 0.56, 0.63, 0.59, 0.67, 0.53, 0.67, 0.66, 0.73, 0.56, 0.69, 0.58, 0.7, 0.68, 0.62, 0.71, 0.47, 0.56, 0.59, 0.71, 0.64, 0.55, 0.65, 0.45, 0.53, 0.64, 0.68, 0.67, 0.66, 0.67, 0.61, 0.65, 0.57, 0.69, 0.67, 0.78, 0.74, 0.68, 0.69, 0.54, 0.63, 0.61, 0.64, 0.69, 0.68, 0.6, 0.66, 0.66, 0.71, 0.61, 0.73, 0.64, 0.56, 0.67, 0.6, 0.58, 0.66, 0.63, 0.67, 0.61, 0.58, 0.66, 0.66, 0.55, 0.68, 0.7, 0.6, 0.77, 0.6, 0.64, 0.65, 0.58, 0.55, 0.72, 0.73, 0.7, 0.56, 0.56, 0.51, 0.55, 0.56, 0.81, 0.71, 0.59, 0.6, 0.63, 0.74, 0.64, 0.52, 0.69, 0.59, 0.56, 0.63, 0.58, 0.65, 0.56, 0.59, 0.64, 0.69, 0.77, 0.59, 0.74, 0.7, 0.76, 0.67, 0.7, 0.66, 0.63, 0.76, 0.65, 0.56, 0.65, 0.56, 0.64, 0.63, 0.71, 0.75, 0.6, 0.59, 0.61, 0.58, 0.61, 0.58, 0.66, 0.67, 0.59, 0.67, 0.7, 0.62, 0.58, 0.53, 0.59, 0.54, 0.72, 0.68, 0.72, 0.62, 0.61, 0.65, 0.63, 0.57, 0.58, 0.52, 0.63, 0.59, 0.55, 0.61, 0.74, 0.54, 0.73, 0.66, 0.58, 0.67, 0.77, 0.54, 0.7, 0.69, 0.57, 0.64, 0.73, 0.66, 0.59, 0.54, 0.58, 0.79, 0.53, 0.77, 0.61, 0.72, 0.68, 0.57, 0.69, 0.68, 0.61, 0.68, 0.69, 0.59, 0.55, 0.59, 0.68, 0.67, 0.58, 0.6, 0.42, 0.61, 0.52, 0.68, 0.65, 0.63, 0.68, 0.69, 0.56, 0.65, 0.61, 0.74, 0.63, 0.71, 0.72, 0.63, 0.58, 0.63, 0.68, 0.63, 0.78, 0.61, 0.66, 0.83, 0.66, 0.68, 0.67, 0.68, 0.69, 0.61, 0.7, 0.69, 0.74, 0.63, 0.7, 0.61, 0.61, 0.63, 0.58, 0.64, 0.61, 0.58, 0.65, 0.7, 0.61, 0.69, 0.66, 0.72, 0.71, 0.68, 0.59, 0.6, 0.7, 0.65, 0.59, 0.6, 0.66, 0.65, 0.7, 0.73, 0.57, 0.67, 0.65, 0.68]\n",
    "}))\n",
    "data.append(pd.DataFrame({\n",
    "    'Method': r'Finetune',\n",
    "    'Case': 'noc',\n",
    "    'Accuracy': [0.42, 0.46, 0.32, 0.45, 0.31, 0.29, 0.47, 0.31, 0.39, 0.33, 0.51, 0.36, 0.45, 0.31, 0.52, 0.56, 0.36, 0.53, 0.4, 0.34, 0.4, 0.5, 0.36, 0.45, 0.42, 0.37, 0.44, 0.3, 0.4, 0.32, 0.4, 0.41, 0.46, 0.42, 0.18, 0.4, 0.37, 0.43, 0.28, 0.43, 0.41, 0.42, 0.33, 0.42, 0.46, 0.34, 0.5, 0.3, 0.55, 0.39, 0.48, 0.41, 0.54, 0.44, 0.3, 0.49, 0.34, 0.35, 0.32, 0.26, 0.36, 0.49, 0.37, 0.38, 0.45, 0.39, 0.37, 0.43, 0.34, 0.38, 0.44, 0.35, 0.36, 0.38, 0.43, 0.44, 0.38, 0.41, 0.33, 0.41, 0.47, 0.48, 0.27, 0.47, 0.52, 0.46, 0.46, 0.44, 0.52, 0.36, 0.36, 0.47, 0.3, 0.39, 0.33, 0.32, 0.36, 0.34, 0.37, 0.41, 0.46, 0.36, 0.29, 0.32, 0.29, 0.39, 0.27, 0.35, 0.32, 0.43, 0.4200000000000001, 0.33, 0.31, 0.24, 0.46, 0.28, 0.3, 0.35, 0.41, 0.41, 0.48, 0.49, 0.28, 0.5, 0.35, 0.46, 0.3, 0.47, 0.4, 0.58, 0.29, 0.3, 0.31, 0.41, 0.38, 0.38, 0.31, 0.35, 0.33, 0.3, 0.33, 0.38, 0.35, 0.31, 0.45, 0.41, 0.29, 0.42, 0.29, 0.53, 0.44, 0.38, 0.45, 0.36, 0.37, 0.54, 0.39, 0.45, 0.38, 0.34, 0.44, 0.4, 0.44, 0.31, 0.41, 0.27, 0.43, 0.3, 0.42, 0.36, 0.32, 0.45, 0.49, 0.47, 0.42, 0.39, 0.26, 0.49, 0.4, 0.45, 0.34, 0.38, 0.56, 0.39, 0.34, 0.34, 0.35, 0.24, 0.35, 0.44, 0.54, 0.51, 0.28, 0.38, 0.39, 0.36, 0.38, 0.47, 0.29, 0.47, 0.39, 0.35, 0.38, 0.35, 0.32, 0.31, 0.46, 0.32, 0.38, 0.35, 0.45, 0.33, 0.34, 0.36, 0.32, 0.35, 0.3, 0.42, 0.38, 0.25, 0.44, 0.39, 0.33, 0.35, 0.34, 0.29, 0.43, 0.41, 0.55, 0.37, 0.41, 0.4, 0.38, 0.38, 0.35, 0.33, 0.4, 0.46, 0.46, 0.42, 0.39,0.33, 0.39, 0.22, 0.39, 0.48, 0.35, 0.44, 0.27, 0.33, 0.38, 0.36, 0.31, 0.54, 0.37, 0.55, 0.53, 0.37, 0.33, 0.38, 0.37, 0.22, 0.3, 0.39, 0.32, 0.27, 0.3, 0.36, 0.39, 0.38, 0.36, 0.31, 0.37, 0.43, 0.4, 0.33, 0.32, 0.48, 0.51, 0.5, 0.51, 0.28, 0.4, 0.38, 0.42, 0.37, 0.3, 0.31, 0.32, 0.54, 0.41, 0.45, 0.43, 0.43, 0.35, 0.36, 0.33, 0.4, 0.4, 0.46]\n",
    "}))\n",
    "r'ER$\\dagger$'\n",
    "data.append(pd.DataFrame({\n",
    "    'Method': r'ER$\\dagger$',\n",
    "    'Case': 'sys',\n",
    "    'Accuracy': [0.16, 0.21, 0.17, 0.14, 0.14, 0.17, 0.2, 0.19, 0.17, 0.16, 0.16, 0.17, 0.18, 0.12, 0.13, 0.13, 0.24, 0.2, 0.14, 0.15, 0.14, 0.13, 0.16, 0.18, 0.21, 0.28, 0.17, 0.16, 0.21, 0.19, 0.14, 0.13, 0.09, 0.09, 0.18, 0.19, 0.16, 0.21, 0.2, 0.23, 0.16, 0.22, 0.15, 0.16, 0.1, 0.22, 0.22, 0.11, 0.12, 0.12, 0.17, 0.14, 0.15, 0.16, 0.17, 0.15, 0.08, 0.19, 0.16, 0.16, 0.12, 0.12, 0.15, 0.12, 0.17, 0.21, 0.07, 0.17, 0.12, 0.11, 0.2, 0.27, 0.15000000000000002, 0.19, 0.23, 0.11, 0.2, 0.16, 0.16, 0.14, 0.1, 0.19, 0.18, 0.12, 0.2, 0.15, 0.31000000000000005, 0.14, 0.15, 0.15, 0.16, 0.19, 0.23, 0.24, 0.12, 0.16, 0.14, 0.1, 0.13, 0.17, 0.17, 0.15, 0.16, 0.16, 0.13, 0.19, 0.16, 0.15000000000000002, 0.13, 0.13, 0.12, 0.19, 0.15, 0.17, 0.15, 0.2, 0.17, 0.11, 0.17, 0.13, 0.18, 0.14, 0.13, 0.15, 0.1, 0.18, 0.19, 0.19, 0.18, 0.14, 0.14, 0.21, 0.15, 0.26, 0.14, 0.18, 0.23, 0.13, 0.13, 0.14, 0.19, 0.17, 0.17, 0.21, 0.24, 0.23, 0.12, 0.21, 0.16, 0.13, 0.14, 0.12, 0.23, 0.12, 0.18, 0.16, 0.16, 0.17, 0.17, 0.08, 0.16, 0.14, 0.16, 0.15, 0.14, 0.16, 0.14, 0.23, 0.22, 0.24, 0.11, 0.1, 0.15, 0.15, 0.18, 0.15, 0.2, 0.13, 0.2, 0.11, 0.19, 0.2, 0.13, 0.19, 0.14, 0.09, 0.17, 0.14, 0.24, 0.09, 0.18, 0.15, 0.13, 0.11, 0.15, 0.18, 0.11, 0.15, 0.11, 0.13, 0.11, 0.14, 0.14, 0.2, 0.19, 0.12, 0.12, 0.14, 0.22, 0.19, 0.21, 0.14, 0.24, 0.2, 0.13, 0.15, 0.12, 0.12, 0.16, 0.13, 0.1, 0.09, 0.13, 0.28, 0.16, 0.17, 0.13, 0.14, 0.15, 0.07, 0.24, 0.2, 0.11, 0.17, 0.18, 0.17, 0.16, 0.21, 0.21, 0.16, 0.17, 0.25, 0.15, 0.17, 0.16, 0.16, 0.18, 0.14, 0.19, 0.14, 0.21, 0.17, 0.14, 0.14, 0.08, 0.18, 0.19, 0.16, 0.15, 0.22, 0.19, 0.26, 0.22, 0.18, 0.18, 0.14, 0.16, 0.16, 0.2, 0.08, 0.17, 0.16, 0.17, 0.18, 0.2, 0.2, 0.17, 0.2, 0.16, 0.13, 0.2, 0.21, 0.12, 0.22, 0.18, 0.16, 0.16, 0.11, 0.12, 0.11, 0.12, 0.14, 0.2, 0.17, 0.14, 0.13, 0.15, 0.15, 0.22, 0.16]\n",
    "}))\n",
    "data.append(pd.DataFrame({\n",
    "    'Method': r'ER$\\dagger$',\n",
    "    'Case': 'pro',\n",
    "    'Accuracy': [0.23, 0.23, 0.18, 0.24, 0.23, 0.19, 0.13, 0.24, 0.11, 0.13, 0.13, 0.16, 0.14, 0.19, 0.12, 0.23, 0.16, 0.12, 0.13, 0.15, 0.24, 0.11, 0.22, 0.15, 0.16, 0.12, 0.14, 0.22, 0.19, 0.1, 0.18, 0.11, 0.12, 0.14, 0.19, 0.14, 0.14, 0.21, 0.23, 0.15, 0.27, 0.17, 0.19, 0.16, 0.13, 0.11, 0.18, 0.21, 0.17, 0.15, 0.3, 0.16, 0.11, 0.22, 0.14, 0.15, 0.19, 0.12, 0.28, 0.17, 0.26, 0.13, 0.15, 0.16, 0.15, 0.15, 0.14, 0.22, 0.16, 0.22, 0.2, 0.15, 0.2, 0.2, 0.21, 0.24, 0.17, 0.24, 0.16, 0.21, 0.14, 0.17, 0.23, 0.19, 0.16, 0.17, 0.2, 0.24, 0.16, 0.15, 0.33, 0.17, 0.18, 0.19, 0.21, 0.17, 0.23, 0.25, 0.15, 0.28, 0.27, 0.17, 0.16, 0.24, 0.11, 0.2, 0.22, 0.15, 0.13, 0.31, 0.15, 0.23, 0.23, 0.17, 0.16, 0.23, 0.14, 0.16, 0.15, 0.15, 0.2, 0.14, 0.17, 0.2, 0.1, 0.23, 0.21, 0.16, 0.23, 0.16, 0.15, 0.15, 0.19, 0.29, 0.14, 0.16, 0.18, 0.18, 0.25, 0.17, 0.23, 0.24, 0.16, 0.22, 0.15, 0.15, 0.25, 0.19, 0.15, 0.18, 0.27, 0.14, 0.11, 0.2, 0.19, 0.13, 0.15, 0.18, 0.15, 0.17, 0.16, 0.25, 0.18, 0.22, 0.15, 0.15, 0.21000000000000005, 0.09, 0.26, 0.17, 0.15, 0.18, 0.19, 0.22, 0.2, 0.23, 0.16, 0.16, 0.19, 0.16, 0.27, 0.25, 0.3, 0.12, 0.25, 0.2, 0.15, 0.17, 0.16, 0.13, 0.3, 0.18, 0.2, 0.19, 0.18, 0.12, 0.16, 0.24, 0.3, 0.18, 0.15, 0.17, 0.19, 0.21000000000000005, 0.19, 0.17, 0.2, 0.24, 0.14, 0.26, 0.12, 0.25, 0.19, 0.11, 0.29, 0.22, 0.13, 0.13, 0.24, 0.22, 0.15000000000000002, 0.2, 0.21, 0.09, 0.18, 0.12, 0.16, 0.11, 0.2, 0.2, 0.13, 0.17, 0.14, 0.11, 0.25, 0.17, 0.13, 0.15, 0.17, 0.19, 0.16, 0.17, 0.18, 0.19, 0.19, 0.19, 0.2, 0.15, 0.16, 0.19, 0.14, 0.15, 0.12, 0.12, 0.15, 0.16, 0.16, 0.18, 0.25, 0.19, 0.12, 0.23, 0.16, 0.19, 0.14, 0.27, 0.16, 0.22, 0.15, 0.15, 0.14, 0.17, 0.17, 0.16, 0.17, 0.15, 0.24, 0.24, 0.19, 0.2, 0.15, 0.19, 0.15, 0.21, 0.14, 0.18, 0.1, 0.26, 0.22, 0.24, 0.17, 0.07, 0.19, 0.19, 0.14, 0.17, 0.2, 0.18, 0.21, 0.15]\n",
    "}))\n",
    "data.append(pd.DataFrame({\n",
    "    'Method': r'ER$\\dagger$',\n",
    "    'Case': 'sub',\n",
    "    'Accuracy': [0.13, 0.2, 0.15, 0.18, 0.15, 0.21, 0.13, 0.17, 0.13, 0.17, 0.11, 0.18, 0.18, 0.18, 0.17, 0.24, 0.1, 0.14, 0.2, 0.13, 0.2, 0.17, 0.26, 0.19, 0.18, 0.18, 0.17, 0.21, 0.1, 0.27, 0.14, 0.17, 0.09, 0.16, 0.12, 0.27, 0.14, 0.14, 0.15, 0.15, 0.25, 0.18, 0.13, 0.15, 0.14, 0.16, 0.16, 0.21, 0.11, 0.1, 0.17, 0.16, 0.18, 0.09, 0.12, 0.19, 0.26, 0.18, 0.16, 0.21, 0.1, 0.1, 0.11, 0.25, 0.2, 0.18, 0.2, 0.12, 0.16, 0.15, 0.17, 0.18, 0.14, 0.16, 0.13, 0.19, 0.12, 0.17, 0.14, 0.19, 0.15, 0.16, 0.09, 0.1, 0.1, 0.11, 0.11, 0.18, 0.2, 0.13, 0.14, 0.12, 0.16, 0.16, 0.18, 0.16, 0.15, 0.14, 0.2, 0.15, 0.18, 0.2, 0.17, 0.19, 0.18, 0.19, 0.16, 0.1, 0.18, 0.15000000000000002, 0.11, 0.22, 0.18, 0.11, 0.14, 0.11, 0.15, 0.16, 0.25, 0.1, 0.16, 0.2, 0.18, 0.19, 0.15, 0.23, 0.22, 0.24, 0.22, 0.2, 0.11, 0.21, 0.13, 0.27, 0.09, 0.18, 0.1, 0.17, 0.02, 0.12, 0.13, 0.11, 0.03, 0.14, 0.21, 0.15, 0.19, 0.15, 0.11, 0.27, 0.23, 0.16, 0.15, 0.13, 0.18, 0.16, 0.18, 0.15, 0.22, 0.19, 0.22, 0.2, 0.16, 0.18, 0.13, 0.14, 0.16, 0.16, 0.15000000000000002, 0.15, 0.15, 0.13, 0.16, 0.15, 0.11, 0.17, 0.1, 0.16, 0.2, 0.11, 0.08, 0.21, 0.22, 0.17, 0.14, 0.22, 0.08, 0.18, 0.19, 0.18, 0.07, 0.19, 0.2, 0.08, 0.14, 0.15, 0.16, 0.17, 0.17, 0.16, 0.19, 0.1, 0.13, 0.16, 0.26, 0.13, 0.15, 0.19, 0.18, 0.14, 0.14, 0.15, 0.12, 0.13, 0.12, 0.11, 0.18, 0.29, 0.16, 0.14, 0.13, 0.14, 0.27, 0.24, 0.21, 0.13, 0.18, 0.13, 0.1, 0.2, 0.16, 0.11, 0.18, 0.21, 0.14, 0.1, 0.15, 0.2, 0.1, 0.14, 0.2, 0.13, 0.16, 0.12, 0.25, 0.16, 0.13, 0.13, 0.19, 0.14, 0.1, 0.17, 0.1, 0.12, 0.15, 0.18, 0.14, 0.24, 0.2, 0.08, 0.22, 0.11, 0.16, 0.15, 0.05, 0.16, 0.16, 0.19, 0.1, 0.11, 0.08, 0.16, 0.18, 0.13, 0.21, 0.16, 0.18, 0.1, 0.13, 0.12, 0.19, 0.13, 0.17, 0.15, 0.12, 0.13, 0.2, 0.21, 0.16, 0.17, 0.24, 0.18, 0.23, 0.14, 0.22, 0.13, 0.11, 0.14, 0.22, 0.1]\n",
    "}))\n",
    "data.append(pd.DataFrame({\n",
    "    'Method': r'ER$\\dagger$',\n",
    "    'Case': 'non',\n",
    "    'Accuracy': [0.2, 0.12, 0.17, 0.17, 0.13, 0.19, 0.07, 0.11, 0.18, 0.18, 0.15, 0.22, 0.04, 0.16, 0.18, 0.24, 0.1, 0.17, 0.18, 0.19, 0.14, 0.18, 0.13, 0.13, 0.13, 0.18, 0.12, 0.18, 0.15, 0.16, 0.2, 0.13, 0.16, 0.13, 0.19, 0.14, 0.21, 0.13, 0.19, 0.13, 0.26, 0.16, 0.18, 0.12, 0.13, 0.17, 0.27, 0.1, 0.24, 0.14, 0.09, 0.13, 0.18, 0.2, 0.11, 0.15, 0.18, 0.14, 0.19, 0.12, 0.21, 0.18, 0.15, 0.26, 0.1, 0.14, 0.19, 0.14, 0.16, 0.25, 0.13, 0.13, 0.16, 0.16, 0.11, 0.12, 0.11, 0.19, 0.17, 0.17, 0.13, 0.18, 0.15, 0.12, 0.1, 0.21, 0.15000000000000002, 0.21, 0.15000000000000002, 0.22, 0.23, 0.15, 0.16, 0.16, 0.11, 0.14, 0.14, 0.11, 0.09, 0.17, 0.15, 0.22, 0.19, 0.2, 0.09, 0.16, 0.17, 0.13, 0.21, 0.16, 0.26, 0.2, 0.14, 0.13, 0.17, 0.15, 0.15, 0.21, 0.19, 0.17, 0.14, 0.19, 0.17, 0.14, 0.12, 0.18, 0.15, 0.17, 0.24, 0.22, 0.15, 0.2, 0.15, 0.23, 0.13, 0.11, 0.19, 0.21, 0.13, 0.15000000000000002, 0.12, 0.15, 0.11, 0.17, 0.1, 0.16, 0.11, 0.18, 0.15, 0.18, 0.26, 0.16, 0.16, 0.2, 0.18, 0.14, 0.19, 0.19, 0.19, 0.09, 0.19, 0.15000000000000002, 0.19, 0.19, 0.15, 0.14, 0.14, 0.11, 0.1, 0.05, 0.12, 0.16, 0.2, 0.12, 0.1, 0.15, 0.19, 0.12, 0.1, 0.16, 0.19, 0.13, 0.11, 0.15, 0.09, 0.17, 0.16, 0.12, 0.25, 0.11, 0.27, 0.14, 0.18, 0.12, 0.13, 0.14, 0.13, 0.1, 0.19, 0.19, 0.1, 0.19, 0.14, 0.23, 0.12, 0.12, 0.19, 0.15, 0.16, 0.16, 0.23, 0.19, 0.13, 0.11, 0.16, 0.1, 0.15, 0.17, 0.12, 0.2, 0.16, 0.14, 0.23, 0.11, 0.1, 0.15, 0.19, 0.24, 0.17, 0.18, 0.15, 0.16, 0.2, 0.19, 0.12, 0.19, 0.15, 0.14, 0.07, 0.13, 0.2, 0.11, 0.23, 0.19, 0.2, 0.1, 0.11, 0.2, 0.1, 0.23, 0.16, 0.17, 0.12, 0.1, 0.15, 0.12, 0.16, 0.15, 0.17, 0.21, 0.15, 0.2, 0.16, 0.13, 0.1, 0.14, 0.21, 0.12, 0.19, 0.28, 0.17, 0.17, 0.17, 0.19, 0.11, 0.12, 0.19, 0.2, 0.13, 0.12, 0.2, 0.11, 0.18, 0.14, 0.14, 0.16, 0.15, 0.09, 0.14, 0.06, 0.13, 0.12, 0.22, 0.16, 0.16, 0.24, 0.22, 0.21, 0.13, 0.17]\n",
    "}))\n",
    "data.append(pd.DataFrame({\n",
    "    'Method': r'ER$\\dagger$',\n",
    "    'Case': 'noc',\n",
    "    'Accuracy': [0.15, 0.12, 0.15, 0.22, 0.19, 0.1, 0.12, 0.1, 0.17, 0.11, 0.15, 0.17, 0.16, 0.1, 0.15, 0.12, 0.1, 0.15, 0.12, 0.18, 0.16, 0.2, 0.18, 0.16, 0.14, 0.16, 0.17, 0.15, 0.18, 0.1, 0.13, 0.12, 0.15, 0.13, 0.09, 0.2, 0.11, 0.13, 0.1, 0.1, 0.15, 0.17, 0.1, 0.16, 0.15, 0.12, 0.14, 0.16, 0.18, 0.12, 0.1, 0.09, 0.23, 0.12, 0.21, 0.16, 0.18, 0.12, 0.15, 0.13, 0.14, 0.12, 0.17, 0.17, 0.16, 0.15, 0.09, 0.17, 0.2, 0.13, 0.18, 0.16, 0.09, 0.18, 0.12, 0.21, 0.22, 0.16, 0.11, 0.13, 0.11, 0.15, 0.19, 0.15, 0.2, 0.16, 0.1, 0.14, 0.16, 0.16, 0.1, 0.09, 0.16, 0.19, 0.13, 0.17, 0.16, 0.13, 0.09, 0.18, 0.12, 0.15, 0.18, 0.2, 0.11, 0.13, 0.17, 0.21, 0.16, 0.16, 0.16, 0.18, 0.11, 0.07, 0.13, 0.12, 0.1, 0.15, 0.11, 0.11, 0.23, 0.17, 0.18, 0.18, 0.11, 0.16, 0.14, 0.16, 0.16, 0.13, 0.18, 0.13, 0.11, 0.15, 0.14, 0.14, 0.14, 0.13, 0.15, 0.15, 0.12, 0.15, 0.17, 0.14, 0.19, 0.15, 0.12, 0.17, 0.14, 0.14, 0.18, 0.15, 0.13, 0.18, 0.18, 0.18, 0.14, 0.1, 0.16, 0.09, 0.11, 0.16, 0.13, 0.11, 0.21, 0.17, 0.16, 0.17, 0.12, 0.13, 0.13, 0.19, 0.14, 0.12, 0.1, 0.15, 0.11, 0.18, 0.13, 0.13, 0.19, 0.19, 0.13, 0.16, 0.07, 0.11, 0.15, 0.21000000000000005, 0.14, 0.14, 0.19, 0.19, 0.09, 0.13, 0.2, 0.14, 0.14, 0.23, 0.14, 0.13, 0.12, 0.15, 0.21000000000000005, 0.17, 0.12, 0.12, 0.12, 0.13, 0.14, 0.15, 0.2, 0.2, 0.12, 0.15, 0.15, 0.12, 0.13, 0.09, 0.13, 0.19, 0.14, 0.19, 0.15, 0.16, 0.13, 0.12, 0.18, 0.16, 0.08, 0.22, 0.11, 0.06, 0.12, 0.1, 0.15, 0.16, 0.11, 0.18, 0.2, 0.19, 0.18, 0.15, 0.12, 0.11, 0.11, 0.19, 0.13, 0.13, 0.2, 0.16, 0.15, 0.17, 0.19, 0.16, 0.13, 0.21, 0.12, 0.09, 0.11, 0.11, 0.14, 0.16, 0.14, 0.16, 0.12, 0.13, 0.15, 0.21, 0.12, 0.12, 0.12, 0.1, 0.19, 0.17, 0.18, 0.17, 0.12, 0.12, 0.15, 0.18, 0.22, 0.11, 0.12, 0.1, 0.14, 0.15, 0.14, 0.13, 0.24, 0.19, 0.13, 0.11, 0.17, 0.13, 0.2, 0.13, 0.13, 0.15, 0.18, 0.14]\n",
    "}))\n",
    "r'ER'\n",
    "data.append(pd.DataFrame({\n",
    "    'Method': r'ER',\n",
    "    'Case': 'sys',\n",
    "    'Accuracy': [0.81, 0.69, 0.78, 0.48, 0.62, 0.67, 0.62, 0.68, 0.66, 0.69, 0.66, 0.69, 0.59, 0.62, 0.68, 0.65, 0.73, 0.7, 0.53, 0.66, 0.72, 0.72, 0.67, 0.74, 0.67, 0.77, 0.65, 0.6, 0.63, 0.65, 0.69, 0.68, 0.68, 0.74, 0.52, 0.59, 0.71, 0.57, 0.55, 0.67, 0.73, 0.76, 0.62, 0.75, 0.62, 0.74, 0.71, 0.68, 0.72, 0.55, 0.59, 0.68, 0.58, 0.69, 0.63, 0.75, 0.59, 0.66, 0.68, 0.6, 0.58, 0.63, 0.56, 0.63, 0.68, 0.73, 0.61, 0.69, 0.67, 0.68, 0.63, 0.63, 0.65, 0.73, 0.73, 0.78, 0.78, 0.62, 0.69, 0.77, 0.52, 0.6, 0.62, 0.73, 0.62, 0.79, 0.69, 0.67, 0.6, 0.49, 0.75, 0.57, 0.73, 0.55, 0.75, 0.65, 0.56, 0.72, 0.55, 0.56, 0.72, 0.69, 0.58, 0.57, 0.72, 0.75, 0.6, 0.72, 0.71, 0.72, 0.65, 0.77, 0.67, 0.65, 0.74, 0.6, 0.59, 0.63, 0.73, 0.65, 0.5, 0.57, 0.57, 0.69, 0.61, 0.53, 0.62, 0.57, 0.65, 0.69, 0.71, 0.68, 0.69, 0.65, 0.64, 0.66, 0.64, 0.77, 0.69, 0.61, 0.72, 0.69, 0.59, 0.64, 0.72, 0.65, 0.65, 0.67, 0.61, 0.65, 0.72, 0.65, 0.68, 0.74, 0.59, 0.63, 0.63, 0.65, 0.59, 0.63, 0.56, 0.69, 0.67, 0.72, 0.69, 0.7, 0.59, 0.58, 0.71, 0.78, 0.68, 0.59, 0.69, 0.65, 0.67, 0.7, 0.72, 0.73, 0.71, 0.64, 0.73, 0.72, 0.67, 0.76, 0.78, 0.64, 0.67, 0.72, 0.68, 0.81, 0.54, 0.61, 0.63, 0.63, 0.72, 0.72, 0.7, 0.62, 0.7, 0.59, 0.64, 0.72, 0.7, 0.7, 0.73, 0.67, 0.67, 0.69, 0.69, 0.7, 0.61, 0.58, 0.62, 0.72, 0.65, 0.74, 0.67, 0.67, 0.62, 0.69, 0.69, 0.68, 0.63, 0.67, 0.59, 0.8, 0.65, 0.66, 0.65, 0.6, 0.61, 0.64, 0.72, 0.65, 0.66, 0.65, 0.75, 0.56, 0.67, 0.62, 0.6, 0.7, 0.75, 0.7, 0.56, 0.67, 0.56, 0.68, 0.58, 0.62, 0.7, 0.66, 0.66, 0.55, 0.75, 0.76, 0.71, 0.62, 0.62, 0.67, 0.69, 0.7, 0.74, 0.68, 0.54, 0.78, 0.66, 0.65, 0.55, 0.6, 0.66, 0.73, 0.68, 0.65, 0.76, 0.65, 0.7, 0.69, 0.7, 0.61, 0.52, 0.71, 0.61, 0.69, 0.66, 0.72, 0.7, 0.73, 0.67, 0.63, 0.63, 0.62, 0.74, 0.56, 0.64, 0.64, 0.58, 0.6, 0.64, 0.59]\n",
    "}))\n",
    "data.append(pd.DataFrame({\n",
    "    'Method': r'ER',\n",
    "    'Case': 'pro',\n",
    "    'Accuracy': [0.63, 0.6, 0.49, 0.52, 0.65, 0.69, 0.57, 0.67, 0.77, 0.7, 0.56, 0.65, 0.73, 0.52, 0.68, 0.58, 0.6, 0.68, 0.67, 0.67, 0.66, 0.68, 0.68, 0.73, 0.6, 0.55, 0.73, 0.62, 0.75, 0.63, 0.57, 0.66, 0.63, 0.71, 0.56, 0.64, 0.64, 0.64, 0.71, 0.74, 0.71, 0.69, 0.59, 0.7, 0.59, 0.64, 0.78, 0.58, 0.7, 0.53, 0.72, 0.67, 0.5, 0.72, 0.56, 0.74, 0.76, 0.74, 0.51, 0.7, 0.67, 0.72, 0.59, 0.65, 0.61, 0.57, 0.69, 0.67, 0.61, 0.61, 0.76, 0.64, 0.73, 0.62, 0.68, 0.73, 0.63, 0.73, 0.46, 0.64, 0.68, 0.63, 0.64, 0.66, 0.65, 0.66, 0.67, 0.62, 0.67, 0.72, 0.75, 0.58, 0.7, 0.77, 0.72, 0.66, 0.72, 0.46, 0.78, 0.72, 0.55, 0.63, 0.59, 0.6, 0.58, 0.64, 0.74, 0.69, 0.64, 0.66, 0.78, 0.77, 0.7, 0.7, 0.49, 0.74, 0.59, 0.59, 0.73, 0.7, 0.69, 0.67, 0.66, 0.7, 0.69, 0.73, 0.73, 0.61, 0.63, 0.51, 0.66, 0.58, 0.65, 0.71, 0.74, 0.54, 0.58, 0.59, 0.7, 0.61, 0.69, 0.73, 0.63, 0.65, 0.61, 0.7, 0.67, 0.71, 0.59, 0.62, 0.59, 0.57, 0.59, 0.63, 0.67, 0.63, 0.7, 0.65, 0.66, 0.61, 0.7, 0.67, 0.58, 0.72, 0.69, 0.69, 0.62, 0.73, 0.69, 0.72, 0.71, 0.69, 0.68, 0.64, 0.71, 0.7, 0.7, 0.6, 0.69, 0.67, 0.57, 0.8, 0.56, 0.75, 0.71, 0.64, 0.57, 0.57, 0.66, 0.64, 0.61, 0.75, 0.66, 0.61, 0.63, 0.69, 0.57, 0.65, 0.68, 0.71, 0.55, 0.61, 0.52, 0.81, 0.7, 0.67, 0.72, 0.61, 0.62, 0.76, 0.52, 0.49, 0.58, 0.65, 0.63, 0.61, 0.61, 0.65, 0.59, 0.64, 0.69, 0.72, 0.7, 0.73, 0.67, 0.61, 0.62, 0.69, 0.59, 0.64, 0.61, 0.58, 0.63, 0.67, 0.65, 0.78, 0.71, 0.76, 0.66, 0.66, 0.66, 0.57, 0.55, 0.66, 0.64, 0.6, 0.65, 0.74, 0.69, 0.66, 0.62, 0.68, 0.65, 0.59, 0.6, 0.61, 0.73, 0.68, 0.65, 0.64, 0.72, 0.64, 0.71, 0.62, 0.64, 0.58, 0.64, 0.68, 0.7, 0.7, 0.77, 0.68, 0.58, 0.56, 0.65, 0.63, 0.68, 0.64, 0.63, 0.64, 0.65, 0.55, 0.7, 0.66, 0.7, 0.66, 0.62, 0.63, 0.61, 0.73, 0.59, 0.5, 0.55, 0.73, 0.63, 0.67, 0.63, 0.58, 0.66, 0.7]\n",
    "}))\n",
    "data.append(pd.DataFrame({\n",
    "    'Method': r'ER',\n",
    "    'Case': 'sub',\n",
    "    'Accuracy': [0.54, 0.64, 0.59, 0.47, 0.73, 0.71, 0.66, 0.68, 0.55, 0.55, 0.52, 0.66, 0.57, 0.6, 0.56, 0.63, 0.57, 0.6, 0.57, 0.57, 0.61, 0.48, 0.7, 0.57, 0.69, 0.75, 0.47, 0.62, 0.61, 0.53, 0.58, 0.59, 0.38, 0.43, 0.52, 0.71, 0.6, 0.55, 0.52, 0.57, 0.61, 0.46, 0.51, 0.63, 0.55, 0.64, 0.61, 0.49, 0.63, 0.6, 0.61, 0.66, 0.58, 0.49, 0.43, 0.67, 0.49, 0.64, 0.6, 0.5, 0.5, 0.65, 0.59, 0.66, 0.49, 0.55, 0.6, 0.6, 0.65, 0.59, 0.71, 0.57, 0.59, 0.55, 0.54, 0.69, 0.43, 0.58, 0.57, 0.6, 0.56, 0.54, 0.55, 0.61, 0.55, 0.45, 0.6, 0.47, 0.53, 0.4, 0.47, 0.59, 0.69, 0.6, 0.48, 0.61, 0.57, 0.6, 0.63, 0.47, 0.6, 0.55, 0.49, 0.63, 0.62, 0.56, 0.62, 0.62, 0.49, 0.63, 0.75, 0.55, 0.65, 0.65, 0.57, 0.54, 0.5, 0.55, 0.67, 0.55, 0.52, 0.62, 0.56, 0.61, 0.49, 0.53, 0.72, 0.7, 0.59, 0.6, 0.57, 0.5, 0.44, 0.62, 0.63, 0.65, 0.5, 0.47, 0.41, 0.64, 0.63, 0.57, 0.71, 0.48, 0.58, 0.54, 0.48, 0.58, 0.65, 0.64, 0.5, 0.58, 0.55, 0.46, 0.64, 0.59, 0.6, 0.42, 0.72, 0.64, 0.6, 0.57, 0.62, 0.6, 0.6, 0.5, 0.52, 0.68, 0.68, 0.62, 0.42, 0.55, 0.55, 0.55, 0.62, 0.43, 0.6, 0.54, 0.62, 0.53, 0.62, 0.54, 0.62, 0.62, 0.55, 0.71, 0.65, 0.51, 0.55, 0.61, 0.61, 0.62, 0.65, 0.56, 0.47, 0.57, 0.65, 0.47, 0.5, 0.59, 0.6, 0.6, 0.65, 0.59, 0.62, 0.55, 0.57, 0.59, 0.68, 0.66, 0.52, 0.48, 0.6, 0.52, 0.43, 0.6, 0.61, 0.74, 0.56, 0.59, 0.57, 0.61, 0.68, 0.44, 0.53, 0.59, 0.7, 0.6, 0.68, 0.56, 0.64, 0.53, 0.52, 0.62, 0.61, 0.57, 0.43, 0.63, 0.49, 0.57, 0.64, 0.59, 0.67, 0.55, 0.36, 0.62, 0.54, 0.65, 0.55, 0.58, 0.53, 0.59, 0.71, 0.47, 0.68, 0.66, 0.7, 0.64, 0.53, 0.6, 0.54, 0.53, 0.63, 0.47, 0.48, 0.67, 0.66, 0.53, 0.52, 0.58, 0.58, 0.54, 0.46, 0.6, 0.49, 0.5, 0.63, 0.53, 0.54, 0.54, 0.39, 0.56, 0.53, 0.66, 0.5, 0.57, 0.6, 0.59, 0.7, 0.56, 0.49, 0.63, 0.49, 0.66, 0.65, 0.66, 0.45, 0.63, 0.6, 0.64]\n",
    "}))\n",
    "data.append(pd.DataFrame({\n",
    "    'Method': r'ER',\n",
    "    'Case': 'non',\n",
    "    'Accuracy':[0.76, 0.72, 0.59, 0.64, 0.72, 0.69, 0.69, 0.77, 0.68, 0.55, 0.62, 0.66, 0.77, 0.66, 0.62, 0.69, 0.66, 0.66, 0.68, 0.67, 0.73, 0.68, 0.67, 0.52, 0.66, 0.68, 0.64, 0.6, 0.69, 0.66, 0.57, 0.65, 0.53, 0.7, 0.7, 0.61, 0.55, 0.71, 0.7, 0.57, 0.66, 0.69, 0.54, 0.75, 0.66, 0.69, 0.59, 0.62, 0.6, 0.8, 0.65, 0.58, 0.77, 0.47, 0.6, 0.68, 0.66, 0.72, 0.63, 0.65, 0.59, 0.66, 0.66, 0.76, 0.7, 0.56, 0.6, 0.62, 0.68, 0.59, 0.62, 0.66, 0.69, 0.64, 0.67, 0.62, 0.47, 0.71, 0.66, 0.77, 0.68, 0.58, 0.62, 0.57, 0.5, 0.62, 0.66, 0.74, 0.62, 0.64, 0.68, 0.6, 0.48, 0.63, 0.58, 0.7, 0.71, 0.61, 0.7, 0.54, 0.6, 0.5, 0.71, 0.77, 0.6, 0.43, 0.73, 0.58, 0.63, 0.65, 0.61, 0.72, 0.66, 0.64, 0.66, 0.76, 0.55, 0.64, 0.66, 0.63, 0.71, 0.66, 0.67, 0.7, 0.64, 0.69, 0.77, 0.64, 0.69, 0.66, 0.51, 0.56, 0.54, 0.68, 0.77, 0.63, 0.65, 0.63, 0.68, 0.63, 0.66, 0.63, 0.73, 0.68, 0.58, 0.63, 0.49, 0.5, 0.58, 0.47, 0.65, 0.68, 0.72, 0.66, 0.69, 0.62, 0.81, 0.62, 0.77, 0.59, 0.67, 0.7, 0.68, 0.69, 0.71, 0.69, 0.66, 0.65, 0.74, 0.77, 0.56, 0.69, 0.67, 0.65, 0.7, 0.6, 0.69, 0.67, 0.56, 0.65, 0.82, 0.51, 0.66, 0.53, 0.58, 0.61, 0.68, 0.71, 0.69, 0.68, 0.57, 0.62, 0.62, 0.54, 0.52, 0.56, 0.66, 0.61, 0.58, 0.66, 0.69, 0.55, 0.72, 0.68, 0.59, 0.62, 0.82, 0.56, 0.72, 0.65, 0.7, 0.55, 0.75, 0.7, 0.52, 0.7, 0.67, 0.65, 0.57, 0.69, 0.6, 0.57, 0.67, 0.5, 0.69, 0.74, 0.66, 0.62, 0.61, 0.61, 0.59, 0.61, 0.77, 0.64, 0.56, 0.7, 0.6, 0.6, 0.52, 0.74, 0.69, 0.63, 0.59, 0.69, 0.57, 0.71, 0.59, 0.8, 0.69, 0.72, 0.69, 0.72, 0.58, 0.68, 0.76, 0.66, 0.72, 0.71, 0.56, 0.78, 0.65, 0.76, 0.62, 0.58, 0.73, 0.7, 0.6, 0.68, 0.77, 0.67, 0.76, 0.63, 0.67, 0.59, 0.52, 0.63, 0.48, 0.69, 0.65, 0.68, 0.67, 0.67, 0.64, 0.66, 0.7, 0.68, 0.68, 0.56, 0.55, 0.7, 0.57, 0.7, 0.64, 0.78, 0.8, 0.66, 0.55, 0.69, 0.65, 0.55]\n",
    "}))\n",
    "data.append(pd.DataFrame({\n",
    "    'Method': r'ER',\n",
    "    'Case': 'noc',\n",
    "    'Accuracy': [0.38, 0.52, 0.29, 0.29, 0.34, 0.2, 0.45, 0.31, 0.51, 0.46, 0.4, 0.45, 0.32, 0.33, 0.33, 0.44, 0.3, 0.58, 0.36, 0.38, 0.35, 0.46, 0.37, 0.44, 0.42, 0.35, 0.47, 0.29, 0.33, 0.35, 0.29, 0.25, 0.33, 0.36, 0.21, 0.34, 0.33, 0.33, 0.26, 0.41, 0.35, 0.46, 0.35, 0.32, 0.44, 0.22, 0.47, 0.32, 0.4, 0.3, 0.35, 0.38, 0.46, 0.4, 0.34, 0.48, 0.27, 0.39, 0.47, 0.2, 0.37, 0.47, 0.23, 0.36, 0.43, 0.37, 0.4, 0.41, 0.26, 0.35, 0.32, 0.38, 0.38, 0.21, 0.32, 0.44, 0.35, 0.29, 0.31, 0.29, 0.39, 0.39, 0.2, 0.29, 0.45, 0.45, 0.36, 0.34, 0.47, 0.29, 0.26, 0.4, 0.37, 0.36, 0.2, 0.33, 0.31, 0.34, 0.29, 0.38, 0.37, 0.36, 0.29, 0.33, 0.31, 0.28, 0.3, 0.41, 0.32, 0.4, 0.39, 0.37, 0.32, 0.18, 0.44, 0.24, 0.29, 0.3, 0.44, 0.37, 0.39, 0.56, 0.21, 0.41, 0.24, 0.47, 0.27, 0.41, 0.2, 0.5, 0.33, 0.27, 0.35, 0.34, 0.34, 0.31, 0.28, 0.39, 0.4, 0.34, 0.4, 0.42, 0.28, 0.4, 0.25, 0.41, 0.32, 0.38, 0.27, 0.39, 0.27, 0.26, 0.45, 0.28, 0.36, 0.43, 0.34, 0.39, 0.41, 0.37, 0.42, 0.41, 0.22, 0.19, 0.34, 0.27, 0.27, 0.33, 0.33, 0.37, 0.31, 0.42, 0.37, 0.33, 0.35, 0.28, 0.31, 0.43, 0.48, 0.47, 0.28, 0.44, 0.48, 0.4, 0.42, 0.4, 0.29, 0.23, 0.39, 0.32, 0.38, 0.33, 0.26, 0.33, 0.34, 0.43, 0.29, 0.37, 0.3, 0.31, 0.39, 0.36, 0.31, 0.33, 0.37, 0.25, 0.39, 0.32, 0.35, 0.28, 0.29, 0.33, 0.28, 0.34, 0.32, 0.37, 0.18, 0.3, 0.38, 0.3, 0.39, 0.34, 0.38, 0.31, 0.31, 0.27, 0.32, 0.49, 0.43, 0.44, 0.42, 0.27, 0.27, 0.34, 0.41, 0.32, 0.32, 0.52, 0.49, 0.47, 0.3, 0.29, 0.32, 0.26, 0.34, 0.42, 0.42, 0.4, 0.31, 0.22, 0.22, 0.53, 0.36, 0.51, 0.36, 0.41, 0.32, 0.33, 0.32, 0.43, 0.35, 0.34, 0.4, 0.29, 0.29, 0.36, 0.31, 0.41, 0.39, 0.37, 0.43, 0.33, 0.31, 0.38, 0.45, 0.26, 0.33, 0.39, 0.39, 0.36, 0.39, 0.24, 0.31, 0.45, 0.42, 0.29, 0.33, 0.36, 0.32, 0.47, 0.37, 0.45, 0.4, 0.33, 0.43, 0.5, 0.25, 0.33, 0.37, 0.43]\n",
    "}))\n",
    "r'GEM$\\dagger$'\n",
    "data.append(pd.DataFrame({\n",
    "    'Method': r'GEM$\\dagger$',\n",
    "    'Case': 'sys',\n",
    "    'Accuracy':[0.7, 0.59, 0.61, 0.48, 0.48, 0.48, 0.42, 0.64, 0.51, 0.54, 0.56, 0.5, 0.5, 0.53, 0.34, 0.57, 0.57, 0.51, 0.4200000000000001, 0.46, 0.31, 0.55, 0.55, 0.65, 0.63, 0.59, 0.68, 0.58, 0.6, 0.53, 0.66, 0.49, 0.58, 0.39, 0.48, 0.57, 0.5, 0.58, 0.51, 0.62, 0.56, 0.64, 0.39, 0.47, 0.54, 0.52, 0.66, 0.56, 0.68, 0.52, 0.47, 0.61, 0.61, 0.44, 0.54, 0.6, 0.56, 0.49, 0.59, 0.43, 0.6, 0.37, 0.42, 0.62, 0.65, 0.69, 0.45, 0.48, 0.49, 0.44, 0.48, 0.46, 0.54, 0.6, 0.49, 0.62, 0.7, 0.51, 0.62, 0.64, 0.45, 0.47, 0.58, 0.48, 0.54, 0.6, 0.68, 0.62, 0.64, 0.6, 0.54, 0.63, 0.59, 0.6, 0.68, 0.61, 0.49, 0.65, 0.5, 0.48, 0.52, 0.52, 0.62, 0.52, 0.65, 0.64, 0.52, 0.66, 0.42, 0.66, 0.4, 0.49, 0.67, 0.55, 0.55, 0.32, 0.52, 0.5, 0.63, 0.43, 0.59, 0.56, 0.32, 0.43, 0.5, 0.56, 0.42, 0.52, 0.28, 0.56, 0.6, 0.54, 0.6, 0.57, 0.42, 0.55, 0.45, 0.57, 0.56, 0.58, 0.61, 0.63, 0.44, 0.54, 0.55, 0.56, 0.59, 0.65, 0.62, 0.54, 0.57, 0.55, 0.53, 0.57, 0.52, 0.55, 0.5, 0.45, 0.58, 0.46, 0.68, 0.52, 0.62, 0.65, 0.61, 0.56, 0.47, 0.43, 0.69, 0.57, 0.5, 0.57, 0.54, 0.56, 0.53, 0.57, 0.6, 0.5, 0.58, 0.57, 0.59, 0.6, 0.51, 0.38, 0.47, 0.55, 0.7, 0.63, 0.53, 0.56, 0.35, 0.56, 0.65, 0.61, 0.55, 0.5, 0.56, 0.44, 0.58, 0.45, 0.41, 0.64, 0.57, 0.52, 0.54, 0.58, 0.49, 0.47, 0.63, 0.6, 0.44, 0.59, 0.6, 0.61, 0.6, 0.58, 0.58, 0.5, 0.6, 0.3, 0.61, 0.43, 0.43, 0.42, 0.53, 0.59, 0.22, 0.5, 0.54, 0.46, 0.56, 0.57, 0.61, 0.52, 0.57, 0.58, 0.55, 0.61, 0.51, 0.59, 0.66, 0.61, 0.61, 0.5, 0.54, 0.59, 0.49, 0.6, 0.57, 0.59, 0.54, 0.57, 0.41, 0.49, 0.72, 0.66, 0.5, 0.59, 0.52, 0.57, 0.59, 0.53, 0.57, 0.55, 0.52, 0.58, 0.64, 0.65, 0.6, 0.37, 0.51, 0.48, 0.55, 0.66, 0.7, 0.54, 0.45, 0.58, 0.54, 0.71, 0.44, 0.54, 0.37, 0.64, 0.49, 0.45, 0.66, 0.62, 0.57, 0.61, 0.53, 0.56, 0.5, 0.41, 0.45, 0.43, 0.57, 0.6, 0.37, 0.43]\n",
    "}))\n",
    "data.append(pd.DataFrame({\n",
    "    'Method': r'GEM$\\dagger$',\n",
    "    'Case': 'pro',\n",
    "    'Accuracy':[0.68, 0.58, 0.49, 0.53, 0.55, 0.55, 0.54, 0.66, 0.6, 0.59, 0.49, 0.48, 0.63, 0.61, 0.45, 0.49, 0.46, 0.53, 0.7, 0.46, 0.52, 0.61, 0.62, 0.54, 0.57, 0.52, 0.45, 0.68, 0.58, 0.58, 0.49, 0.59, 0.48, 0.62, 0.63, 0.49, 0.57, 0.6, 0.7, 0.62, 0.59, 0.7, 0.55, 0.61, 0.52, 0.58, 0.62, 0.55, 0.47, 0.47, 0.64, 0.44, 0.61, 0.6, 0.6, 0.58, 0.58, 0.64, 0.58, 0.52, 0.63, 0.6, 0.62, 0.55, 0.59, 0.6, 0.58, 0.61, 0.47, 0.53, 0.69, 0.39, 0.59, 0.64, 0.6, 0.61, 0.62, 0.63, 0.38, 0.59, 0.61, 0.65, 0.48, 0.62, 0.52, 0.55, 0.63, 0.64, 0.48, 0.55, 0.61, 0.52, 0.58, 0.52, 0.61, 0.55, 0.62, 0.46, 0.65, 0.59, 0.66, 0.48, 0.52, 0.6, 0.73, 0.6, 0.49, 0.61, 0.52, 0.67, 0.64, 0.56, 0.6, 0.53, 0.59, 0.67, 0.63, 0.6, 0.58, 0.48, 0.6, 0.64, 0.64, 0.67, 0.54, 0.54, 0.64, 0.6, 0.58, 0.58, 0.49, 0.55, 0.48, 0.63, 0.43, 0.49, 0.56, 0.5, 0.56, 0.47, 0.62, 0.58, 0.54, 0.52, 0.61, 0.56, 0.64, 0.59, 0.59, 0.46, 0.5, 0.63, 0.55, 0.57, 0.65, 0.63, 0.62, 0.48, 0.45, 0.55, 0.45, 0.51, 0.5, 0.51, 0.68, 0.65, 0.6, 0.66, 0.61, 0.65, 0.63, 0.61, 0.64, 0.61, 0.61, 0.62, 0.65, 0.59, 0.55, 0.54, 0.48, 0.68, 0.59, 0.64, 0.55, 0.58, 0.57, 0.59, 0.62, 0.49, 0.56, 0.64, 0.54, 0.57, 0.58, 0.6, 0.6, 0.55, 0.64, 0.53, 0.59, 0.5, 0.56, 0.67, 0.55, 0.56, 0.6, 0.41, 0.52, 0.63, 0.63, 0.53, 0.45, 0.41, 0.53, 0.53, 0.54, 0.5, 0.6, 0.48, 0.62, 0.69, 0.6, 0.52, 0.51, 0.53, 0.63, 0.64, 0.45, 0.51, 0.48, 0.34, 0.52, 0.59, 0.45, 0.5, 0.63, 0.58, 0.48, 0.66, 0.51, 0.64, 0.65, 0.61, 0.59, 0.55, 0.58, 0.58, 0.63, 0.67, 0.64, 0.58, 0.65, 0.58, 0.55, 0.49, 0.55, 0.51, 0.55, 0.68, 0.65, 0.58, 0.65, 0.67, 0.62, 0.48, 0.59, 0.68, 0.58, 0.66, 0.61, 0.55, 0.6, 0.61, 0.65, 0.49, 0.56, 0.55, 0.69, 0.55, 0.65, 0.51, 0.55, 0.55, 0.56, 0.61, 0.5, 0.65, 0.59, 0.62, 0.47, 0.53, 0.53, 0.56, 0.54, 0.48, 0.5, 0.56, 0.54, 0.69]\n",
    "}))\n",
    "data.append(pd.DataFrame({\n",
    "    'Method': r'GEM$\\dagger$',\n",
    "    'Case': 'sub',\n",
    "    'Accuracy':[0.54, 0.62, 0.69, 0.49, 0.6, 0.63, 0.44, 0.67, 0.45, 0.49, 0.4, 0.63, 0.53, 0.59, 0.56, 0.62, 0.54, 0.51, 0.59, 0.48, 0.67, 0.48, 0.59, 0.56, 0.57, 0.76, 0.51, 0.62, 0.57, 0.5, 0.47, 0.45, 0.51, 0.44, 0.63, 0.57, 0.56, 0.5, 0.5, 0.37, 0.6, 0.41, 0.56, 0.55, 0.57, 0.52, 0.54, 0.42, 0.56, 0.56, 0.66, 0.45, 0.47, 0.38, 0.51, 0.53, 0.51, 0.53, 0.44, 0.35, 0.47, 0.59, 0.48, 0.61, 0.56, 0.58, 0.35, 0.61, 0.53, 0.53, 0.64, 0.55, 0.58, 0.58, 0.49, 0.57, 0.41, 0.56, 0.39, 0.64, 0.54, 0.56, 0.36, 0.6, 0.42, 0.43, 0.53, 0.5, 0.58, 0.51, 0.47, 0.69, 0.33, 0.39, 0.24, 0.45, 0.59, 0.58, 0.47, 0.47, 0.51, 0.55, 0.49, 0.59, 0.64, 0.52, 0.58, 0.6, 0.61, 0.54, 0.66, 0.46, 0.52, 0.53, 0.49, 0.44, 0.47, 0.54, 0.57, 0.43, 0.49, 0.52, 0.6, 0.62, 0.53, 0.58, 0.64, 0.67, 0.42, 0.6, 0.5, 0.47, 0.5, 0.53, 0.56, 0.48, 0.38, 0.38, 0.4, 0.59, 0.65, 0.39, 0.66, 0.55, 0.56, 0.45, 0.51, 0.47, 0.49, 0.5, 0.55, 0.28, 0.47, 0.53, 0.56, 0.51, 0.59, 0.3, 0.57, 0.71, 0.55, 0.57, 0.6, 0.45, 0.42, 0.56, 0.48, 0.65, 0.57, 0.62, 0.49, 0.67, 0.54, 0.5, 0.48, 0.4, 0.6, 0.47, 0.61, 0.34, 0.45, 0.49, 0.58, 0.48, 0.48, 0.46, 0.63, 0.35, 0.51, 0.54, 0.4, 0.44, 0.51, 0.58, 0.52, 0.44, 0.5, 0.36, 0.56, 0.57, 0.57, 0.5, 0.46, 0.62, 0.61, 0.52, 0.62, 0.59, 0.51, 0.72, 0.41, 0.36, 0.57, 0.38, 0.51, 0.48, 0.53, 0.58, 0.46, 0.53, 0.51, 0.53, 0.44, 0.42, 0.35, 0.47, 0.56, 0.55, 0.5, 0.47, 0.55, 0.42, 0.5, 0.56, 0.41, 0.58, 0.3, 0.56, 0.52, 0.49, 0.59, 0.66, 0.4, 0.64, 0.46, 0.57, 0.51, 0.6, 0.58, 0.34, 0.43, 0.57, 0.53, 0.56, 0.59, 0.54, 0.5, 0.56, 0.5, 0.57, 0.44, 0.54, 0.59, 0.48, 0.44, 0.55, 0.55, 0.54, 0.54, 0.53, 0.41, 0.55, 0.47, 0.51, 0.51, 0.47, 0.41, 0.56, 0.55, 0.54, 0.41, 0.61, 0.42, 0.59, 0.44, 0.55, 0.57, 0.43, 0.73, 0.57, 0.37, 0.68, 0.44, 0.37, 0.5, 0.68, 0.45, 0.57, 0.51, 0.52]\n",
    "}))\n",
    "data.append(pd.DataFrame({\n",
    "    'Method': r'GEM$\\dagger$',\n",
    "    'Case': 'non',\n",
    "    'Accuracy':[0.63, 0.65, 0.71, 0.46, 0.75, 0.61, 0.52, 0.56, 0.4, 0.52, 0.49, 0.63, 0.56, 0.49, 0.37, 0.58, 0.63, 0.54, 0.54, 0.56, 0.6, 0.48, 0.54, 0.42, 0.54, 0.62, 0.43, 0.54, 0.45, 0.62, 0.46, 0.34, 0.48, 0.65, 0.54, 0.57, 0.63, 0.54, 0.57, 0.55, 0.56, 0.59, 0.39, 0.52, 0.55, 0.52, 0.48, 0.55, 0.5, 0.55, 0.68, 0.58, 0.6, 0.38, 0.34, 0.55, 0.54, 0.38, 0.54, 0.53, 0.49, 0.6, 0.56, 0.46, 0.52, 0.63, 0.58, 0.57, 0.49, 0.6, 0.52, 0.51, 0.66, 0.52, 0.49, 0.44, 0.3, 0.55, 0.6, 0.68, 0.66, 0.54, 0.53, 0.44, 0.45, 0.41, 0.54, 0.52, 0.68, 0.43, 0.59, 0.55, 0.51, 0.59, 0.45, 0.54, 0.6, 0.5, 0.55, 0.46, 0.56, 0.58, 0.59, 0.63, 0.57, 0.66, 0.62, 0.45, 0.46, 0.58, 0.61, 0.49, 0.62, 0.49, 0.53, 0.62, 0.57, 0.54, 0.56, 0.49, 0.63, 0.61, 0.68, 0.51, 0.45, 0.58, 0.57, 0.63, 0.63, 0.5, 0.51, 0.6, 0.52, 0.39, 0.58, 0.47, 0.48, 0.37, 0.57, 0.64, 0.65, 0.46, 0.53, 0.68, 0.55, 0.61, 0.55, 0.63, 0.4, 0.32, 0.62, 0.55, 0.63, 0.54, 0.69, 0.65, 0.64, 0.54, 0.71, 0.6, 0.59, 0.56, 0.47, 0.53, 0.4, 0.56, 0.68, 0.57, 0.57, 0.7, 0.42, 0.52, 0.46, 0.56, 0.43, 0.58, 0.52, 0.55, 0.56, 0.62, 0.56, 0.55, 0.47, 0.29, 0.54, 0.46, 0.66, 0.6, 0.55, 0.54, 0.47, 0.54, 0.52, 0.43, 0.52, 0.48, 0.55, 0.47, 0.55, 0.54, 0.52, 0.4, 0.59, 0.62, 0.54, 0.64, 0.7, 0.56, 0.59, 0.59, 0.42, 0.55, 0.51, 0.59, 0.61, 0.48, 0.52, 0.63, 0.51, 0.56, 0.44, 0.49, 0.58, 0.33, 0.59, 0.52, 0.63, 0.5, 0.66, 0.47, 0.57, 0.41, 0.57, 0.61, 0.54, 0.55, 0.38, 0.57, 0.48, 0.58, 0.53, 0.47, 0.66, 0.59, 0.6, 0.29, 0.53, 0.55, 0.59, 0.64, 0.5, 0.54, 0.53, 0.58, 0.61, 0.56, 0.48, 0.52, 0.52, 0.66, 0.56, 0.61, 0.55, 0.47, 0.55, 0.6, 0.56, 0.36, 0.64, 0.45, 0.61, 0.54, 0.34, 0.51, 0.3, 0.53, 0.43, 0.61, 0.59, 0.49, 0.57, 0.72, 0.57, 0.54, 0.52, 0.5, 0.51, 0.38, 0.64, 0.5, 0.43, 0.48, 0.57, 0.56, 0.62, 0.48, 0.53, 0.4, 0.56, 0.55]\n",
    "}))\n",
    "data.append(pd.DataFrame({\n",
    "    'Method': r'GEM$\\dagger$',\n",
    "    'Case': 'noc',\n",
    "    'Accuracy':[0.4, 0.29, 0.29, 0.37, 0.32, 0.38, 0.4, 0.15000000000000002, 0.53, 0.47, 0.39, 0.37, 0.42, 0.27, 0.37, 0.37, 0.44, 0.46, 0.44, 0.33, 0.28, 0.37, 0.45, 0.39, 0.35, 0.36, 0.29, 0.31, 0.34, 0.44, 0.55, 0.39, 0.33, 0.29, 0.25, 0.37, 0.32, 0.43, 0.28, 0.43, 0.42, 0.34, 0.32, 0.24, 0.31, 0.47, 0.45, 0.31, 0.44, 0.35, 0.51, 0.31, 0.57, 0.39, 0.38, 0.4, 0.36, 0.32, 0.42, 0.28, 0.38, 0.39, 0.3, 0.3, 0.5, 0.27, 0.37, 0.47, 0.46, 0.48, 0.31, 0.35, 0.37, 0.32, 0.34, 0.3, 0.41, 0.41, 0.42, 0.26, 0.49, 0.31, 0.33, 0.39, 0.41, 0.47, 0.48, 0.34, 0.45, 0.3, 0.32, 0.23, 0.39, 0.32, 0.26, 0.36, 0.35, 0.23, 0.45, 0.37, 0.32, 0.39, 0.34, 0.23, 0.3, 0.21, 0.3, 0.29, 0.39, 0.28, 0.33, 0.49, 0.38, 0.23, 0.33, 0.19, 0.36, 0.51, 0.25, 0.47, 0.51, 0.39, 0.22, 0.5, 0.26, 0.4, 0.27, 0.47, 0.33, 0.49, 0.27, 0.34, 0.39, 0.41, 0.35, 0.37, 0.21, 0.35, 0.37, 0.38, 0.29, 0.51, 0.3, 0.47, 0.35, 0.43, 0.32, 0.43, 0.45, 0.44, 0.39, 0.27, 0.36, 0.34, 0.41, 0.47, 0.44, 0.41, 0.33, 0.4200000000000001, 0.32, 0.44, 0.42, 0.34, 0.42, 0.39, 0.35, 0.26, 0.41, 0.28, 0.3, 0.5, 0.37, 0.36, 0.36, 0.4, 0.29, 0.46, 0.37, 0.52, 0.36, 0.35, 0.5, 0.4, 0.32, 0.37, 0.22, 0.3, 0.37, 0.4, 0.42, 0.45, 0.29, 0.33, 0.28, 0.32, 0.46, 0.36, 0.4, 0.38, 0.48, 0.28, 0.32, 0.35, 0.28, 0.28, 0.39, 0.29, 0.31, 0.4, 0.42, 0.44, 0.24, 0.32, 0.32, 0.37, 0.29, 0.22, 0.27, 0.38, 0.42, 0.36, 0.37, 0.35, 0.31, 0.23, 0.37, 0.31, 0.45, 0.4, 0.3, 0.35, 0.31, 0.25, 0.31, 0.36, 0.38, 0.42, 0.36, 0.32, 0.29, 0.31, 0.33, 0.33, 0.43, 0.35, 0.48, 0.52, 0.38, 0.38, 0.53, 0.4, 0.47, 0.46, 0.42, 0.49, 0.4, 0.29, 0.41, 0.38, 0.32, 0.32, 0.39, 0.33, 0.3, 0.38, 0.37, 0.28, 0.34, 0.4, 0.34, 0.38, 0.33, 0.4, 0.43, 0.3, 0.47, 0.37, 0.46, 0.27, 0.3, 0.36, 0.33, 0.37, 0.37, 0.38, 0.39, 0.34, 0.38, 0.46, 0.37, 0.48, 0.4, 0.36, 0.37, 0.42, 0.35, 0.34, 0.3, 0.47]\n",
    "}))\n",
    "r'GEM'\n",
    "data.append(pd.DataFrame({\n",
    "    'Method': r'GEM',\n",
    "    'Case': 'sys',\n",
    "    'Accuracy':[0.74, 0.66, 0.67, 0.55, 0.57, 0.6, 0.7, 0.62, 0.55, 0.65, 0.66, 0.65, 0.58, 0.58, 0.59, 0.58, 0.63, 0.62, 0.57, 0.56, 0.52, 0.68, 0.7, 0.74, 0.64, 0.63, 0.65, 0.71, 0.64, 0.63, 0.67, 0.65, 0.62, 0.65, 0.58, 0.59, 0.65, 0.7, 0.6, 0.67, 0.66, 0.7, 0.6, 0.68, 0.62, 0.68, 0.74, 0.6, 0.76, 0.61, 0.58, 0.67, 0.68, 0.48, 0.67, 0.63, 0.65, 0.59, 0.64, 0.63, 0.7, 0.63, 0.59, 0.64, 0.74, 0.74, 0.68, 0.6, 0.62, 0.61, 0.69, 0.56, 0.54, 0.68, 0.65, 0.65, 0.74, 0.61, 0.63, 0.71, 0.59, 0.58, 0.62, 0.63, 0.68, 0.64, 0.64, 0.64, 0.67, 0.65, 0.66, 0.67, 0.64, 0.62, 0.64, 0.7, 0.54, 0.74, 0.55, 0.56, 0.67, 0.63, 0.58, 0.55, 0.64, 0.68, 0.71, 0.7, 0.72, 0.63, 0.62, 0.66, 0.64, 0.68, 0.6, 0.55, 0.59, 0.58, 0.73, 0.63, 0.59, 0.62, 0.51, 0.62, 0.5, 0.59, 0.54, 0.49, 0.54, 0.65, 0.63, 0.64, 0.64, 0.58, 0.55, 0.54, 0.68, 0.73, 0.52, 0.62, 0.59, 0.69, 0.61, 0.62, 0.72, 0.67, 0.65, 0.7, 0.63, 0.55, 0.63, 0.58, 0.74, 0.65, 0.58, 0.65, 0.58, 0.67, 0.63, 0.6, 0.73, 0.72, 0.63, 0.63, 0.61, 0.66, 0.63, 0.52, 0.7, 0.8, 0.65, 0.55, 0.56, 0.68, 0.65, 0.56, 0.69, 0.71, 0.68, 0.64, 0.68, 0.71, 0.63, 0.66, 0.72, 0.62, 0.67, 0.67, 0.67, 0.71, 0.52, 0.63, 0.67, 0.64, 0.65, 0.56, 0.66, 0.47, 0.66, 0.54, 0.51, 0.71, 0.66, 0.66, 0.64, 0.56, 0.66, 0.57, 0.71, 0.68, 0.61, 0.64, 0.68, 0.63, 0.63, 0.74, 0.66, 0.72, 0.69, 0.57, 0.64, 0.52, 0.63, 0.63, 0.53, 0.69, 0.72, 0.7, 0.59, 0.57, 0.62, 0.62, 0.71, 0.6, 0.64, 0.6, 0.67, 0.59, 0.67, 0.58, 0.66, 0.68, 0.65, 0.66, 0.56, 0.63, 0.57, 0.61, 0.64, 0.68, 0.63, 0.6, 0.58, 0.54, 0.66, 0.75, 0.59, 0.62, 0.59, 0.6, 0.67, 0.64, 0.69, 0.6, 0.59, 0.72, 0.65, 0.69, 0.55, 0.58, 0.6, 0.57, 0.61, 0.72, 0.74, 0.58, 0.63, 0.58, 0.64, 0.6, 0.64, 0.59, 0.52, 0.73, 0.56, 0.62, 0.64, 0.6, 0.65, 0.63, 0.64, 0.66, 0.68, 0.55, 0.52, 0.6, 0.69, 0.67, 0.65, 0.56]\n",
    "}))\n",
    "data.append(pd.DataFrame({\n",
    "    'Method': r'GEM',\n",
    "    'Case': 'pro',\n",
    "    'Accuracy':[0.67, 0.67, 0.52, 0.66, 0.63, 0.67, 0.66, 0.65, 0.66, 0.74, 0.57, 0.58, 0.62, 0.55, 0.66, 0.6, 0.62, 0.57, 0.67, 0.62, 0.54, 0.65, 0.53, 0.67, 0.56, 0.66, 0.68, 0.63, 0.72, 0.59, 0.66, 0.66, 0.72, 0.74, 0.77, 0.51, 0.61, 0.6, 0.72, 0.65, 0.6, 0.7, 0.6, 0.62, 0.62, 0.66, 0.68, 0.58, 0.76, 0.61, 0.69, 0.67, 0.55, 0.69, 0.67, 0.72, 0.63, 0.71, 0.67, 0.61, 0.66, 0.7, 0.49, 0.63, 0.68, 0.63, 0.64, 0.71, 0.52, 0.63, 0.8, 0.64, 0.68, 0.66, 0.67, 0.76, 0.7, 0.7, 0.59, 0.66, 0.65, 0.69, 0.64, 0.57, 0.6, 0.63, 0.68, 0.68, 0.67, 0.61, 0.65, 0.62, 0.67, 0.61, 0.75, 0.63, 0.72, 0.62, 0.68, 0.64, 0.67, 0.61, 0.62, 0.63, 0.74, 0.66, 0.71, 0.65, 0.74, 0.67, 0.8, 0.74, 0.64, 0.61, 0.67, 0.7, 0.64, 0.56, 0.62, 0.58, 0.66, 0.67, 0.63, 0.7, 0.61, 0.67, 0.69, 0.63, 0.54, 0.71, 0.55, 0.65, 0.65, 0.68, 0.66, 0.49, 0.71, 0.58, 0.62, 0.51, 0.67, 0.72, 0.59, 0.62, 0.6, 0.65, 0.65, 0.67, 0.67, 0.57, 0.63, 0.62, 0.63, 0.64, 0.66, 0.68, 0.68, 0.67, 0.51, 0.6, 0.6, 0.63, 0.65, 0.62, 0.64, 0.74, 0.64, 0.69, 0.74, 0.68, 0.6, 0.69, 0.7, 0.68, 0.57, 0.71, 0.61, 0.72, 0.57, 0.61, 0.54, 0.79, 0.7, 0.69, 0.62, 0.67, 0.67, 0.48, 0.6, 0.68, 0.6, 0.69, 0.74, 0.69, 0.57, 0.64, 0.58, 0.67, 0.56, 0.58, 0.61, 0.69, 0.64, 0.67, 0.7, 0.7, 0.67, 0.53, 0.65, 0.7, 0.64, 0.63, 0.5, 0.53, 0.69, 0.58, 0.69, 0.68, 0.6, 0.64, 0.64, 0.62, 0.67, 0.65, 0.64, 0.58, 0.73, 0.71, 0.56, 0.49, 0.65, 0.58, 0.63, 0.76, 0.63, 0.59, 0.69, 0.67, 0.61, 0.67, 0.6, 0.64, 0.69, 0.63, 0.61, 0.59, 0.57, 0.65, 0.71, 0.73, 0.63, 0.69, 0.63, 0.71, 0.56, 0.61, 0.73, 0.66, 0.55, 0.71, 0.64, 0.52, 0.72, 0.67, 0.61, 0.7, 0.6, 0.69, 0.68, 0.7, 0.68, 0.65, 0.68, 0.61, 0.72, 0.56, 0.67, 0.64, 0.71, 0.6, 0.68, 0.61, 0.66, 0.59, 0.69, 0.7, 0.63, 0.73, 0.58, 0.68, 0.62, 0.58, 0.55, 0.63, 0.68, 0.59, 0.64, 0.59, 0.61, 0.65]\n",
    "}))\n",
    "data.append(pd.DataFrame({\n",
    "    'Method': r'GEM',\n",
    "    'Case': 'sub',\n",
    "    'Accuracy':[0.55, 0.65, 0.66, 0.52, 0.7, 0.66, 0.69, 0.58, 0.51, 0.52, 0.53, 0.6, 0.6, 0.55, 0.62, 0.61, 0.57, 0.57, 0.52, 0.6, 0.63, 0.57, 0.62, 0.53, 0.66, 0.7, 0.47, 0.58, 0.67, 0.61, 0.59, 0.55, 0.58, 0.52, 0.59, 0.59, 0.63, 0.52, 0.6, 0.46, 0.56, 0.47, 0.44, 0.59, 0.64, 0.46, 0.5, 0.49, 0.6, 0.68, 0.66, 0.56, 0.7, 0.41, 0.47, 0.59, 0.54, 0.71, 0.57, 0.57, 0.62, 0.65, 0.6, 0.57, 0.57, 0.53, 0.52, 0.58, 0.68, 0.48, 0.69, 0.56, 0.57, 0.54, 0.57, 0.58, 0.36, 0.55, 0.59, 0.62, 0.49, 0.61, 0.63, 0.49, 0.51, 0.44, 0.55, 0.57, 0.53, 0.61, 0.52, 0.63, 0.5, 0.61, 0.57, 0.51, 0.56, 0.58, 0.62, 0.42, 0.55, 0.58, 0.52, 0.61, 0.53, 0.56, 0.54, 0.56, 0.7, 0.54, 0.75, 0.46, 0.51, 0.58, 0.52, 0.6, 0.41, 0.51, 0.52, 0.46, 0.5, 0.57, 0.54, 0.6, 0.48, 0.58, 0.66, 0.67, 0.47, 0.59, 0.61, 0.52, 0.48, 0.59, 0.6, 0.54, 0.4, 0.43, 0.48, 0.58, 0.75, 0.52, 0.62, 0.61, 0.62, 0.52, 0.5, 0.61, 0.59, 0.49, 0.59, 0.54, 0.6, 0.48, 0.65, 0.6, 0.61, 0.37, 0.66, 0.55, 0.59, 0.61, 0.51, 0.57, 0.53, 0.58, 0.41, 0.69, 0.58, 0.64, 0.62, 0.7, 0.6, 0.59, 0.55, 0.55, 0.51, 0.55, 0.58, 0.5, 0.49, 0.52, 0.58, 0.53, 0.5, 0.67, 0.69, 0.56, 0.59, 0.62, 0.56, 0.58, 0.55, 0.55, 0.52, 0.6, 0.51, 0.46, 0.59, 0.48, 0.69, 0.54, 0.43, 0.55, 0.66, 0.59, 0.6, 0.62, 0.51, 0.67, 0.46, 0.46, 0.54, 0.59, 0.41, 0.65, 0.61, 0.68, 0.47, 0.63, 0.55, 0.6, 0.57, 0.45, 0.46, 0.58, 0.54, 0.54, 0.53, 0.53, 0.53, 0.55, 0.51, 0.62, 0.47, 0.55, 0.44, 0.64, 0.52, 0.53, 0.59, 0.61, 0.54, 0.7, 0.49, 0.54, 0.42, 0.58, 0.57, 0.57, 0.54, 0.59, 0.63, 0.5, 0.59, 0.63, 0.59, 0.64, 0.6, 0.61, 0.58, 0.47, 0.64, 0.51, 0.54, 0.59, 0.63, 0.61, 0.58, 0.64, 0.58, 0.54, 0.63, 0.61, 0.54, 0.54, 0.52, 0.59, 0.6, 0.59, 0.48, 0.6, 0.56, 0.63, 0.46, 0.6, 0.54, 0.55, 0.74, 0.61, 0.39, 0.67, 0.44, 0.54, 0.71, 0.63, 0.47, 0.51, 0.53, 0.51]\n",
    "}))\n",
    "data.append(pd.DataFrame({\n",
    "    'Method': r'GEM',\n",
    "    'Case': 'non',\n",
    "    'Accuracy':[0.64, 0.73, 0.62, 0.63, 0.75, 0.69, 0.59, 0.62, 0.51, 0.61, 0.58, 0.67, 0.69, 0.63, 0.51, 0.71, 0.72, 0.56, 0.71, 0.6, 0.71, 0.54, 0.59, 0.5, 0.53, 0.69, 0.55, 0.64, 0.63, 0.7, 0.58, 0.53, 0.52, 0.66, 0.61, 0.6, 0.69, 0.62, 0.64, 0.51, 0.61, 0.65, 0.53, 0.64, 0.7, 0.56, 0.53, 0.64, 0.53, 0.71, 0.67, 0.6, 0.78, 0.54, 0.55, 0.6, 0.67, 0.68, 0.46, 0.5, 0.49, 0.66, 0.54, 0.64, 0.6, 0.67, 0.64, 0.6, 0.6, 0.57, 0.59, 0.55, 0.69, 0.62, 0.48, 0.63, 0.4, 0.64, 0.63, 0.59, 0.73, 0.55, 0.68, 0.63, 0.58, 0.54, 0.55, 0.65, 0.79, 0.54, 0.64, 0.69, 0.56, 0.67, 0.46, 0.62, 0.59, 0.64, 0.53, 0.49, 0.65, 0.66, 0.62, 0.59, 0.64, 0.55, 0.69, 0.52, 0.68, 0.55, 0.66, 0.6, 0.68, 0.51, 0.65, 0.61, 0.62, 0.63, 0.59, 0.57, 0.69, 0.59, 0.59, 0.61, 0.63, 0.58, 0.73, 0.76, 0.67, 0.59, 0.52, 0.57, 0.55, 0.58, 0.76, 0.59, 0.46, 0.52, 0.6, 0.63, 0.66, 0.45, 0.63, 0.65, 0.68, 0.67, 0.59, 0.7, 0.57, 0.63, 0.61, 0.71, 0.67, 0.67, 0.64, 0.61, 0.77, 0.65, 0.66, 0.66, 0.64, 0.64, 0.6, 0.59, 0.64, 0.58, 0.64, 0.65, 0.69, 0.7, 0.61, 0.59, 0.51, 0.58, 0.65, 0.65, 0.66, 0.59, 0.59, 0.67, 0.68, 0.61, 0.57, 0.56, 0.61, 0.56, 0.73, 0.68, 0.59, 0.61, 0.64, 0.53, 0.53, 0.51, 0.53, 0.52, 0.56, 0.5, 0.63, 0.64, 0.58, 0.62, 0.62, 0.6, 0.6, 0.73, 0.8, 0.6, 0.71, 0.7, 0.64, 0.62, 0.7, 0.67, 0.61, 0.62, 0.52, 0.69, 0.6, 0.64, 0.67, 0.63, 0.66, 0.4, 0.58, 0.69, 0.67, 0.62, 0.72, 0.61, 0.64, 0.62, 0.74, 0.69, 0.55, 0.6, 0.46, 0.5, 0.51, 0.65, 0.74, 0.59, 0.59, 0.66, 0.67, 0.53, 0.6, 0.65, 0.69, 0.65, 0.7, 0.62, 0.65, 0.63, 0.64, 0.63, 0.65, 0.63, 0.6, 0.76, 0.54, 0.62, 0.56, 0.67, 0.6, 0.57, 0.66, 0.59, 0.58, 0.57, 0.61, 0.58, 0.58, 0.53, 0.59, 0.6, 0.61, 0.65, 0.65, 0.72, 0.67, 0.74, 0.63, 0.62, 0.61, 0.55, 0.65, 0.58, 0.63, 0.62, 0.51, 0.63, 0.66, 0.64, 0.72, 0.64, 0.62, 0.6, 0.68, 0.68]\n",
    "}))\n",
    "data.append(pd.DataFrame({\n",
    "    'Method': r'GEM',\n",
    "    'Case': 'noc',\n",
    "    'Accuracy':[0.39, 0.49, 0.33, 0.35, 0.33, 0.3, 0.35, 0.19, 0.44, 0.38, 0.33, 0.32, 0.34, 0.28, 0.43, 0.45, 0.42, 0.31, 0.32, 0.25, 0.36, 0.46, 0.42, 0.29, 0.4, 0.33, 0.43, 0.27, 0.35, 0.33, 0.48, 0.35, 0.45, 0.28, 0.21, 0.49, 0.36, 0.41, 0.32, 0.4, 0.42, 0.41, 0.28, 0.32, 0.44, 0.19, 0.42, 0.31, 0.48, 0.29, 0.48, 0.41, 0.49, 0.47, 0.34, 0.44, 0.27, 0.3, 0.31, 0.33, 0.36, 0.43, 0.28, 0.32, 0.46, 0.35, 0.37, 0.28, 0.3, 0.41, 0.34, 0.27, 0.38, 0.29, 0.39, 0.44, 0.42, 0.41, 0.34, 0.36, 0.38, 0.41, 0.33, 0.44, 0.41, 0.4, 0.35, 0.32, 0.44, 0.35, 0.38, 0.35, 0.34, 0.37, 0.29, 0.36, 0.3, 0.26, 0.36, 0.34, 0.42, 0.42, 0.29, 0.36, 0.25, 0.33, 0.24, 0.24, 0.39, 0.28, 0.35, 0.34, 0.28, 0.33, 0.42, 0.34, 0.3, 0.35, 0.34, 0.36, 0.47, 0.46, 0.28, 0.34, 0.18, 0.45, 0.2, 0.5, 0.28, 0.49, 0.28, 0.33, 0.26, 0.28, 0.26, 0.38, 0.25, 0.31, 0.35, 0.33, 0.36, 0.34, 0.4, 0.42, 0.44, 0.34, 0.35, 0.35, 0.33, 0.42, 0.37, 0.32, 0.44, 0.36, 0.34, 0.4, 0.38, 0.44, 0.4, 0.43, 0.37, 0.38, 0.35, 0.27, 0.17, 0.27, 0.32, 0.29, 0.35, 0.25, 0.3, 0.43, 0.39, 0.41, 0.32, 0.45, 0.25, 0.32, 0.4, 0.55, 0.35, 0.43, 0.39, 0.35, 0.37, 0.33, 0.34, 0.26, 0.28, 0.32, 0.42, 0.42, 0.28, 0.39, 0.43, 0.38, 0.37, 0.39, 0.26, 0.29, 0.34, 0.25, 0.36, 0.33, 0.35, 0.25, 0.46, 0.29, 0.31, 0.27, 0.38, 0.32, 0.39, 0.35, 0.32, 0.33, 0.27, 0.35, 0.29, 0.28, 0.33, 0.33, 0.32, 0.32, 0.26, 0.27, 0.35, 0.4200000000000001, 0.51, 0.39, 0.43, 0.37, 0.35, 0.43, 0.4, 0.33, 0.3, 0.44, 0.37, 0.39, 0.43, 0.34, 0.3, 0.25, 0.39, 0.37, 0.37, 0.41, 0.28, 0.31, 0.33, 0.38, 0.37, 0.39, 0.38, 0.49, 0.4, 0.27, 0.41, 0.38, 0.36, 0.35, 0.38, 0.3, 0.36, 0.39, 0.28, 0.27, 0.36, 0.32, 0.38, 0.36, 0.31, 0.39, 0.41, 0.31, 0.33, 0.39, 0.43, 0.39, 0.31, 0.35, 0.33, 0.4, 0.43, 0.35, 0.3, 0.3, 0.3, 0.47, 0.24, 0.34, 0.44, 0.46, 0.33, 0.44, 0.25, 0.31, 0.47, 0.31]\n",
    "}))\n",
    "r'LwF$\\dagger$'\n",
    "data.append(pd.DataFrame({\n",
    "    'Method': r'LwF$\\dagger$',\n",
    "    'Case': 'sys',\n",
    "    'Accuracy':[0.66, 0.59, 0.63, 0.64, 0.61, 0.57, 0.53, 0.56, 0.5, 0.6, 0.57, 0.59, 0.54, 0.57, 0.54, 0.46, 0.71, 0.62, 0.64, 0.61, 0.59, 0.51, 0.61, 0.71, 0.56, 0.57, 0.52, 0.5, 0.6, 0.63, 0.62, 0.52, 0.56, 0.63, 0.42, 0.55, 0.59, 0.52, 0.59, 0.67, 0.51, 0.64, 0.48, 0.56, 0.5, 0.64, 0.58, 0.48, 0.66, 0.57, 0.46, 0.67, 0.49, 0.6, 0.49, 0.48, 0.65, 0.53, 0.52, 0.62, 0.57, 0.63, 0.47, 0.58, 0.68, 0.58, 0.69, 0.45, 0.63, 0.46, 0.5, 0.43, 0.53, 0.65, 0.52, 0.53, 0.66, 0.66, 0.57, 0.67, 0.57, 0.49, 0.63, 0.65, 0.47, 0.52, 0.54, 0.65, 0.6, 0.49, 0.61, 0.61, 0.61, 0.52, 0.54, 0.48, 0.57, 0.64, 0.55, 0.57, 0.61, 0.6, 0.54, 0.49, 0.63, 0.5, 0.53, 0.47, 0.69, 0.5, 0.44, 0.61, 0.69, 0.54, 0.58, 0.5, 0.62, 0.62, 0.56, 0.66, 0.46, 0.67, 0.54, 0.66, 0.53, 0.62, 0.58, 0.54, 0.52, 0.61, 0.63, 0.52, 0.55, 0.52, 0.54, 0.54, 0.49, 0.71, 0.6, 0.63, 0.58, 0.62, 0.6, 0.71, 0.69, 0.58, 0.57, 0.69, 0.65, 0.61, 0.65, 0.65, 0.64, 0.4, 0.56, 0.54, 0.58, 0.68, 0.6, 0.52, 0.58, 0.54, 0.56, 0.54, 0.57, 0.65, 0.52, 0.59, 0.76, 0.72, 0.43, 0.6, 0.59, 0.5, 0.63, 0.63, 0.57, 0.41, 0.62, 0.58, 0.5, 0.65, 0.66, 0.57, 0.53, 0.56, 0.71, 0.55, 0.62, 0.69, 0.4, 0.5, 0.58, 0.72, 0.62, 0.67, 0.59, 0.5, 0.59, 0.54, 0.64, 0.68, 0.67, 0.62, 0.68, 0.56, 0.66, 0.51, 0.58, 0.57, 0.56, 0.44, 0.52, 0.61, 0.46, 0.65, 0.6, 0.57, 0.46, 0.47, 0.62, 0.54, 0.58, 0.61, 0.38, 0.66, 0.65, 0.44, 0.56, 0.61, 0.58, 0.48, 0.48, 0.49, 0.49, 0.53, 0.61, 0.55, 0.56, 0.48, 0.62, 0.61, 0.61, 0.57, 0.55, 0.65, 0.48, 0.49, 0.61, 0.54, 0.54, 0.61, 0.52, 0.51, 0.67, 0.58, 0.58, 0.64, 0.48, 0.59, 0.52, 0.64, 0.49, 0.4, 0.58, 0.44, 0.55, 0.66, 0.6, 0.46, 0.54, 0.59, 0.61, 0.68, 0.73, 0.67, 0.71, 0.59, 0.5, 0.62, 0.48, 0.63, 0.38, 0.64, 0.56, 0.68, 0.65, 0.62, 0.56, 0.46, 0.6, 0.48, 0.61, 0.66, 0.51, 0.45, 0.51, 0.64, 0.67, 0.51]\n",
    "}))\n",
    "data.append(pd.DataFrame({\n",
    "    'Method': r'LwF$\\dagger$',\n",
    "    'Case': 'pro',\n",
    "    'Accuracy':[0.57, 0.61, 0.51, 0.63, 0.63, 0.64, 0.54, 0.66, 0.63, 0.77, 0.57, 0.42, 0.69, 0.63, 0.65, 0.64, 0.48, 0.7, 0.58, 0.53, 0.62, 0.61, 0.76, 0.6, 0.51, 0.55, 0.66, 0.7, 0.68, 0.49, 0.59, 0.7, 0.6, 0.74, 0.61, 0.61, 0.66, 0.63, 0.68, 0.57, 0.61, 0.7, 0.61, 0.67, 0.58, 0.73, 0.51, 0.6, 0.65, 0.48, 0.62, 0.61, 0.44, 0.62, 0.69, 0.74, 0.75, 0.59, 0.53, 0.65, 0.67, 0.67, 0.5, 0.48, 0.69, 0.64, 0.53, 0.59, 0.45, 0.64, 0.79, 0.7, 0.78, 0.66, 0.61, 0.58, 0.62, 0.76, 0.53, 0.67, 0.71, 0.57, 0.52, 0.69, 0.6, 0.64, 0.64, 0.66, 0.59, 0.61, 0.64, 0.53, 0.66, 0.64, 0.69, 0.59, 0.68, 0.59, 0.54, 0.66, 0.65, 0.73, 0.57, 0.55, 0.66, 0.51, 0.59, 0.64, 0.54, 0.63, 0.8, 0.57, 0.64, 0.61, 0.55, 0.79, 0.62, 0.7, 0.64, 0.59, 0.61, 0.73, 0.62, 0.54, 0.67, 0.71, 0.72, 0.55, 0.68, 0.6, 0.52, 0.6, 0.67, 0.7, 0.63, 0.62, 0.68, 0.53, 0.57, 0.51, 0.63, 0.62, 0.62, 0.67, 0.61, 0.68, 0.65, 0.56, 0.68, 0.62, 0.69, 0.61, 0.66, 0.63, 0.65, 0.48, 0.6, 0.59, 0.55, 0.58, 0.61, 0.64, 0.66, 0.62, 0.64, 0.73, 0.63, 0.77, 0.59, 0.57, 0.65, 0.53, 0.61, 0.63, 0.56, 0.58, 0.68, 0.59, 0.58, 0.62, 0.62, 0.69, 0.57, 0.73, 0.64, 0.55, 0.59, 0.56, 0.57, 0.56, 0.63, 0.63, 0.67, 0.68, 0.64, 0.72, 0.5, 0.63, 0.65, 0.67, 0.51, 0.73, 0.52, 0.67, 0.56, 0.68, 0.56, 0.57, 0.48, 0.67, 0.53, 0.62, 0.62, 0.52, 0.59, 0.64, 0.64, 0.55, 0.65, 0.6, 0.75, 0.61, 0.69, 0.65, 0.61, 0.52, 0.64, 0.66, 0.5, 0.53, 0.61, 0.65, 0.58, 0.7, 0.61, 0.65, 0.65, 0.59, 0.52, 0.56, 0.6, 0.6, 0.73, 0.33, 0.65, 0.58, 0.63, 0.62, 0.64, 0.68, 0.52, 0.63, 0.55, 0.54, 0.7, 0.61, 0.62, 0.62, 0.58, 0.54, 0.64, 0.53, 0.71, 0.68, 0.58, 0.59, 0.68, 0.67, 0.69, 0.69, 0.56, 0.61, 0.68, 0.66, 0.77, 0.58, 0.58, 0.59, 0.63, 0.5, 0.63, 0.61, 0.7, 0.69, 0.68, 0.69, 0.6, 0.6, 0.59, 0.66, 0.56, 0.6, 0.63, 0.58, 0.57, 0.53, 0.6, 0.59, 0.68, 0.59]\n",
    "}))\n",
    "data.append(pd.DataFrame({\n",
    "    'Method': r'LwF$\\dagger$',\n",
    "    'Case': 'sub',\n",
    "    'Accuracy':[0.52, 0.56, 0.54, 0.43, 0.73, 0.62, 0.45, 0.57, 0.59, 0.52, 0.41, 0.72, 0.55, 0.61, 0.5, 0.69, 0.5, 0.57, 0.59, 0.64, 0.67, 0.6, 0.55, 0.6, 0.7, 0.68, 0.49, 0.62, 0.59, 0.54, 0.51, 0.48, 0.56, 0.59, 0.59, 0.54, 0.54, 0.54, 0.63, 0.57, 0.6, 0.5, 0.62, 0.62, 0.61, 0.51, 0.57, 0.48, 0.49, 0.66, 0.52, 0.56, 0.74, 0.46, 0.45, 0.57, 0.54, 0.65, 0.44, 0.41, 0.42, 0.53, 0.51, 0.57, 0.55, 0.61, 0.51, 0.54, 0.62, 0.37, 0.55, 0.58, 0.47, 0.59, 0.52, 0.67, 0.49, 0.53, 0.61, 0.6, 0.58, 0.45, 0.47, 0.56, 0.56, 0.44, 0.69, 0.56, 0.6, 0.55, 0.57, 0.58, 0.57, 0.51, 0.45, 0.61, 0.44, 0.5, 0.43, 0.34, 0.55, 0.58, 0.59, 0.5, 0.42, 0.47, 0.65, 0.65, 0.59, 0.52, 0.71, 0.6, 0.49, 0.44, 0.5, 0.5, 0.5, 0.48, 0.54, 0.51, 0.58, 0.46, 0.6, 0.5, 0.52, 0.51, 0.61, 0.71, 0.57, 0.62, 0.49, 0.42, 0.41, 0.57, 0.78, 0.5, 0.59, 0.51, 0.42, 0.62, 0.77, 0.54, 0.66, 0.58, 0.66, 0.49, 0.48, 0.45, 0.62, 0.41, 0.48, 0.42, 0.63, 0.54, 0.6, 0.59, 0.59, 0.42, 0.63, 0.5, 0.54, 0.64, 0.58, 0.49, 0.62, 0.57, 0.44, 0.52, 0.6, 0.49, 0.42, 0.45, 0.58, 0.55, 0.49, 0.45, 0.53, 0.5, 0.67, 0.43, 0.56, 0.51, 0.5, 0.55, 0.58, 0.55, 0.52, 0.55, 0.63, 0.5, 0.56, 0.6, 0.51, 0.54, 0.53, 0.59, 0.55, 0.39, 0.72, 0.48, 0.65, 0.51, 0.64, 0.47, 0.45, 0.6, 0.58, 0.5, 0.49, 0.68, 0.58, 0.43, 0.61, 0.36, 0.59, 0.56, 0.43, 0.53, 0.39, 0.4, 0.57, 0.49, 0.57, 0.42, 0.51, 0.57, 0.63, 0.5, 0.63, 0.35, 0.51, 0.47, 0.63, 0.57, 0.62, 0.56, 0.45, 0.56, 0.42, 0.51, 0.57, 0.56, 0.5, 0.53, 0.56, 0.41, 0.53, 0.49, 0.55, 0.58, 0.54, 0.57, 0.65, 0.52, 0.63, 0.33, 0.49, 0.57, 0.51, 0.5, 0.52, 0.56, 0.66, 0.63, 0.47, 0.53, 0.59, 0.53, 0.61, 0.52, 0.48, 0.59, 0.51, 0.56, 0.53, 0.6, 0.45, 0.51, 0.54, 0.61, 0.35, 0.63, 0.5, 0.58, 0.54, 0.49, 0.59, 0.58, 0.73, 0.64, 0.41, 0.64, 0.5, 0.5, 0.72, 0.63, 0.56, 0.63, 0.6, 0.6]\n",
    "}))\n",
    "data.append(pd.DataFrame({\n",
    "    'Method': r'LwF$\\dagger$',\n",
    "    'Case': 'non',\n",
    "    'Accuracy':[0.72, 0.61, 0.52, 0.65, 0.62, 0.5, 0.53, 0.64, 0.49, 0.44, 0.58, 0.63, 0.71, 0.44, 0.49, 0.6, 0.45, 0.6, 0.58, 0.61, 0.45, 0.49, 0.6, 0.49, 0.54, 0.65, 0.49, 0.6, 0.53, 0.6, 0.5, 0.47, 0.48, 0.64, 0.52, 0.5, 0.51, 0.58, 0.65, 0.52, 0.55, 0.52, 0.5, 0.56, 0.65, 0.59, 0.5, 0.67, 0.51, 0.68, 0.64, 0.58, 0.64, 0.49, 0.6, 0.55, 0.62, 0.68, 0.49, 0.47, 0.58, 0.52, 0.64, 0.58, 0.55, 0.56, 0.58, 0.55, 0.56, 0.55, 0.59, 0.61, 0.6, 0.51, 0.49, 0.57, 0.42, 0.62, 0.49, 0.55, 0.7, 0.5, 0.58, 0.62, 0.55, 0.38, 0.53, 0.65, 0.58, 0.58, 0.56, 0.52, 0.49, 0.56, 0.48, 0.58, 0.6, 0.65, 0.58, 0.55, 0.59, 0.6, 0.61, 0.6, 0.5, 0.39, 0.55, 0.47, 0.59, 0.58, 0.67, 0.53, 0.71, 0.61, 0.59, 0.52, 0.49, 0.59, 0.56, 0.48, 0.66, 0.62, 0.55, 0.51, 0.52, 0.62, 0.54, 0.58, 0.58, 0.51, 0.53, 0.53, 0.37, 0.51, 0.53, 0.55, 0.59, 0.49, 0.62, 0.6, 0.69, 0.49, 0.49, 0.57, 0.4, 0.7, 0.43, 0.61, 0.5, 0.55, 0.56, 0.62, 0.62, 0.57, 0.61, 0.45, 0.61, 0.65, 0.67, 0.53, 0.62, 0.61, 0.49, 0.47, 0.61, 0.57, 0.46, 0.6, 0.6, 0.7, 0.51, 0.61, 0.59, 0.49, 0.54, 0.49, 0.51, 0.52, 0.54, 0.65, 0.73, 0.4, 0.4, 0.34, 0.51, 0.46, 0.58, 0.48, 0.59, 0.6, 0.57, 0.53, 0.58, 0.42, 0.57, 0.42, 0.49, 0.48, 0.6, 0.6, 0.55, 0.56, 0.53, 0.61, 0.54, 0.69, 0.77, 0.6, 0.49, 0.64, 0.64, 0.61, 0.65, 0.58, 0.55, 0.44, 0.43, 0.48, 0.49, 0.66, 0.53, 0.53, 0.59, 0.44, 0.52, 0.59, 0.63, 0.58, 0.71, 0.57, 0.57, 0.44, 0.56, 0.6, 0.5, 0.46, 0.46, 0.53, 0.56, 0.61, 0.65, 0.59, 0.49, 0.51, 0.6, 0.52, 0.54, 0.63, 0.61, 0.44, 0.64, 0.51, 0.52, 0.61, 0.4, 0.47, 0.59, 0.59, 0.51, 0.71, 0.54, 0.53, 0.52, 0.58, 0.66, 0.69, 0.57, 0.63, 0.59, 0.61, 0.58, 0.61, 0.62, 0.49, 0.39, 0.59, 0.52, 0.46, 0.62, 0.54, 0.47, 0.66, 0.69, 0.5, 0.59, 0.49, 0.5, 0.53, 0.53, 0.49, 0.46, 0.62, 0.63, 0.52, 0.7, 0.58, 0.51, 0.63, 0.5, 0.33]\n",
    "}))\n",
    "data.append(pd.DataFrame({\n",
    "    'Method': r'LwF$\\dagger$',\n",
    "    'Case': 'noc',\n",
    "    'Accuracy':[0.41, 0.39, 0.25, 0.48, 0.36, 0.36, 0.47, 0.3, 0.55, 0.43, 0.46, 0.42, 0.43, 0.28, 0.43, 0.35, 0.39, 0.48, 0.33, 0.37, 0.38, 0.44, 0.47, 0.47, 0.37, 0.36, 0.46, 0.38, 0.31, 0.41, 0.47, 0.39, 0.42, 0.38, 0.35, 0.47, 0.35, 0.44, 0.34, 0.43, 0.36, 0.25, 0.27, 0.34, 0.38, 0.4, 0.46, 0.36, 0.5, 0.41, 0.44, 0.42, 0.59, 0.39, 0.33, 0.44, 0.41, 0.4, 0.37, 0.36, 0.47, 0.44, 0.51, 0.35, 0.46, 0.34, 0.38, 0.43, 0.54, 0.4, 0.41, 0.35, 0.43, 0.34, 0.44, 0.37, 0.36, 0.37, 0.36, 0.4, 0.39, 0.45, 0.31, 0.37, 0.39, 0.48, 0.59, 0.48, 0.55, 0.42, 0.41, 0.36, 0.34, 0.48, 0.27, 0.4, 0.3, 0.29, 0.42, 0.47, 0.37, 0.4, 0.34, 0.47, 0.35, 0.44, 0.36, 0.33, 0.4, 0.37, 0.52, 0.47, 0.39, 0.27, 0.43, 0.29, 0.21, 0.44, 0.32, 0.41, 0.5, 0.59, 0.28, 0.67, 0.28, 0.45, 0.34, 0.49, 0.36, 0.58, 0.23, 0.37, 0.41, 0.35, 0.3, 0.37, 0.3, 0.39, 0.28, 0.33, 0.43, 0.42, 0.41, 0.23, 0.44, 0.33, 0.34, 0.47, 0.33, 0.47, 0.31, 0.32, 0.34, 0.28, 0.45, 0.41, 0.48, 0.33, 0.39, 0.55, 0.41, 0.4, 0.48, 0.31, 0.4, 0.36, 0.3, 0.37, 0.49, 0.43, 0.35, 0.29, 0.32, 0.45, 0.35, 0.54, 0.31, 0.52, 0.42, 0.46, 0.44, 0.53, 0.54, 0.42, 0.38, 0.35, 0.36, 0.27, 0.33, 0.44, 0.49, 0.48, 0.4, 0.45, 0.52, 0.36, 0.47, 0.35, 0.43, 0.39, 0.52, 0.35, 0.33, 0.36, 0.28, 0.32, 0.47, 0.31, 0.37, 0.49, 0.46, 0.35, 0.34, 0.38, 0.25, 0.34, 0.43, 0.27, 0.36, 0.22, 0.49, 0.45, 0.4, 0.33, 0.42, 0.43, 0.44, 0.38, 0.46, 0.47, 0.37, 0.41, 0.33, 0.35, 0.32, 0.4, 0.36, 0.51, 0.3, 0.39, 0.36, 0.38, 0.31, 0.31, 0.37, 0.42, 0.42, 0.5, 0.34, 0.38, 0.4, 0.45, 0.41, 0.54, 0.43, 0.42, 0.44, 0.29, 0.41, 0.33, 0.35, 0.53, 0.37, 0.36, 0.29, 0.34, 0.41, 0.44, 0.47, 0.32, 0.43, 0.31, 0.29, 0.45, 0.41, 0.29, 0.43, 0.42, 0.45, 0.52, 0.47, 0.36, 0.39, 0.44, 0.4, 0.39, 0.35, 0.38, 0.36, 0.45, 0.35, 0.45, 0.48, 0.45, 0.47, 0.5, 0.32, 0.36, 0.4200000000000001, 0.47]\n",
    "}))\n",
    "r'LwF'\n",
    "data.append(pd.DataFrame({\n",
    "    'Method': r'LwF',\n",
    "    'Case': 'sys',\n",
    "    'Accuracy':[0.75, 0.7, 0.74, 0.66, 0.65, 0.64, 0.64, 0.71, 0.72, 0.65, 0.71, 0.66, 0.61, 0.53, 0.7, 0.7, 0.78, 0.69, 0.66, 0.69, 0.65, 0.68, 0.72, 0.73, 0.67, 0.71, 0.73, 0.64, 0.69, 0.74, 0.77, 0.65, 0.74, 0.75, 0.58, 0.68, 0.7, 0.68, 0.61, 0.75, 0.79, 0.72, 0.62, 0.71, 0.66, 0.66, 0.67, 0.7, 0.78, 0.67, 0.62, 0.69, 0.64, 0.68, 0.62, 0.7, 0.69, 0.68, 0.71, 0.68, 0.73, 0.65, 0.62, 0.68, 0.76, 0.74, 0.68, 0.7, 0.69, 0.67, 0.77, 0.66, 0.52, 0.72, 0.7, 0.72, 0.78, 0.71, 0.75, 0.75, 0.67, 0.75, 0.7, 0.81, 0.73, 0.71, 0.69, 0.72, 0.73, 0.64, 0.71, 0.73, 0.72, 0.66, 0.68, 0.74, 0.6, 0.7, 0.65, 0.66, 0.72, 0.62, 0.7, 0.61, 0.77, 0.69, 0.7, 0.76, 0.76, 0.66, 0.57, 0.7, 0.76, 0.74, 0.75, 0.67, 0.71, 0.7, 0.76, 0.7, 0.69, 0.63, 0.58, 0.63, 0.58, 0.63, 0.63, 0.66, 0.59, 0.61, 0.68, 0.72, 0.66, 0.58, 0.61, 0.67, 0.69, 0.8, 0.58, 0.68, 0.69, 0.72, 0.67, 0.79, 0.73, 0.65, 0.72, 0.72, 0.65, 0.62, 0.62, 0.74, 0.68, 0.64, 0.63, 0.71, 0.73, 0.79, 0.66, 0.62, 0.84, 0.72, 0.65, 0.72, 0.68, 0.74, 0.66, 0.67, 0.76, 0.84, 0.58, 0.74, 0.71, 0.71, 0.76, 0.73, 0.71, 0.7, 0.68, 0.63, 0.75, 0.71, 0.69, 0.73, 0.74, 0.61, 0.79, 0.73, 0.73, 0.74, 0.48, 0.57, 0.64, 0.58, 0.74, 0.79, 0.67, 0.56, 0.71, 0.68, 0.65, 0.75, 0.75, 0.66, 0.76, 0.63, 0.73, 0.7, 0.67, 0.68, 0.67, 0.71, 0.68, 0.7, 0.59, 0.7, 0.68, 0.69, 0.71, 0.65, 0.69, 0.52, 0.65, 0.67, 0.59, 0.74, 0.73, 0.72, 0.66, 0.67, 0.64, 0.71, 0.79, 0.58, 0.66, 0.56, 0.75, 0.56, 0.7, 0.66, 0.67, 0.72, 0.7, 0.66, 0.61, 0.64, 0.58, 0.68, 0.68, 0.67, 0.6, 0.67, 0.61, 0.59, 0.67, 0.71, 0.7, 0.76, 0.57, 0.71, 0.72, 0.66, 0.67, 0.76, 0.65, 0.76, 0.67, 0.71, 0.66, 0.55, 0.66, 0.66, 0.73, 0.73, 0.76, 0.7, 0.68, 0.71, 0.73, 0.64, 0.67, 0.71, 0.59, 0.71, 0.59, 0.7, 0.78, 0.66, 0.72, 0.63, 0.65, 0.72, 0.67, 0.64, 0.58, 0.72, 0.73, 0.67, 0.68, 0.63]\n",
    "}))\n",
    "data.append(pd.DataFrame({\n",
    "    'Method': r'LwF',\n",
    "    'Case': 'pro',\n",
    "    'Accuracy':[0.72, 0.69, 0.65, 0.68, 0.77, 0.7, 0.7, 0.73, 0.79, 0.73, 0.67, 0.62, 0.77, 0.7, 0.7, 0.62, 0.66, 0.78, 0.65, 0.65, 0.69, 0.74, 0.69, 0.69, 0.61, 0.72, 0.64, 0.77, 0.83, 0.67, 0.71, 0.77, 0.7, 0.84, 0.72, 0.72, 0.67, 0.63, 0.79, 0.71, 0.82, 0.72, 0.72, 0.72, 0.67, 0.75, 0.72, 0.76, 0.67, 0.57, 0.68, 0.72, 0.61, 0.75, 0.69, 0.74, 0.78, 0.78, 0.67, 0.7, 0.69, 0.86, 0.75, 0.66, 0.84, 0.72, 0.66, 0.75, 0.62, 0.72, 0.86, 0.68, 0.75, 0.73, 0.78, 0.68, 0.73, 0.74, 0.6, 0.76, 0.8, 0.67, 0.7, 0.77, 0.68, 0.73, 0.66, 0.74, 0.74, 0.71, 0.79, 0.6, 0.76, 0.78, 0.74, 0.7, 0.71, 0.64, 0.75, 0.77, 0.75, 0.77, 0.68, 0.67, 0.77, 0.67, 0.73, 0.76, 0.79, 0.72, 0.85, 0.8, 0.64, 0.62, 0.7, 0.81, 0.56, 0.72, 0.65, 0.69, 0.66, 0.77, 0.68, 0.69, 0.74, 0.76, 0.84, 0.68, 0.62, 0.76, 0.61, 0.63, 0.67, 0.76, 0.68, 0.61, 0.78, 0.66, 0.71, 0.56, 0.71, 0.76, 0.75, 0.8, 0.69, 0.72, 0.69, 0.62, 0.75, 0.7, 0.69, 0.71, 0.72, 0.76, 0.73, 0.63, 0.73, 0.69, 0.64, 0.6, 0.66, 0.67, 0.75, 0.74, 0.69, 0.8, 0.71, 0.77, 0.73, 0.74, 0.74, 0.67, 0.77, 0.74, 0.69, 0.73, 0.66, 0.66, 0.72, 0.72, 0.72, 0.72, 0.71, 0.75, 0.73, 0.72, 0.72, 0.67, 0.66, 0.68, 0.67, 0.74, 0.69, 0.73, 0.68, 0.72, 0.64, 0.75, 0.75, 0.72, 0.6, 0.86, 0.6, 0.71, 0.68, 0.73, 0.67, 0.64, 0.64, 0.75, 0.62, 0.76, 0.66, 0.58, 0.65, 0.65, 0.7, 0.75, 0.67, 0.74, 0.76, 0.67, 0.77, 0.68, 0.7, 0.68, 0.77, 0.72, 0.61, 0.62, 0.7, 0.64, 0.64, 0.73, 0.63, 0.79, 0.76, 0.72, 0.65, 0.75, 0.63, 0.64, 0.73, 0.68, 0.71, 0.65, 0.64, 0.78, 0.7, 0.78, 0.7, 0.76, 0.74, 0.73, 0.73, 0.67, 0.72, 0.65, 0.61, 0.61, 0.77, 0.71, 0.75, 0.7, 0.74, 0.67, 0.72, 0.65, 0.71, 0.76, 0.73, 0.7, 0.7, 0.71, 0.81, 0.62, 0.76, 0.7, 0.71, 0.65, 0.7, 0.7, 0.82, 0.63, 0.71, 0.74, 0.65, 0.76, 0.65, 0.82, 0.73, 0.7, 0.55, 0.79, 0.66, 0.7, 0.64, 0.69, 0.74, 0.66]\n",
    "}))\n",
    "data.append(pd.DataFrame({\n",
    "    'Method': r'LwF',\n",
    "    'Case': 'sub',\n",
    "    'Accuracy':[0.61, 0.69, 0.6, 0.39, 0.63, 0.71, 0.68, 0.62, 0.68, 0.61, 0.54, 0.61, 0.67, 0.67, 0.52, 0.7, 0.64, 0.56, 0.63, 0.65, 0.67, 0.63, 0.69, 0.63, 0.63, 0.69, 0.63, 0.68, 0.63, 0.68, 0.51, 0.57, 0.6, 0.61, 0.64, 0.71, 0.62, 0.67, 0.59, 0.55, 0.65, 0.56, 0.52, 0.62, 0.65, 0.55, 0.55, 0.5, 0.61, 0.69, 0.54, 0.66, 0.74, 0.48, 0.53, 0.66, 0.5, 0.66, 0.6, 0.58, 0.57, 0.63, 0.62, 0.62, 0.55, 0.58, 0.55, 0.6, 0.66, 0.5, 0.69, 0.61, 0.64, 0.68, 0.59, 0.61, 0.47, 0.5, 0.56, 0.62, 0.6, 0.62, 0.68, 0.72, 0.52, 0.53, 0.65, 0.62, 0.6, 0.64, 0.54, 0.58, 0.57, 0.55, 0.54, 0.56, 0.61, 0.51, 0.58, 0.55, 0.59, 0.65, 0.6, 0.58, 0.67, 0.53, 0.66, 0.64, 0.64, 0.62, 0.66, 0.68, 0.62, 0.6, 0.64, 0.57, 0.54, 0.55, 0.57, 0.57, 0.58, 0.61, 0.57, 0.6, 0.53, 0.64, 0.75, 0.65, 0.59, 0.6, 0.66, 0.5, 0.43, 0.57, 0.69, 0.58, 0.47, 0.44, 0.43, 0.64, 0.73, 0.61, 0.66, 0.61, 0.69, 0.52, 0.38, 0.52, 0.62, 0.63, 0.52, 0.64, 0.67, 0.61, 0.67, 0.67, 0.7, 0.55, 0.72, 0.66, 0.58, 0.58, 0.68, 0.58, 0.65, 0.57, 0.6, 0.71, 0.57, 0.63, 0.61, 0.64, 0.59, 0.67, 0.62, 0.57, 0.7, 0.52, 0.68, 0.55, 0.64, 0.5, 0.64, 0.56, 0.62, 0.59, 0.67, 0.55, 0.61, 0.58, 0.61, 0.68, 0.6, 0.62, 0.58, 0.64, 0.56, 0.44, 0.61, 0.55, 0.73, 0.56, 0.67, 0.62, 0.61, 0.67, 0.64, 0.6, 0.57, 0.58, 0.6, 0.55, 0.61, 0.59, 0.63, 0.62, 0.57, 0.69, 0.53, 0.52, 0.52, 0.55, 0.64, 0.46, 0.57, 0.63, 0.62, 0.58, 0.64, 0.52, 0.6, 0.55, 0.55, 0.59, 0.61, 0.6, 0.5, 0.65, 0.57, 0.62, 0.57, 0.57, 0.59, 0.7, 0.58, 0.55, 0.57, 0.61, 0.61, 0.61, 0.59, 0.55, 0.68, 0.51, 0.65, 0.58, 0.66, 0.62, 0.61, 0.68, 0.59, 0.53, 0.63, 0.58, 0.56, 0.59, 0.64, 0.61, 0.66, 0.65, 0.48, 0.58, 0.56, 0.62, 0.53, 0.54, 0.57, 0.56, 0.56, 0.62, 0.55, 0.65, 0.62, 0.65, 0.58, 0.59, 0.56, 0.64, 0.65, 0.6, 0.55, 0.67, 0.53, 0.68, 0.78, 0.67, 0.54, 0.67, 0.64, 0.59]\n",
    "}))\n",
    "data.append(pd.DataFrame({\n",
    "    'Method': r'LwF',\n",
    "    'Case': 'non',\n",
    "    'Accuracy':[0.82, 0.78, 0.71, 0.68, 0.8, 0.76, 0.65, 0.76, 0.58, 0.61, 0.63, 0.75, 0.77, 0.7, 0.59, 0.67, 0.78, 0.63, 0.72, 0.65, 0.71, 0.64, 0.73, 0.5, 0.58, 0.75, 0.55, 0.63, 0.69, 0.7, 0.59, 0.66, 0.51, 0.71, 0.69, 0.64, 0.68, 0.68, 0.78, 0.5, 0.6, 0.67, 0.59, 0.64, 0.72, 0.73, 0.58, 0.65, 0.66, 0.77, 0.69, 0.72, 0.74, 0.63, 0.63, 0.74, 0.71, 0.73, 0.51, 0.58, 0.63, 0.6, 0.73, 0.69, 0.63, 0.69, 0.67, 0.64, 0.73, 0.54, 0.66, 0.67, 0.65, 0.61, 0.66, 0.66, 0.46, 0.72, 0.73, 0.71, 0.72, 0.6, 0.64, 0.61, 0.59, 0.59, 0.7, 0.7, 0.75, 0.7, 0.7, 0.65, 0.51, 0.67, 0.57, 0.63, 0.73, 0.61, 0.67, 0.62, 0.77, 0.7, 0.72, 0.67, 0.61, 0.67, 0.67, 0.63, 0.72, 0.79, 0.51, 0.69, 0.64, 0.58, 0.65, 0.69, 0.6, 0.71, 0.64, 0.59, 0.66, 0.6, 0.55, 0.73, 0.6, 0.56, 0.73, 0.67, 0.63, 0.62, 0.59, 0.55, 0.6, 0.66, 0.81, 0.7, 0.61, 0.57, 0.67, 0.74, 0.65, 0.68, 0.75, 0.69, 0.61, 0.65, 0.48, 0.66, 0.65, 0.69, 0.64, 0.78, 0.73, 0.7, 0.74, 0.62, 0.85, 0.67, 0.64, 0.67, 0.67, 0.76, 0.65, 0.69, 0.67, 0.68, 0.62, 0.77, 0.73, 0.75, 0.6, 0.68, 0.52, 0.69, 0.64, 0.57, 0.72, 0.69, 0.67, 0.7, 0.66, 0.53, 0.69, 0.47, 0.65, 0.58, 0.75, 0.65, 0.71, 0.6, 0.62, 0.65, 0.65, 0.57, 0.64, 0.62, 0.65, 0.58, 0.69, 0.76, 0.76, 0.59, 0.73, 0.65, 0.6, 0.68, 0.74, 0.6, 0.62, 0.77, 0.63, 0.62, 0.74, 0.7, 0.61, 0.72, 0.56, 0.75, 0.59, 0.78, 0.57, 0.72, 0.71, 0.43, 0.68, 0.74, 0.73, 0.65, 0.79, 0.62, 0.64, 0.68, 0.78, 0.75, 0.61, 0.7, 0.47, 0.56, 0.56, 0.7, 0.76, 0.65, 0.67, 0.6, 0.61, 0.69, 0.63, 0.69, 0.71, 0.73, 0.68, 0.61, 0.65, 0.69, 0.71, 0.64, 0.67, 0.68, 0.59, 0.75, 0.67, 0.69, 0.64, 0.66, 0.59, 0.61, 0.65, 0.68, 0.71, 0.66, 0.64, 0.65, 0.63, 0.65, 0.59, 0.67, 0.63, 0.64, 0.71, 0.63, 0.65, 0.74, 0.7, 0.73, 0.67, 0.61, 0.68, 0.67, 0.64, 0.65, 0.63, 0.7, 0.74, 0.65, 0.83, 0.73, 0.62, 0.74, 0.62, 0.74]\n",
    "}))\n",
    "data.append(pd.DataFrame({\n",
    "    'Method': r'LwF',\n",
    "    'Case': 'noc',\n",
    "    'Accuracy':[0.49, 0.48, 0.33, 0.42, 0.3, 0.33, 0.61, 0.27, 0.56, 0.51, 0.47, 0.57, 0.38, 0.35, 0.43, 0.48, 0.39, 0.52, 0.47, 0.36, 0.4, 0.44, 0.34, 0.38, 0.39, 0.43, 0.43, 0.33, 0.37, 0.38, 0.47, 0.4, 0.43, 0.41, 0.28, 0.42, 0.44, 0.43, 0.35, 0.41, 0.38, 0.55, 0.27, 0.37, 0.46, 0.43, 0.54, 0.32, 0.47, 0.35, 0.45, 0.45, 0.57, 0.44, 0.42, 0.39, 0.4, 0.38, 0.35, 0.33, 0.43, 0.46, 0.44, 0.34, 0.5, 0.41, 0.45, 0.43, 0.42, 0.37, 0.45, 0.34, 0.43, 0.41, 0.37, 0.49, 0.46, 0.34, 0.33, 0.31, 0.54, 0.42, 0.37, 0.52, 0.52, 0.42, 0.49, 0.43, 0.55, 0.4, 0.37, 0.42, 0.42, 0.4, 0.39, 0.39, 0.28, 0.31, 0.39, 0.48, 0.49, 0.4, 0.36, 0.36, 0.29, 0.34, 0.15, 0.36, 0.4, 0.42, 0.43, 0.48, 0.41, 0.21, 0.43, 0.33, 0.43, 0.5, 0.34, 0.34, 0.61, 0.52, 0.38, 0.54, 0.38, 0.51, 0.34, 0.41, 0.43, 0.62, 0.33, 0.41, 0.35, 0.45, 0.3, 0.46, 0.32, 0.38, 0.39, 0.36, 0.44, 0.37, 0.4, 0.45, 0.41, 0.43, 0.37, 0.47, 0.39, 0.5, 0.41, 0.41, 0.47, 0.29, 0.43, 0.56, 0.42, 0.41, 0.39, 0.49, 0.4, 0.46, 0.45, 0.28, 0.4, 0.39, 0.41, 0.36, 0.49, 0.4, 0.35, 0.55, 0.45, 0.42, 0.42, 0.48, 0.35, 0.48, 0.39, 0.44, 0.44, 0.47, 0.56, 0.38, 0.41, 0.33, 0.39, 0.19, 0.32, 0.47, 0.45, 0.46, 0.35, 0.43, 0.5, 0.45, 0.37, 0.51, 0.41, 0.39, 0.45, 0.41, 0.41, 0.41, 0.34, 0.29, 0.46, 0.35, 0.41, 0.43, 0.5, 0.48, 0.41, 0.42, 0.34, 0.43, 0.41, 0.34, 0.39, 0.36, 0.43, 0.44, 0.39, 0.36, 0.35, 0.35, 0.44, 0.45, 0.49, 0.39, 0.43, 0.39, 0.42, 0.39, 0.42, 0.35, 0.36, 0.51, 0.47, 0.47, 0.48, 0.37, 0.41, 0.23, 0.36, 0.42, 0.38, 0.5, 0.38, 0.38, 0.41, 0.57, 0.45, 0.52, 0.4200000000000001, 0.56, 0.41, 0.3, 0.43, 0.43, 0.37, 0.42, 0.42, 0.39, 0.34, 0.37, 0.35, 0.39, 0.45, 0.34, 0.45, 0.43, 0.39, 0.4, 0.5, 0.29, 0.4, 0.42, 0.45, 0.48, 0.44, 0.38, 0.41, 0.41, 0.52, 0.36, 0.42, 0.31, 0.27, 0.42, 0.36, 0.46, 0.39, 0.46, 0.44, 0.53, 0.34, 0.32, 0.41, 0.39]\n",
    "}))\n",
    "r'EWC$\\dagger$'\n",
    "data.append(pd.DataFrame({\n",
    "    'Method': r'EWC$\\dagger$',\n",
    "    'Case': 'sys',\n",
    "    'Accuracy':[0.54, 0.62, 0.67, 0.53, 0.64, 0.61, 0.59, 0.6, 0.71, 0.59, 0.68, 0.51, 0.58, 0.55, 0.63, 0.56, 0.66, 0.52, 0.61, 0.56, 0.55, 0.45, 0.64, 0.62, 0.61, 0.66, 0.69, 0.59, 0.52, 0.48, 0.64, 0.57, 0.56, 0.56, 0.59, 0.52, 0.59, 0.56, 0.56, 0.65, 0.4, 0.63, 0.65, 0.63, 0.48, 0.61, 0.63, 0.62, 0.71, 0.55, 0.5, 0.7, 0.64, 0.59, 0.65, 0.67, 0.38, 0.49, 0.67, 0.55, 0.72, 0.59, 0.51, 0.57, 0.7, 0.61, 0.62, 0.68, 0.5, 0.58, 0.7, 0.57, 0.55, 0.6, 0.6, 0.71, 0.73, 0.66, 0.6, 0.73, 0.59, 0.61, 0.67, 0.5, 0.63, 0.64, 0.65, 0.62, 0.7, 0.6, 0.66, 0.51, 0.62, 0.62, 0.59, 0.57, 0.52, 0.63, 0.61, 0.46, 0.61, 0.62, 0.64, 0.22, 0.63, 0.63, 0.59, 0.24, 0.64, 0.59, 0.42, 0.72, 0.74, 0.66, 0.65, 0.49, 0.62, 0.6, 0.63, 0.46, 0.69, 0.55, 0.56, 0.63, 0.57, 0.54, 0.44, 0.62, 0.49, 0.69, 0.57, 0.66, 0.59, 0.56, 0.63, 0.53, 0.57, 0.67, 0.59, 0.57, 0.6, 0.73, 0.69, 0.65, 0.63, 0.42, 0.59, 0.64, 0.5, 0.55, 0.56, 0.64, 0.69, 0.51, 0.51, 0.57, 0.64, 0.63, 0.59, 0.62, 0.63, 0.63, 0.53, 0.67, 0.62, 0.69, 0.55, 0.49, 0.61, 0.79, 0.64, 0.72, 0.6, 0.63, 0.58, 0.68, 0.66, 0.73, 0.61, 0.59, 0.69, 0.68, 0.65, 0.41, 0.64, 0.56, 0.72, 0.71, 0.66, 0.61, 0.5, 0.58, 0.65, 0.64, 0.57, 0.65, 0.51, 0.54, 0.63, 0.59, 0.6, 0.66, 0.66, 0.58, 0.7, 0.68, 0.54, 0.58, 0.52, 0.63, 0.58, 0.67, 0.52, 0.67, 0.53, 0.57, 0.62, 0.64, 0.59, 0.49, 0.66, 0.56, 0.43, 0.56, 0.58, 0.69, 0.67, 0.45, 0.64, 0.48, 0.54, 0.5, 0.61, 0.49, 0.57, 0.55, 0.68, 0.66, 0.55, 0.56, 0.51, 0.64, 0.62, 0.6, 0.6, 0.5, 0.65, 0.55, 0.55, 0.51, 0.62, 0.61, 0.47, 0.55, 0.72, 0.5, 0.62, 0.66, 0.6, 0.64, 0.44, 0.63, 0.61, 0.65, 0.49, 0.66, 0.66, 0.62, 0.57, 0.53, 0.62, 0.58, 0.54, 0.63, 0.6, 0.65, 0.54, 0.41, 0.59, 0.6, 0.51, 0.54, 0.51, 0.55, 0.48, 0.62, 0.66, 0.58, 0.52, 0.58, 0.68, 0.58, 0.51, 0.55, 0.65, 0.66, 0.62, 0.61, 0.65, 0.54]\n",
    "}))\n",
    "data.append(pd.DataFrame({\n",
    "    'Method': r'EWC$\\dagger$',\n",
    "    'Case': 'pro',\n",
    "    'Accuracy':[0.63, 0.61, 0.55, 0.71, 0.68, 0.65, 0.62, 0.66, 0.81, 0.74, 0.48, 0.57, 0.7, 0.63, 0.7, 0.51, 0.58, 0.78, 0.72, 0.66, 0.7, 0.58, 0.66, 0.75, 0.57, 0.6, 0.59, 0.75, 0.59, 0.68, 0.71, 0.53, 0.57, 0.7, 0.75, 0.74, 0.56, 0.64, 0.68, 0.69, 0.73, 0.7, 0.63, 0.55, 0.62, 0.71, 0.71, 0.62, 0.64, 0.49, 0.58, 0.67, 0.6, 0.64, 0.66, 0.79, 0.65, 0.73, 0.61, 0.7, 0.69, 0.76, 0.52, 0.72, 0.67, 0.66, 0.61, 0.59, 0.71, 0.64, 0.75, 0.66, 0.66, 0.69, 0.7, 0.73, 0.75, 0.67, 0.59, 0.7, 0.65, 0.68, 0.72, 0.6, 0.56, 0.7, 0.72, 0.64, 0.76, 0.66, 0.76, 0.61, 0.78, 0.73, 0.76, 0.52, 0.69, 0.67, 0.67, 0.73, 0.69, 0.62, 0.64, 0.67, 0.78, 0.66, 0.47, 0.63, 0.69, 0.69, 0.75, 0.65, 0.7, 0.61, 0.68, 0.61, 0.6, 0.71, 0.64, 0.64, 0.62, 0.75, 0.57, 0.71, 0.68, 0.7, 0.75, 0.52, 0.69, 0.69, 0.53, 0.53, 0.67, 0.71, 0.67, 0.58, 0.67, 0.62, 0.54, 0.54, 0.65, 0.7, 0.66, 0.73, 0.62, 0.65, 0.62, 0.67, 0.6, 0.65, 0.62, 0.62, 0.69, 0.61, 0.67, 0.62, 0.64, 0.61, 0.64, 0.52, 0.53, 0.59, 0.72, 0.78, 0.67, 0.75, 0.57, 0.71, 0.6, 0.65, 0.6, 0.66, 0.68, 0.77, 0.62, 0.62, 0.55, 0.6, 0.72, 0.66, 0.59, 0.55, 0.68, 0.69, 0.6, 0.66, 0.68, 0.62, 0.53, 0.76, 0.6, 0.7, 0.71, 0.68, 0.61, 0.72, 0.61, 0.66, 0.6, 0.65, 0.55, 0.73, 0.66, 0.72, 0.61, 0.67, 0.73, 0.57, 0.57, 0.75, 0.61, 0.58, 0.53, 0.56, 0.6, 0.61, 0.62, 0.64, 0.67, 0.6, 0.76, 0.54, 0.72, 0.6, 0.64, 0.67, 0.82, 0.57, 0.54, 0.65, 0.61, 0.47, 0.63, 0.74, 0.46, 0.61, 0.65, 0.77, 0.56, 0.68, 0.67, 0.65, 0.77, 0.7, 0.65, 0.59, 0.58, 0.7, 0.67, 0.62, 0.57, 0.73, 0.67, 0.68, 0.74, 0.61, 0.71, 0.59, 0.59, 0.67, 0.71, 0.65, 0.74, 0.61, 0.64, 0.51, 0.63, 0.79, 0.7, 0.66, 0.66, 0.67, 0.64, 0.63, 0.77, 0.55, 0.55, 0.61, 0.68, 0.59, 0.65, 0.64, 0.67, 0.7, 0.58, 0.72, 0.63, 0.64, 0.64, 0.66, 0.59, 0.69, 0.61, 0.69, 0.61, 0.67, 0.63, 0.59, 0.59, 0.6]\n",
    "}))\n",
    "data.append(pd.DataFrame({\n",
    "    'Method': r'EWC$\\dagger$',\n",
    "    'Case': 'sub',\n",
    "    'Accuracy':[0.54, 0.68, 0.65, 0.48, 0.66, 0.66, 0.67, 0.61, 0.55, 0.38, 0.53, 0.44, 0.63, 0.58, 0.53, 0.62, 0.58, 0.47, 0.62, 0.65, 0.56, 0.61, 0.65, 0.6, 0.63, 0.58, 0.57, 0.57, 0.59, 0.61, 0.58, 0.49, 0.53, 0.37, 0.59, 0.62, 0.5, 0.59, 0.59, 0.5, 0.54, 0.53, 0.47, 0.62, 0.62, 0.59, 0.45, 0.51, 0.66, 0.63, 0.47, 0.6, 0.71, 0.39, 0.47, 0.49, 0.55, 0.67, 0.6, 0.48, 0.61, 0.53, 0.49, 0.55, 0.55, 0.65, 0.43, 0.6, 0.68, 0.55, 0.62, 0.54, 0.63, 0.61, 0.6, 0.62, 0.41, 0.56, 0.62, 0.62, 0.63, 0.49, 0.62, 0.63, 0.49, 0.48, 0.51, 0.55, 0.64, 0.47, 0.54, 0.64, 0.45, 0.5, 0.5, 0.58, 0.52, 0.61, 0.61, 0.44, 0.51, 0.66, 0.57, 0.58, 0.56, 0.54, 0.52, 0.57, 0.6, 0.55, 0.58, 0.56, 0.64, 0.62, 0.52, 0.46, 0.54, 0.61, 0.69, 0.52, 0.53, 0.55, 0.66, 0.64, 0.44, 0.54, 0.6, 0.77, 0.57, 0.58, 0.6, 0.45, 0.48, 0.54, 0.69, 0.6, 0.45, 0.53, 0.51, 0.59, 0.63, 0.4, 0.68, 0.64, 0.59, 0.61, 0.63, 0.56, 0.56, 0.62, 0.5, 0.63, 0.67, 0.54, 0.47, 0.65, 0.67, 0.46, 0.53, 0.6, 0.57, 0.45, 0.6, 0.56, 0.6, 0.52, 0.45, 0.5, 0.67, 0.43, 0.58, 0.54, 0.62, 0.63, 0.52, 0.4, 0.58, 0.51, 0.67, 0.44, 0.58, 0.55, 0.61, 0.54, 0.44, 0.56, 0.62, 0.62, 0.67, 0.56, 0.46, 0.69, 0.67, 0.49, 0.53, 0.53, 0.59, 0.45, 0.52, 0.57, 0.64, 0.43, 0.48, 0.56, 0.54, 0.62, 0.71, 0.44, 0.46, 0.62, 0.57, 0.53, 0.6, 0.49, 0.45, 0.52, 0.43, 0.54, 0.62, 0.53, 0.47, 0.5, 0.57, 0.42, 0.54, 0.54, 0.52, 0.54, 0.59, 0.53, 0.56, 0.58, 0.56, 0.63, 0.5, 0.58, 0.49, 0.6, 0.59, 0.51, 0.71, 0.66, 0.56, 0.61, 0.53, 0.54, 0.52, 0.56, 0.59, 0.7, 0.49, 0.54, 0.63, 0.62, 0.56, 0.54, 0.51, 0.6, 0.54, 0.45, 0.57, 0.53, 0.52, 0.54, 0.57, 0.65, 0.69, 0.54, 0.64, 0.55, 0.41, 0.43, 0.55, 0.57, 0.58, 0.55, 0.62, 0.55, 0.2, 0.69, 0.48, 0.66, 0.5, 0.56, 0.57, 0.54, 0.58, 0.48, 0.69, 0.68, 0.5, 0.68, 0.56, 0.6, 0.71, 0.63, 0.57, 0.5, 0.61, 0.57]\n",
    "}))\n",
    "data.append(pd.DataFrame({\n",
    "    'Method': r'EWC$\\dagger$',\n",
    "    'Case': 'non',\n",
    "    'Accuracy':[0.75, 0.79, 0.56, 0.55, 0.7, 0.65, 0.57, 0.65, 0.43, 0.53, 0.54, 0.63, 0.62, 0.62, 0.44, 0.61, 0.63, 0.37, 0.57, 0.54, 0.65, 0.55, 0.55, 0.54, 0.53, 0.65, 0.58, 0.56, 0.57, 0.62, 0.48, 0.54, 0.56, 0.65, 0.58, 0.55, 0.63, 0.62, 0.6, 0.5, 0.51, 0.63, 0.48, 0.69, 0.64, 0.52, 0.4, 0.59, 0.51, 0.65, 0.65, 0.54, 0.67, 0.51, 0.55, 0.69, 0.68, 0.72, 0.49, 0.63, 0.49, 0.52, 0.6, 0.63, 0.63, 0.55, 0.54, 0.59, 0.63, 0.54, 0.67, 0.63, 0.63, 0.57, 0.69, 0.63, 0.34, 0.63, 0.58, 0.68, 0.63, 0.58, 0.63, 0.59, 0.48, 0.35, 0.58, 0.6, 0.69, 0.58, 0.64, 0.69, 0.53, 0.58, 0.53, 0.61, 0.63, 0.61, 0.5, 0.42, 0.71, 0.59, 0.62, 0.59, 0.36, 0.41, 0.61, 0.52, 0.67, 0.66, 0.6, 0.68, 0.65, 0.56, 0.55, 0.61, 0.48, 0.62, 0.62, 0.59, 0.67, 0.48, 0.59, 0.6, 0.58, 0.55, 0.66, 0.65, 0.56, 0.58, 0.55, 0.51, 0.45, 0.51, 0.63, 0.54, 0.49, 0.44, 0.66, 0.77, 0.56, 0.44, 0.7, 0.74, 0.49, 0.71, 0.5, 0.57, 0.27, 0.58, 0.67, 0.56, 0.61, 0.51, 0.67, 0.6, 0.75, 0.49, 0.67, 0.62, 0.55, 0.54, 0.43, 0.59, 0.46, 0.57, 0.59, 0.68, 0.61, 0.6, 0.68, 0.54, 0.5, 0.57, 0.6, 0.52, 0.59, 0.59, 0.57, 0.62, 0.68, 0.52, 0.6, 0.47, 0.6, 0.48, 0.69, 0.53, 0.73, 0.6, 0.57, 0.67, 0.65, 0.51, 0.64, 0.49, 0.58, 0.41, 0.63, 0.63, 0.67, 0.5, 0.69, 0.64, 0.51, 0.56, 0.78, 0.51, 0.59, 0.57, 0.62, 0.59, 0.7, 0.5, 0.51, 0.61, 0.56, 0.68, 0.59, 0.67, 0.57, 0.53, 0.53, 0.44, 0.66, 0.65, 0.62, 0.68, 0.55, 0.47, 0.6, 0.57, 0.62, 0.62, 0.43, 0.61, 0.44, 0.58, 0.49, 0.46, 0.63, 0.57, 0.62, 0.57, 0.62, 0.58, 0.56, 0.64, 0.52, 0.62, 0.65, 0.43, 0.52, 0.69, 0.58, 0.51, 0.57, 0.61, 0.41, 0.84, 0.66, 0.6, 0.57, 0.6, 0.6, 0.53, 0.64, 0.6, 0.62, 0.64, 0.62, 0.66, 0.57, 0.59, 0.42, 0.55, 0.4, 0.62, 0.56, 0.55, 0.55, 0.63, 0.61, 0.68, 0.63, 0.46, 0.53, 0.61, 0.61, 0.58, 0.58, 0.53, 0.56, 0.67, 0.71, 0.64, 0.61, 0.65, 0.63, 0.41]\n",
    "}))\n",
    "data.append(pd.DataFrame({\n",
    "    'Method': r'EWC$\\dagger$',\n",
    "    'Case': 'noc',\n",
    "    'Accuracy':[0.42, 0.4, 0.32, 0.45, 0.48, 0.27, 0.56, 0.41, 0.56, 0.47, 0.36, 0.51, 0.36, 0.28, 0.32, 0.45, 0.34, 0.44, 0.43, 0.42, 0.44, 0.33, 0.44, 0.46, 0.4, 0.49, 0.48, 0.31, 0.39, 0.33, 0.58, 0.38, 0.5, 0.39, 0.32, 0.24, 0.43, 0.4, 0.29, 0.38, 0.34, 0.46, 0.23, 0.31, 0.5, 0.37, 0.58, 0.37, 0.36, 0.37, 0.47, 0.44, 0.54, 0.23, 0.39, 0.35, 0.26, 0.43, 0.48, 0.27, 0.51, 0.43, 0.46, 0.55, 0.42, 0.37, 0.44, 0.46, 0.45, 0.31, 0.48, 0.35, 0.42, 0.44, 0.44, 0.37, 0.34, 0.39, 0.33, 0.32, 0.46, 0.33, 0.4, 0.33, 0.47, 0.4, 0.43, 0.29, 0.43, 0.25, 0.35, 0.53, 0.37, 0.44, 0.34, 0.36, 0.36, 0.46, 0.39, 0.4, 0.37, 0.38, 0.36, 0.37, 0.35, 0.46, 0.24, 0.27, 0.42, 0.45, 0.47, 0.43, 0.33, 0.27, 0.35, 0.25, 0.42, 0.41, 0.34, 0.4, 0.59, 0.53, 0.35, 0.52, 0.3, 0.36, 0.3, 0.47, 0.36, 0.5, 0.28, 0.33, 0.36, 0.38, 0.35, 0.41, 0.25, 0.38, 0.4, 0.38, 0.45, 0.44, 0.37, 0.43, 0.46, 0.39, 0.26, 0.4, 0.37, 0.45, 0.37, 0.4, 0.52, 0.4, 0.42, 0.39, 0.5, 0.48, 0.49, 0.48, 0.3500000000000001, 0.5, 0.4, 0.25, 0.4, 0.25, 0.38, 0.27, 0.45, 0.28, 0.43, 0.54, 0.45, 0.44, 0.31, 0.36, 0.28, 0.47, 0.42, 0.53, 0.36, 0.4200000000000001, 0.5, 0.26, 0.39, 0.3, 0.35, 0.27, 0.3, 0.37, 0.29, 0.51, 0.37, 0.54, 0.36, 0.44, 0.29, 0.48, 0.44, 0.38, 0.4, 0.29, 0.36, 0.36, 0.33, 0.28, 0.48, 0.26, 0.45, 0.43, 0.43, 0.42, 0.36, 0.39, 0.35, 0.34, 0.44, 0.33, 0.39, 0.38, 0.38, 0.41, 0.38, 0.37, 0.35, 0.44, 0.44, 0.4, 0.34, 0.43, 0.54, 0.49, 0.38, 0.42, 0.45, 0.41, 0.47, 0.52, 0.48, 0.35, 0.28, 0.28, 0.47, 0.31, 0.4, 0.35, 0.38, 0.52, 0.24, 0.26, 0.39, 0.39, 0.47, 0.51, 0.41, 0.52, 0.47, 0.17, 0.41, 0.33, 0.34, 0.34, 0.44, 0.29, 0.36, 0.38, 0.29, 0.51, 0.32, 0.42, 0.32, 0.39, 0.37, 0.45, 0.39, 0.21, 0.38, 0.4, 0.49, 0.55, 0.41, 0.32, 0.35, 0.32, 0.41, 0.46, 0.44, 0.35, 0.41, 0.36, 0.4, 0.4, 0.43, 0.47, 0.39, 0.48, 0.38, 0.39, 0.43, 0.39]\n",
    "}))\n",
    "r'EWC'\n",
    "data.append(pd.DataFrame({\n",
    "    'Method': r'EWC',\n",
    "    'Case': 'sys',\n",
    "    'Accuracy':[0.78, 0.75, 0.74, 0.61, 0.63, 0.7, 0.63, 0.74, 0.68, 0.68, 0.64, 0.59, 0.63, 0.63, 0.71, 0.66, 0.73, 0.71, 0.66, 0.71, 0.64, 0.67, 0.65, 0.71, 0.67, 0.76, 0.76, 0.68, 0.55, 0.6, 0.76, 0.69, 0.75, 0.69, 0.55, 0.62, 0.71, 0.71, 0.63, 0.75, 0.75, 0.75, 0.72, 0.79, 0.66, 0.7, 0.75, 0.73, 0.82, 0.67, 0.58, 0.71, 0.69, 0.62, 0.69, 0.73, 0.71, 0.67, 0.67, 0.63, 0.75, 0.56, 0.64, 0.7, 0.75, 0.67, 0.67, 0.73, 0.6, 0.69, 0.81, 0.64, 0.71, 0.69, 0.66, 0.73, 0.8, 0.68, 0.69, 0.81, 0.6, 0.71, 0.71, 0.69, 0.73, 0.75, 0.72, 0.76, 0.69, 0.7, 0.67, 0.68, 0.64, 0.77, 0.68, 0.75, 0.59, 0.7, 0.55, 0.62, 0.7, 0.62, 0.67, 0.57, 0.7, 0.7, 0.77, 0.78, 0.7, 0.58, 0.66, 0.75, 0.69, 0.74, 0.62, 0.63, 0.61, 0.6, 0.66, 0.69, 0.71, 0.57, 0.63, 0.55, 0.58, 0.61, 0.64, 0.7, 0.59, 0.7, 0.77, 0.68, 0.74, 0.61, 0.63, 0.67, 0.64, 0.73, 0.63, 0.66, 0.71, 0.65, 0.7, 0.79, 0.69, 0.74, 0.71, 0.67, 0.64, 0.64, 0.67, 0.71, 0.73, 0.65, 0.68, 0.67, 0.66, 0.78, 0.66, 0.7, 0.77, 0.71, 0.66, 0.74, 0.73, 0.8, 0.61, 0.64, 0.7, 0.82, 0.69, 0.72, 0.68, 0.68, 0.76, 0.72, 0.72, 0.74, 0.65, 0.67, 0.7, 0.75, 0.7, 0.76, 0.8, 0.66, 0.77, 0.82, 0.69, 0.71, 0.5, 0.6, 0.72, 0.66, 0.63, 0.73, 0.67, 0.63, 0.59, 0.67, 0.63, 0.77, 0.74, 0.69, 0.68, 0.63, 0.74, 0.63, 0.65, 0.68, 0.65, 0.76, 0.68, 0.7, 0.69, 0.67, 0.73, 0.66, 0.67, 0.6, 0.69, 0.63, 0.66, 0.65, 0.62, 0.83, 0.77, 0.76, 0.64, 0.61, 0.65, 0.6, 0.73, 0.61, 0.64, 0.64, 0.75, 0.65, 0.68, 0.59, 0.76, 0.7, 0.71, 0.63, 0.69, 0.73, 0.62, 0.69, 0.65, 0.73, 0.68, 0.72, 0.61, 0.7, 0.79, 0.8, 0.71, 0.71, 0.6, 0.68, 0.65, 0.66, 0.71, 0.66, 0.62, 0.74, 0.62, 0.71, 0.56, 0.49, 0.67, 0.69, 0.61, 0.66, 0.71, 0.74, 0.64, 0.64, 0.66, 0.6, 0.63, 0.67, 0.62, 0.71, 0.6, 0.72, 0.75, 0.67, 0.7, 0.66, 0.67, 0.74, 0.69, 0.6, 0.68, 0.7, 0.61, 0.68, 0.68, 0.62]\n",
    "}))\n",
    "data.append(pd.DataFrame({\n",
    "    'Method': r'EWC',\n",
    "    'Case': 'pro',\n",
    "    'Accuracy':[0.76, 0.71, 0.68, 0.74, 0.78, 0.71, 0.73, 0.78, 0.78, 0.82, 0.6, 0.64, 0.76, 0.66, 0.79, 0.65, 0.64, 0.79, 0.76, 0.71, 0.76, 0.68, 0.72, 0.73, 0.64, 0.71, 0.7, 0.82, 0.73, 0.68, 0.75, 0.63, 0.65, 0.76, 0.76, 0.78, 0.68, 0.7, 0.81, 0.73, 0.85, 0.75, 0.68, 0.69, 0.7, 0.72, 0.78, 0.78, 0.81, 0.69, 0.66, 0.75, 0.72, 0.66, 0.75, 0.81, 0.83, 0.79, 0.7, 0.72, 0.77, 0.78, 0.69, 0.81, 0.82, 0.77, 0.65, 0.68, 0.61, 0.77, 0.8, 0.68, 0.76, 0.7, 0.69, 0.76, 0.76, 0.81, 0.65, 0.78, 0.71, 0.69, 0.76, 0.68, 0.62, 0.8, 0.73, 0.7, 0.76, 0.65, 0.76, 0.66, 0.78, 0.72, 0.83, 0.65, 0.83, 0.68, 0.77, 0.84, 0.69, 0.72, 0.73, 0.73, 0.78, 0.71, 0.72, 0.76, 0.74, 0.71, 0.83, 0.78, 0.74, 0.67, 0.71, 0.85, 0.72, 0.72, 0.62, 0.73, 0.69, 0.8, 0.7, 0.78, 0.76, 0.81, 0.79, 0.74, 0.74, 0.79, 0.64, 0.58, 0.68, 0.74, 0.63, 0.69, 0.73, 0.57, 0.68, 0.61, 0.7, 0.76, 0.76, 0.68, 0.65, 0.74, 0.78, 0.69, 0.76, 0.74, 0.72, 0.75, 0.71, 0.78, 0.72, 0.72, 0.73, 0.63, 0.65, 0.61, 0.63, 0.72, 0.66, 0.8, 0.68, 0.8, 0.77, 0.76, 0.74, 0.73, 0.69, 0.67, 0.78, 0.8, 0.68, 0.66, 0.68, 0.63, 0.73, 0.76, 0.69, 0.74, 0.82, 0.75, 0.72, 0.75, 0.74, 0.69, 0.71, 0.78, 0.68, 0.75, 0.81, 0.7, 0.67, 0.76, 0.65, 0.79, 0.81, 0.67, 0.63, 0.83, 0.61, 0.72, 0.66, 0.74, 0.77, 0.73, 0.68, 0.74, 0.68, 0.72, 0.67, 0.64, 0.71, 0.7, 0.65, 0.73, 0.7, 0.69, 0.77, 0.79, 0.77, 0.64, 0.76, 0.69, 0.81, 0.72, 0.59, 0.64, 0.73, 0.65, 0.71, 0.71, 0.63, 0.74, 0.75, 0.75, 0.64, 0.73, 0.71, 0.73, 0.77, 0.7, 0.68, 0.66, 0.68, 0.81, 0.73, 0.76, 0.67, 0.74, 0.79, 0.78, 0.77, 0.72, 0.77, 0.74, 0.7, 0.64, 0.65, 0.73, 0.74, 0.72, 0.71, 0.68, 0.7, 0.8, 0.71, 0.81, 0.74, 0.78, 0.77, 0.73, 0.81, 0.53, 0.69, 0.68, 0.69, 0.73, 0.7, 0.68, 0.74, 0.79, 0.74, 0.75, 0.75, 0.77, 0.68, 0.75, 0.69, 0.68, 0.68, 0.77, 0.66, 0.73, 0.61, 0.65, 0.69, 0.68]\n",
    "}))\n",
    "data.append(pd.DataFrame({\n",
    "    'Method': r'EWC',\n",
    "    'Case': 'sub',\n",
    "    'Accuracy':[0.65, 0.7, 0.63, 0.38, 0.72, 0.66, 0.68, 0.57, 0.64, 0.57, 0.57, 0.64, 0.65, 0.65, 0.56, 0.63, 0.65, 0.6, 0.61, 0.62, 0.65, 0.59, 0.68, 0.62, 0.61, 0.67, 0.58, 0.69, 0.57, 0.67, 0.52, 0.57, 0.6, 0.64, 0.64, 0.69, 0.61, 0.63, 0.6, 0.52, 0.65, 0.56, 0.41, 0.58, 0.67, 0.56, 0.61, 0.48, 0.66, 0.63, 0.61, 0.63, 0.72, 0.39, 0.51, 0.66, 0.56, 0.61, 0.6, 0.58, 0.64, 0.62, 0.64, 0.63, 0.59, 0.6, 0.48, 0.6, 0.72, 0.53, 0.64, 0.56, 0.59, 0.64, 0.56, 0.64, 0.46, 0.56, 0.56, 0.61, 0.6, 0.68, 0.65, 0.61, 0.62, 0.49, 0.61, 0.61, 0.63, 0.55, 0.58, 0.6, 0.6, 0.54, 0.53, 0.6, 0.54, 0.58, 0.63, 0.49, 0.56, 0.65, 0.64, 0.58, 0.64, 0.58, 0.75, 0.57, 0.72, 0.63, 0.65, 0.6, 0.54, 0.56, 0.57, 0.65, 0.57, 0.58, 0.65, 0.54, 0.56, 0.63, 0.52, 0.61, 0.56, 0.67, 0.73, 0.78, 0.62, 0.67, 0.6, 0.55, 0.5, 0.58, 0.63, 0.61, 0.54, 0.43, 0.48, 0.69, 0.74, 0.55, 0.73, 0.69, 0.62, 0.6, 0.61, 0.59, 0.66, 0.66, 0.53, 0.53, 0.66, 0.5, 0.67, 0.67, 0.68, 0.51, 0.74, 0.69, 0.6, 0.66, 0.65, 0.6, 0.6, 0.52, 0.57, 0.7, 0.72, 0.55, 0.52, 0.65, 0.61, 0.65, 0.6, 0.63, 0.63, 0.54, 0.64, 0.56, 0.6, 0.52, 0.62, 0.48, 0.56, 0.62, 0.72, 0.68, 0.61, 0.54, 0.57, 0.73, 0.65, 0.55, 0.58, 0.6, 0.59, 0.35, 0.64, 0.54, 0.72, 0.6, 0.48, 0.55, 0.64, 0.61, 0.69, 0.56, 0.64, 0.62, 0.63, 0.53, 0.61, 0.6, 0.55, 0.62, 0.46, 0.65, 0.56, 0.55, 0.54, 0.57, 0.65, 0.5, 0.6, 0.61, 0.62, 0.6, 0.63, 0.49, 0.59, 0.58, 0.54, 0.64, 0.6, 0.66, 0.41, 0.6, 0.54, 0.53, 0.67, 0.65, 0.58, 0.62, 0.6, 0.51, 0.54, 0.55, 0.61, 0.66, 0.56, 0.49, 0.69, 0.6, 0.57, 0.67, 0.66, 0.63, 0.57, 0.6, 0.56, 0.58, 0.63, 0.57, 0.57, 0.7, 0.68, 0.64, 0.64, 0.61, 0.55, 0.6, 0.49, 0.64, 0.6, 0.59, 0.64, 0.63, 0.58, 0.58, 0.57, 0.66, 0.62, 0.61, 0.54, 0.59, 0.68, 0.62, 0.74, 0.71, 0.48, 0.68, 0.52, 0.69, 0.74, 0.69, 0.57, 0.56, 0.63, 0.6]\n",
    "}))\n",
    "data.append(pd.DataFrame({\n",
    "    'Method': r'EWC',\n",
    "    'Case': 'non',\n",
    "    'Accuracy':[0.75, 0.81, 0.67, 0.63, 0.81, 0.73, 0.62, 0.71, 0.58, 0.54, 0.61, 0.66, 0.79, 0.64, 0.54, 0.63, 0.69, 0.66, 0.7, 0.66, 0.68, 0.68, 0.67, 0.53, 0.66, 0.74, 0.57, 0.66, 0.66, 0.71, 0.66, 0.7, 0.54, 0.7, 0.63, 0.67, 0.72, 0.55, 0.67, 0.55, 0.61, 0.68, 0.56, 0.64, 0.77, 0.76, 0.55, 0.6, 0.63, 0.81, 0.65, 0.71, 0.74, 0.55, 0.55, 0.69, 0.73, 0.74, 0.54, 0.67, 0.57, 0.68, 0.63, 0.7, 0.65, 0.76, 0.66, 0.65, 0.71, 0.55, 0.64, 0.62, 0.75, 0.66, 0.59, 0.61, 0.44, 0.64, 0.62, 0.71, 0.7, 0.65, 0.71, 0.68, 0.6, 0.54, 0.63, 0.7, 0.73, 0.68, 0.66, 0.66, 0.54, 0.73, 0.59, 0.62, 0.64, 0.66, 0.68, 0.6, 0.72, 0.66, 0.67, 0.62, 0.56, 0.57, 0.71, 0.58, 0.64, 0.69, 0.66, 0.75, 0.7, 0.62, 0.63, 0.7, 0.55, 0.68, 0.73, 0.45, 0.75, 0.63, 0.71, 0.71, 0.65, 0.72, 0.74, 0.7, 0.71, 0.65, 0.55, 0.64, 0.55, 0.59, 0.77, 0.62, 0.65, 0.58, 0.64, 0.73, 0.64, 0.52, 0.75, 0.76, 0.63, 0.7, 0.5, 0.68, 0.56, 0.55, 0.71, 0.62, 0.68, 0.65, 0.69, 0.72, 0.81, 0.6, 0.69, 0.67, 0.68, 0.69, 0.64, 0.66, 0.65, 0.71, 0.63, 0.71, 0.65, 0.71, 0.72, 0.56, 0.59, 0.58, 0.64, 0.53, 0.76, 0.72, 0.62, 0.68, 0.67, 0.53, 0.64, 0.57, 0.66, 0.61, 0.77, 0.72, 0.67, 0.63, 0.6, 0.64, 0.7, 0.64, 0.63, 0.57, 0.66, 0.61, 0.7, 0.64, 0.7, 0.57, 0.7, 0.68, 0.65, 0.68, 0.81, 0.57, 0.69, 0.69, 0.64, 0.66, 0.77, 0.67, 0.63, 0.66, 0.57, 0.78, 0.63, 0.69, 0.64, 0.67, 0.64, 0.51, 0.57, 0.69, 0.73, 0.66, 0.72, 0.61, 0.62, 0.6, 0.72, 0.75, 0.55, 0.68, 0.52, 0.61, 0.53, 0.69, 0.67, 0.57, 0.69, 0.66, 0.67, 0.64, 0.58, 0.65, 0.71, 0.65, 0.64, 0.62, 0.63, 0.74, 0.72, 0.61, 0.73, 0.73, 0.62, 0.8, 0.68, 0.71, 0.63, 0.7, 0.68, 0.71, 0.66, 0.68, 0.73, 0.69, 0.73, 0.68, 0.65, 0.63, 0.49, 0.63, 0.59, 0.73, 0.69, 0.7, 0.6, 0.71, 0.71, 0.73, 0.68, 0.65, 0.59, 0.52, 0.72, 0.68, 0.57, 0.69, 0.68, 0.77, 0.65, 0.72, 0.59, 0.71, 0.63, 0.65]\n",
    "}))\n",
    "data.append(pd.DataFrame({\n",
    "    'Method': r'EWC',\n",
    "    'Case': 'noc',\n",
    "    'Accuracy':[0.44, 0.47, 0.3, 0.43, 0.44, 0.4, 0.58, 0.46, 0.42, 0.47, 0.5, 0.5, 0.42, 0.38, 0.41, 0.45, 0.36, 0.45, 0.39, 0.34, 0.37, 0.46, 0.37, 0.33, 0.47, 0.49, 0.48, 0.32, 0.41, 0.46, 0.43, 0.24, 0.45, 0.34, 0.22, 0.44, 0.41, 0.47, 0.32, 0.36, 0.43, 0.46, 0.29, 0.3, 0.38, 0.34, 0.47, 0.39, 0.5, 0.32, 0.54, 0.45, 0.58, 0.46, 0.33, 0.47, 0.29, 0.48, 0.43, 0.31, 0.42, 0.56, 0.47, 0.44, 0.49, 0.38, 0.56, 0.46, 0.52, 0.37, 0.47, 0.32, 0.4, 0.4, 0.47, 0.41, 0.32, 0.37, 0.39, 0.37, 0.55, 0.47, 0.37, 0.46, 0.51, 0.36, 0.49, 0.44, 0.48, 0.35, 0.41, 0.41, 0.43, 0.49, 0.38, 0.41, 0.34, 0.3, 0.34, 0.4, 0.51, 0.38, 0.35, 0.41, 0.31, 0.41, 0.24, 0.36, 0.32, 0.46, 0.44, 0.37, 0.22, 0.27, 0.44, 0.28, 0.4, 0.46, 0.41, 0.38, 0.5, 0.52, 0.34, 0.48, 0.28, 0.41, 0.4, 0.51, 0.35, 0.53, 0.3, 0.39, 0.31, 0.42, 0.31, 0.35, 0.23, 0.35, 0.45, 0.39, 0.44, 0.4, 0.41, 0.36, 0.45, 0.35, 0.31, 0.35, 0.32, 0.41, 0.47, 0.43, 0.41, 0.33, 0.38, 0.5, 0.4, 0.43, 0.49, 0.41, 0.44, 0.42, 0.44, 0.21, 0.35, 0.4, 0.43, 0.35, 0.41, 0.33, 0.34, 0.48, 0.45, 0.35, 0.44, 0.45, 0.26, 0.47, 0.39, 0.53, 0.38, 0.46, 0.44, 0.43, 0.43, 0.25, 0.33, 0.31, 0.36, 0.32, 0.42, 0.46, 0.3, 0.48, 0.39, 0.5, 0.33, 0.43, 0.37, 0.4, 0.42, 0.41, 0.39, 0.41, 0.36, 0.26, 0.4, 0.43, 0.35, 0.34, 0.41, 0.48, 0.35, 0.45, 0.43, 0.42, 0.43, 0.3, 0.3, 0.37, 0.39, 0.48, 0.46, 0.37, 0.3, 0.43, 0.45, 0.43, 0.51, 0.45, 0.48, 0.39, 0.41, 0.39, 0.41, 0.35, 0.29, 0.51, 0.56, 0.42, 0.29, 0.32, 0.42, 0.28, 0.35, 0.48, 0.46, 0.44, 0.31, 0.46, 0.38, 0.52, 0.37, 0.52, 0.32, 0.46, 0.48, 0.35, 0.36, 0.39, 0.41, 0.3, 0.39, 0.37, 0.31, 0.32, 0.35, 0.36, 0.46, 0.46, 0.44, 0.41, 0.43, 0.39, 0.4, 0.28, 0.29, 0.43, 0.47, 0.47, 0.4, 0.33, 0.4, 0.39, 0.38, 0.32, 0.46, 0.34, 0.33, 0.41, 0.34, 0.45, 0.43, 0.4, 0.39, 0.47, 0.33, 0.33, 0.47, 0.4]\n",
    "}))\n",
    "\n",
    "\n",
    "data = pd.concat(data, ignore_index=True)\n",
    "\n"
   ],
   "metadata": {
    "collapsed": false,
    "pycharm": {
     "name": "#%%\n"
    }
   }
  },
  {
   "cell_type": "code",
   "execution_count": 40,
   "outputs": [
    {
     "data": {
      "text/plain": "<Figure size 1000x500 with 1 Axes>",
      "image/png": "[encoded data removed]"
     },
     "metadata": {},
     "output_type": "display_data"
    }
   ],
   "source": [
    "plt.figure(figsize=(10, 5))\n",
    "sns.set_palette('Paired')\n",
    "matplotlib.rcParams.update({'font.size': 18})\n",
    "\n",
    "ax = sns.barplot(x='Case', y='Accuracy', hue='Method', data=data)\n",
    "plt.legend(loc = 'upper left', bbox_to_anchor = (1, 1))\n",
    "\n",
    "fig = ax.get_figure()\n",
    "fig.savefig(os.path.join('D:', 'Downloads', 'output.png'), dpi = 400, bbox_inches='tight')"
   ],
   "metadata": {
    "collapsed": false,
    "pycharm": {
     "name": "#%%\n"
    }
   }
  },
  {
   "cell_type": "markdown",
   "source": [
    "# show tsne of features on CGQA"
   ],
   "metadata": {
    "collapsed": false,
    "pycharm": {
     "name": "#%% md\n"
    }
   }
  },
  {
   "cell_type": "code",
   "execution_count": 33,
   "outputs": [
    {
     "name": "stdout",
     "output_type": "stream",
     "text": [
      "Exist experiment with path: \\\\172.18.36.77\\datasets\\avalanche-experiments\\CGQA\\Naive-cls\n",
      "Load pretrained resnet18 model from \\\\172.18.36.77\\datasets\\avalanche-experiments\\CGQA\\Naive-cls\\Checkpoints\\model.pth.\n"
     ]
    },
    {
     "data": {
      "text/plain": "MTResNet18(\n  (resnet): ResNet(\n    (conv1): Conv2d(3, 64, kernel_size=(5, 5), stride=(2, 2), padding=(1, 1), bias=False)\n    (bn1): BatchNorm2d(64, eps=1e-05, momentum=0.1, affine=True, track_running_stats=True)\n    (relu): ReLU(inplace=True)\n    (maxpool): MaxPool2d(kernel_size=3, stride=2, padding=1, dilation=1, ceil_mode=False)\n    (layer1): Sequential(\n      (0): BasicBlock(\n        (conv1): Conv2d(64, 64, kernel_size=(3, 3), stride=(1, 1), padding=(1, 1), bias=False)\n        (bn1): BatchNorm2d(64, eps=1e-05, momentum=0.1, affine=True, track_running_stats=True)\n        (relu): ReLU(inplace=True)\n        (conv2): Conv2d(64, 64, kernel_size=(3, 3), stride=(1, 1), padding=(1, 1), bias=False)\n        (bn2): BatchNorm2d(64, eps=1e-05, momentum=0.1, affine=True, track_running_stats=True)\n      )\n      (1): BasicBlock(\n        (conv1): Conv2d(64, 64, kernel_size=(3, 3), stride=(1, 1), padding=(1, 1), bias=False)\n        (bn1): BatchNorm2d(64, eps=1e-05, momentum=0.1, affine=True, track_running_stats=True)\n        (relu): ReLU(inplace=True)\n        (conv2): Conv2d(64, 64, kernel_size=(3, 3), stride=(1, 1), padding=(1, 1), bias=False)\n        (bn2): BatchNorm2d(64, eps=1e-05, momentum=0.1, affine=True, track_running_stats=True)\n      )\n    )\n    (layer2): Sequential(\n      (0): BasicBlock(\n        (conv1): Conv2d(64, 128, kernel_size=(3, 3), stride=(2, 2), padding=(1, 1), bias=False)\n        (bn1): BatchNorm2d(128, eps=1e-05, momentum=0.1, affine=True, track_running_stats=True)\n        (relu): ReLU(inplace=True)\n        (conv2): Conv2d(128, 128, kernel_size=(3, 3), stride=(1, 1), padding=(1, 1), bias=False)\n        (bn2): BatchNorm2d(128, eps=1e-05, momentum=0.1, affine=True, track_running_stats=True)\n        (downsample): Sequential(\n          (0): Conv2d(64, 128, kernel_size=(1, 1), stride=(2, 2), bias=False)\n          (1): BatchNorm2d(128, eps=1e-05, momentum=0.1, affine=True, track_running_stats=True)\n        )\n      )\n      (1): BasicBlock(\n        (conv1): Conv2d(128, 128, kernel_size=(3, 3), stride=(1, 1), padding=(1, 1), bias=False)\n        (bn1): BatchNorm2d(128, eps=1e-05, momentum=0.1, affine=True, track_running_stats=True)\n        (relu): ReLU(inplace=True)\n        (conv2): Conv2d(128, 128, kernel_size=(3, 3), stride=(1, 1), padding=(1, 1), bias=False)\n        (bn2): BatchNorm2d(128, eps=1e-05, momentum=0.1, affine=True, track_running_stats=True)\n      )\n    )\n    (layer3): Sequential(\n      (0): BasicBlock(\n        (conv1): Conv2d(128, 256, kernel_size=(3, 3), stride=(2, 2), padding=(1, 1), bias=False)\n        (bn1): BatchNorm2d(256, eps=1e-05, momentum=0.1, affine=True, track_running_stats=True)\n        (relu): ReLU(inplace=True)\n        (conv2): Conv2d(256, 256, kernel_size=(3, 3), stride=(1, 1), padding=(1, 1), bias=False)\n        (bn2): BatchNorm2d(256, eps=1e-05, momentum=0.1, affine=True, track_running_stats=True)\n        (downsample): Sequential(\n          (0): Conv2d(128, 256, kernel_size=(1, 1), stride=(2, 2), bias=False)\n          (1): BatchNorm2d(256, eps=1e-05, momentum=0.1, affine=True, track_running_stats=True)\n        )\n      )\n      (1): BasicBlock(\n        (conv1): Conv2d(256, 256, kernel_size=(3, 3), stride=(1, 1), padding=(1, 1), bias=False)\n        (bn1): BatchNorm2d(256, eps=1e-05, momentum=0.1, affine=True, track_running_stats=True)\n        (relu): ReLU(inplace=True)\n        (conv2): Conv2d(256, 256, kernel_size=(3, 3), stride=(1, 1), padding=(1, 1), bias=False)\n        (bn2): BatchNorm2d(256, eps=1e-05, momentum=0.1, affine=True, track_running_stats=True)\n      )\n    )\n    (layer4): Sequential(\n      (0): BasicBlock(\n        (conv1): Conv2d(256, 512, kernel_size=(3, 3), stride=(2, 2), padding=(1, 1), bias=False)\n        (bn1): BatchNorm2d(512, eps=1e-05, momentum=0.1, affine=True, track_running_stats=True)\n        (relu): ReLU(inplace=True)\n        (conv2): Conv2d(512, 512, kernel_size=(3, 3), stride=(1, 1), padding=(1, 1), bias=False)\n        (bn2): BatchNorm2d(512, eps=1e-05, momentum=0.1, affine=True, track_running_stats=True)\n        (downsample): Sequential(\n          (0): Conv2d(256, 512, kernel_size=(1, 1), stride=(2, 2), bias=False)\n          (1): BatchNorm2d(512, eps=1e-05, momentum=0.1, affine=True, track_running_stats=True)\n        )\n      )\n      (1): BasicBlock(\n        (conv1): Conv2d(512, 512, kernel_size=(3, 3), stride=(1, 1), padding=(1, 1), bias=False)\n        (bn1): BatchNorm2d(512, eps=1e-05, momentum=0.1, affine=True, track_running_stats=True)\n        (relu): ReLU(inplace=True)\n        (conv2): Conv2d(512, 512, kernel_size=(3, 3), stride=(1, 1), padding=(1, 1), bias=False)\n        (bn2): BatchNorm2d(512, eps=1e-05, momentum=0.1, affine=True, track_running_stats=True)\n      )\n    )\n    (avgpool): AdaptiveAvgPool2d(output_size=(1, 1))\n  )\n  (classifier): MultiHeadClassifier(\n    (classifiers): ModuleDict(\n      (0): IncrementalClassifier(\n        (classifier): Linear(in_features=512, out_features=2, bias=True)\n      )\n    )\n  )\n)"
     },
     "execution_count": 33,
     "metadata": {},
     "output_type": "execute_result"
    }
   ],
   "source": [
    "# load model from LwF-cls\n",
    "\n",
    "import torch\n",
    "from torch.utils.data import DataLoader\n",
    "\n",
    "from avalanche.benchmarks.utils import AvalancheSubset\n",
    "\n",
    "from datasets.cgqa import _get_gqa_datasets, _default_cgqa_eval_transform\n",
    "from models.resnet import get_resnet\n",
    "from experiments.utils import set_seed, create_default_args, create_experiment_folder\n",
    "from experiments.config import default_args\n",
    "\n",
    "args = create_default_args(default_args, {'exp_name': 'Naive-cls'})\n",
    "\n",
    "set_seed(args.seed)\n",
    "device = torch.device(f\"cuda:{args.cuda}\"\n",
    "                      if torch.cuda.is_available() and\n",
    "                      args.cuda >= 0 else \"cpu\")\n",
    "\n",
    "exp_path, checkpoint_path = create_experiment_folder(\n",
    "    root=args.exp_root,\n",
    "    exp_name=args.exp_name,\n",
    "    project_name=args.project_name)\n",
    "\n",
    "origin_model = get_resnet(\n",
    "    multi_head=True,\n",
    "    pretrained=True, pretrained_model_path=os.path.join(checkpoint_path, 'model.pth'),\n",
    "    fix=args.test_freeze_feature_extractor,\n",
    ")\n",
    "\n",
    "origin_model.eval()"
   ],
   "metadata": {
    "collapsed": false,
    "pycharm": {
     "name": "#%%\n"
    }
   }
  },
  {
   "cell_type": "code",
   "execution_count": 34,
   "outputs": [
    {
     "name": "stdout",
     "output_type": "stream",
     "text": [
      "=> mode  sys\n",
      "{0: ('bench', 'building'), 1: ('bench', 'door'), 2: ('bench', 'hat'), 3: ('bench', 'leaves'), 4: ('building', 'car'), 5: ('building', 'grass'), 6: ('building', 'sign'), 7: ('building', 'wall'), 8: ('car', 'plate'), 9: ('car', 'shirt'), 10: ('flower', 'helmet'), 11: ('flower', 'pants'), 12: ('flower', 'wall'), 13: ('grass', 'shirt'), 14: ('grass', 'table'), 15: ('hat', 'leaves'), 16: ('helmet', 'plate'), 17: ('leaves', 'pants'), 18: ('pole', 'shirt'), 19: ('shirt', 'wall')}\n",
      "select [[('flower', 'helmet'), 0]] ; related label [10]\n",
      "=> mode  non\n",
      "{0: ('bench', 'car'), 1: ('bench', 'chair'), 2: ('bench', 'fence'), 3: ('bench', 'flower'), 4: ('bench', 'hat'), 5: ('bench', 'helmet'), 6: ('bench', 'leaves'), 7: ('bench', 'plate'), 8: ('bench', 'shoe'), 9: ('bench', 'sign'), 10: ('bench', 'table'), 11: ('building', 'fence'), 12: ('building', 'helmet'), 13: ('building', 'jacket'), 14: ('building', 'leaves'), 15: ('building', 'pants'), 16: ('building', 'plate'), 17: ('building', 'table'), 18: ('car', 'chair'), 19: ('car', 'door'), 20: ('car', 'hat'), 21: ('car', 'helmet'), 22: ('car', 'jacket'), 23: ('car', 'leaves'), 24: ('car', 'plate'), 25: ('car', 'pole'), 26: ('car', 'shirt'), 27: ('car', 'sign'), 28: ('car', 'table'), 29: ('car', 'wall'), 30: ('chair', 'door'), 31: ('chair', 'fence'), 32: ('chair', 'jacket'), 33: ('chair', 'pants'), 34: ('chair', 'plate'), 35: ('chair', 'shirt'), 36: ('chair', 'shoe'), 37: ('chair', 'sign'), 38: ('door', 'fence'), 39: ('door', 'flower'), 40: ('door', 'hat'), 41: ('door', 'plate'), 42: ('door', 'pole'), 43: ('door', 'shirt'), 44: ('door', 'shoe'), 45: ('door', 'sign'), 46: ('door', 'table'), 47: ('door', 'wall'), 48: ('fence', 'helmet'), 49: ('fence', 'leaves'), 50: ('fence', 'plate'), 51: ('fence', 'pole'), 52: ('fence', 'sign'), 53: ('fence', 'table'), 54: ('flower', 'jacket'), 55: ('flower', 'pants'), 56: ('flower', 'shirt'), 57: ('flower', 'sign'), 58: ('flower', 'wall'), 59: ('grass', 'helmet'), 60: ('grass', 'jacket'), 61: ('grass', 'pants'), 62: ('grass', 'plate'), 63: ('grass', 'shirt'), 64: ('grass', 'shoe'), 65: ('grass', 'table'), 66: ('hat', 'helmet'), 67: ('hat', 'jacket'), 68: ('hat', 'leaves'), 69: ('hat', 'pole'), 70: ('hat', 'sign'), 71: ('hat', 'table'), 72: ('helmet', 'jacket'), 73: ('helmet', 'sign'), 74: ('jacket', 'pants'), 75: ('jacket', 'shirt'), 76: ('jacket', 'sign'), 77: ('jacket', 'table'), 78: ('jacket', 'wall'), 79: ('leaves', 'pole'), 80: ('leaves', 'shirt'), 81: ('leaves', 'shoe'), 82: ('leaves', 'table'), 83: ('leaves', 'wall'), 84: ('pants', 'plate'), 85: ('pants', 'pole'), 86: ('pants', 'shirt'), 87: ('pants', 'sign'), 88: ('pants', 'wall'), 89: ('plate', 'pole'), 90: ('pole', 'shoe'), 91: ('pole', 'table'), 92: ('pole', 'wall'), 93: ('shirt', 'shoe'), 94: ('shirt', 'sign'), 95: ('shirt', 'table'), 96: ('shirt', 'wall'), 97: ('shoe', 'sign'), 98: ('sign', 'table'), 99: ('table', 'wall')}\n",
      "select [[('hat', 'helmet'), 1], [('bench', 'flower'), 2]] ; related label [66, 3]\n"
     ]
    }
   ],
   "source": [
    "\n",
    "# modes = {'sys': [[('grass', 'shirt'), 0]],\n",
    "#          'pro': [[('door', 'leaves', 'shirt', 'table'), 1]],\n",
    "#          'sub': [[('grass', 'shirt'), 2]],\n",
    "#          'noc': [[('bike', 'mirror'), 3]],\n",
    "#          'non': [[('door', 'shirt'), 4], [('grass', 'table'), 5], [('hat', 'leaves'), 6]],\n",
    "#          }\n",
    "modes = {       # old objs\n",
    "    'sys': [[('flower', 'helmet'), 0]],\n",
    "    'non': [\n",
    "        # [('bench', 'helmet'), 1],\n",
    "            [('hat', 'helmet'), 1],\n",
    "            # [('grass', 'helmet'), 1],\n",
    "            [('bench', 'flower'), 2]]\n",
    "}\n",
    "# modes = {       # new objs\n",
    "#     'sys': [[('building', 'car'), 0]],\n",
    "#     'non': [[('building', 'fence'), 1],\n",
    "#             # [('building', 'leaves'), 2], [('building', 'pants'), 3], [('building', 'plate'), 4], [('building', 'table'), 5],\n",
    "#             [('car', 'door'), 2],\n",
    "#             # [('car', 'jacket'), 7], [('car', 'leaves'), 8],\n",
    "#             # [('car', 'plate'), 9], [('car', 'shirt'), 10], [('car', 'sign'), 11], [('car', 'table'), 12], [('car', 'wall'), 12],\n",
    "#             ]\n",
    "# }\n",
    "\n",
    "features = []\n",
    "labels = []\n",
    "\n",
    "# mode = 'sys'\n",
    "# for mode in ['sys', 'pro', 'sub', 'noc', 'non']:\n",
    "for mode in ['sys', 'non']:\n",
    "    print(\"=> mode \", mode)\n",
    "    datasets, label_info = _get_gqa_datasets(args.dataset_root, mode=mode)\n",
    "    dataset = datasets['dataset']\n",
    "\n",
    "    label_set, map_tuple_label_to_int, map_int_label_to_tuple = label_info\n",
    "    print(map_int_label_to_tuple)\n",
    "\n",
    "    selected_labels = [map_tuple_label_to_int[l[0]] for l in modes[mode]]\n",
    "    print('select', modes[mode], '; related label', selected_labels)\n",
    "\n",
    "    for idx, label in enumerate(selected_labels):\n",
    "        indices = np.where(np.array(dataset.targets) == label)[0]\n",
    "        subset = AvalancheSubset(dataset, indices=indices, transform=_default_cgqa_eval_transform)\n",
    "        dataloader = DataLoader(subset, batch_size=100)\n",
    "\n",
    "        for x, y, t in dataloader:\n",
    "            with torch.no_grad():\n",
    "                feature = origin_model.resnet(x)      # return features\n",
    "            features.append(feature.detach().cpu().numpy())\n",
    "            labels.append([modes[mode][idx][1] for _ in range(100)])\n",
    "\n",
    "features = np.concatenate(features)\n",
    "labels = np.concatenate(labels)\n"
   ],
   "metadata": {
    "collapsed": false,
    "pycharm": {
     "name": "#%%\n"
    }
   }
  },
  {
   "cell_type": "code",
   "execution_count": 35,
   "outputs": [
    {
     "name": "stderr",
     "output_type": "stream",
     "text": [
      "C:\\Users\\ASUS\\anaconda3\\envs\\avalanche-env\\lib\\site-packages\\sklearn\\manifold\\_t_sne.py:800: FutureWarning: The default initialization in TSNE will change from 'random' to 'pca' in 1.2.\n",
      "  warnings.warn(\n",
      "C:\\Users\\ASUS\\anaconda3\\envs\\avalanche-env\\lib\\site-packages\\sklearn\\manifold\\_t_sne.py:810: FutureWarning: The default learning rate in TSNE will change from 200.0 to 'auto' in 1.2.\n",
      "  warnings.warn(\n"
     ]
    },
    {
     "name": "stdout",
     "output_type": "stream",
     "text": [
      "{'sys': [[('flower', 'helmet'), 0]], 'non': [[('hat', 'helmet'), 1], [('bench', 'flower'), 2]]}\n"
     ]
    },
    {
     "data": {
      "text/plain": "<Figure size 1000x1000 with 1 Axes>",
      "image/png": "[encoded data removed]"
     },
     "metadata": {},
     "output_type": "display_data"
    }
   ],
   "source": [
    "# get TSNE\n",
    "\n",
    "from sklearn import manifold\n",
    "\n",
    "tsne = manifold.TSNE(n_components=2, perplexity=50, random_state=1234)      # 501, 1234\n",
    "X = tsne.fit_transform(features)\n",
    "\n",
    "# draw TSNE\n",
    "\n",
    "plt.figure(figsize=(10, 10))\n",
    "# sns.set_palette('Set2', 7)\n",
    "matplotlib.rcParams.update({'font.size': 18})\n",
    "\n",
    "ax = sns.scatterplot(x=X[:, 0], y=X[:, 1], hue=labels, palette=sns.color_palette('hls', max(labels)+1), s=70)\n",
    "plt.legend(loc = 'upper left', bbox_to_anchor = (1, 1))\n",
    "plt.xticks([])\n",
    "plt.yticks([])\n",
    "\n",
    "print(modes)\n",
    "\n",
    "fig = ax.get_figure()\n",
    "fig.savefig(os.path.join(exp_path, 'tsne.png'), dpi = 400, bbox_inches='tight')"
   ],
   "metadata": {
    "collapsed": false,
    "pycharm": {
     "name": "#%%\n"
    }
   }
  },
  {
   "cell_type": "markdown",
   "source": [
    "# show tsne of features on CPIN"
   ],
   "metadata": {
    "collapsed": false,
    "pycharm": {
     "name": "#%% md\n"
    }
   }
  },
  {
   "cell_type": "code",
   "execution_count": 51,
   "outputs": [
    {
     "name": "stdout",
     "output_type": "stream",
     "text": [
      "Exist experiment with path: \\\\172.18.36.77\\datasets\\avalanche-experiments\\CPIN\\LwF-cls\n",
      "Load pretrained resnet18 model from \\\\172.18.36.77\\datasets\\avalanche-experiments\\CPIN\\LwF-cls\\Checkpoints\\model.pth.\n"
     ]
    },
    {
     "data": {
      "text/plain": "MTResNet18(\n  (resnet): ResNet(\n    (conv1): Conv2d(3, 64, kernel_size=(5, 5), stride=(2, 2), padding=(1, 1), bias=False)\n    (bn1): BatchNorm2d(64, eps=1e-05, momentum=0.1, affine=True, track_running_stats=True)\n    (relu): ReLU(inplace=True)\n    (maxpool): MaxPool2d(kernel_size=3, stride=2, padding=1, dilation=1, ceil_mode=False)\n    (layer1): Sequential(\n      (0): BasicBlock(\n        (conv1): Conv2d(64, 64, kernel_size=(3, 3), stride=(1, 1), padding=(1, 1), bias=False)\n        (bn1): BatchNorm2d(64, eps=1e-05, momentum=0.1, affine=True, track_running_stats=True)\n        (relu): ReLU(inplace=True)\n        (conv2): Conv2d(64, 64, kernel_size=(3, 3), stride=(1, 1), padding=(1, 1), bias=False)\n        (bn2): BatchNorm2d(64, eps=1e-05, momentum=0.1, affine=True, track_running_stats=True)\n      )\n      (1): BasicBlock(\n        (conv1): Conv2d(64, 64, kernel_size=(3, 3), stride=(1, 1), padding=(1, 1), bias=False)\n        (bn1): BatchNorm2d(64, eps=1e-05, momentum=0.1, affine=True, track_running_stats=True)\n        (relu): ReLU(inplace=True)\n        (conv2): Conv2d(64, 64, kernel_size=(3, 3), stride=(1, 1), padding=(1, 1), bias=False)\n        (bn2): BatchNorm2d(64, eps=1e-05, momentum=0.1, affine=True, track_running_stats=True)\n      )\n    )\n    (layer2): Sequential(\n      (0): BasicBlock(\n        (conv1): Conv2d(64, 128, kernel_size=(3, 3), stride=(2, 2), padding=(1, 1), bias=False)\n        (bn1): BatchNorm2d(128, eps=1e-05, momentum=0.1, affine=True, track_running_stats=True)\n        (relu): ReLU(inplace=True)\n        (conv2): Conv2d(128, 128, kernel_size=(3, 3), stride=(1, 1), padding=(1, 1), bias=False)\n        (bn2): BatchNorm2d(128, eps=1e-05, momentum=0.1, affine=True, track_running_stats=True)\n        (downsample): Sequential(\n          (0): Conv2d(64, 128, kernel_size=(1, 1), stride=(2, 2), bias=False)\n          (1): BatchNorm2d(128, eps=1e-05, momentum=0.1, affine=True, track_running_stats=True)\n        )\n      )\n      (1): BasicBlock(\n        (conv1): Conv2d(128, 128, kernel_size=(3, 3), stride=(1, 1), padding=(1, 1), bias=False)\n        (bn1): BatchNorm2d(128, eps=1e-05, momentum=0.1, affine=True, track_running_stats=True)\n        (relu): ReLU(inplace=True)\n        (conv2): Conv2d(128, 128, kernel_size=(3, 3), stride=(1, 1), padding=(1, 1), bias=False)\n        (bn2): BatchNorm2d(128, eps=1e-05, momentum=0.1, affine=True, track_running_stats=True)\n      )\n    )\n    (layer3): Sequential(\n      (0): BasicBlock(\n        (conv1): Conv2d(128, 256, kernel_size=(3, 3), stride=(2, 2), padding=(1, 1), bias=False)\n        (bn1): BatchNorm2d(256, eps=1e-05, momentum=0.1, affine=True, track_running_stats=True)\n        (relu): ReLU(inplace=True)\n        (conv2): Conv2d(256, 256, kernel_size=(3, 3), stride=(1, 1), padding=(1, 1), bias=False)\n        (bn2): BatchNorm2d(256, eps=1e-05, momentum=0.1, affine=True, track_running_stats=True)\n        (downsample): Sequential(\n          (0): Conv2d(128, 256, kernel_size=(1, 1), stride=(2, 2), bias=False)\n          (1): BatchNorm2d(256, eps=1e-05, momentum=0.1, affine=True, track_running_stats=True)\n        )\n      )\n      (1): BasicBlock(\n        (conv1): Conv2d(256, 256, kernel_size=(3, 3), stride=(1, 1), padding=(1, 1), bias=False)\n        (bn1): BatchNorm2d(256, eps=1e-05, momentum=0.1, affine=True, track_running_stats=True)\n        (relu): ReLU(inplace=True)\n        (conv2): Conv2d(256, 256, kernel_size=(3, 3), stride=(1, 1), padding=(1, 1), bias=False)\n        (bn2): BatchNorm2d(256, eps=1e-05, momentum=0.1, affine=True, track_running_stats=True)\n      )\n    )\n    (layer4): Sequential(\n      (0): BasicBlock(\n        (conv1): Conv2d(256, 512, kernel_size=(3, 3), stride=(2, 2), padding=(1, 1), bias=False)\n        (bn1): BatchNorm2d(512, eps=1e-05, momentum=0.1, affine=True, track_running_stats=True)\n        (relu): ReLU(inplace=True)\n        (conv2): Conv2d(512, 512, kernel_size=(3, 3), stride=(1, 1), padding=(1, 1), bias=False)\n        (bn2): BatchNorm2d(512, eps=1e-05, momentum=0.1, affine=True, track_running_stats=True)\n        (downsample): Sequential(\n          (0): Conv2d(256, 512, kernel_size=(1, 1), stride=(2, 2), bias=False)\n          (1): BatchNorm2d(512, eps=1e-05, momentum=0.1, affine=True, track_running_stats=True)\n        )\n      )\n      (1): BasicBlock(\n        (conv1): Conv2d(512, 512, kernel_size=(3, 3), stride=(1, 1), padding=(1, 1), bias=False)\n        (bn1): BatchNorm2d(512, eps=1e-05, momentum=0.1, affine=True, track_running_stats=True)\n        (relu): ReLU(inplace=True)\n        (conv2): Conv2d(512, 512, kernel_size=(3, 3), stride=(1, 1), padding=(1, 1), bias=False)\n        (bn2): BatchNorm2d(512, eps=1e-05, momentum=0.1, affine=True, track_running_stats=True)\n      )\n    )\n    (avgpool): AdaptiveAvgPool2d(output_size=(1, 1))\n  )\n  (classifier): MultiHeadClassifier(\n    (classifiers): ModuleDict(\n      (0): IncrementalClassifier(\n        (classifier): Linear(in_features=512, out_features=2, bias=True)\n      )\n    )\n  )\n)"
     },
     "execution_count": 51,
     "metadata": {},
     "output_type": "execute_result"
    }
   ],
   "source": [
    "\n",
    "args = create_default_args(default_args, {'dataset': 'cpin', 'project_name': 'CPIN', 'exp_name': 'LwF-cls'})\n",
    "\n",
    "set_seed(args.seed)\n",
    "device = torch.device(f\"cuda:{args.cuda}\"\n",
    "                      if torch.cuda.is_available() and\n",
    "                      args.cuda >= 0 else \"cpu\")\n",
    "\n",
    "exp_path, checkpoint_path = create_experiment_folder(\n",
    "    root=args.exp_root,\n",
    "    exp_name=args.exp_name,\n",
    "    project_name=args.project_name)\n",
    "\n",
    "origin_model = get_resnet(\n",
    "    multi_head=True,\n",
    "    pretrained=True, pretrained_model_path=os.path.join(checkpoint_path, 'model.pth'),\n",
    "    fix=args.test_freeze_feature_extractor,\n",
    ")\n",
    "\n",
    "origin_model.eval()"
   ],
   "metadata": {
    "collapsed": false,
    "pycharm": {
     "name": "#%%\n"
    }
   }
  },
  {
   "cell_type": "code",
   "execution_count": 57,
   "outputs": [
    {
     "name": "stdout",
     "output_type": "stream",
     "text": [
      "=> mode  sys\n",
      "{0: ('Bird Body', 'Bird Foot', 'Canidae Foot', 'Testudines Head', 'Ursidae Head'), 1: ('Bird Body', 'Canidae Head', 'Car Tier', 'Primates Hand', 'Snake Head'), 2: ('Bird Body', 'Car Tier', 'Lacertilia Foot', 'Primates Foot', 'Snake Body'), 3: ('Bird Head', 'Bird Wing', 'Mustelidae Head', 'Primates Head', 'Snake Body'), 4: ('Bird Head', 'Bovidae Body', 'Car Tier', 'Felidae Head', 'Snake Head'), 5: ('Bird Head', 'Fish Body', 'Fish Fin', 'Primates Hand', 'Ursidae Foot'), 6: ('Bird Wing', 'Bovidae Body', 'Bovidae Head', 'Lacertilia Body', 'Ursidae Head'), 7: ('Bird Wing', 'Bovidae Foot', 'Canidae Body', 'Fish Head', 'Mustelidae Foot'), 8: ('Bird Wing', 'Bovidae Head', 'Car Tier', 'Felidae Body', 'Ursidae Foot'), 9: ('Bovidae Head', 'Canidae Foot', 'Lacertilia Foot', 'Lacertilia Head', 'Mustelidae Head'), 10: ('Canidae Body', 'Car Body', 'Mustelidae Foot', 'Primates Body', 'Snake Head'), 11: ('Canidae Foot', 'Felidae Body', 'Fish Head', 'Mustelidae Foot', 'Snake Head'), 12: ('Canidae Foot', 'Felidae Head', 'Primates Body', 'Primates Head', 'Snake Head'), 13: ('Car Body', 'Primates Hand', 'Testudines Foot', 'Ursidae Body', 'Ursidae Foot'), 14: ('Car Side Mirror', 'Car Tier', 'Primates Body', 'Primates Head', 'Testudines Head'), 15: ('Car Side Mirror', 'Felidae Foot', 'Mustelidae Body', 'Snake Head', 'Ursidae Foot'), 16: ('Car Tier', 'Felidae Foot', 'Fish Body', 'Lacertilia Body', 'Mustelidae Foot'), 17: ('Felidae Head', 'Fish Body', 'Mustelidae Body', 'Primates Head', 'Testudines Body'), 18: ('Fish Fin', 'Lacertilia Foot', 'Mustelidae Body', 'Snake Head', 'Testudines Body'), 19: ('Fish Head', 'Primates Foot', 'Ursidae Body', 'Ursidae Foot', 'Ursidae Head')}\n",
      "select [[('Bird Head', 'Bovidae Body', 'Car Tier', 'Felidae Head', 'Snake Head'), 0]] ; related label [4]\n",
      "=> mode  pro\n",
      "{0: ('Bird Body', 'Bird Wing', 'Bovidae Body', 'Car Body', 'Car Tier', 'Felidae Foot', 'Felidae Head', 'Lacertilia Foot', 'Ursidae Body'), 1: ('Bird Foot', 'Bird Head', 'Bovidae Foot', 'Lacertilia Head', 'Testudines Head', 'Ursidae Body', 'Ursidae Head'), 2: ('Bird Foot', 'Bird Head', 'Felidae Body', 'Felidae Foot', 'Felidae Head', 'Fish Body', 'Mustelidae Foot', 'Testudines Foot', 'Ursidae Body'), 3: ('Bird Foot', 'Bird Wing', 'Canidae Foot', 'Canidae Head', 'Car Body', 'Car Tier', 'Primates Foot', 'Snake Body', 'Testudines Head'), 4: ('Bird Foot', 'Car Body', 'Fish Body', 'Fish Fin', 'Mustelidae Body', 'Mustelidae Foot', 'Primates Hand', 'Snake Body', 'Testudines Body'), 5: ('Bird Head', 'Bovidae Head', 'Canidae Foot', 'Felidae Body', 'Fish Fin', 'Lacertilia Head', 'Primates Hand', 'Snake Body', 'Ursidae Head'), 6: ('Bird Head', 'Bovidae Head', 'Canidae Foot', 'Mustelidae Body', 'Primates Body', 'Snake Body', 'Ursidae Head'), 7: ('Bird Head', 'Bovidae Head', 'Fish Fin', 'Fish Head', 'Lacertilia Body', 'Testudines Foot', 'Testudines Head'), 8: ('Bird Head', 'Car Side Mirror', 'Primates Hand', 'Primates Head', 'Snake Head', 'Ursidae Foot', 'Ursidae Head'), 9: ('Bird Wing', 'Bovidae Foot', 'Canidae Body', 'Fish Fin', 'Fish Head', 'Snake Head', 'Testudines Body', 'Testudines Head', 'Ursidae Foot'), 10: ('Bird Wing', 'Canidae Body', 'Car Body', 'Fish Body', 'Lacertilia Body', 'Primates Hand', 'Snake Head', 'Testudines Head', 'Ursidae Foot'), 11: ('Bird Wing', 'Canidae Body', 'Car Side Mirror', 'Felidae Foot', 'Felidae Head', 'Primates Foot', 'Testudines Head'), 12: ('Bird Wing', 'Lacertilia Foot', 'Lacertilia Head', 'Mustelidae Body', 'Primates Foot', 'Snake Head', 'Testudines Head', 'Ursidae Foot'), 13: ('Bovidae Body', 'Bovidae Foot', 'Bovidae Head', 'Lacertilia Body', 'Mustelidae Foot', 'Primates Head', 'Testudines Foot'), 14: ('Bovidae Foot', 'Car Side Mirror', 'Felidae Body', 'Fish Body', 'Lacertilia Body', 'Lacertilia Foot', 'Mustelidae Head', 'Snake Head'), 15: ('Bovidae Head', 'Canidae Head', 'Car Body', 'Lacertilia Body', 'Mustelidae Body', 'Mustelidae Foot', 'Ursidae Head'), 16: ('Canidae Body', 'Car Body', 'Car Tier', 'Fish Fin', 'Lacertilia Head', 'Mustelidae Head', 'Snake Body'), 17: ('Car Body', 'Car Tier', 'Felidae Body', 'Lacertilia Foot', 'Snake Head', 'Ursidae Body', 'Ursidae Foot'), 18: ('Car Body', 'Mustelidae Head', 'Primates Foot', 'Primates Hand', 'Snake Body', 'Testudines Body', 'Testudines Head'), 19: ('Felidae Foot', 'Felidae Head', 'Lacertilia Body', 'Mustelidae Body', 'Primates Hand', 'Ursidae Foot', 'Ursidae Head')}\n",
      "select [[('Bird Foot', 'Bird Head', 'Bovidae Foot', 'Lacertilia Head', 'Testudines Head', 'Ursidae Body', 'Ursidae Head'), 1]] ; related label [1]\n",
      "=> mode  noc\n",
      "{0: ('Aeroplane Body', 'Aeroplane Engine', 'Aeroplane Head', 'Aeroplane Wing', 'Bicycle Seat'), 1: ('Aeroplane Body', 'Aeroplane Engine', 'Aeroplane Head', 'Bicycle Head', 'Bicycle Seat'), 2: ('Aeroplane Body', 'Aeroplane Engine', 'Aeroplane Tail', 'Bicycle Body', 'Bottle Mouth'), 3: ('Aeroplane Body', 'Aeroplane Engine', 'Aeroplane Wing', 'Bicycle Tier', 'Bottle Mouth'), 4: ('Aeroplane Body', 'Aeroplane Engine', 'Aeroplane Wing', 'Boat Sail', 'Bottle Mouth'), 5: ('Aeroplane Body', 'Aeroplane Engine', 'Bicycle Body', 'Bicycle Seat', 'Bottle Body'), 6: ('Aeroplane Body', 'Aeroplane Engine', 'Bicycle Body', 'Boat Body', 'Boat Sail'), 7: ('Aeroplane Body', 'Aeroplane Engine', 'Bicycle Body', 'Bottle Body', 'Bottle Mouth'), 8: ('Aeroplane Body', 'Aeroplane Engine', 'Bicycle Head', 'Bicycle Tier', 'Bottle Body'), 9: ('Aeroplane Body', 'Aeroplane Engine', 'Bicycle Seat', 'Bicycle Tier', 'Boat Sail'), 10: ('Aeroplane Body', 'Aeroplane Engine', 'Bicycle Tier', 'Boat Sail', 'Bottle Mouth'), 11: ('Aeroplane Body', 'Aeroplane Head', 'Aeroplane Wing', 'Bicycle Seat', 'Bottle Mouth'), 12: ('Aeroplane Body', 'Aeroplane Head', 'Bicycle Body', 'Boat Body', 'Boat Sail'), 13: ('Aeroplane Body', 'Aeroplane Head', 'Bicycle Head', 'Bicycle Seat', 'Bottle Body'), 14: ('Aeroplane Body', 'Aeroplane Head', 'Bicycle Head', 'Boat Body', 'Bottle Mouth'), 15: ('Aeroplane Body', 'Aeroplane Tail', 'Aeroplane Wing', 'Bicycle Body', 'Boat Body'), 16: ('Aeroplane Body', 'Aeroplane Tail', 'Aeroplane Wing', 'Bicycle Seat', 'Boat Body'), 17: ('Aeroplane Body', 'Aeroplane Tail', 'Bicycle Body', 'Bicycle Head', 'Boat Sail'), 18: ('Aeroplane Body', 'Aeroplane Tail', 'Bicycle Head', 'Boat Sail', 'Bottle Mouth'), 19: ('Aeroplane Body', 'Aeroplane Tail', 'Bicycle Tier', 'Boat Sail', 'Bottle Mouth'), 20: ('Aeroplane Body', 'Aeroplane Wing', 'Bicycle Body', 'Bicycle Seat', 'Bottle Mouth'), 21: ('Aeroplane Body', 'Aeroplane Wing', 'Bicycle Body', 'Bicycle Tier', 'Boat Body'), 22: ('Aeroplane Body', 'Aeroplane Wing', 'Bicycle Body', 'Bicycle Tier', 'Bottle Mouth'), 23: ('Aeroplane Body', 'Aeroplane Wing', 'Bicycle Head', 'Bicycle Tier', 'Bottle Body'), 24: ('Aeroplane Body', 'Aeroplane Wing', 'Bicycle Head', 'Boat Sail', 'Bottle Body'), 25: ('Aeroplane Body', 'Aeroplane Wing', 'Bicycle Head', 'Boat Sail', 'Bottle Mouth'), 26: ('Aeroplane Body', 'Aeroplane Wing', 'Bicycle Seat', 'Boat Body', 'Boat Sail'), 27: ('Aeroplane Body', 'Bicycle Body', 'Bicycle Head', 'Bicycle Tier', 'Bottle Mouth'), 28: ('Aeroplane Body', 'Bicycle Body', 'Bicycle Seat', 'Bicycle Tier', 'Boat Sail'), 29: ('Aeroplane Body', 'Bicycle Body', 'Bicycle Tier', 'Boat Body', 'Bottle Mouth'), 30: ('Aeroplane Body', 'Bicycle Body', 'Bicycle Tier', 'Bottle Body', 'Bottle Mouth'), 31: ('Aeroplane Body', 'Bicycle Head', 'Bicycle Seat', 'Bicycle Tier', 'Boat Sail'), 32: ('Aeroplane Body', 'Bicycle Head', 'Bicycle Tier', 'Bottle Body', 'Bottle Mouth'), 33: ('Aeroplane Engine', 'Aeroplane Head', 'Aeroplane Wing', 'Bicycle Head', 'Bicycle Tier'), 34: ('Aeroplane Engine', 'Aeroplane Head', 'Aeroplane Wing', 'Boat Body', 'Bottle Mouth'), 35: ('Aeroplane Engine', 'Aeroplane Head', 'Bicycle Body', 'Bicycle Seat', 'Bottle Body'), 36: ('Aeroplane Engine', 'Aeroplane Head', 'Bicycle Body', 'Bicycle Tier', 'Bottle Body'), 37: ('Aeroplane Engine', 'Aeroplane Head', 'Bicycle Body', 'Boat Body', 'Bottle Body'), 38: ('Aeroplane Engine', 'Aeroplane Head', 'Bicycle Head', 'Bicycle Seat', 'Boat Body'), 39: ('Aeroplane Engine', 'Aeroplane Head', 'Bicycle Head', 'Bicycle Seat', 'Bottle Body'), 40: ('Aeroplane Engine', 'Aeroplane Head', 'Bicycle Head', 'Bicycle Tier', 'Bottle Body'), 41: ('Aeroplane Engine', 'Aeroplane Head', 'Bicycle Head', 'Boat Sail', 'Bottle Body'), 42: ('Aeroplane Engine', 'Aeroplane Head', 'Bicycle Tier', 'Boat Body', 'Boat Sail'), 43: ('Aeroplane Engine', 'Aeroplane Tail', 'Aeroplane Wing', 'Bicycle Head', 'Bottle Body'), 44: ('Aeroplane Engine', 'Aeroplane Tail', 'Aeroplane Wing', 'Bicycle Tier', 'Bottle Body'), 45: ('Aeroplane Engine', 'Aeroplane Tail', 'Bicycle Body', 'Bicycle Head', 'Bicycle Tier'), 46: ('Aeroplane Engine', 'Aeroplane Tail', 'Bicycle Seat', 'Bottle Body', 'Bottle Mouth'), 47: ('Aeroplane Engine', 'Aeroplane Tail', 'Bicycle Tier', 'Boat Body', 'Bottle Mouth'), 48: ('Aeroplane Engine', 'Aeroplane Wing', 'Bicycle Body', 'Bicycle Head', 'Bicycle Seat'), 49: ('Aeroplane Engine', 'Aeroplane Wing', 'Bicycle Body', 'Bicycle Seat', 'Boat Sail'), 50: ('Aeroplane Engine', 'Aeroplane Wing', 'Bicycle Head', 'Bottle Body', 'Bottle Mouth'), 51: ('Aeroplane Engine', 'Aeroplane Wing', 'Bicycle Seat', 'Boat Body', 'Boat Sail'), 52: ('Aeroplane Engine', 'Bicycle Body', 'Bicycle Head', 'Boat Body', 'Bottle Body'), 53: ('Aeroplane Engine', 'Bicycle Head', 'Boat Body', 'Boat Sail', 'Bottle Mouth'), 54: ('Aeroplane Engine', 'Bicycle Head', 'Boat Body', 'Bottle Body', 'Bottle Mouth'), 55: ('Aeroplane Engine', 'Bicycle Seat', 'Boat Body', 'Bottle Body', 'Bottle Mouth'), 56: ('Aeroplane Engine', 'Bicycle Tier', 'Boat Body', 'Boat Sail', 'Bottle Body'), 57: ('Aeroplane Engine', 'Bicycle Tier', 'Boat Body', 'Boat Sail', 'Bottle Mouth'), 58: ('Aeroplane Head', 'Aeroplane Tail', 'Aeroplane Wing', 'Bicycle Body', 'Bicycle Seat'), 59: ('Aeroplane Head', 'Aeroplane Tail', 'Aeroplane Wing', 'Bicycle Body', 'Bottle Body'), 60: ('Aeroplane Head', 'Aeroplane Tail', 'Aeroplane Wing', 'Bicycle Head', 'Bottle Mouth'), 61: ('Aeroplane Head', 'Aeroplane Tail', 'Aeroplane Wing', 'Bicycle Tier', 'Boat Sail'), 62: ('Aeroplane Head', 'Aeroplane Tail', 'Bicycle Body', 'Bicycle Tier', 'Bottle Mouth'), 63: ('Aeroplane Head', 'Aeroplane Tail', 'Bicycle Body', 'Boat Body', 'Bottle Mouth'), 64: ('Aeroplane Head', 'Aeroplane Tail', 'Bicycle Head', 'Bottle Body', 'Bottle Mouth'), 65: ('Aeroplane Head', 'Aeroplane Tail', 'Bicycle Tier', 'Boat Body', 'Bottle Mouth'), 66: ('Aeroplane Head', 'Aeroplane Wing', 'Bicycle Body', 'Bicycle Head', 'Bicycle Tier'), 67: ('Aeroplane Head', 'Aeroplane Wing', 'Bicycle Body', 'Bicycle Seat', 'Bicycle Tier'), 68: ('Aeroplane Head', 'Aeroplane Wing', 'Bicycle Body', 'Bicycle Seat', 'Bottle Mouth'), 69: ('Aeroplane Head', 'Aeroplane Wing', 'Bicycle Body', 'Bicycle Tier', 'Bottle Mouth'), 70: ('Aeroplane Head', 'Aeroplane Wing', 'Bicycle Body', 'Boat Body', 'Bottle Mouth'), 71: ('Aeroplane Head', 'Aeroplane Wing', 'Bicycle Body', 'Boat Sail', 'Bottle Body'), 72: ('Aeroplane Head', 'Aeroplane Wing', 'Bicycle Body', 'Boat Sail', 'Bottle Mouth'), 73: ('Aeroplane Head', 'Aeroplane Wing', 'Bicycle Head', 'Bicycle Tier', 'Bottle Body'), 74: ('Aeroplane Head', 'Aeroplane Wing', 'Bicycle Head', 'Boat Body', 'Boat Sail'), 75: ('Aeroplane Head', 'Aeroplane Wing', 'Bicycle Seat', 'Bottle Body', 'Bottle Mouth'), 76: ('Aeroplane Head', 'Bicycle Body', 'Bicycle Head', 'Bicycle Tier', 'Boat Body'), 77: ('Aeroplane Head', 'Bicycle Body', 'Bicycle Head', 'Boat Sail', 'Bottle Body'), 78: ('Aeroplane Head', 'Bicycle Body', 'Bicycle Head', 'Boat Sail', 'Bottle Mouth'), 79: ('Aeroplane Head', 'Bicycle Body', 'Bicycle Seat', 'Boat Body', 'Boat Sail'), 80: ('Aeroplane Head', 'Bicycle Body', 'Boat Body', 'Boat Sail', 'Bottle Body'), 81: ('Aeroplane Head', 'Bicycle Body', 'Boat Sail', 'Bottle Body', 'Bottle Mouth'), 82: ('Aeroplane Head', 'Bicycle Head', 'Bicycle Tier', 'Bottle Body', 'Bottle Mouth'), 83: ('Aeroplane Head', 'Bicycle Head', 'Boat Sail', 'Bottle Body', 'Bottle Mouth'), 84: ('Aeroplane Head', 'Boat Body', 'Boat Sail', 'Bottle Body', 'Bottle Mouth'), 85: ('Aeroplane Tail', 'Aeroplane Wing', 'Bicycle Body', 'Boat Body', 'Bottle Body'), 86: ('Aeroplane Tail', 'Aeroplane Wing', 'Bicycle Head', 'Bicycle Seat', 'Bottle Mouth'), 87: ('Aeroplane Tail', 'Aeroplane Wing', 'Bicycle Seat', 'Boat Body', 'Bottle Body'), 88: ('Aeroplane Tail', 'Bicycle Seat', 'Bicycle Tier', 'Boat Body', 'Bottle Mouth'), 89: ('Aeroplane Tail', 'Bicycle Seat', 'Bicycle Tier', 'Boat Sail', 'Bottle Mouth'), 90: ('Aeroplane Wing', 'Bicycle Head', 'Bicycle Tier', 'Boat Body', 'Bottle Mouth'), 91: ('Bicycle Body', 'Bicycle Head', 'Boat Body', 'Boat Sail', 'Bottle Body'), 92: ('Bicycle Body', 'Bicycle Seat', 'Boat Body', 'Boat Sail', 'Bottle Body'), 93: ('Bicycle Head', 'Bicycle Seat', 'Bicycle Tier', 'Boat Sail', 'Bottle Body'), 94: ('Bicycle Head', 'Bicycle Tier', 'Boat Body', 'Boat Sail', 'Bottle Mouth'), 95: ('Bicycle Head', 'Boat Body', 'Boat Sail', 'Bottle Body', 'Bottle Mouth')}\n",
      "select [[('Aeroplane Engine', 'Aeroplane Head', 'Aeroplane Wing', 'Bicycle Head', 'Bicycle Tier'), 2]] ; related label [33]\n",
      "=> mode  non\n",
      "{0: ('Bird Body', 'Bird Head', 'Bovidae Foot', 'Lacertilia Head', 'Ursidae Head'), 1: ('Bird Body', 'Bird Head', 'Car Side Mirror', 'Lacertilia Head', 'Ursidae Foot'), 2: ('Bird Body', 'Bovidae Body', 'Canidae Body', 'Canidae Head', 'Testudines Head'), 3: ('Bird Body', 'Bovidae Body', 'Felidae Foot', 'Fish Body', 'Mustelidae Head'), 4: ('Bird Body', 'Bovidae Body', 'Fish Fin', 'Lacertilia Body', 'Primates Hand'), 5: ('Bird Body', 'Bovidae Foot', 'Bovidae Head', 'Felidae Head', 'Fish Fin'), 6: ('Bird Body', 'Bovidae Foot', 'Canidae Foot', 'Lacertilia Foot', 'Testudines Body'), 7: ('Bird Body', 'Bovidae Foot', 'Car Body', 'Fish Body', 'Lacertilia Head'), 8: ('Bird Body', 'Bovidae Foot', 'Car Side Mirror', 'Fish Body', 'Primates Body'), 9: ('Bird Body', 'Car Body', 'Car Tier', 'Primates Hand', 'Ursidae Head'), 10: ('Bird Body', 'Fish Body', 'Fish Head', 'Lacertilia Foot', 'Testudines Head'), 11: ('Bird Body', 'Fish Head', 'Lacertilia Foot', 'Mustelidae Body', 'Mustelidae Foot'), 12: ('Bird Body', 'Primates Hand', 'Testudines Body', 'Testudines Head', 'Ursidae Head'), 13: ('Bird Foot', 'Bird Head', 'Bovidae Foot', 'Lacertilia Foot', 'Testudines Body'), 14: ('Bird Foot', 'Bird Head', 'Car Tier', 'Snake Head', 'Ursidae Head'), 15: ('Bird Foot', 'Bird Wing', 'Bovidae Body', 'Car Tier', 'Ursidae Head'), 16: ('Bird Foot', 'Bird Wing', 'Bovidae Foot', 'Primates Hand', 'Primates Head'), 17: ('Bird Foot', 'Bovidae Body', 'Lacertilia Body', 'Testudines Body', 'Ursidae Body'), 18: ('Bird Foot', 'Bovidae Foot', 'Fish Body', 'Primates Body', 'Ursidae Body'), 19: ('Bird Foot', 'Canidae Body', 'Car Tier', 'Felidae Head', 'Ursidae Foot'), 20: ('Bird Foot', 'Canidae Foot', 'Canidae Head', 'Lacertilia Body', 'Lacertilia Foot'), 21: ('Bird Foot', 'Canidae Foot', 'Fish Fin', 'Fish Head', 'Primates Hand'), 22: ('Bird Foot', 'Canidae Foot', 'Mustelidae Head', 'Primates Foot', 'Primates Hand'), 23: ('Bird Foot', 'Car Body', 'Felidae Body', 'Testudines Head', 'Ursidae Head'), 24: ('Bird Foot', 'Felidae Body', 'Mustelidae Head', 'Primates Foot', 'Testudines Foot'), 25: ('Bird Foot', 'Felidae Head', 'Primates Hand', 'Testudines Body', 'Ursidae Foot'), 26: ('Bird Foot', 'Fish Body', 'Fish Head', 'Lacertilia Head', 'Snake Body'), 27: ('Bird Head', 'Bird Wing', 'Bovidae Head', 'Fish Fin', 'Mustelidae Head'), 28: ('Bird Head', 'Bovidae Body', 'Car Tier', 'Mustelidae Body', 'Mustelidae Head'), 29: ('Bird Head', 'Bovidae Head', 'Canidae Foot', 'Car Body', 'Lacertilia Head'), 30: ('Bird Head', 'Canidae Head', 'Car Body', 'Car Tier', 'Ursidae Foot'), 31: ('Bird Head', 'Canidae Head', 'Primates Foot', 'Primates Hand', 'Ursidae Body'), 32: ('Bird Head', 'Car Body', 'Fish Fin', 'Mustelidae Foot', 'Primates Foot'), 33: ('Bird Head', 'Car Body', 'Lacertilia Head', 'Testudines Body', 'Ursidae Body'), 34: ('Bird Head', 'Car Tier', 'Fish Fin', 'Primates Head', 'Snake Head'), 35: ('Bird Head', 'Felidae Body', 'Fish Fin', 'Lacertilia Foot', 'Primates Hand'), 36: ('Bird Wing', 'Bovidae Body', 'Car Side Mirror', 'Mustelidae Body', 'Ursidae Body'), 37: ('Bird Wing', 'Bovidae Body', 'Fish Body', 'Testudines Foot', 'Ursidae Head'), 38: ('Bird Wing', 'Bovidae Head', 'Felidae Body', 'Lacertilia Foot', 'Primates Foot'), 39: ('Bird Wing', 'Canidae Foot', 'Canidae Head', 'Felidae Foot', 'Mustelidae Body'), 40: ('Bird Wing', 'Canidae Foot', 'Canidae Head', 'Fish Head', 'Testudines Foot'), 41: ('Bird Wing', 'Car Body', 'Felidae Body', 'Primates Foot', 'Testudines Body'), 42: ('Bird Wing', 'Car Side Mirror', 'Lacertilia Foot', 'Testudines Head', 'Ursidae Body'), 43: ('Bird Wing', 'Car Tier', 'Fish Head', 'Primates Hand', 'Ursidae Head'), 44: ('Bird Wing', 'Felidae Head', 'Mustelidae Head', 'Snake Body', 'Testudines Head'), 45: ('Bird Wing', 'Fish Fin', 'Lacertilia Foot', 'Mustelidae Head', 'Testudines Head'), 46: ('Bovidae Body', 'Bovidae Foot', 'Canidae Head', 'Lacertilia Body', 'Primates Hand'), 47: ('Bovidae Body', 'Bovidae Head', 'Mustelidae Head', 'Primates Hand', 'Ursidae Foot'), 48: ('Bovidae Body', 'Canidae Body', 'Mustelidae Foot', 'Primates Foot', 'Testudines Body'), 49: ('Bovidae Body', 'Car Body', 'Testudines Foot', 'Ursidae Body', 'Ursidae Head'), 50: ('Bovidae Body', 'Felidae Body', 'Lacertilia Body', 'Primates Body', 'Primates Hand'), 51: ('Bovidae Body', 'Fish Body', 'Fish Fin', 'Mustelidae Body', 'Testudines Body'), 52: ('Bovidae Body', 'Fish Body', 'Lacertilia Body', 'Lacertilia Head', 'Primates Head'), 53: ('Bovidae Body', 'Fish Fin', 'Primates Hand', 'Snake Body', 'Testudines Foot'), 54: ('Bovidae Foot', 'Bovidae Head', 'Lacertilia Foot', 'Testudines Body', 'Ursidae Head'), 55: ('Bovidae Foot', 'Canidae Foot', 'Fish Fin', 'Primates Hand', 'Testudines Head'), 56: ('Bovidae Foot', 'Canidae Foot', 'Lacertilia Body', 'Primates Head', 'Ursidae Head'), 57: ('Bovidae Foot', 'Canidae Foot', 'Lacertilia Head', 'Mustelidae Foot', 'Primates Hand'), 58: ('Bovidae Foot', 'Car Body', 'Fish Body', 'Primates Foot', 'Primates Hand'), 59: ('Bovidae Foot', 'Felidae Foot', 'Primates Foot', 'Primates Hand', 'Testudines Body'), 60: ('Bovidae Head', 'Canidae Body', 'Fish Fin', 'Lacertilia Head', 'Primates Hand'), 61: ('Bovidae Head', 'Canidae Foot', 'Car Body', 'Primates Body', 'Ursidae Foot'), 62: ('Bovidae Head', 'Canidae Foot', 'Car Side Mirror', 'Primates Foot', 'Testudines Head'), 63: ('Bovidae Head', 'Canidae Foot', 'Lacertilia Foot', 'Mustelidae Foot', 'Snake Head'), 64: ('Bovidae Head', 'Car Tier', 'Felidae Foot', 'Fish Body', 'Mustelidae Body'), 65: ('Bovidae Head', 'Felidae Body', 'Felidae Foot', 'Ursidae Foot', 'Ursidae Head'), 66: ('Bovidae Head', 'Felidae Foot', 'Primates Body', 'Testudines Body', 'Ursidae Foot'), 67: ('Bovidae Head', 'Fish Body', 'Primates Hand', 'Testudines Foot', 'Ursidae Head'), 68: ('Canidae Body', 'Canidae Foot', 'Canidae Head', 'Mustelidae Head', 'Ursidae Head'), 69: ('Canidae Body', 'Canidae Foot', 'Felidae Body', 'Mustelidae Body', 'Primates Head'), 70: ('Canidae Body', 'Canidae Foot', 'Lacertilia Foot', 'Lacertilia Head', 'Ursidae Foot'), 71: ('Canidae Body', 'Canidae Head', 'Felidae Foot', 'Lacertilia Body', 'Primates Head'), 72: ('Canidae Body', 'Car Tier', 'Felidae Foot', 'Lacertilia Body', 'Ursidae Body'), 73: ('Canidae Body', 'Car Tier', 'Fish Head', 'Lacertilia Body', 'Testudines Foot'), 74: ('Canidae Body', 'Felidae Foot', 'Fish Fin', 'Mustelidae Body', 'Primates Body'), 75: ('Canidae Foot', 'Canidae Head', 'Car Tier', 'Felidae Body', 'Mustelidae Body'), 76: ('Canidae Foot', 'Car Body', 'Fish Body', 'Fish Fin', 'Fish Head'), 77: ('Canidae Foot', 'Car Body', 'Mustelidae Foot', 'Snake Body', 'Testudines Foot'), 78: ('Canidae Foot', 'Car Side Mirror', 'Mustelidae Foot', 'Ursidae Foot', 'Ursidae Head'), 79: ('Canidae Foot', 'Felidae Body', 'Felidae Head', 'Snake Head', 'Ursidae Foot'), 80: ('Canidae Foot', 'Felidae Body', 'Lacertilia Head', 'Mustelidae Body', 'Mustelidae Foot'), 81: ('Canidae Foot', 'Lacertilia Body', 'Mustelidae Foot', 'Mustelidae Head', 'Testudines Body'), 82: ('Canidae Head', 'Car Body', 'Fish Head', 'Mustelidae Foot', 'Snake Head'), 83: ('Canidae Head', 'Car Tier', 'Felidae Body', 'Primates Foot', 'Testudines Body'), 84: ('Canidae Head', 'Felidae Body', 'Felidae Head', 'Lacertilia Body', 'Mustelidae Foot'), 85: ('Canidae Head', 'Felidae Head', 'Fish Head', 'Primates Head', 'Testudines Body'), 86: ('Car Body', 'Car Side Mirror', 'Felidae Head', 'Mustelidae Foot', 'Primates Foot'), 87: ('Car Body', 'Felidae Foot', 'Mustelidae Foot', 'Snake Body', 'Ursidae Foot'), 88: ('Car Side Mirror', 'Felidae Head', 'Snake Body', 'Testudines Body', 'Testudines Foot'), 89: ('Car Side Mirror', 'Lacertilia Body', 'Mustelidae Head', 'Primates Foot', 'Ursidae Body'), 90: ('Car Tier', 'Felidae Body', 'Fish Fin', 'Primates Head', 'Testudines Foot'), 91: ('Car Tier', 'Fish Body', 'Mustelidae Head', 'Primates Body', 'Snake Body'), 92: ('Felidae Foot', 'Fish Body', 'Lacertilia Body', 'Primates Foot', 'Primates Hand'), 93: ('Felidae Foot', 'Fish Head', 'Lacertilia Body', 'Testudines Foot', 'Ursidae Foot'), 94: ('Felidae Head', 'Lacertilia Head', 'Testudines Body', 'Testudines Head', 'Ursidae Body'), 95: ('Fish Body', 'Lacertilia Head', 'Mustelidae Foot', 'Testudines Head', 'Ursidae Head'), 96: ('Fish Head', 'Lacertilia Body', 'Lacertilia Foot', 'Primates Foot', 'Ursidae Body'), 97: ('Lacertilia Body', 'Lacertilia Foot', 'Primates Body', 'Primates Head', 'Ursidae Head'), 98: ('Lacertilia Foot', 'Lacertilia Head', 'Mustelidae Head', 'Primates Hand', 'Ursidae Body'), 99: ('Lacertilia Foot', 'Mustelidae Foot', 'Testudines Foot', 'Ursidae Foot', 'Ursidae Head')}\n",
      "select [[('Bird Foot', 'Bird Head', 'Car Tier', 'Snake Head', 'Ursidae Head'), 3], [('Bovidae Body', 'Bovidae Foot', 'Canidae Head', 'Lacertilia Body', 'Primates Hand'), 4], [('Bovidae Head', 'Canidae Foot', 'Lacertilia Foot', 'Mustelidae Foot', 'Snake Head'), 5], [('Felidae Head', 'Lacertilia Head', 'Testudines Body', 'Testudines Head', 'Ursidae Body'), 6]] ; related label [14, 46, 63, 94]\n"
     ]
    }
   ],
   "source": [
    "\n",
    "from datasets.cpin import _get_pin_datasets\n",
    "\n",
    "modes = {'sys': [[('Bird Head', 'Bovidae Body', 'Car Tier', 'Felidae Head', 'Snake Head'), 0]],\n",
    "         'pro': [[('Bird Foot', 'Bird Head', 'Bovidae Foot', 'Lacertilia Head', 'Testudines Head', 'Ursidae Body', 'Ursidae Head'), 1]],\n",
    "         'noc': [[('Aeroplane Engine', 'Aeroplane Head', 'Aeroplane Wing', 'Bicycle Head', 'Bicycle Tier'), 2]],\n",
    "         'non': [[('Bird Foot', 'Bird Head', 'Car Tier', 'Snake Head', 'Ursidae Head'), 3],\n",
    "                 [('Bovidae Body', 'Bovidae Foot', 'Canidae Head', 'Lacertilia Body', 'Primates Hand'), 4],\n",
    "                 [('Bovidae Head', 'Canidae Foot', 'Lacertilia Foot', 'Mustelidae Foot', 'Snake Head'), 5],\n",
    "                 [('Felidae Head', 'Lacertilia Head', 'Testudines Body', 'Testudines Head', 'Ursidae Body'), 6]],\n",
    "         }\n",
    "\n",
    "features = []\n",
    "labels = []\n",
    "\n",
    "# mode = 'sys'\n",
    "for mode in ['sys', 'pro', 'noc', 'non']:\n",
    "    print(\"=> mode \", mode)\n",
    "    datasets, label_info = _get_pin_datasets(args.dataset_root, mode=mode)\n",
    "    dataset = datasets['dataset']\n",
    "\n",
    "    label_set, map_tuple_label_to_int, map_int_label_to_tuple = label_info\n",
    "    print(map_int_label_to_tuple)\n",
    "\n",
    "    selected_labels = [map_tuple_label_to_int[l[0]] for l in modes[mode]]\n",
    "    print('select', modes[mode], '; related label', selected_labels)\n",
    "\n",
    "    for idx, label in enumerate(selected_labels):\n",
    "        indices = np.where(np.array(dataset.targets) == label)[0]\n",
    "        subset = AvalancheSubset(dataset, indices=indices, transform=_default_cgqa_eval_transform)\n",
    "        dataloader = DataLoader(subset, batch_size=100)\n",
    "\n",
    "        for x, y, t in dataloader:\n",
    "            with torch.no_grad():\n",
    "                feature = origin_model.resnet(x)      # return features\n",
    "            features.append(feature.detach().cpu().numpy())\n",
    "            labels.append([modes[mode][idx][1] for _ in range(100)])\n",
    "\n",
    "features = np.concatenate(features)\n",
    "labels = np.concatenate(labels)"
   ],
   "metadata": {
    "collapsed": false,
    "pycharm": {
     "name": "#%%\n"
    }
   }
  },
  {
   "cell_type": "code",
   "execution_count": 61,
   "outputs": [
    {
     "name": "stderr",
     "output_type": "stream",
     "text": [
      "C:\\Users\\ASUS\\anaconda3\\envs\\avalanche-env\\lib\\site-packages\\sklearn\\manifold\\_t_sne.py:800: FutureWarning: The default initialization in TSNE will change from 'random' to 'pca' in 1.2.\n",
      "  warnings.warn(\n",
      "C:\\Users\\ASUS\\anaconda3\\envs\\avalanche-env\\lib\\site-packages\\sklearn\\manifold\\_t_sne.py:810: FutureWarning: The default learning rate in TSNE will change from 200.0 to 'auto' in 1.2.\n",
      "  warnings.warn(\n"
     ]
    },
    {
     "name": "stdout",
     "output_type": "stream",
     "text": [
      "{'sys': [[('Bird Head', 'Bovidae Body', 'Car Tier', 'Felidae Head', 'Snake Head'), 0]], 'pro': [[('Bird Foot', 'Bird Head', 'Bovidae Foot', 'Lacertilia Head', 'Testudines Head', 'Ursidae Body', 'Ursidae Head'), 1]], 'noc': [[('Aeroplane Engine', 'Aeroplane Head', 'Aeroplane Wing', 'Bicycle Head', 'Bicycle Tier'), 2]], 'non': [[('Bird Foot', 'Bird Head', 'Car Tier', 'Snake Head', 'Ursidae Head'), 3], [('Bovidae Body', 'Bovidae Foot', 'Canidae Head', 'Lacertilia Body', 'Primates Hand'), 4], [('Bovidae Head', 'Canidae Foot', 'Lacertilia Foot', 'Mustelidae Foot', 'Snake Head'), 5], [('Felidae Head', 'Lacertilia Head', 'Testudines Body', 'Testudines Head', 'Ursidae Body'), 6]]}\n"
     ]
    },
    {
     "data": {
      "text/plain": "<Figure size 1000x1000 with 1 Axes>",
      "image/png": "[encoded data removed]"
     },
     "metadata": {},
     "output_type": "display_data"
    }
   ],
   "source": [
    "# get TSNE\n",
    "\n",
    "from sklearn import manifold\n",
    "\n",
    "tsne = manifold.TSNE(n_components=2, perplexity=30, random_state=1234)\n",
    "X = tsne.fit_transform(features)\n",
    "\n",
    "# draw TSNE\n",
    "\n",
    "plt.figure(figsize=(10, 10))\n",
    "# sns.set_palette('Set2', 7)\n",
    "matplotlib.rcParams.update({'font.size': 18})\n",
    "\n",
    "ax = sns.scatterplot(x=X[:, 0], y=X[:, 1], hue=labels, palette=sns.color_palette('hls', 7), s=70)\n",
    "plt.legend(loc = 'upper left', bbox_to_anchor = (1, 1))\n",
    "plt.xticks([])\n",
    "plt.yticks([])\n",
    "\n",
    "print(modes)\n",
    "\n",
    "fig = ax.get_figure()\n",
    "fig.savefig(os.path.join(exp_path, 'tsne.png'), dpi = 400, bbox_inches='tight')"
   ],
   "metadata": {
    "collapsed": false,
    "pycharm": {
     "name": "#%%\n"
    }
   }
  },
  {
   "cell_type": "code",
   "execution_count": null,
   "outputs": [],
   "source": [],
   "metadata": {
    "collapsed": false,
    "pycharm": {
     "name": "#%%\n"
    }
   }
  }
 ],
 "metadata": {
  "kernelspec": {
   "display_name": "Python 3",
   "language": "python",
   "name": "python3"
  },
  "language_info": {
   "codemirror_mode": {
    "name": "ipython",
    "version": 2
   },
   "file_extension": ".py",
   "mimetype": "text/x-python",
   "name": "python",
   "nbconvert_exporter": "python",
   "pygments_lexer": "ipython2",
   "version": "2.7.6"
  }
 },
 "nbformat": 4,
 "nbformat_minor": 0
}