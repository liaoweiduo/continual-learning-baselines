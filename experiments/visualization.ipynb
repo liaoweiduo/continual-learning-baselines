{
 "cells": [
  {
   "cell_type": "code",
   "execution_count": 5,
   "metadata": {
    "collapsed": true
   },
   "outputs": [],
   "source": [
    "%matplotlib inline\n",
    "import os\n",
    "import numpy as np\n",
    "import pandas as pd\n",
    "import matplotlib.pyplot as plt\n",
    "from plotly.subplots import make_subplots\n",
    "import plotly.express as px\n",
    "import plotly.graph_objs as go"
   ]
  },
  {
   "cell_type": "code",
   "execution_count": 2,
   "outputs": [],
   "source": [
    "project_name = 'Split_Sys_VQA'\n",
    "# project_name = 'Split_Sub_VQA'"
   ],
   "metadata": {
    "collapsed": false,
    "pycharm": {
     "name": "#%%\n"
    }
   }
  },
  {
   "cell_type": "markdown",
   "source": [
    "# Show Continual Training Results"
   ],
   "metadata": {
    "collapsed": false,
    "pycharm": {
     "name": "#%% md\n"
    }
   }
  },
  {
   "cell_type": "code",
   "execution_count": 7,
   "outputs": [],
   "source": [
    "def get_accs(exp_name):\n",
    "    results = np.load(os.path.join('../../avalanche-experiments', project_name, exp_name, f'results-{exp_name}.npy'), allow_pickle=True)\n",
    "    accs = [results[i]['Top1_Acc_Stream/eval_phase/test_stream/Task000'] for i in range(len(results))]\n",
    "    losses = [results[i]['Loss_Stream/eval_phase/test_stream/Task000'] for i in range(len(results))]\n",
    "    return accs, losses"
   ],
   "metadata": {
    "collapsed": false,
    "pycharm": {
     "name": "#%%\n"
    }
   }
  },
  {
   "cell_type": "markdown",
   "source": [],
   "metadata": {
    "collapsed": false
   }
  },
  {
   "cell_type": "code",
   "execution_count": 8,
   "outputs": [],
   "source": [
    "exp_names = ['Naive-lr0_005', 'ER-lr0_01-m1000', 'ER-lr0_01-m5000', 'LwF-lr0_005-a11-t2', 'GEM-lr0_01-p32-m0_5']\n",
    "dsp_names = ['Naive', 'ER-1000', 'ER-5000', 'LwF', 'GEM']\n",
    "all_accs = [get_accs(exp_names[i])[0] for i in range(len(exp_names))]\n",
    "all_losses = [get_accs(exp_names[i])[1] for i in range(len(exp_names))]"
   ],
   "metadata": {
    "collapsed": false,
    "pycharm": {
     "name": "#%%\n"
    }
   }
  },
  {
   "cell_type": "code",
   "execution_count": 14,
   "outputs": [
    {
     "data": {
      "application/vnd.plotly.v1+json": {
       "data": [
        {
         "hovertemplate": "Algo.=Naive<br>Num classes=%{x}<br>Value=%{y}<extra></extra>",
         "legendgroup": "Naive",
         "line": {
          "color": "#636efa",
          "dash": "solid"
         },
         "marker": {
          "symbol": "circle"
         },
         "mode": "lines",
         "name": "Naive",
         "orientation": "v",
         "showlegend": true,
         "x": [
          2,
          4,
          6,
          8,
          10,
          12,
          14,
          16,
          18,
          20
         ],
         "xaxis": "x",
         "y": [
          0.67,
          0.425,
          0.3,
          0.2,
          0.168,
          0.16,
          0.12285714285714286,
          0.0975,
          0.09,
          0.084
         ],
         "yaxis": "y",
         "type": "scatter"
        },
        {
         "hovertemplate": "Algo.=ER-1000<br>Num classes=%{x}<br>Value=%{y}<extra></extra>",
         "legendgroup": "ER-1000",
         "line": {
          "color": "#EF553B",
          "dash": "solid"
         },
         "marker": {
          "symbol": "circle"
         },
         "mode": "lines",
         "name": "ER-1000",
         "orientation": "v",
         "showlegend": true,
         "x": [
          2,
          4,
          6,
          8,
          10,
          12,
          14,
          16,
          18,
          20
         ],
         "xaxis": "x",
         "y": [
          0.66,
          0.555,
          0.39,
          0.3475,
          0.332,
          0.295,
          0.25285714285714284,
          0.20875,
          0.2,
          0.139
         ],
         "yaxis": "y",
         "type": "scatter"
        },
        {
         "hovertemplate": "Algo.=ER-5000<br>Num classes=%{x}<br>Value=%{y}<extra></extra>",
         "legendgroup": "ER-5000",
         "line": {
          "color": "#00cc96",
          "dash": "solid"
         },
         "marker": {
          "symbol": "circle"
         },
         "mode": "lines",
         "name": "ER-5000",
         "orientation": "v",
         "showlegend": true,
         "x": [
          2,
          4,
          6,
          8,
          10,
          12,
          14,
          16,
          18,
          20
         ],
         "xaxis": "x",
         "y": [
          0.66,
          0.58,
          0.4866666666666667,
          0.3825,
          0.382,
          0.41,
          0.3271428571428571,
          0.32875,
          0.28888888888888886,
          0.26
         ],
         "yaxis": "y",
         "type": "scatter"
        },
        {
         "hovertemplate": "Algo.=LwF<br>Num classes=%{x}<br>Value=%{y}<extra></extra>",
         "legendgroup": "LwF",
         "line": {
          "color": "#ab63fa",
          "dash": "solid"
         },
         "marker": {
          "symbol": "circle"
         },
         "mode": "lines",
         "name": "LwF",
         "orientation": "v",
         "showlegend": true,
         "x": [
          2,
          4,
          6,
          8,
          10,
          12,
          14,
          16,
          18,
          20
         ],
         "xaxis": "x",
         "y": [
          0.67,
          0.405,
          0.31,
          0.1775,
          0.18,
          0.15333333333333332,
          0.12285714285714286,
          0.09375,
          0.07555555555555556,
          0.081
         ],
         "yaxis": "y",
         "type": "scatter"
        },
        {
         "hovertemplate": "Algo.=GEM<br>Num classes=%{x}<br>Value=%{y}<extra></extra>",
         "legendgroup": "GEM",
         "line": {
          "color": "#FFA15A",
          "dash": "solid"
         },
         "marker": {
          "symbol": "circle"
         },
         "mode": "lines",
         "name": "GEM",
         "orientation": "v",
         "showlegend": true,
         "x": [
          2,
          4,
          6,
          8,
          10,
          12,
          14,
          16,
          18,
          20
         ],
         "xaxis": "x",
         "y": [
          0.66,
          0.385,
          0.2866666666666667,
          0.215,
          0.184,
          0.18333333333333332,
          0.14142857142857143,
          0.12625,
          0.09666666666666666,
          0.085
         ],
         "yaxis": "y",
         "type": "scatter"
        },
        {
         "hovertemplate": "Algo.=RPSnet<br>Num classes=%{x}<br>Value=%{y}<extra></extra>",
         "legendgroup": "RPSnet",
         "line": {
          "color": "#19d3f3",
          "dash": "solid"
         },
         "marker": {
          "symbol": "circle"
         },
         "mode": "lines",
         "name": "RPSnet",
         "orientation": "v",
         "showlegend": true,
         "x": [
          2,
          4,
          6,
          8,
          10,
          12,
          14,
          16,
          18,
          20
         ],
         "xaxis": "x",
         "y": [
          0.745,
          0.6875,
          0.5816666699999999,
          0.50875,
          0.474,
          0.435,
          0.35785713999999996,
          0.344375,
          0.22277778,
          0.20149999999999998
         ],
         "yaxis": "y",
         "type": "scatter"
        }
       ],
       "layout": {
        "template": {
         "data": {
          "histogram2dcontour": [
           {
            "type": "histogram2dcontour",
            "colorbar": {
             "outlinewidth": 0,
             "ticks": ""
            },
            "colorscale": [
             [
              0.0,
              "#0d0887"
             ],
             [
              0.1111111111111111,
              "#46039f"
             ],
             [
              0.2222222222222222,
              "#7201a8"
             ],
             [
              0.3333333333333333,
              "#9c179e"
             ],
             [
              0.4444444444444444,
              "#bd3786"
             ],
             [
              0.5555555555555556,
              "#d8576b"
             ],
             [
              0.6666666666666666,
              "#ed7953"
             ],
             [
              0.7777777777777778,
              "#fb9f3a"
             ],
             [
              0.8888888888888888,
              "#fdca26"
             ],
             [
              1.0,
              "#f0f921"
             ]
            ]
           }
          ],
          "choropleth": [
           {
            "type": "choropleth",
            "colorbar": {
             "outlinewidth": 0,
             "ticks": ""
            }
           }
          ],
          "histogram2d": [
           {
            "type": "histogram2d",
            "colorbar": {
             "outlinewidth": 0,
             "ticks": ""
            },
            "colorscale": [
             [
              0.0,
              "#0d0887"
             ],
             [
              0.1111111111111111,
              "#46039f"
             ],
             [
              0.2222222222222222,
              "#7201a8"
             ],
             [
              0.3333333333333333,
              "#9c179e"
             ],
             [
              0.4444444444444444,
              "#bd3786"
             ],
             [
              0.5555555555555556,
              "#d8576b"
             ],
             [
              0.6666666666666666,
              "#ed7953"
             ],
             [
              0.7777777777777778,
              "#fb9f3a"
             ],
             [
              0.8888888888888888,
              "#fdca26"
             ],
             [
              1.0,
              "#f0f921"
             ]
            ]
           }
          ],
          "heatmap": [
           {
            "type": "heatmap",
            "colorbar": {
             "outlinewidth": 0,
             "ticks": ""
            },
            "colorscale": [
             [
              0.0,
              "#0d0887"
             ],
             [
              0.1111111111111111,
              "#46039f"
             ],
             [
              0.2222222222222222,
              "#7201a8"
             ],
             [
              0.3333333333333333,
              "#9c179e"
             ],
             [
              0.4444444444444444,
              "#bd3786"
             ],
             [
              0.5555555555555556,
              "#d8576b"
             ],
             [
              0.6666666666666666,
              "#ed7953"
             ],
             [
              0.7777777777777778,
              "#fb9f3a"
             ],
             [
              0.8888888888888888,
              "#fdca26"
             ],
             [
              1.0,
              "#f0f921"
             ]
            ]
           }
          ],
          "heatmapgl": [
           {
            "type": "heatmapgl",
            "colorbar": {
             "outlinewidth": 0,
             "ticks": ""
            },
            "colorscale": [
             [
              0.0,
              "#0d0887"
             ],
             [
              0.1111111111111111,
              "#46039f"
             ],
             [
              0.2222222222222222,
              "#7201a8"
             ],
             [
              0.3333333333333333,
              "#9c179e"
             ],
             [
              0.4444444444444444,
              "#bd3786"
             ],
             [
              0.5555555555555556,
              "#d8576b"
             ],
             [
              0.6666666666666666,
              "#ed7953"
             ],
             [
              0.7777777777777778,
              "#fb9f3a"
             ],
             [
              0.8888888888888888,
              "#fdca26"
             ],
             [
              1.0,
              "#f0f921"
             ]
            ]
           }
          ],
          "contourcarpet": [
           {
            "type": "contourcarpet",
            "colorbar": {
             "outlinewidth": 0,
             "ticks": ""
            }
           }
          ],
          "contour": [
           {
            "type": "contour",
            "colorbar": {
             "outlinewidth": 0,
             "ticks": ""
            },
            "colorscale": [
             [
              0.0,
              "#0d0887"
             ],
             [
              0.1111111111111111,
              "#46039f"
             ],
             [
              0.2222222222222222,
              "#7201a8"
             ],
             [
              0.3333333333333333,
              "#9c179e"
             ],
             [
              0.4444444444444444,
              "#bd3786"
             ],
             [
              0.5555555555555556,
              "#d8576b"
             ],
             [
              0.6666666666666666,
              "#ed7953"
             ],
             [
              0.7777777777777778,
              "#fb9f3a"
             ],
             [
              0.8888888888888888,
              "#fdca26"
             ],
             [
              1.0,
              "#f0f921"
             ]
            ]
           }
          ],
          "surface": [
           {
            "type": "surface",
            "colorbar": {
             "outlinewidth": 0,
             "ticks": ""
            },
            "colorscale": [
             [
              0.0,
              "#0d0887"
             ],
             [
              0.1111111111111111,
              "#46039f"
             ],
             [
              0.2222222222222222,
              "#7201a8"
             ],
             [
              0.3333333333333333,
              "#9c179e"
             ],
             [
              0.4444444444444444,
              "#bd3786"
             ],
             [
              0.5555555555555556,
              "#d8576b"
             ],
             [
              0.6666666666666666,
              "#ed7953"
             ],
             [
              0.7777777777777778,
              "#fb9f3a"
             ],
             [
              0.8888888888888888,
              "#fdca26"
             ],
             [
              1.0,
              "#f0f921"
             ]
            ]
           }
          ],
          "mesh3d": [
           {
            "type": "mesh3d",
            "colorbar": {
             "outlinewidth": 0,
             "ticks": ""
            }
           }
          ],
          "scatter": [
           {
            "fillpattern": {
             "fillmode": "overlay",
             "size": 10,
             "solidity": 0.2
            },
            "type": "scatter"
           }
          ],
          "parcoords": [
           {
            "type": "parcoords",
            "line": {
             "colorbar": {
              "outlinewidth": 0,
              "ticks": ""
             }
            }
           }
          ],
          "scatterpolargl": [
           {
            "type": "scatterpolargl",
            "marker": {
             "colorbar": {
              "outlinewidth": 0,
              "ticks": ""
             }
            }
           }
          ],
          "bar": [
           {
            "error_x": {
             "color": "#2a3f5f"
            },
            "error_y": {
             "color": "#2a3f5f"
            },
            "marker": {
             "line": {
              "color": "#E5ECF6",
              "width": 0.5
             },
             "pattern": {
              "fillmode": "overlay",
              "size": 10,
              "solidity": 0.2
             }
            },
            "type": "bar"
           }
          ],
          "scattergeo": [
           {
            "type": "scattergeo",
            "marker": {
             "colorbar": {
              "outlinewidth": 0,
              "ticks": ""
             }
            }
           }
          ],
          "scatterpolar": [
           {
            "type": "scatterpolar",
            "marker": {
             "colorbar": {
              "outlinewidth": 0,
              "ticks": ""
             }
            }
           }
          ],
          "histogram": [
           {
            "marker": {
             "pattern": {
              "fillmode": "overlay",
              "size": 10,
              "solidity": 0.2
             }
            },
            "type": "histogram"
           }
          ],
          "scattergl": [
           {
            "type": "scattergl",
            "marker": {
             "colorbar": {
              "outlinewidth": 0,
              "ticks": ""
             }
            }
           }
          ],
          "scatter3d": [
           {
            "type": "scatter3d",
            "line": {
             "colorbar": {
              "outlinewidth": 0,
              "ticks": ""
             }
            },
            "marker": {
             "colorbar": {
              "outlinewidth": 0,
              "ticks": ""
             }
            }
           }
          ],
          "scattermapbox": [
           {
            "type": "scattermapbox",
            "marker": {
             "colorbar": {
              "outlinewidth": 0,
              "ticks": ""
             }
            }
           }
          ],
          "scatterternary": [
           {
            "type": "scatterternary",
            "marker": {
             "colorbar": {
              "outlinewidth": 0,
              "ticks": ""
             }
            }
           }
          ],
          "scattercarpet": [
           {
            "type": "scattercarpet",
            "marker": {
             "colorbar": {
              "outlinewidth": 0,
              "ticks": ""
             }
            }
           }
          ],
          "carpet": [
           {
            "aaxis": {
             "endlinecolor": "#2a3f5f",
             "gridcolor": "white",
             "linecolor": "white",
             "minorgridcolor": "white",
             "startlinecolor": "#2a3f5f"
            },
            "baxis": {
             "endlinecolor": "#2a3f5f",
             "gridcolor": "white",
             "linecolor": "white",
             "minorgridcolor": "white",
             "startlinecolor": "#2a3f5f"
            },
            "type": "carpet"
           }
          ],
          "table": [
           {
            "cells": {
             "fill": {
              "color": "#EBF0F8"
             },
             "line": {
              "color": "white"
             }
            },
            "header": {
             "fill": {
              "color": "#C8D4E3"
             },
             "line": {
              "color": "white"
             }
            },
            "type": "table"
           }
          ],
          "barpolar": [
           {
            "marker": {
             "line": {
              "color": "#E5ECF6",
              "width": 0.5
             },
             "pattern": {
              "fillmode": "overlay",
              "size": 10,
              "solidity": 0.2
             }
            },
            "type": "barpolar"
           }
          ],
          "pie": [
           {
            "automargin": true,
            "type": "pie"
           }
          ]
         },
         "layout": {
          "autotypenumbers": "strict",
          "colorway": [
           "#636efa",
           "#EF553B",
           "#00cc96",
           "#ab63fa",
           "#FFA15A",
           "#19d3f3",
           "#FF6692",
           "#B6E880",
           "#FF97FF",
           "#FECB52"
          ],
          "font": {
           "color": "#2a3f5f"
          },
          "hovermode": "closest",
          "hoverlabel": {
           "align": "left"
          },
          "paper_bgcolor": "white",
          "plot_bgcolor": "#E5ECF6",
          "polar": {
           "bgcolor": "#E5ECF6",
           "angularaxis": {
            "gridcolor": "white",
            "linecolor": "white",
            "ticks": ""
           },
           "radialaxis": {
            "gridcolor": "white",
            "linecolor": "white",
            "ticks": ""
           }
          },
          "ternary": {
           "bgcolor": "#E5ECF6",
           "aaxis": {
            "gridcolor": "white",
            "linecolor": "white",
            "ticks": ""
           },
           "baxis": {
            "gridcolor": "white",
            "linecolor": "white",
            "ticks": ""
           },
           "caxis": {
            "gridcolor": "white",
            "linecolor": "white",
            "ticks": ""
           }
          },
          "coloraxis": {
           "colorbar": {
            "outlinewidth": 0,
            "ticks": ""
           }
          },
          "colorscale": {
           "sequential": [
            [
             0.0,
             "#0d0887"
            ],
            [
             0.1111111111111111,
             "#46039f"
            ],
            [
             0.2222222222222222,
             "#7201a8"
            ],
            [
             0.3333333333333333,
             "#9c179e"
            ],
            [
             0.4444444444444444,
             "#bd3786"
            ],
            [
             0.5555555555555556,
             "#d8576b"
            ],
            [
             0.6666666666666666,
             "#ed7953"
            ],
            [
             0.7777777777777778,
             "#fb9f3a"
            ],
            [
             0.8888888888888888,
             "#fdca26"
            ],
            [
             1.0,
             "#f0f921"
            ]
           ],
           "sequentialminus": [
            [
             0.0,
             "#0d0887"
            ],
            [
             0.1111111111111111,
             "#46039f"
            ],
            [
             0.2222222222222222,
             "#7201a8"
            ],
            [
             0.3333333333333333,
             "#9c179e"
            ],
            [
             0.4444444444444444,
             "#bd3786"
            ],
            [
             0.5555555555555556,
             "#d8576b"
            ],
            [
             0.6666666666666666,
             "#ed7953"
            ],
            [
             0.7777777777777778,
             "#fb9f3a"
            ],
            [
             0.8888888888888888,
             "#fdca26"
            ],
            [
             1.0,
             "#f0f921"
            ]
           ],
           "diverging": [
            [
             0,
             "#8e0152"
            ],
            [
             0.1,
             "#c51b7d"
            ],
            [
             0.2,
             "#de77ae"
            ],
            [
             0.3,
             "#f1b6da"
            ],
            [
             0.4,
             "#fde0ef"
            ],
            [
             0.5,
             "#f7f7f7"
            ],
            [
             0.6,
             "#e6f5d0"
            ],
            [
             0.7,
             "#b8e186"
            ],
            [
             0.8,
             "#7fbc41"
            ],
            [
             0.9,
             "#4d9221"
            ],
            [
             1,
             "#276419"
            ]
           ]
          },
          "xaxis": {
           "gridcolor": "white",
           "linecolor": "white",
           "ticks": "",
           "title": {
            "standoff": 15
           },
           "zerolinecolor": "white",
           "automargin": true,
           "zerolinewidth": 2
          },
          "yaxis": {
           "gridcolor": "white",
           "linecolor": "white",
           "ticks": "",
           "title": {
            "standoff": 15
           },
           "zerolinecolor": "white",
           "automargin": true,
           "zerolinewidth": 2
          },
          "scene": {
           "xaxis": {
            "backgroundcolor": "#E5ECF6",
            "gridcolor": "white",
            "linecolor": "white",
            "showbackground": true,
            "ticks": "",
            "zerolinecolor": "white",
            "gridwidth": 2
           },
           "yaxis": {
            "backgroundcolor": "#E5ECF6",
            "gridcolor": "white",
            "linecolor": "white",
            "showbackground": true,
            "ticks": "",
            "zerolinecolor": "white",
            "gridwidth": 2
           },
           "zaxis": {
            "backgroundcolor": "#E5ECF6",
            "gridcolor": "white",
            "linecolor": "white",
            "showbackground": true,
            "ticks": "",
            "zerolinecolor": "white",
            "gridwidth": 2
           }
          },
          "shapedefaults": {
           "line": {
            "color": "#2a3f5f"
           }
          },
          "annotationdefaults": {
           "arrowcolor": "#2a3f5f",
           "arrowhead": 0,
           "arrowwidth": 1
          },
          "geo": {
           "bgcolor": "white",
           "landcolor": "#E5ECF6",
           "subunitcolor": "white",
           "showland": true,
           "showlakes": true,
           "lakecolor": "white"
          },
          "title": {
           "x": 0.05
          },
          "mapbox": {
           "style": "light"
          }
         }
        },
        "xaxis": {
         "anchor": "y",
         "domain": [
          0.0,
          1.0
         ],
         "title": {
          "text": "Num classes"
         }
        },
        "yaxis": {
         "anchor": "x",
         "domain": [
          0.0,
          1.0
         ],
         "title": {
          "text": "Value"
         }
        },
        "legend": {
         "title": {
          "text": "Algo."
         },
         "tracegroupgap": 0
        },
        "title": {
         "text": "Acc"
        }
       },
       "config": {
        "plotlyServerURL": "https://plot.ly"
       }
      },
      "text/html": "<div>                            <div id=\"1b022423-dc27-407f-b13d-fe4a3316683a\" class=\"plotly-graph-div\" style=\"height:525px; width:100%;\"></div>            <script type=\"text/javascript\">                require([\"plotly\"], function(Plotly) {                    window.PLOTLYENV=window.PLOTLYENV || {};                                    if (document.getElementById(\"1b022423-dc27-407f-b13d-fe4a3316683a\")) {                    Plotly.newPlot(                        \"1b022423-dc27-407f-b13d-fe4a3316683a\",                        [{\"hovertemplate\":\"Algo.=Naive<br>Num classes=%{x}<br>Value=%{y}<extra></extra>\",\"legendgroup\":\"Naive\",\"line\":{\"color\":\"#636efa\",\"dash\":\"solid\"},\"marker\":{\"symbol\":\"circle\"},\"mode\":\"lines\",\"name\":\"Naive\",\"orientation\":\"v\",\"showlegend\":true,\"x\":[2,4,6,8,10,12,14,16,18,20],\"xaxis\":\"x\",\"y\":[0.67,0.425,0.3,0.2,0.168,0.16,0.12285714285714286,0.0975,0.09,0.084],\"yaxis\":\"y\",\"type\":\"scatter\"},{\"hovertemplate\":\"Algo.=ER-1000<br>Num classes=%{x}<br>Value=%{y}<extra></extra>\",\"legendgroup\":\"ER-1000\",\"line\":{\"color\":\"#EF553B\",\"dash\":\"solid\"},\"marker\":{\"symbol\":\"circle\"},\"mode\":\"lines\",\"name\":\"ER-1000\",\"orientation\":\"v\",\"showlegend\":true,\"x\":[2,4,6,8,10,12,14,16,18,20],\"xaxis\":\"x\",\"y\":[0.66,0.555,0.39,0.3475,0.332,0.295,0.25285714285714284,0.20875,0.2,0.139],\"yaxis\":\"y\",\"type\":\"scatter\"},{\"hovertemplate\":\"Algo.=ER-5000<br>Num classes=%{x}<br>Value=%{y}<extra></extra>\",\"legendgroup\":\"ER-5000\",\"line\":{\"color\":\"#00cc96\",\"dash\":\"solid\"},\"marker\":{\"symbol\":\"circle\"},\"mode\":\"lines\",\"name\":\"ER-5000\",\"orientation\":\"v\",\"showlegend\":true,\"x\":[2,4,6,8,10,12,14,16,18,20],\"xaxis\":\"x\",\"y\":[0.66,0.58,0.4866666666666667,0.3825,0.382,0.41,0.3271428571428571,0.32875,0.28888888888888886,0.26],\"yaxis\":\"y\",\"type\":\"scatter\"},{\"hovertemplate\":\"Algo.=LwF<br>Num classes=%{x}<br>Value=%{y}<extra></extra>\",\"legendgroup\":\"LwF\",\"line\":{\"color\":\"#ab63fa\",\"dash\":\"solid\"},\"marker\":{\"symbol\":\"circle\"},\"mode\":\"lines\",\"name\":\"LwF\",\"orientation\":\"v\",\"showlegend\":true,\"x\":[2,4,6,8,10,12,14,16,18,20],\"xaxis\":\"x\",\"y\":[0.67,0.405,0.31,0.1775,0.18,0.15333333333333332,0.12285714285714286,0.09375,0.07555555555555556,0.081],\"yaxis\":\"y\",\"type\":\"scatter\"},{\"hovertemplate\":\"Algo.=GEM<br>Num classes=%{x}<br>Value=%{y}<extra></extra>\",\"legendgroup\":\"GEM\",\"line\":{\"color\":\"#FFA15A\",\"dash\":\"solid\"},\"marker\":{\"symbol\":\"circle\"},\"mode\":\"lines\",\"name\":\"GEM\",\"orientation\":\"v\",\"showlegend\":true,\"x\":[2,4,6,8,10,12,14,16,18,20],\"xaxis\":\"x\",\"y\":[0.66,0.385,0.2866666666666667,0.215,0.184,0.18333333333333332,0.14142857142857143,0.12625,0.09666666666666666,0.085],\"yaxis\":\"y\",\"type\":\"scatter\"},{\"hovertemplate\":\"Algo.=RPSnet<br>Num classes=%{x}<br>Value=%{y}<extra></extra>\",\"legendgroup\":\"RPSnet\",\"line\":{\"color\":\"#19d3f3\",\"dash\":\"solid\"},\"marker\":{\"symbol\":\"circle\"},\"mode\":\"lines\",\"name\":\"RPSnet\",\"orientation\":\"v\",\"showlegend\":true,\"x\":[2,4,6,8,10,12,14,16,18,20],\"xaxis\":\"x\",\"y\":[0.745,0.6875,0.5816666699999999,0.50875,0.474,0.435,0.35785713999999996,0.344375,0.22277778,0.20149999999999998],\"yaxis\":\"y\",\"type\":\"scatter\"}],                        {\"template\":{\"data\":{\"histogram2dcontour\":[{\"type\":\"histogram2dcontour\",\"colorbar\":{\"outlinewidth\":0,\"ticks\":\"\"},\"colorscale\":[[0.0,\"#0d0887\"],[0.1111111111111111,\"#46039f\"],[0.2222222222222222,\"#7201a8\"],[0.3333333333333333,\"#9c179e\"],[0.4444444444444444,\"#bd3786\"],[0.5555555555555556,\"#d8576b\"],[0.6666666666666666,\"#ed7953\"],[0.7777777777777778,\"#fb9f3a\"],[0.8888888888888888,\"#fdca26\"],[1.0,\"#f0f921\"]]}],\"choropleth\":[{\"type\":\"choropleth\",\"colorbar\":{\"outlinewidth\":0,\"ticks\":\"\"}}],\"histogram2d\":[{\"type\":\"histogram2d\",\"colorbar\":{\"outlinewidth\":0,\"ticks\":\"\"},\"colorscale\":[[0.0,\"#0d0887\"],[0.1111111111111111,\"#46039f\"],[0.2222222222222222,\"#7201a8\"],[0.3333333333333333,\"#9c179e\"],[0.4444444444444444,\"#bd3786\"],[0.5555555555555556,\"#d8576b\"],[0.6666666666666666,\"#ed7953\"],[0.7777777777777778,\"#fb9f3a\"],[0.8888888888888888,\"#fdca26\"],[1.0,\"#f0f921\"]]}],\"heatmap\":[{\"type\":\"heatmap\",\"colorbar\":{\"outlinewidth\":0,\"ticks\":\"\"},\"colorscale\":[[0.0,\"#0d0887\"],[0.1111111111111111,\"#46039f\"],[0.2222222222222222,\"#7201a8\"],[0.3333333333333333,\"#9c179e\"],[0.4444444444444444,\"#bd3786\"],[0.5555555555555556,\"#d8576b\"],[0.6666666666666666,\"#ed7953\"],[0.7777777777777778,\"#fb9f3a\"],[0.8888888888888888,\"#fdca26\"],[1.0,\"#f0f921\"]]}],\"heatmapgl\":[{\"type\":\"heatmapgl\",\"colorbar\":{\"outlinewidth\":0,\"ticks\":\"\"},\"colorscale\":[[0.0,\"#0d0887\"],[0.1111111111111111,\"#46039f\"],[0.2222222222222222,\"#7201a8\"],[0.3333333333333333,\"#9c179e\"],[0.4444444444444444,\"#bd3786\"],[0.5555555555555556,\"#d8576b\"],[0.6666666666666666,\"#ed7953\"],[0.7777777777777778,\"#fb9f3a\"],[0.8888888888888888,\"#fdca26\"],[1.0,\"#f0f921\"]]}],\"contourcarpet\":[{\"type\":\"contourcarpet\",\"colorbar\":{\"outlinewidth\":0,\"ticks\":\"\"}}],\"contour\":[{\"type\":\"contour\",\"colorbar\":{\"outlinewidth\":0,\"ticks\":\"\"},\"colorscale\":[[0.0,\"#0d0887\"],[0.1111111111111111,\"#46039f\"],[0.2222222222222222,\"#7201a8\"],[0.3333333333333333,\"#9c179e\"],[0.4444444444444444,\"#bd3786\"],[0.5555555555555556,\"#d8576b\"],[0.6666666666666666,\"#ed7953\"],[0.7777777777777778,\"#fb9f3a\"],[0.8888888888888888,\"#fdca26\"],[1.0,\"#f0f921\"]]}],\"surface\":[{\"type\":\"surface\",\"colorbar\":{\"outlinewidth\":0,\"ticks\":\"\"},\"colorscale\":[[0.0,\"#0d0887\"],[0.1111111111111111,\"#46039f\"],[0.2222222222222222,\"#7201a8\"],[0.3333333333333333,\"#9c179e\"],[0.4444444444444444,\"#bd3786\"],[0.5555555555555556,\"#d8576b\"],[0.6666666666666666,\"#ed7953\"],[0.7777777777777778,\"#fb9f3a\"],[0.8888888888888888,\"#fdca26\"],[1.0,\"#f0f921\"]]}],\"mesh3d\":[{\"type\":\"mesh3d\",\"colorbar\":{\"outlinewidth\":0,\"ticks\":\"\"}}],\"scatter\":[{\"fillpattern\":{\"fillmode\":\"overlay\",\"size\":10,\"solidity\":0.2},\"type\":\"scatter\"}],\"parcoords\":[{\"type\":\"parcoords\",\"line\":{\"colorbar\":{\"outlinewidth\":0,\"ticks\":\"\"}}}],\"scatterpolargl\":[{\"type\":\"scatterpolargl\",\"marker\":{\"colorbar\":{\"outlinewidth\":0,\"ticks\":\"\"}}}],\"bar\":[{\"error_x\":{\"color\":\"#2a3f5f\"},\"error_y\":{\"color\":\"#2a3f5f\"},\"marker\":{\"line\":{\"color\":\"#E5ECF6\",\"width\":0.5},\"pattern\":{\"fillmode\":\"overlay\",\"size\":10,\"solidity\":0.2}},\"type\":\"bar\"}],\"scattergeo\":[{\"type\":\"scattergeo\",\"marker\":{\"colorbar\":{\"outlinewidth\":0,\"ticks\":\"\"}}}],\"scatterpolar\":[{\"type\":\"scatterpolar\",\"marker\":{\"colorbar\":{\"outlinewidth\":0,\"ticks\":\"\"}}}],\"histogram\":[{\"marker\":{\"pattern\":{\"fillmode\":\"overlay\",\"size\":10,\"solidity\":0.2}},\"type\":\"histogram\"}],\"scattergl\":[{\"type\":\"scattergl\",\"marker\":{\"colorbar\":{\"outlinewidth\":0,\"ticks\":\"\"}}}],\"scatter3d\":[{\"type\":\"scatter3d\",\"line\":{\"colorbar\":{\"outlinewidth\":0,\"ticks\":\"\"}},\"marker\":{\"colorbar\":{\"outlinewidth\":0,\"ticks\":\"\"}}}],\"scattermapbox\":[{\"type\":\"scattermapbox\",\"marker\":{\"colorbar\":{\"outlinewidth\":0,\"ticks\":\"\"}}}],\"scatterternary\":[{\"type\":\"scatterternary\",\"marker\":{\"colorbar\":{\"outlinewidth\":0,\"ticks\":\"\"}}}],\"scattercarpet\":[{\"type\":\"scattercarpet\",\"marker\":{\"colorbar\":{\"outlinewidth\":0,\"ticks\":\"\"}}}],\"carpet\":[{\"aaxis\":{\"endlinecolor\":\"#2a3f5f\",\"gridcolor\":\"white\",\"linecolor\":\"white\",\"minorgridcolor\":\"white\",\"startlinecolor\":\"#2a3f5f\"},\"baxis\":{\"endlinecolor\":\"#2a3f5f\",\"gridcolor\":\"white\",\"linecolor\":\"white\",\"minorgridcolor\":\"white\",\"startlinecolor\":\"#2a3f5f\"},\"type\":\"carpet\"}],\"table\":[{\"cells\":{\"fill\":{\"color\":\"#EBF0F8\"},\"line\":{\"color\":\"white\"}},\"header\":{\"fill\":{\"color\":\"#C8D4E3\"},\"line\":{\"color\":\"white\"}},\"type\":\"table\"}],\"barpolar\":[{\"marker\":{\"line\":{\"color\":\"#E5ECF6\",\"width\":0.5},\"pattern\":{\"fillmode\":\"overlay\",\"size\":10,\"solidity\":0.2}},\"type\":\"barpolar\"}],\"pie\":[{\"automargin\":true,\"type\":\"pie\"}]},\"layout\":{\"autotypenumbers\":\"strict\",\"colorway\":[\"#636efa\",\"#EF553B\",\"#00cc96\",\"#ab63fa\",\"#FFA15A\",\"#19d3f3\",\"#FF6692\",\"#B6E880\",\"#FF97FF\",\"#FECB52\"],\"font\":{\"color\":\"#2a3f5f\"},\"hovermode\":\"closest\",\"hoverlabel\":{\"align\":\"left\"},\"paper_bgcolor\":\"white\",\"plot_bgcolor\":\"#E5ECF6\",\"polar\":{\"bgcolor\":\"#E5ECF6\",\"angularaxis\":{\"gridcolor\":\"white\",\"linecolor\":\"white\",\"ticks\":\"\"},\"radialaxis\":{\"gridcolor\":\"white\",\"linecolor\":\"white\",\"ticks\":\"\"}},\"ternary\":{\"bgcolor\":\"#E5ECF6\",\"aaxis\":{\"gridcolor\":\"white\",\"linecolor\":\"white\",\"ticks\":\"\"},\"baxis\":{\"gridcolor\":\"white\",\"linecolor\":\"white\",\"ticks\":\"\"},\"caxis\":{\"gridcolor\":\"white\",\"linecolor\":\"white\",\"ticks\":\"\"}},\"coloraxis\":{\"colorbar\":{\"outlinewidth\":0,\"ticks\":\"\"}},\"colorscale\":{\"sequential\":[[0.0,\"#0d0887\"],[0.1111111111111111,\"#46039f\"],[0.2222222222222222,\"#7201a8\"],[0.3333333333333333,\"#9c179e\"],[0.4444444444444444,\"#bd3786\"],[0.5555555555555556,\"#d8576b\"],[0.6666666666666666,\"#ed7953\"],[0.7777777777777778,\"#fb9f3a\"],[0.8888888888888888,\"#fdca26\"],[1.0,\"#f0f921\"]],\"sequentialminus\":[[0.0,\"#0d0887\"],[0.1111111111111111,\"#46039f\"],[0.2222222222222222,\"#7201a8\"],[0.3333333333333333,\"#9c179e\"],[0.4444444444444444,\"#bd3786\"],[0.5555555555555556,\"#d8576b\"],[0.6666666666666666,\"#ed7953\"],[0.7777777777777778,\"#fb9f3a\"],[0.8888888888888888,\"#fdca26\"],[1.0,\"#f0f921\"]],\"diverging\":[[0,\"#8e0152\"],[0.1,\"#c51b7d\"],[0.2,\"#de77ae\"],[0.3,\"#f1b6da\"],[0.4,\"#fde0ef\"],[0.5,\"#f7f7f7\"],[0.6,\"#e6f5d0\"],[0.7,\"#b8e186\"],[0.8,\"#7fbc41\"],[0.9,\"#4d9221\"],[1,\"#276419\"]]},\"xaxis\":{\"gridcolor\":\"white\",\"linecolor\":\"white\",\"ticks\":\"\",\"title\":{\"standoff\":15},\"zerolinecolor\":\"white\",\"automargin\":true,\"zerolinewidth\":2},\"yaxis\":{\"gridcolor\":\"white\",\"linecolor\":\"white\",\"ticks\":\"\",\"title\":{\"standoff\":15},\"zerolinecolor\":\"white\",\"automargin\":true,\"zerolinewidth\":2},\"scene\":{\"xaxis\":{\"backgroundcolor\":\"#E5ECF6\",\"gridcolor\":\"white\",\"linecolor\":\"white\",\"showbackground\":true,\"ticks\":\"\",\"zerolinecolor\":\"white\",\"gridwidth\":2},\"yaxis\":{\"backgroundcolor\":\"#E5ECF6\",\"gridcolor\":\"white\",\"linecolor\":\"white\",\"showbackground\":true,\"ticks\":\"\",\"zerolinecolor\":\"white\",\"gridwidth\":2},\"zaxis\":{\"backgroundcolor\":\"#E5ECF6\",\"gridcolor\":\"white\",\"linecolor\":\"white\",\"showbackground\":true,\"ticks\":\"\",\"zerolinecolor\":\"white\",\"gridwidth\":2}},\"shapedefaults\":{\"line\":{\"color\":\"#2a3f5f\"}},\"annotationdefaults\":{\"arrowcolor\":\"#2a3f5f\",\"arrowhead\":0,\"arrowwidth\":1},\"geo\":{\"bgcolor\":\"white\",\"landcolor\":\"#E5ECF6\",\"subunitcolor\":\"white\",\"showland\":true,\"showlakes\":true,\"lakecolor\":\"white\"},\"title\":{\"x\":0.05},\"mapbox\":{\"style\":\"light\"}}},\"xaxis\":{\"anchor\":\"y\",\"domain\":[0.0,1.0],\"title\":{\"text\":\"Num classes\"}},\"yaxis\":{\"anchor\":\"x\",\"domain\":[0.0,1.0],\"title\":{\"text\":\"Value\"}},\"legend\":{\"title\":{\"text\":\"Algo.\"},\"tracegroupgap\":0},\"title\":{\"text\":\"Acc\"}},                        {\"responsive\": true}                    ).then(function(){\n                            \nvar gd = document.getElementById('1b022423-dc27-407f-b13d-fe4a3316683a');\nvar x = new MutationObserver(function (mutations, observer) {{\n        var display = window.getComputedStyle(gd).display;\n        if (!display || display === 'none') {{\n            console.log([gd, 'removed!']);\n            Plotly.purge(gd);\n            observer.disconnect();\n        }}\n}});\n\n// Listen for the removal of the full notebook cells\nvar notebookContainer = gd.closest('#notebook-container');\nif (notebookContainer) {{\n    x.observe(notebookContainer, {childList: true});\n}}\n\n// Listen for the clearing of the current output cell\nvar outputEl = gd.closest('.output');\nif (outputEl) {{\n    x.observe(outputEl, {childList: true});\n}}\n\n                        })                };                });            </script>        </div>"
     },
     "metadata": {},
     "output_type": "display_data"
    }
   ],
   "source": [
    "collected_data = []\n",
    "for idx in range(len(exp_names)):\n",
    "    collected_data.append(pd.DataFrame({'Num classes': np.arange(2, 21, 2), 'Algo.': dsp_names[idx], 'Type': 'Acc', 'Value': all_accs[idx]}))\n",
    "\n",
    "'''add RPSnet'''\n",
    "collected_data.append(pd.DataFrame({\n",
    "    'Num classes': np.arange(2, 21, 2), 'Algo.': 'RPSnet', 'Type': 'Acc',\n",
    "    'Value': np.array([74.5, 68.75, 58.166667, 50.875, 47.4, 43.5, 35.785714, 34.4375, 22.277778, 20.15])/100\n",
    "}))\n",
    "\n",
    "collected_data = pd.concat(collected_data, ignore_index=True)\n",
    "\n",
    "fig = px.line(collected_data, x=\"Num classes\", y=\"Value\", color=\"Algo.\", title='Acc')\n",
    "fig.show()\n",
    "# write_image(fig, experiment_name, \"train.png\")"
   ],
   "metadata": {
    "collapsed": false,
    "pycharm": {
     "name": "#%%\n"
    }
   }
  },
  {
   "cell_type": "code",
   "execution_count": 15,
   "outputs": [
    {
     "data": {
      "application/vnd.plotly.v1+json": {
       "data": [
        {
         "hovertemplate": "Algo.=Naive<br>Num classes=%{x}<br>Value=%{y}<extra></extra>",
         "legendgroup": "Naive",
         "line": {
          "color": "#636efa",
          "dash": "solid"
         },
         "marker": {
          "symbol": "circle"
         },
         "mode": "lines",
         "name": "Naive",
         "orientation": "v",
         "showlegend": true,
         "x": [
          2,
          4,
          6,
          8,
          10,
          12,
          14,
          16,
          18,
          20
         ],
         "xaxis": "x",
         "y": [
          0.7688295990228653,
          12.85469315201044,
          20.81732978920142,
          20.911019150167704,
          24.779240912199022,
          30.488832644031692,
          33.525126001398476,
          26.86351663991809,
          25.533809366739458,
          30.504309025406837
         ],
         "yaxis": "y",
         "type": "scatter"
        },
        {
         "hovertemplate": "Algo.=ER-1000<br>Num classes=%{x}<br>Value=%{y}<extra></extra>",
         "legendgroup": "ER-1000",
         "line": {
          "color": "#EF553B",
          "dash": "solid"
         },
         "marker": {
          "symbol": "circle"
         },
         "mode": "lines",
         "name": "ER-1000",
         "orientation": "v",
         "showlegend": true,
         "x": [
          2,
          4,
          6,
          8,
          10,
          12,
          14,
          16,
          18,
          20
         ],
         "xaxis": "x",
         "y": [
          0.6734009832143784,
          3.3520695567131042,
          7.116531779368718,
          8.981884598731995,
          9.585365343093873,
          10.244957365095615,
          9.928345245974404,
          12.315305639058352,
          11.833768159151077,
          14.848361441493035
         ],
         "yaxis": "y",
         "type": "scatter"
        },
        {
         "hovertemplate": "Algo.=ER-5000<br>Num classes=%{x}<br>Value=%{y}<extra></extra>",
         "legendgroup": "ER-5000",
         "line": {
          "color": "#00cc96",
          "dash": "solid"
         },
         "marker": {
          "symbol": "circle"
         },
         "mode": "lines",
         "name": "ER-5000",
         "orientation": "v",
         "showlegend": true,
         "x": [
          2,
          4,
          6,
          8,
          10,
          12,
          14,
          16,
          18,
          20
         ],
         "xaxis": "x",
         "y": [
          0.6734009832143784,
          4.043731600046158,
          4.374542514483134,
          5.812861204147339,
          6.096344399452209,
          6.229446510473887,
          9.009892372148377,
          8.164483726024628,
          7.950130530529552,
          9.917822283506393
         ],
         "yaxis": "y",
         "type": "scatter"
        },
        {
         "hovertemplate": "Algo.=LwF<br>Num classes=%{x}<br>Value=%{y}<extra></extra>",
         "legendgroup": "LwF",
         "line": {
          "color": "#ab63fa",
          "dash": "solid"
         },
         "marker": {
          "symbol": "circle"
         },
         "mode": "lines",
         "name": "LwF",
         "orientation": "v",
         "showlegend": true,
         "x": [
          2,
          4,
          6,
          8,
          10,
          12,
          14,
          16,
          18,
          20
         ],
         "xaxis": "x",
         "y": [
          0.7688295990228653,
          7.0272264033555984,
          12.792644947767258,
          15.302468355745077,
          18.927348190546034,
          19.981253845617175,
          30.757104758705413,
          25.28140541166067,
          24.308500225345295,
          32.213524878025055
         ],
         "yaxis": "y",
         "type": "scatter"
        },
        {
         "hovertemplate": "Algo.=GEM<br>Num classes=%{x}<br>Value=%{y}<extra></extra>",
         "legendgroup": "GEM",
         "line": {
          "color": "#FFA15A",
          "dash": "solid"
         },
         "marker": {
          "symbol": "circle"
         },
         "mode": "lines",
         "name": "GEM",
         "orientation": "v",
         "showlegend": true,
         "x": [
          2,
          4,
          6,
          8,
          10,
          12,
          14,
          16,
          18,
          20
         ],
         "xaxis": "x",
         "y": [
          0.6734009832143784,
          2.1894447058439255,
          8.716310362021128,
          5.902040466666222,
          6.931861859560013,
          7.113099699219068,
          8.460080363920756,
          8.283611670136452,
          12.54451272274471,
          9.447628697752952
         ],
         "yaxis": "y",
         "type": "scatter"
        }
       ],
       "layout": {
        "template": {
         "data": {
          "histogram2dcontour": [
           {
            "type": "histogram2dcontour",
            "colorbar": {
             "outlinewidth": 0,
             "ticks": ""
            },
            "colorscale": [
             [
              0.0,
              "#0d0887"
             ],
             [
              0.1111111111111111,
              "#46039f"
             ],
             [
              0.2222222222222222,
              "#7201a8"
             ],
             [
              0.3333333333333333,
              "#9c179e"
             ],
             [
              0.4444444444444444,
              "#bd3786"
             ],
             [
              0.5555555555555556,
              "#d8576b"
             ],
             [
              0.6666666666666666,
              "#ed7953"
             ],
             [
              0.7777777777777778,
              "#fb9f3a"
             ],
             [
              0.8888888888888888,
              "#fdca26"
             ],
             [
              1.0,
              "#f0f921"
             ]
            ]
           }
          ],
          "choropleth": [
           {
            "type": "choropleth",
            "colorbar": {
             "outlinewidth": 0,
             "ticks": ""
            }
           }
          ],
          "histogram2d": [
           {
            "type": "histogram2d",
            "colorbar": {
             "outlinewidth": 0,
             "ticks": ""
            },
            "colorscale": [
             [
              0.0,
              "#0d0887"
             ],
             [
              0.1111111111111111,
              "#46039f"
             ],
             [
              0.2222222222222222,
              "#7201a8"
             ],
             [
              0.3333333333333333,
              "#9c179e"
             ],
             [
              0.4444444444444444,
              "#bd3786"
             ],
             [
              0.5555555555555556,
              "#d8576b"
             ],
             [
              0.6666666666666666,
              "#ed7953"
             ],
             [
              0.7777777777777778,
              "#fb9f3a"
             ],
             [
              0.8888888888888888,
              "#fdca26"
             ],
             [
              1.0,
              "#f0f921"
             ]
            ]
           }
          ],
          "heatmap": [
           {
            "type": "heatmap",
            "colorbar": {
             "outlinewidth": 0,
             "ticks": ""
            },
            "colorscale": [
             [
              0.0,
              "#0d0887"
             ],
             [
              0.1111111111111111,
              "#46039f"
             ],
             [
              0.2222222222222222,
              "#7201a8"
             ],
             [
              0.3333333333333333,
              "#9c179e"
             ],
             [
              0.4444444444444444,
              "#bd3786"
             ],
             [
              0.5555555555555556,
              "#d8576b"
             ],
             [
              0.6666666666666666,
              "#ed7953"
             ],
             [
              0.7777777777777778,
              "#fb9f3a"
             ],
             [
              0.8888888888888888,
              "#fdca26"
             ],
             [
              1.0,
              "#f0f921"
             ]
            ]
           }
          ],
          "heatmapgl": [
           {
            "type": "heatmapgl",
            "colorbar": {
             "outlinewidth": 0,
             "ticks": ""
            },
            "colorscale": [
             [
              0.0,
              "#0d0887"
             ],
             [
              0.1111111111111111,
              "#46039f"
             ],
             [
              0.2222222222222222,
              "#7201a8"
             ],
             [
              0.3333333333333333,
              "#9c179e"
             ],
             [
              0.4444444444444444,
              "#bd3786"
             ],
             [
              0.5555555555555556,
              "#d8576b"
             ],
             [
              0.6666666666666666,
              "#ed7953"
             ],
             [
              0.7777777777777778,
              "#fb9f3a"
             ],
             [
              0.8888888888888888,
              "#fdca26"
             ],
             [
              1.0,
              "#f0f921"
             ]
            ]
           }
          ],
          "contourcarpet": [
           {
            "type": "contourcarpet",
            "colorbar": {
             "outlinewidth": 0,
             "ticks": ""
            }
           }
          ],
          "contour": [
           {
            "type": "contour",
            "colorbar": {
             "outlinewidth": 0,
             "ticks": ""
            },
            "colorscale": [
             [
              0.0,
              "#0d0887"
             ],
             [
              0.1111111111111111,
              "#46039f"
             ],
             [
              0.2222222222222222,
              "#7201a8"
             ],
             [
              0.3333333333333333,
              "#9c179e"
             ],
             [
              0.4444444444444444,
              "#bd3786"
             ],
             [
              0.5555555555555556,
              "#d8576b"
             ],
             [
              0.6666666666666666,
              "#ed7953"
             ],
             [
              0.7777777777777778,
              "#fb9f3a"
             ],
             [
              0.8888888888888888,
              "#fdca26"
             ],
             [
              1.0,
              "#f0f921"
             ]
            ]
           }
          ],
          "surface": [
           {
            "type": "surface",
            "colorbar": {
             "outlinewidth": 0,
             "ticks": ""
            },
            "colorscale": [
             [
              0.0,
              "#0d0887"
             ],
             [
              0.1111111111111111,
              "#46039f"
             ],
             [
              0.2222222222222222,
              "#7201a8"
             ],
             [
              0.3333333333333333,
              "#9c179e"
             ],
             [
              0.4444444444444444,
              "#bd3786"
             ],
             [
              0.5555555555555556,
              "#d8576b"
             ],
             [
              0.6666666666666666,
              "#ed7953"
             ],
             [
              0.7777777777777778,
              "#fb9f3a"
             ],
             [
              0.8888888888888888,
              "#fdca26"
             ],
             [
              1.0,
              "#f0f921"
             ]
            ]
           }
          ],
          "mesh3d": [
           {
            "type": "mesh3d",
            "colorbar": {
             "outlinewidth": 0,
             "ticks": ""
            }
           }
          ],
          "scatter": [
           {
            "fillpattern": {
             "fillmode": "overlay",
             "size": 10,
             "solidity": 0.2
            },
            "type": "scatter"
           }
          ],
          "parcoords": [
           {
            "type": "parcoords",
            "line": {
             "colorbar": {
              "outlinewidth": 0,
              "ticks": ""
             }
            }
           }
          ],
          "scatterpolargl": [
           {
            "type": "scatterpolargl",
            "marker": {
             "colorbar": {
              "outlinewidth": 0,
              "ticks": ""
             }
            }
           }
          ],
          "bar": [
           {
            "error_x": {
             "color": "#2a3f5f"
            },
            "error_y": {
             "color": "#2a3f5f"
            },
            "marker": {
             "line": {
              "color": "#E5ECF6",
              "width": 0.5
             },
             "pattern": {
              "fillmode": "overlay",
              "size": 10,
              "solidity": 0.2
             }
            },
            "type": "bar"
           }
          ],
          "scattergeo": [
           {
            "type": "scattergeo",
            "marker": {
             "colorbar": {
              "outlinewidth": 0,
              "ticks": ""
             }
            }
           }
          ],
          "scatterpolar": [
           {
            "type": "scatterpolar",
            "marker": {
             "colorbar": {
              "outlinewidth": 0,
              "ticks": ""
             }
            }
           }
          ],
          "histogram": [
           {
            "marker": {
             "pattern": {
              "fillmode": "overlay",
              "size": 10,
              "solidity": 0.2
             }
            },
            "type": "histogram"
           }
          ],
          "scattergl": [
           {
            "type": "scattergl",
            "marker": {
             "colorbar": {
              "outlinewidth": 0,
              "ticks": ""
             }
            }
           }
          ],
          "scatter3d": [
           {
            "type": "scatter3d",
            "line": {
             "colorbar": {
              "outlinewidth": 0,
              "ticks": ""
             }
            },
            "marker": {
             "colorbar": {
              "outlinewidth": 0,
              "ticks": ""
             }
            }
           }
          ],
          "scattermapbox": [
           {
            "type": "scattermapbox",
            "marker": {
             "colorbar": {
              "outlinewidth": 0,
              "ticks": ""
             }
            }
           }
          ],
          "scatterternary": [
           {
            "type": "scatterternary",
            "marker": {
             "colorbar": {
              "outlinewidth": 0,
              "ticks": ""
             }
            }
           }
          ],
          "scattercarpet": [
           {
            "type": "scattercarpet",
            "marker": {
             "colorbar": {
              "outlinewidth": 0,
              "ticks": ""
             }
            }
           }
          ],
          "carpet": [
           {
            "aaxis": {
             "endlinecolor": "#2a3f5f",
             "gridcolor": "white",
             "linecolor": "white",
             "minorgridcolor": "white",
             "startlinecolor": "#2a3f5f"
            },
            "baxis": {
             "endlinecolor": "#2a3f5f",
             "gridcolor": "white",
             "linecolor": "white",
             "minorgridcolor": "white",
             "startlinecolor": "#2a3f5f"
            },
            "type": "carpet"
           }
          ],
          "table": [
           {
            "cells": {
             "fill": {
              "color": "#EBF0F8"
             },
             "line": {
              "color": "white"
             }
            },
            "header": {
             "fill": {
              "color": "#C8D4E3"
             },
             "line": {
              "color": "white"
             }
            },
            "type": "table"
           }
          ],
          "barpolar": [
           {
            "marker": {
             "line": {
              "color": "#E5ECF6",
              "width": 0.5
             },
             "pattern": {
              "fillmode": "overlay",
              "size": 10,
              "solidity": 0.2
             }
            },
            "type": "barpolar"
           }
          ],
          "pie": [
           {
            "automargin": true,
            "type": "pie"
           }
          ]
         },
         "layout": {
          "autotypenumbers": "strict",
          "colorway": [
           "#636efa",
           "#EF553B",
           "#00cc96",
           "#ab63fa",
           "#FFA15A",
           "#19d3f3",
           "#FF6692",
           "#B6E880",
           "#FF97FF",
           "#FECB52"
          ],
          "font": {
           "color": "#2a3f5f"
          },
          "hovermode": "closest",
          "hoverlabel": {
           "align": "left"
          },
          "paper_bgcolor": "white",
          "plot_bgcolor": "#E5ECF6",
          "polar": {
           "bgcolor": "#E5ECF6",
           "angularaxis": {
            "gridcolor": "white",
            "linecolor": "white",
            "ticks": ""
           },
           "radialaxis": {
            "gridcolor": "white",
            "linecolor": "white",
            "ticks": ""
           }
          },
          "ternary": {
           "bgcolor": "#E5ECF6",
           "aaxis": {
            "gridcolor": "white",
            "linecolor": "white",
            "ticks": ""
           },
           "baxis": {
            "gridcolor": "white",
            "linecolor": "white",
            "ticks": ""
           },
           "caxis": {
            "gridcolor": "white",
            "linecolor": "white",
            "ticks": ""
           }
          },
          "coloraxis": {
           "colorbar": {
            "outlinewidth": 0,
            "ticks": ""
           }
          },
          "colorscale": {
           "sequential": [
            [
             0.0,
             "#0d0887"
            ],
            [
             0.1111111111111111,
             "#46039f"
            ],
            [
             0.2222222222222222,
             "#7201a8"
            ],
            [
             0.3333333333333333,
             "#9c179e"
            ],
            [
             0.4444444444444444,
             "#bd3786"
            ],
            [
             0.5555555555555556,
             "#d8576b"
            ],
            [
             0.6666666666666666,
             "#ed7953"
            ],
            [
             0.7777777777777778,
             "#fb9f3a"
            ],
            [
             0.8888888888888888,
             "#fdca26"
            ],
            [
             1.0,
             "#f0f921"
            ]
           ],
           "sequentialminus": [
            [
             0.0,
             "#0d0887"
            ],
            [
             0.1111111111111111,
             "#46039f"
            ],
            [
             0.2222222222222222,
             "#7201a8"
            ],
            [
             0.3333333333333333,
             "#9c179e"
            ],
            [
             0.4444444444444444,
             "#bd3786"
            ],
            [
             0.5555555555555556,
             "#d8576b"
            ],
            [
             0.6666666666666666,
             "#ed7953"
            ],
            [
             0.7777777777777778,
             "#fb9f3a"
            ],
            [
             0.8888888888888888,
             "#fdca26"
            ],
            [
             1.0,
             "#f0f921"
            ]
           ],
           "diverging": [
            [
             0,
             "#8e0152"
            ],
            [
             0.1,
             "#c51b7d"
            ],
            [
             0.2,
             "#de77ae"
            ],
            [
             0.3,
             "#f1b6da"
            ],
            [
             0.4,
             "#fde0ef"
            ],
            [
             0.5,
             "#f7f7f7"
            ],
            [
             0.6,
             "#e6f5d0"
            ],
            [
             0.7,
             "#b8e186"
            ],
            [
             0.8,
             "#7fbc41"
            ],
            [
             0.9,
             "#4d9221"
            ],
            [
             1,
             "#276419"
            ]
           ]
          },
          "xaxis": {
           "gridcolor": "white",
           "linecolor": "white",
           "ticks": "",
           "title": {
            "standoff": 15
           },
           "zerolinecolor": "white",
           "automargin": true,
           "zerolinewidth": 2
          },
          "yaxis": {
           "gridcolor": "white",
           "linecolor": "white",
           "ticks": "",
           "title": {
            "standoff": 15
           },
           "zerolinecolor": "white",
           "automargin": true,
           "zerolinewidth": 2
          },
          "scene": {
           "xaxis": {
            "backgroundcolor": "#E5ECF6",
            "gridcolor": "white",
            "linecolor": "white",
            "showbackground": true,
            "ticks": "",
            "zerolinecolor": "white",
            "gridwidth": 2
           },
           "yaxis": {
            "backgroundcolor": "#E5ECF6",
            "gridcolor": "white",
            "linecolor": "white",
            "showbackground": true,
            "ticks": "",
            "zerolinecolor": "white",
            "gridwidth": 2
           },
           "zaxis": {
            "backgroundcolor": "#E5ECF6",
            "gridcolor": "white",
            "linecolor": "white",
            "showbackground": true,
            "ticks": "",
            "zerolinecolor": "white",
            "gridwidth": 2
           }
          },
          "shapedefaults": {
           "line": {
            "color": "#2a3f5f"
           }
          },
          "annotationdefaults": {
           "arrowcolor": "#2a3f5f",
           "arrowhead": 0,
           "arrowwidth": 1
          },
          "geo": {
           "bgcolor": "white",
           "landcolor": "#E5ECF6",
           "subunitcolor": "white",
           "showland": true,
           "showlakes": true,
           "lakecolor": "white"
          },
          "title": {
           "x": 0.05
          },
          "mapbox": {
           "style": "light"
          }
         }
        },
        "xaxis": {
         "anchor": "y",
         "domain": [
          0.0,
          1.0
         ],
         "title": {
          "text": "Num classes"
         }
        },
        "yaxis": {
         "anchor": "x",
         "domain": [
          0.0,
          1.0
         ],
         "title": {
          "text": "Value"
         }
        },
        "legend": {
         "title": {
          "text": "Algo."
         },
         "tracegroupgap": 0
        },
        "title": {
         "text": "Loss"
        }
       },
       "config": {
        "plotlyServerURL": "https://plot.ly"
       }
      },
      "text/html": "<div>                            <div id=\"8bdf84f9-dbfa-4954-9454-ed75dc86615b\" class=\"plotly-graph-div\" style=\"height:525px; width:100%;\"></div>            <script type=\"text/javascript\">                require([\"plotly\"], function(Plotly) {                    window.PLOTLYENV=window.PLOTLYENV || {};                                    if (document.getElementById(\"8bdf84f9-dbfa-4954-9454-ed75dc86615b\")) {                    Plotly.newPlot(                        \"8bdf84f9-dbfa-4954-9454-ed75dc86615b\",                        [{\"hovertemplate\":\"Algo.=Naive<br>Num classes=%{x}<br>Value=%{y}<extra></extra>\",\"legendgroup\":\"Naive\",\"line\":{\"color\":\"#636efa\",\"dash\":\"solid\"},\"marker\":{\"symbol\":\"circle\"},\"mode\":\"lines\",\"name\":\"Naive\",\"orientation\":\"v\",\"showlegend\":true,\"x\":[2,4,6,8,10,12,14,16,18,20],\"xaxis\":\"x\",\"y\":[0.7688295990228653,12.85469315201044,20.81732978920142,20.911019150167704,24.779240912199022,30.488832644031692,33.525126001398476,26.86351663991809,25.533809366739458,30.504309025406837],\"yaxis\":\"y\",\"type\":\"scatter\"},{\"hovertemplate\":\"Algo.=ER-1000<br>Num classes=%{x}<br>Value=%{y}<extra></extra>\",\"legendgroup\":\"ER-1000\",\"line\":{\"color\":\"#EF553B\",\"dash\":\"solid\"},\"marker\":{\"symbol\":\"circle\"},\"mode\":\"lines\",\"name\":\"ER-1000\",\"orientation\":\"v\",\"showlegend\":true,\"x\":[2,4,6,8,10,12,14,16,18,20],\"xaxis\":\"x\",\"y\":[0.6734009832143784,3.3520695567131042,7.116531779368718,8.981884598731995,9.585365343093873,10.244957365095615,9.928345245974404,12.315305639058352,11.833768159151077,14.848361441493035],\"yaxis\":\"y\",\"type\":\"scatter\"},{\"hovertemplate\":\"Algo.=ER-5000<br>Num classes=%{x}<br>Value=%{y}<extra></extra>\",\"legendgroup\":\"ER-5000\",\"line\":{\"color\":\"#00cc96\",\"dash\":\"solid\"},\"marker\":{\"symbol\":\"circle\"},\"mode\":\"lines\",\"name\":\"ER-5000\",\"orientation\":\"v\",\"showlegend\":true,\"x\":[2,4,6,8,10,12,14,16,18,20],\"xaxis\":\"x\",\"y\":[0.6734009832143784,4.043731600046158,4.374542514483134,5.812861204147339,6.096344399452209,6.229446510473887,9.009892372148377,8.164483726024628,7.950130530529552,9.917822283506393],\"yaxis\":\"y\",\"type\":\"scatter\"},{\"hovertemplate\":\"Algo.=LwF<br>Num classes=%{x}<br>Value=%{y}<extra></extra>\",\"legendgroup\":\"LwF\",\"line\":{\"color\":\"#ab63fa\",\"dash\":\"solid\"},\"marker\":{\"symbol\":\"circle\"},\"mode\":\"lines\",\"name\":\"LwF\",\"orientation\":\"v\",\"showlegend\":true,\"x\":[2,4,6,8,10,12,14,16,18,20],\"xaxis\":\"x\",\"y\":[0.7688295990228653,7.0272264033555984,12.792644947767258,15.302468355745077,18.927348190546034,19.981253845617175,30.757104758705413,25.28140541166067,24.308500225345295,32.213524878025055],\"yaxis\":\"y\",\"type\":\"scatter\"},{\"hovertemplate\":\"Algo.=GEM<br>Num classes=%{x}<br>Value=%{y}<extra></extra>\",\"legendgroup\":\"GEM\",\"line\":{\"color\":\"#FFA15A\",\"dash\":\"solid\"},\"marker\":{\"symbol\":\"circle\"},\"mode\":\"lines\",\"name\":\"GEM\",\"orientation\":\"v\",\"showlegend\":true,\"x\":[2,4,6,8,10,12,14,16,18,20],\"xaxis\":\"x\",\"y\":[0.6734009832143784,2.1894447058439255,8.716310362021128,5.902040466666222,6.931861859560013,7.113099699219068,8.460080363920756,8.283611670136452,12.54451272274471,9.447628697752952],\"yaxis\":\"y\",\"type\":\"scatter\"}],                        {\"template\":{\"data\":{\"histogram2dcontour\":[{\"type\":\"histogram2dcontour\",\"colorbar\":{\"outlinewidth\":0,\"ticks\":\"\"},\"colorscale\":[[0.0,\"#0d0887\"],[0.1111111111111111,\"#46039f\"],[0.2222222222222222,\"#7201a8\"],[0.3333333333333333,\"#9c179e\"],[0.4444444444444444,\"#bd3786\"],[0.5555555555555556,\"#d8576b\"],[0.6666666666666666,\"#ed7953\"],[0.7777777777777778,\"#fb9f3a\"],[0.8888888888888888,\"#fdca26\"],[1.0,\"#f0f921\"]]}],\"choropleth\":[{\"type\":\"choropleth\",\"colorbar\":{\"outlinewidth\":0,\"ticks\":\"\"}}],\"histogram2d\":[{\"type\":\"histogram2d\",\"colorbar\":{\"outlinewidth\":0,\"ticks\":\"\"},\"colorscale\":[[0.0,\"#0d0887\"],[0.1111111111111111,\"#46039f\"],[0.2222222222222222,\"#7201a8\"],[0.3333333333333333,\"#9c179e\"],[0.4444444444444444,\"#bd3786\"],[0.5555555555555556,\"#d8576b\"],[0.6666666666666666,\"#ed7953\"],[0.7777777777777778,\"#fb9f3a\"],[0.8888888888888888,\"#fdca26\"],[1.0,\"#f0f921\"]]}],\"heatmap\":[{\"type\":\"heatmap\",\"colorbar\":{\"outlinewidth\":0,\"ticks\":\"\"},\"colorscale\":[[0.0,\"#0d0887\"],[0.1111111111111111,\"#46039f\"],[0.2222222222222222,\"#7201a8\"],[0.3333333333333333,\"#9c179e\"],[0.4444444444444444,\"#bd3786\"],[0.5555555555555556,\"#d8576b\"],[0.6666666666666666,\"#ed7953\"],[0.7777777777777778,\"#fb9f3a\"],[0.8888888888888888,\"#fdca26\"],[1.0,\"#f0f921\"]]}],\"heatmapgl\":[{\"type\":\"heatmapgl\",\"colorbar\":{\"outlinewidth\":0,\"ticks\":\"\"},\"colorscale\":[[0.0,\"#0d0887\"],[0.1111111111111111,\"#46039f\"],[0.2222222222222222,\"#7201a8\"],[0.3333333333333333,\"#9c179e\"],[0.4444444444444444,\"#bd3786\"],[0.5555555555555556,\"#d8576b\"],[0.6666666666666666,\"#ed7953\"],[0.7777777777777778,\"#fb9f3a\"],[0.8888888888888888,\"#fdca26\"],[1.0,\"#f0f921\"]]}],\"contourcarpet\":[{\"type\":\"contourcarpet\",\"colorbar\":{\"outlinewidth\":0,\"ticks\":\"\"}}],\"contour\":[{\"type\":\"contour\",\"colorbar\":{\"outlinewidth\":0,\"ticks\":\"\"},\"colorscale\":[[0.0,\"#0d0887\"],[0.1111111111111111,\"#46039f\"],[0.2222222222222222,\"#7201a8\"],[0.3333333333333333,\"#9c179e\"],[0.4444444444444444,\"#bd3786\"],[0.5555555555555556,\"#d8576b\"],[0.6666666666666666,\"#ed7953\"],[0.7777777777777778,\"#fb9f3a\"],[0.8888888888888888,\"#fdca26\"],[1.0,\"#f0f921\"]]}],\"surface\":[{\"type\":\"surface\",\"colorbar\":{\"outlinewidth\":0,\"ticks\":\"\"},\"colorscale\":[[0.0,\"#0d0887\"],[0.1111111111111111,\"#46039f\"],[0.2222222222222222,\"#7201a8\"],[0.3333333333333333,\"#9c179e\"],[0.4444444444444444,\"#bd3786\"],[0.5555555555555556,\"#d8576b\"],[0.6666666666666666,\"#ed7953\"],[0.7777777777777778,\"#fb9f3a\"],[0.8888888888888888,\"#fdca26\"],[1.0,\"#f0f921\"]]}],\"mesh3d\":[{\"type\":\"mesh3d\",\"colorbar\":{\"outlinewidth\":0,\"ticks\":\"\"}}],\"scatter\":[{\"fillpattern\":{\"fillmode\":\"overlay\",\"size\":10,\"solidity\":0.2},\"type\":\"scatter\"}],\"parcoords\":[{\"type\":\"parcoords\",\"line\":{\"colorbar\":{\"outlinewidth\":0,\"ticks\":\"\"}}}],\"scatterpolargl\":[{\"type\":\"scatterpolargl\",\"marker\":{\"colorbar\":{\"outlinewidth\":0,\"ticks\":\"\"}}}],\"bar\":[{\"error_x\":{\"color\":\"#2a3f5f\"},\"error_y\":{\"color\":\"#2a3f5f\"},\"marker\":{\"line\":{\"color\":\"#E5ECF6\",\"width\":0.5},\"pattern\":{\"fillmode\":\"overlay\",\"size\":10,\"solidity\":0.2}},\"type\":\"bar\"}],\"scattergeo\":[{\"type\":\"scattergeo\",\"marker\":{\"colorbar\":{\"outlinewidth\":0,\"ticks\":\"\"}}}],\"scatterpolar\":[{\"type\":\"scatterpolar\",\"marker\":{\"colorbar\":{\"outlinewidth\":0,\"ticks\":\"\"}}}],\"histogram\":[{\"marker\":{\"pattern\":{\"fillmode\":\"overlay\",\"size\":10,\"solidity\":0.2}},\"type\":\"histogram\"}],\"scattergl\":[{\"type\":\"scattergl\",\"marker\":{\"colorbar\":{\"outlinewidth\":0,\"ticks\":\"\"}}}],\"scatter3d\":[{\"type\":\"scatter3d\",\"line\":{\"colorbar\":{\"outlinewidth\":0,\"ticks\":\"\"}},\"marker\":{\"colorbar\":{\"outlinewidth\":0,\"ticks\":\"\"}}}],\"scattermapbox\":[{\"type\":\"scattermapbox\",\"marker\":{\"colorbar\":{\"outlinewidth\":0,\"ticks\":\"\"}}}],\"scatterternary\":[{\"type\":\"scatterternary\",\"marker\":{\"colorbar\":{\"outlinewidth\":0,\"ticks\":\"\"}}}],\"scattercarpet\":[{\"type\":\"scattercarpet\",\"marker\":{\"colorbar\":{\"outlinewidth\":0,\"ticks\":\"\"}}}],\"carpet\":[{\"aaxis\":{\"endlinecolor\":\"#2a3f5f\",\"gridcolor\":\"white\",\"linecolor\":\"white\",\"minorgridcolor\":\"white\",\"startlinecolor\":\"#2a3f5f\"},\"baxis\":{\"endlinecolor\":\"#2a3f5f\",\"gridcolor\":\"white\",\"linecolor\":\"white\",\"minorgridcolor\":\"white\",\"startlinecolor\":\"#2a3f5f\"},\"type\":\"carpet\"}],\"table\":[{\"cells\":{\"fill\":{\"color\":\"#EBF0F8\"},\"line\":{\"color\":\"white\"}},\"header\":{\"fill\":{\"color\":\"#C8D4E3\"},\"line\":{\"color\":\"white\"}},\"type\":\"table\"}],\"barpolar\":[{\"marker\":{\"line\":{\"color\":\"#E5ECF6\",\"width\":0.5},\"pattern\":{\"fillmode\":\"overlay\",\"size\":10,\"solidity\":0.2}},\"type\":\"barpolar\"}],\"pie\":[{\"automargin\":true,\"type\":\"pie\"}]},\"layout\":{\"autotypenumbers\":\"strict\",\"colorway\":[\"#636efa\",\"#EF553B\",\"#00cc96\",\"#ab63fa\",\"#FFA15A\",\"#19d3f3\",\"#FF6692\",\"#B6E880\",\"#FF97FF\",\"#FECB52\"],\"font\":{\"color\":\"#2a3f5f\"},\"hovermode\":\"closest\",\"hoverlabel\":{\"align\":\"left\"},\"paper_bgcolor\":\"white\",\"plot_bgcolor\":\"#E5ECF6\",\"polar\":{\"bgcolor\":\"#E5ECF6\",\"angularaxis\":{\"gridcolor\":\"white\",\"linecolor\":\"white\",\"ticks\":\"\"},\"radialaxis\":{\"gridcolor\":\"white\",\"linecolor\":\"white\",\"ticks\":\"\"}},\"ternary\":{\"bgcolor\":\"#E5ECF6\",\"aaxis\":{\"gridcolor\":\"white\",\"linecolor\":\"white\",\"ticks\":\"\"},\"baxis\":{\"gridcolor\":\"white\",\"linecolor\":\"white\",\"ticks\":\"\"},\"caxis\":{\"gridcolor\":\"white\",\"linecolor\":\"white\",\"ticks\":\"\"}},\"coloraxis\":{\"colorbar\":{\"outlinewidth\":0,\"ticks\":\"\"}},\"colorscale\":{\"sequential\":[[0.0,\"#0d0887\"],[0.1111111111111111,\"#46039f\"],[0.2222222222222222,\"#7201a8\"],[0.3333333333333333,\"#9c179e\"],[0.4444444444444444,\"#bd3786\"],[0.5555555555555556,\"#d8576b\"],[0.6666666666666666,\"#ed7953\"],[0.7777777777777778,\"#fb9f3a\"],[0.8888888888888888,\"#fdca26\"],[1.0,\"#f0f921\"]],\"sequentialminus\":[[0.0,\"#0d0887\"],[0.1111111111111111,\"#46039f\"],[0.2222222222222222,\"#7201a8\"],[0.3333333333333333,\"#9c179e\"],[0.4444444444444444,\"#bd3786\"],[0.5555555555555556,\"#d8576b\"],[0.6666666666666666,\"#ed7953\"],[0.7777777777777778,\"#fb9f3a\"],[0.8888888888888888,\"#fdca26\"],[1.0,\"#f0f921\"]],\"diverging\":[[0,\"#8e0152\"],[0.1,\"#c51b7d\"],[0.2,\"#de77ae\"],[0.3,\"#f1b6da\"],[0.4,\"#fde0ef\"],[0.5,\"#f7f7f7\"],[0.6,\"#e6f5d0\"],[0.7,\"#b8e186\"],[0.8,\"#7fbc41\"],[0.9,\"#4d9221\"],[1,\"#276419\"]]},\"xaxis\":{\"gridcolor\":\"white\",\"linecolor\":\"white\",\"ticks\":\"\",\"title\":{\"standoff\":15},\"zerolinecolor\":\"white\",\"automargin\":true,\"zerolinewidth\":2},\"yaxis\":{\"gridcolor\":\"white\",\"linecolor\":\"white\",\"ticks\":\"\",\"title\":{\"standoff\":15},\"zerolinecolor\":\"white\",\"automargin\":true,\"zerolinewidth\":2},\"scene\":{\"xaxis\":{\"backgroundcolor\":\"#E5ECF6\",\"gridcolor\":\"white\",\"linecolor\":\"white\",\"showbackground\":true,\"ticks\":\"\",\"zerolinecolor\":\"white\",\"gridwidth\":2},\"yaxis\":{\"backgroundcolor\":\"#E5ECF6\",\"gridcolor\":\"white\",\"linecolor\":\"white\",\"showbackground\":true,\"ticks\":\"\",\"zerolinecolor\":\"white\",\"gridwidth\":2},\"zaxis\":{\"backgroundcolor\":\"#E5ECF6\",\"gridcolor\":\"white\",\"linecolor\":\"white\",\"showbackground\":true,\"ticks\":\"\",\"zerolinecolor\":\"white\",\"gridwidth\":2}},\"shapedefaults\":{\"line\":{\"color\":\"#2a3f5f\"}},\"annotationdefaults\":{\"arrowcolor\":\"#2a3f5f\",\"arrowhead\":0,\"arrowwidth\":1},\"geo\":{\"bgcolor\":\"white\",\"landcolor\":\"#E5ECF6\",\"subunitcolor\":\"white\",\"showland\":true,\"showlakes\":true,\"lakecolor\":\"white\"},\"title\":{\"x\":0.05},\"mapbox\":{\"style\":\"light\"}}},\"xaxis\":{\"anchor\":\"y\",\"domain\":[0.0,1.0],\"title\":{\"text\":\"Num classes\"}},\"yaxis\":{\"anchor\":\"x\",\"domain\":[0.0,1.0],\"title\":{\"text\":\"Value\"}},\"legend\":{\"title\":{\"text\":\"Algo.\"},\"tracegroupgap\":0},\"title\":{\"text\":\"Loss\"}},                        {\"responsive\": true}                    ).then(function(){\n                            \nvar gd = document.getElementById('8bdf84f9-dbfa-4954-9454-ed75dc86615b');\nvar x = new MutationObserver(function (mutations, observer) {{\n        var display = window.getComputedStyle(gd).display;\n        if (!display || display === 'none') {{\n            console.log([gd, 'removed!']);\n            Plotly.purge(gd);\n            observer.disconnect();\n        }}\n}});\n\n// Listen for the removal of the full notebook cells\nvar notebookContainer = gd.closest('#notebook-container');\nif (notebookContainer) {{\n    x.observe(notebookContainer, {childList: true});\n}}\n\n// Listen for the clearing of the current output cell\nvar outputEl = gd.closest('.output');\nif (outputEl) {{\n    x.observe(outputEl, {childList: true});\n}}\n\n                        })                };                });            </script>        </div>"
     },
     "metadata": {},
     "output_type": "display_data"
    }
   ],
   "source": [
    "collected_data = []\n",
    "for idx in range(len(exp_names)):\n",
    "    collected_data.append(pd.DataFrame({'Num classes': np.arange(2, 21, 2), 'Algo.': dsp_names[idx], 'Type': 'Loss', 'Value': all_losses[idx]}))\n",
    "\n",
    "\n",
    "collected_data = pd.concat(collected_data, ignore_index=True)\n",
    "\n",
    "fig = px.line(collected_data, x=\"Num classes\", y=\"Value\", color=\"Algo.\", title='Loss')\n",
    "fig.show()\n",
    "# write_image(fig, experiment_name, \"train.png\")"
   ],
   "metadata": {
    "collapsed": false,
    "pycharm": {
     "name": "#%%\n"
    }
   }
  },
  {
   "cell_type": "markdown",
   "source": [
    "# Show Novel and Non-novel Testing Results"
   ],
   "metadata": {
    "collapsed": false
   }
  },
  {
   "cell_type": "code",
   "execution_count": 40,
   "outputs": [],
   "source": [
    "\n",
    "# exp_name = 'Naive-lr0_005'       # nc-\n",
    "# exp_name = 'ER-lr0_01-m1000'\n",
    "# exp_name = 'LwF-lr0_005-a11-t2'\n",
    "exp_name = 'GEM-lr0_01-p32-m0_5'        # GEM-lr0_01-p32-m0_5 color-GEM-lr0_01-p32-m0_3\n",
    "\n",
    "# test_case_name = 'Novel-{}'.format(exp_name)\n",
    "# test_case_name = 'Non-novel-{}'.format(exp_name)\n",
    "# test_case_name = 'Novel-{}-frz'.format(exp_name)\n",
    "test_case_name = 'Non-novel-{}-frz'.format(exp_name)\n",
    "# test_case_name = 'Novel-{}-lm'.format(exp_name)\n",
    "# test_case_name = 'Novel-{}-frz-lm'.format(exp_name)"
   ],
   "metadata": {
    "collapsed": false,
    "pycharm": {
     "name": "#%%\n"
    }
   }
  },
  {
   "cell_type": "code",
   "execution_count": 41,
   "outputs": [],
   "source": [
    "results = np.load(os.path.join('../../avalanche-experiments', project_name, exp_name, f'results-{test_case_name}.npy'), allow_pickle=True)"
   ],
   "metadata": {
    "collapsed": false,
    "pycharm": {
     "name": "#%%\n"
    }
   }
  },
  {
   "cell_type": "code",
   "execution_count": 42,
   "outputs": [
    {
     "name": "stdout",
     "output_type": "stream",
     "text": [
      "[0.45, 0.53, 0.4, 0.41, 0.49, 0.61, 0.39, 0.51, 0.57, 0.44, 0.48, 0.57, 0.66, 0.53, 0.55, 0.53, 0.6, 0.5, 0.6, 0.37, 0.54, 0.55, 0.4, 0.48, 0.51, 0.48, 0.56, 0.42, 0.47, 0.44, 0.42, 0.6, 0.52, 0.34, 0.63, 0.51, 0.35, 0.62, 0.5, 0.58, 0.53, 0.61, 0.52, 0.46, 0.47, 0.48, 0.56, 0.52, 0.36, 0.58, 0.4, 0.46, 0.41, 0.55, 0.42, 0.46, 0.56, 0.44, 0.53, 0.5, 0.59, 0.41, 0.49, 0.52, 0.39, 0.48, 0.46, 0.43, 0.37, 0.5, 0.4, 0.46, 0.53, 0.46, 0.41, 0.29, 0.49, 0.49, 0.45, 0.32, 0.48, 0.38, 0.48, 0.47, 0.45, 0.69, 0.44, 0.5, 0.59, 0.48, 0.48, 0.35, 0.53, 0.44, 0.53, 0.53, 0.42, 0.64, 0.52, 0.44, 0.55, 0.36, 0.64, 0.61, 0.65, 0.44, 0.47, 0.47, 0.49, 0.5, 0.43, 0.58, 0.5, 0.46, 0.54, 0.55, 0.49, 0.47, 0.64, 0.5, 0.46, 0.5, 0.49, 0.46, 0.3, 0.58, 0.55, 0.49, 0.63, 0.58, 0.43, 0.35, 0.39, 0.59, 0.45, 0.49, 0.57, 0.38, 0.55, 0.47, 0.58, 0.38, 0.52, 0.45, 0.51, 0.48, 0.37, 0.52, 0.63, 0.58, 0.51, 0.54, 0.59, 0.4, 0.45, 0.44, 0.36, 0.44, 0.41, 0.58, 0.4, 0.5, 0.53, 0.53, 0.59, 0.49, 0.39, 0.52, 0.49, 0.5, 0.33, 0.53, 0.49, 0.7, 0.38, 0.63, 0.63, 0.63, 0.4, 0.43, 0.53, 0.44, 0.47, 0.52, 0.39, 0.46, 0.49, 0.68, 0.52, 0.73, 0.46, 0.5, 0.37, 0.5, 0.66, 0.43, 0.61, 0.7, 0.46, 0.52, 0.39, 0.49, 0.65, 0.55, 0.61, 0.7, 0.47, 0.43, 0.53, 0.6, 0.51, 0.5, 0.58, 0.51, 0.46, 0.35, 0.46, 0.47, 0.64, 0.46, 0.47, 0.45, 0.5, 0.64, 0.55, 0.55, 0.36, 0.61, 0.42, 0.51, 0.63, 0.37, 0.52, 0.41, 0.56, 0.46, 0.49, 0.59, 0.62, 0.52, 0.52, 0.6, 0.46, 0.5, 0.38, 0.52, 0.5, 0.45, 0.52, 0.6, 0.49, 0.66, 0.54, 0.38, 0.59, 0.45, 0.47, 0.44, 0.46, 0.43, 0.48, 0.5, 0.69, 0.53, 0.75, 0.56, 0.52, 0.39, 0.34, 0.53, 0.44, 0.4, 0.55, 0.46, 0.55, 0.32, 0.6, 0.47, 0.54, 0.46, 0.4, 0.33, 0.45, 0.47, 0.56, 0.46, 0.52, 0.49, 0.45, 0.45, 0.46, 0.44, 0.53, 0.44, 0.74, 0.54, 0.61, 0.45, 0.43, 0.61]\n"
     ]
    }
   ],
   "source": [
    "'''Test acc'''\n",
    "accs = [result['Top1_Acc_Stream/eval_phase/test_stream/Task000'] for result in results]\n",
    "print(accs)"
   ],
   "metadata": {
    "collapsed": false,
    "pycharm": {
     "name": "#%%\n"
    }
   }
  },
  {
   "cell_type": "code",
   "execution_count": 43,
   "outputs": [
    {
     "name": "stdout",
     "output_type": "stream",
     "text": [
      "49.83% (8.51%)\n"
     ]
    }
   ],
   "source": [
    "print(f'{np.mean(accs)*100:.2f}% ({np.std(accs)*100:.2f}%)')"
   ],
   "metadata": {
    "collapsed": false,
    "pycharm": {
     "name": "#%%\n"
    }
   }
  },
  {
   "cell_type": "markdown",
   "source": [
    "# Show Hyper-Parameter Tuning Results"
   ],
   "metadata": {
    "collapsed": false
   }
  },
  {
   "cell_type": "code",
   "execution_count": 33,
   "outputs": [],
   "source": [
    "def display_results(exp_name, test_case_name):\n",
    "    print(f'{exp_name}, {test_case_name}:')\n",
    "    if os.path.exists(os.path.join('../../avalanche-experiments', project_name, exp_name, f'results-{test_case_name}.npy')):\n",
    "        results = np.load(os.path.join('../../avalanche-experiments', project_name, exp_name, f'results-{test_case_name}.npy'), allow_pickle=True)\n",
    "    else:\n",
    "        print(f'results-{test_case_name}.npy does not exist.')\n",
    "        return\n",
    "    accs = [result['Top1_Acc_Stream/eval_phase/test_stream/Task000'] for result in results]\n",
    "    print(f'==> {accs}')\n",
    "    print(f'==> {np.mean(accs)*100:.2f}% ({np.std(accs)*100:.2f}%)')"
   ],
   "metadata": {
    "collapsed": false,
    "pycharm": {
     "name": "#%%\n"
    }
   }
  },
  {
   "cell_type": "code",
   "execution_count": 5,
   "outputs": [
    {
     "name": "stdout",
     "output_type": "stream",
     "text": [
      "color-Naive-lr0_001, color-Naive-lr0_001:\n",
      "==> [0.97, 0.48, 0.30333333333333334, 0.2375, 0.178, 0.16, 0.13428571428571429, 0.10625, 0.10333333333333333, 0.092]\n",
      "==> 27.65% (25.71%)\n",
      "color-Naive-lr0_005, color-Naive-lr0_005:\n",
      "==> [0.98, 0.475, 0.3, 0.24, 0.174, 0.15, 0.14, 0.11125, 0.10666666666666667, 0.093]\n",
      "==> 27.70% (25.91%)\n",
      "color-Naive-lr0_01, color-Naive-lr0_01:\n",
      "==> [0.96, 0.465, 0.30666666666666664, 0.2425, 0.172, 0.145, 0.13714285714285715, 0.115, 0.10333333333333333, 0.091]\n",
      "==> 27.38% (25.35%)\n",
      "color-Naive-lr0_05, color-Naive-lr0_05:\n",
      "==> [0.95, 0.47, 0.30333333333333334, 0.245, 0.168, 0.16, 0.13857142857142857, 0.10875, 0.09888888888888889, 0.092]\n",
      "==> 27.35% (25.11%)\n",
      "color-Naive-lr0_1, color-Naive-lr0_1:\n",
      "==> [0.98, 0.47, 0.31, 0.2375, 0.162, 0.15333333333333332, 0.14, 0.1075, 0.09888888888888889, 0.091]\n",
      "==> 27.50% (26.01%)\n"
     ]
    }
   ],
   "source": [
    "exp_names = [\n",
    "    'Naive-lr0_001', 'Naive-lr0_005', 'Naive-lr0_01', 'Naive-lr0_05', 'Naive-lr0_1',\n",
    "]\n",
    "exp_names = [f'color-{exp_names[i]}' for i in range(len(exp_names))]\n",
    "\n",
    "for exp_name in exp_names:\n",
    "    display_results(exp_name, exp_name)"
   ],
   "metadata": {
    "collapsed": false,
    "pycharm": {
     "name": "#%%\n"
    }
   }
  },
  {
   "cell_type": "code",
   "execution_count": 37,
   "outputs": [
    {
     "name": "stdout",
     "output_type": "stream",
     "text": [
      "color-ER-lr0_001-m100, color-ER-lr0_001-m100:\n",
      "==> [0.97, 0.695, 0.45666666666666667, 0.2925, 0.222, 0.18, 0.15428571428571428, 0.125, 0.11333333333333333, 0.094]\n",
      "==> 33.03% (27.75%)\n",
      "color-ER-lr0_01-m100, color-ER-lr0_01-m100:\n",
      "==> [0.96, 0.71, 0.4633333333333333, 0.3025, 0.24, 0.175, 0.16857142857142857, 0.13625, 0.12333333333333334, 0.092]\n",
      "==> 33.71% (27.47%)\n",
      "color-ER-lr0_1-m100, color-ER-lr0_1-m100:\n",
      "==> [0.98, 0.635, 0.37333333333333335, 0.285, 0.23, 0.20333333333333334, 0.16142857142857142, 0.13, 0.12222222222222222, 0.095]\n",
      "==> 32.15% (26.68%)\n",
      "color-ER-lr0_001-m500, color-ER-lr0_001-m500:\n",
      "==> [0.97, 0.805, 0.6, 0.33, 0.362, 0.3016666666666667, 0.21285714285714286, 0.1775, 0.18777777777777777, 0.109]\n",
      "==> 40.56% (27.55%)\n",
      "color-ER-lr0_01-m500, color-ER-lr0_01-m500:\n",
      "==> [0.96, 0.78, 0.61, 0.3775, 0.36, 0.36666666666666664, 0.23714285714285716, 0.21, 0.1988888888888889, 0.127]\n",
      "==> 42.27% (26.03%)\n",
      "color-ER-lr0_1-m500, color-ER-lr0_1-m500:\n",
      "results-color-ER-lr0_1-m500.npy does not exist.\n",
      "color-ER-lr0_001-m1000, color-ER-lr0_001-m1000:\n",
      "results-color-ER-lr0_001-m1000.npy does not exist.\n",
      "color-ER-lr0_01-m1000, color-ER-lr0_01-m1000:\n",
      "results-color-ER-lr0_01-m1000.npy does not exist.\n",
      "color-ER-lr0_1-m1000, color-ER-lr0_1-m1000:\n",
      "results-color-ER-lr0_1-m1000.npy does not exist.\n",
      "color-ER-lr0_001-m5000, color-ER-lr0_001-m5000:\n",
      "results-color-ER-lr0_001-m5000.npy does not exist.\n",
      "color-ER-lr0_01-m5000, color-ER-lr0_01-m5000:\n",
      "results-color-ER-lr0_01-m5000.npy does not exist.\n",
      "color-ER-lr0_1-m5000, color-ER-lr0_1-m5000:\n",
      "results-color-ER-lr0_1-m5000.npy does not exist.\n"
     ]
    }
   ],
   "source": [
    "exp_names = [\n",
    "    'ER-lr0_001-m100', 'ER-lr0_01-m100', 'ER-lr0_1-m100',\n",
    "    'ER-lr0_001-m500', 'ER-lr0_01-m500', 'ER-lr0_1-m500',\n",
    "    'ER-lr0_001-m1000', 'ER-lr0_01-m1000', 'ER-lr0_1-m1000',\n",
    "    'ER-lr0_001-m5000', 'ER-lr0_01-m5000', 'ER-lr0_1-m5000',\n",
    "]\n",
    "exp_names = [f'color-{exp_names[i]}' for i in range(len(exp_names))]\n",
    "\n",
    "for exp_name in exp_names:\n",
    "    display_results(exp_name, exp_name)"
   ],
   "metadata": {
    "collapsed": false,
    "pycharm": {
     "name": "#%%\n"
    }
   }
  },
  {
   "cell_type": "code",
   "execution_count": 38,
   "outputs": [
    {
     "name": "stdout",
     "output_type": "stream",
     "text": [
      "color-LwF-lr0_001-a9-t2, color-LwF-lr0_001-a9-t2:\n",
      "==> [0.97, 0.445, 0.3, 0.24, 0.162, 0.15, 0.13857142857142857, 0.10875, 0.10555555555555556, 0.093]\n",
      "==> 27.13% (25.50%)\n",
      "color-LwF-lr0_005-a9-t2, color-LwF-lr0_005-a9-t2:\n",
      "==> [0.98, 0.445, 0.3, 0.2375, 0.178, 0.15166666666666667, 0.14142857142857143, 0.11125, 0.10444444444444445, 0.094]\n",
      "==> 27.43% (25.67%)\n",
      "color-LwF-lr0_01-a9-t2, color-LwF-lr0_01-a9-t2:\n",
      "results-color-LwF-lr0_01-a9-t2.npy does not exist.\n",
      "color-LwF-lr0_05-a9-t2, color-LwF-lr0_05-a9-t2:\n",
      "results-color-LwF-lr0_05-a9-t2.npy does not exist.\n",
      "color-LwF-lr0_1-a9-t2, color-LwF-lr0_1-a9-t2:\n",
      "results-color-LwF-lr0_1-a9-t2.npy does not exist.\n",
      "color-LwF-lr0_001-a11-t2, color-LwF-lr0_001-a11-t2:\n",
      "==> [0.97, 0.435, 0.30333333333333334, 0.2425, 0.164, 0.15833333333333333, 0.13857142857142857, 0.1075, 0.10555555555555556, 0.093]\n",
      "==> 27.18% (25.39%)\n",
      "color-LwF-lr0_005-a11-t2, color-LwF-lr0_005-a11-t2:\n",
      "results-color-LwF-lr0_005-a11-t2.npy does not exist.\n",
      "color-LwF-lr0_01-a11-t2, color-LwF-lr0_01-a11-t2:\n",
      "results-color-LwF-lr0_01-a11-t2.npy does not exist.\n",
      "color-LwF-lr0_05-a11-t2, color-LwF-lr0_05-a11-t2:\n",
      "results-color-LwF-lr0_05-a11-t2.npy does not exist.\n",
      "color-LwF-lr0_1-a11-t2, color-LwF-lr0_1-a11-t2:\n",
      "results-color-LwF-lr0_1-a11-t2.npy does not exist.\n"
     ]
    }
   ],
   "source": [
    "exp_names = [\n",
    "    'LwF-lr0_001-a9-t2', 'LwF-lr0_005-a9-t2', 'LwF-lr0_01-a9-t2', 'LwF-lr0_05-a9-t2',  'LwF-lr0_1-a9-t2',\n",
    "    # 'LwF-lr0_001-a10-t2', 'LwF-lr0_005-a10-t2', 'LwF-lr0_01-a10-t2', 'LwF-lr0_05-a10-t2',  'LwF-lr0_1-a10-t2',\n",
    "    'LwF-lr0_001-a11-t2', 'LwF-lr0_005-a11-t2', 'LwF-lr0_01-a11-t2', 'LwF-lr0_05-a11-t2',  'LwF-lr0_1-a11-t2',\n",
    "]\n",
    "# exp_names = [\n",
    "#     'LwF-lr0_005-a5-t1','LwF-lr0_005-a10-t1', 'LwF-lr0_005-a15-t1', 'LwF-lr0_005-a20-t1', 'LwF-lr0_005-a25-t1',\n",
    "#     'LwF-lr0_005-a5-t2','LwF-lr0_005-a10-t2', 'LwF-lr0_005-a15-t2', 'LwF-lr0_005-a20-t2', 'LwF-lr0_005-a25-t2',\n",
    "#     'LwF-lr0_005-a5-t3','LwF-lr0_005-a10-t3', 'LwF-lr0_005-a15-t3', 'LwF-lr0_005-a20-t3', 'LwF-lr0_005-a25-t3',\n",
    "#     'LwF-lr0_005-a5-t4','LwF-lr0_005-a10-t4', 'LwF-lr0_005-a15-t4', 'LwF-lr0_005-a20-t4', 'LwF-lr0_005-a25-t4',\n",
    "#     'LwF-lr0_005-a5-t5','LwF-lr0_005-a10-t5', 'LwF-lr0_005-a15-t5', 'LwF-lr0_005-a20-t5', 'LwF-lr0_005-a25-t5',\n",
    "# ]\n",
    "exp_names = [f'color-{exp_names[i]}' for i in range(len(exp_names))]\n",
    "\n",
    "for exp_name in exp_names:\n",
    "    display_results(exp_name, exp_name)"
   ],
   "metadata": {
    "collapsed": false,
    "pycharm": {
     "name": "#%%\n"
    }
   }
  },
  {
   "cell_type": "code",
   "execution_count": 39,
   "outputs": [
    {
     "name": "stdout",
     "output_type": "stream",
     "text": [
      "color-GEM-lr0_01-p16-m0_3, color-GEM-lr0_01-p16-m0_3:\n",
      "==> [0.96, 0.515, 0.35, 0.2675, 0.152, 0.19666666666666666, 0.15285714285714286, 0.12, 0.11, 0.104]\n",
      "==> 29.28% (25.42%)\n",
      "color-GEM-lr0_01-p32-m0_3, color-GEM-lr0_01-p32-m0_3:\n",
      "==> [0.96, 0.585, 0.41, 0.2725, 0.204, 0.225, 0.17714285714285713, 0.12625, 0.12, 0.102]\n",
      "==> 31.82% (25.65%)\n",
      "color-GEM-lr0_01-p16-m0_5, color-GEM-lr0_01-p16-m0_5:\n",
      "==> [0.96, 0.49, 0.31, 0.2775, 0.154, 0.14666666666666667, 0.14142857142857143, 0.115, 0.12111111111111111, 0.089]\n",
      "==> 28.05% (25.48%)\n",
      "color-GEM-lr0_01-p32-m0_5, color-GEM-lr0_01-p32-m0_5:\n",
      "results-color-GEM-lr0_01-p32-m0_5.npy does not exist.\n",
      "color-GEM-lr0_1-p16-m0_3, color-GEM-lr0_1-p16-m0_3:\n",
      "results-color-GEM-lr0_1-p16-m0_3.npy does not exist.\n",
      "color-GEM-lr0_1-p32-m0_3, color-GEM-lr0_1-p32-m0_3:\n",
      "results-color-GEM-lr0_1-p32-m0_3.npy does not exist.\n",
      "color-GEM-lr0_1-p16-m0_5, color-GEM-lr0_1-p16-m0_5:\n",
      "results-color-GEM-lr0_1-p16-m0_5.npy does not exist.\n",
      "color-GEM-lr0_1-p32-m0_5, color-GEM-lr0_1-p32-m0_5:\n",
      "results-color-GEM-lr0_1-p32-m0_5.npy does not exist.\n"
     ]
    }
   ],
   "source": [
    "exp_names = [\n",
    "    'GEM-lr0_01-p16-m0_3', 'GEM-lr0_01-p32-m0_3',\n",
    "    'GEM-lr0_01-p16-m0_5', 'GEM-lr0_01-p32-m0_5',\n",
    "\n",
    "    'GEM-lr0_1-p16-m0_3', 'GEM-lr0_1-p32-m0_3',\n",
    "    'GEM-lr0_1-p16-m0_5', 'GEM-lr0_1-p32-m0_5',\n",
    "]\n",
    "exp_names = [f'color-{exp_names[i]}' for i in range(len(exp_names))]\n",
    "\n",
    "for exp_name in exp_names:\n",
    "    display_results(exp_name, exp_name)"
   ],
   "metadata": {
    "collapsed": false,
    "pycharm": {
     "name": "#%%\n"
    }
   }
  }
 ],
 "metadata": {
  "kernelspec": {
   "display_name": "Python 3",
   "language": "python",
   "name": "python3"
  },
  "language_info": {
   "codemirror_mode": {
    "name": "ipython",
    "version": 2
   },
   "file_extension": ".py",
   "mimetype": "text/x-python",
   "name": "python",
   "nbconvert_exporter": "python",
   "pygments_lexer": "ipython2",
   "version": "2.7.6"
  }
 },
 "nbformat": 4,
 "nbformat_minor": 0
}