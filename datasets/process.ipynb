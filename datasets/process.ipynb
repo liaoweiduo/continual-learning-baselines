{
 "cells": [
  {
   "cell_type": "markdown",
   "metadata": {
    "collapsed": true,
    "pycharm": {
     "name": "#%% md\n"
    }
   },
   "source": [
    "# construct subset of objects"
   ]
  },
  {
   "cell_type": "code",
   "execution_count": 1,
   "outputs": [],
   "source": [
    "import os\n",
    "import json\n",
    "\n",
    "json_path = os.path.join('../../datasets', 'gqa', 'GQA_100', 'fewshot')\n"
   ],
   "metadata": {
    "collapsed": false,
    "pycharm": {
     "name": "#%%\n"
    }
   }
  },
  {
   "cell_type": "code",
   "execution_count": 4,
   "outputs": [],
   "source": [
    "# load json\n",
    "\n",
    "file_path = os.path.join(json_path, 'non_novel', 'non_novel_fewshot.json')\n",
    "# objects = ('shirt', 'building', 'sign', 'car', 'flower', 'pants', 'helmet', 'pole', 'leaves', 'wall', 'door', 'fence', 'hat', 'shorts')      # fresh\n",
    "objects = (('plate', 'grass', 'table', 'chair', 'jacket', 'shoe', 'bench'))      # old\n",
    "new_name = 'nons.json'\n",
    "\n",
    "info = json.load(open(file_path))\n"
   ],
   "metadata": {
    "collapsed": false,
    "pycharm": {
     "name": "#%%\n"
    }
   }
  },
  {
   "cell_type": "code",
   "execution_count": 5,
   "outputs": [
    {
     "name": "stdout",
     "output_type": "stream",
     "text": [
      "1000\n",
      "[('bench', 'chair'), ('bench', 'jacket'), ('bench', 'table'), ('chair', 'grass'), ('chair', 'shoe'), ('grass', 'jacket'), ('grass', 'plate'), ('grass', 'shoe'), ('grass', 'table'), ('jacket', 'shoe')]\n"
     ]
    }
   ],
   "source": [
    "\n",
    "subset = []\n",
    "for item in info:\n",
    "    if len(set(item['comb']).difference(objects)) == 0:     # all objects in our desired set\n",
    "        subset.append(item)\n",
    "\n",
    "print(len(subset))\n",
    "print(sorted(list(set([tuple(sorted(item['comb'])) for item in subset]))))"
   ],
   "metadata": {
    "collapsed": false,
    "pycharm": {
     "name": "#%%\n"
    }
   }
  },
  {
   "cell_type": "code",
   "execution_count": 12,
   "outputs": [],
   "source": [
    "# save subset\n",
    "\n",
    "# with open(os.path.join(json_path, new_name), 'w') as f:\n",
    "#     json.dump(subset, f)"
   ],
   "metadata": {
    "collapsed": false,
    "pycharm": {
     "name": "#%%\n"
    }
   }
  },
  {
   "cell_type": "code",
   "execution_count": 7,
   "outputs": [
    {
     "name": "stdout",
     "output_type": "stream",
     "text": [
      "4200\n",
      "[('building', 'car'), ('building', 'door'), ('building', 'fence'), ('building', 'helmet'), ('building', 'pants'), ('building', 'shirt'), ('building', 'shorts'), ('building', 'wall'), ('car', 'door'), ('car', 'fence'), ('car', 'hat'), ('car', 'pole'), ('car', 'wall'), ('door', 'flower'), ('door', 'hat'), ('door', 'helmet'), ('door', 'pants'), ('door', 'shirt'), ('door', 'shorts'), ('door', 'sign'), ('door', 'wall'), ('fence', 'hat'), ('fence', 'shirt'), ('fence', 'sign'), ('flower', 'hat'), ('flower', 'leaves'), ('flower', 'shorts'), ('flower', 'sign'), ('hat', 'helmet'), ('hat', 'leaves'), ('hat', 'pants'), ('helmet', 'pants'), ('leaves', 'pants'), ('leaves', 'pole'), ('pants', 'pole'), ('pants', 'sign'), ('pole', 'shorts'), ('pole', 'sign'), ('shirt', 'shorts'), ('shirt', 'sign'), ('shorts', 'wall'), ('sign', 'wall')]\n"
     ]
    }
   ],
   "source": [
    "# for sys\n",
    "\n",
    "file_path = os.path.join(json_path, 'sys', 'sys_fewshot.json')\n",
    "objects = ('shirt', 'building', 'sign', 'car', 'flower', 'pants', 'helmet', 'pole', 'leaves', 'wall', 'door', 'fence', 'hat', 'shorts')      # fresh\n",
    "# objects = (('plate', 'grass', 'table', 'chair', 'jacket', 'shoe', 'bench'))      # old\n",
    "new_name = 'syss.json'\n",
    "\n",
    "info = json.load(open(file_path))\n",
    "\n",
    "subset = []\n",
    "for item in info:\n",
    "    if len(set(item['comb']).difference(objects)) == 0:     # all objects in our desired set\n",
    "        subset.append(item)\n",
    "\n",
    "print(len(subset))\n",
    "print(sorted(list(set([tuple(sorted(item['comb'])) for item in subset]))))\n",
    "\n",
    "# # save subset\n",
    "#\n",
    "# with open(os.path.join(json_path, new_name), 'w') as f:\n",
    "#     json.dump(subset, f)"
   ],
   "metadata": {
    "collapsed": false,
    "pycharm": {
     "name": "#%%\n"
    }
   }
  }
 ],
 "metadata": {
  "kernelspec": {
   "display_name": "Python 3",
   "language": "python",
   "name": "python3"
  },
  "language_info": {
   "codemirror_mode": {
    "name": "ipython",
    "version": 2
   },
   "file_extension": ".py",
   "mimetype": "text/x-python",
   "name": "python",
   "nbconvert_exporter": "python",
   "pygments_lexer": "ipython2",
   "version": "2.7.6"
  }
 },
 "nbformat": 4,
 "nbformat_minor": 0
}