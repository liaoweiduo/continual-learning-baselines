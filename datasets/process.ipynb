{
 "cells": [
  {
   "cell_type": "markdown",
   "metadata": {
    "collapsed": true,
    "pycharm": {
     "name": "#%% md\n"
    }
   },
   "source": [
    "# construct subset of objects"
   ]
  },
  {
   "cell_type": "code",
   "execution_count": 1,
   "outputs": [],
   "source": [
    "import os\n",
    "import json\n",
    "\n",
    "json_path = os.path.join('../../datasets', 'gqa', 'GQA_100', 'fewshot')\n"
   ],
   "metadata": {
    "collapsed": false,
    "pycharm": {
     "name": "#%%\n"
    }
   }
  },
  {
   "cell_type": "code",
   "execution_count": 4,
   "outputs": [],
   "source": [
    "# load json\n",
    "\n",
    "file_path = os.path.join(json_path, 'non_novel', 'non_novel_fewshot.json')\n",
    "# objects = ('shirt', 'building', 'sign', 'car', 'flower', 'pants', 'helmet', 'pole', 'leaves', 'wall', 'door', 'fence', 'hat', 'shorts')      # fresh\n",
    "objects = (('plate', 'grass', 'table', 'chair', 'jacket', 'shoe', 'bench'))      # old\n",
    "new_name = 'nons.json'\n",
    "\n",
    "info = json.load(open(file_path))\n"
   ],
   "metadata": {
    "collapsed": false,
    "pycharm": {
     "name": "#%%\n"
    }
   }
  },
  {
   "cell_type": "code",
   "execution_count": 5,
   "outputs": [
    {
     "name": "stdout",
     "output_type": "stream",
     "text": [
      "1000\n",
      "[('bench', 'chair'), ('bench', 'jacket'), ('bench', 'table'), ('chair', 'grass'), ('chair', 'shoe'), ('grass', 'jacket'), ('grass', 'plate'), ('grass', 'shoe'), ('grass', 'table'), ('jacket', 'shoe')]\n"
     ]
    }
   ],
   "source": [
    "\n",
    "subset = []\n",
    "for item in info:\n",
    "    if len(set(item['comb']).difference(objects)) == 0:     # all objects in our desired set\n",
    "        subset.append(item)\n",
    "\n",
    "print(len(subset))\n",
    "print(sorted(list(set([tuple(sorted(item['comb'])) for item in subset]))))"
   ],
   "metadata": {
    "collapsed": false,
    "pycharm": {
     "name": "#%%\n"
    }
   }
  },
  {
   "cell_type": "code",
   "execution_count": 12,
   "outputs": [],
   "source": [
    "# save subset\n",
    "\n",
    "# with open(os.path.join(json_path, new_name), 'w') as f:\n",
    "#     json.dump(subset, f)"
   ],
   "metadata": {
    "collapsed": false,
    "pycharm": {
     "name": "#%%\n"
    }
   }
  },
  {
   "cell_type": "code",
   "execution_count": 7,
   "outputs": [
    {
     "name": "stdout",
     "output_type": "stream",
     "text": [
      "4200\n",
      "[('building', 'car'), ('building', 'door'), ('building', 'fence'), ('building', 'helmet'), ('building', 'pants'), ('building', 'shirt'), ('building', 'shorts'), ('building', 'wall'), ('car', 'door'), ('car', 'fence'), ('car', 'hat'), ('car', 'pole'), ('car', 'wall'), ('door', 'flower'), ('door', 'hat'), ('door', 'helmet'), ('door', 'pants'), ('door', 'shirt'), ('door', 'shorts'), ('door', 'sign'), ('door', 'wall'), ('fence', 'hat'), ('fence', 'shirt'), ('fence', 'sign'), ('flower', 'hat'), ('flower', 'leaves'), ('flower', 'shorts'), ('flower', 'sign'), ('hat', 'helmet'), ('hat', 'leaves'), ('hat', 'pants'), ('helmet', 'pants'), ('leaves', 'pants'), ('leaves', 'pole'), ('pants', 'pole'), ('pants', 'sign'), ('pole', 'shorts'), ('pole', 'sign'), ('shirt', 'shorts'), ('shirt', 'sign'), ('shorts', 'wall'), ('sign', 'wall')]\n"
     ]
    }
   ],
   "source": [
    "# for sys\n",
    "\n",
    "file_path = os.path.join(json_path, 'sys', 'sys_fewshot.json')\n",
    "objects = ('shirt', 'building', 'sign', 'car', 'flower', 'pants', 'helmet', 'pole', 'leaves', 'wall', 'door', 'fence', 'hat', 'shorts')      # fresh\n",
    "# objects = (('plate', 'grass', 'table', 'chair', 'jacket', 'shoe', 'bench'))      # old\n",
    "new_name = 'syss.json'\n",
    "\n",
    "info = json.load(open(file_path))\n",
    "\n",
    "subset = []\n",
    "for item in info:\n",
    "    if len(set(item['comb']).difference(objects)) == 0:     # all objects in our desired set\n",
    "        subset.append(item)\n",
    "\n",
    "print(len(subset))\n",
    "print(sorted(list(set([tuple(sorted(item['comb'])) for item in subset]))))\n",
    "\n",
    "# # save subset\n",
    "#\n",
    "# with open(os.path.join(json_path, new_name), 'w') as f:\n",
    "#     json.dump(subset, f)"
   ],
   "metadata": {
    "collapsed": false,
    "pycharm": {
     "name": "#%%\n"
    }
   }
  },
  {
   "cell_type": "markdown",
   "source": [
    "# Generate results table"
   ],
   "metadata": {
    "collapsed": false,
    "pycharm": {
     "name": "#%% md\n"
    }
   }
  },
  {
   "cell_type": "code",
   "execution_count": 2,
   "outputs": [],
   "source": [
    "import numpy as np\n",
    "import os\n",
    "import pandas as pd\n",
    "\n",
    "def get_accs(exp_name, mode='sys', project_name='CGQA', name='Top1_Acc_Stream/eval_phase/test_stream'):\n",
    "    if not os.path.exists(os.path.join('../../avalanche-experiments', project_name, exp_name, f'results-{exp_name}.npy')):\n",
    "        return np.array([[np.nan]])\n",
    "    if mode == 'continual':\n",
    "        results = np.load(os.path.join('../../avalanche-experiments', project_name, exp_name, f'results-{exp_name}.npy'), allow_pickle=True)\n",
    "    else:\n",
    "        results = np.load(os.path.join('../../avalanche-experiments', project_name, exp_name, f'results-{exp_name}-{mode}-naive-frz.npy'), allow_pickle=True)\n",
    "\n",
    "    accs = []\n",
    "\n",
    "    for k, v in results[-1].items():\n",
    "        if k.startswith(name):\n",
    "            accs.append(v)\n",
    "\n",
    "    return np.array(accs)\n",
    "\n",
    "# '''Load one exp'''\n",
    "# exp_name = 'Naive-tsk'\n",
    "# results = np.load(os.path.join('../../avalanche-experiments', project_name, exp_name, f'results-{exp_name}.npy'), allow_pickle=True)\n",
    "# last_result = results[-1]\n",
    "# # print('Average test acc:', get_average_metric(results[-1], 'Top1_Acc_Stream/eval_phase/test_stream'))"
   ],
   "metadata": {
    "collapsed": false,
    "pycharm": {
     "name": "#%%\n"
    }
   }
  },
  {
   "cell_type": "code",
   "execution_count": 21,
   "outputs": [],
   "source": [
    "\n",
    "\n",
    "modes = ['continual', 'sys', 'pro', 'sub', 'non', 'noc']\n",
    "# exps = ['naive-cls-lr0_003', 'er-cls-lr0_003', 'gem-cls-lr0_01-p32-m0_3', 'lwf-cls-lr0_005-a1-t1', 'ewc-cls-lr0_005-lambda0_1']\n",
    "# exps_dis = ['Finetune', 'ER', 'GEM', 'LwF', 'EWC']\n",
    "exps = ['naive-tsk-lr0_008', 'er-tsk-lr0_0008', 'gem-tsk-lr0_001-p32-m0_3', 'lwf-tsk-lr0_01-a1-t1', 'ewc-tsk-lr0_005-lambda2']\n",
    "exps_dis = ['Finetune*', 'ER*', 'GEM*', 'LwF*', 'EWC*']\n",
    "\n",
    "collected_data = []\n",
    "for exp_idx, exp_name in enumerate(exps):\n",
    "    for mode in modes:\n",
    "        accs = get_accs(exp_name, mode, 'CGQA')\n",
    "\n",
    "        collected_data.append(pd.DataFrame({'Method': exps_dis[exp_idx], 'Phase': mode, 'Accuracy': accs}))\n",
    "\n",
    "collected_data = pd.concat(collected_data, ignore_index=True)"
   ],
   "metadata": {
    "collapsed": false,
    "pycharm": {
     "name": "#%%\n"
    }
   }
  },
  {
   "cell_type": "code",
   "execution_count": 22,
   "outputs": [
    {
     "name": "stdout",
     "output_type": "stream",
     "text": [
      "Phase    continual            sys            pro            sub  \\\n",
      "Method                                                            \n",
      "Finetune     72.46  70.32 +- 0.73  72.62 +- 0.63  66.33 +- 0.69   \n",
      "ER           76.05  71.37 +- 0.70  72.67 +- 0.69  66.80 +- 0.63   \n",
      "GEM          21.60  69.44 +- 0.75  73.14 +- 0.67  66.61 +- 0.66   \n",
      "LwF          73.19  69.61 +- 0.77  74.22 +- 0.63  65.00 +- 0.65   \n",
      "EWC          71.10  69.40 +- 0.79  72.37 +- 0.65  65.10 +- 0.67   \n",
      "\n",
      "Phase               non            noc  \n",
      "Method                                  \n",
      "Finetune  75.32 +- 0.70  43.26 +- 0.73  \n",
      "ER        76.28 +- 0.66  45.61 +- 0.77  \n",
      "GEM       73.31 +- 0.71  45.97 +- 0.74  \n",
      "LwF       75.25 +- 0.69  42.52 +- 0.72  \n",
      "EWC       74.99 +- 0.72  42.82 +- 0.77  \n",
      "\\begin{tabular}{lllllll}\n",
      "Phase & continual & sys & pro & sub & non & noc \\\\\n",
      "Method &  &  &  &  &  &  \\\\\n",
      "Finetune & 72.46 & 70.32 $\\pm$ 0.73 & 72.62 $\\pm$ 0.63 & 66.33 $\\pm$ 0.69 & 75.32 $\\pm$ 0.70 & 43.26 $\\pm$ 0.73 \\\\\n",
      "ER & 76.05 & 71.37 $\\pm$ 0.70 & 72.67 $\\pm$ 0.69 & 66.80 $\\pm$ 0.63 & 76.28 $\\pm$ 0.66 & 45.61 $\\pm$ 0.77 \\\\\n",
      "GEM & 21.60 & 69.44 $\\pm$ 0.75 & 73.14 $\\pm$ 0.67 & 66.61 $\\pm$ 0.66 & 73.31 $\\pm$ 0.71 & 45.97 $\\pm$ 0.74 \\\\\n",
      "LwF & 73.19 & 69.61 $\\pm$ 0.77 & 74.22 $\\pm$ 0.63 & 65.00 $\\pm$ 0.65 & 75.25 $\\pm$ 0.69 & 42.52 $\\pm$ 0.72 \\\\\n",
      "EWC & 71.10 & 69.40 $\\pm$ 0.79 & 72.37 $\\pm$ 0.65 & 65.10 $\\pm$ 0.67 & 74.99 $\\pm$ 0.72 & 42.82 $\\pm$ 0.77 \\\\\n",
      "\\end{tabular}\n",
      "\n"
     ]
    }
   ],
   "source": [
    "'''cal mean and ci95, then formulate table str-cell and to latex.'''\n",
    "# exp = 'Finetune'\n",
    "# mode = 'continual'\n",
    "# acc_list = collected_data[(collected_data['Method'] == exp) & (collected_data['Phase'] == mode)]['Accuracy']\n",
    "data = []\n",
    "for exp in exps_dis:\n",
    "    for mode in modes:\n",
    "        acc_list = collected_data[(collected_data['Method'] == exp) & (collected_data['Phase'] == mode)]['Accuracy']\n",
    "        mean = acc_list.mean()\n",
    "        ci95 = 1.96 * (acc_list.std()/np.sqrt(len(acc_list)))\n",
    "        acc_str = f'{mean*100:.2f} +- {ci95*100:.2f}' if mode != 'continual' else f'{mean*100:.2f}'\n",
    "        data.append(pd.DataFrame({'Method': exp, 'Phase': mode, 'mean': mean, 'ci95': ci95, 'str': acc_str}, index=[0]))\n",
    "data = pd.concat(data, ignore_index=True)\n",
    "# print(data)\n",
    "\n",
    "# to latex\n",
    "\n",
    "data = data.pivot(index='Method', values='str', columns='Phase')\n",
    "data = data[modes]\n",
    "data = data.reindex(exps_dis)\n",
    "print(data)\n",
    "print(data.style.to_latex().replace('+-', '$\\\\pm$'))"
   ],
   "metadata": {
    "collapsed": false,
    "pycharm": {
     "name": "#%%\n"
    }
   }
  },
  {
   "cell_type": "code",
   "execution_count": 4,
   "outputs": [],
   "source": [],
   "metadata": {
    "collapsed": false,
    "pycharm": {
     "name": "#%%\n"
    }
   }
  }
 ],
 "metadata": {
  "kernelspec": {
   "display_name": "Python 3",
   "language": "python",
   "name": "python3"
  },
  "language_info": {
   "codemirror_mode": {
    "name": "ipython",
    "version": 2
   },
   "file_extension": ".py",
   "mimetype": "text/x-python",
   "name": "python",
   "nbconvert_exporter": "python",
   "pygments_lexer": "ipython2",
   "version": "2.7.6"
  }
 },
 "nbformat": 4,
 "nbformat_minor": 0
}