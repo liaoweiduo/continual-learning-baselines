{
 "cells": [
  {
   "cell_type": "markdown",
   "metadata": {
    "collapsed": true,
    "pycharm": {
     "name": "#%% md\n"
    }
   },
   "source": [
    "# construct subset of objects"
   ]
  },
  {
   "cell_type": "code",
   "execution_count": 1,
   "outputs": [],
   "source": [
    "import os\n",
    "import json\n",
    "\n",
    "json_path = os.path.join('../../datasets', 'gqa', 'GQA_100', 'fewshot')\n"
   ],
   "metadata": {
    "collapsed": false,
    "pycharm": {
     "name": "#%%\n"
    }
   }
  },
  {
   "cell_type": "code",
   "execution_count": 4,
   "outputs": [],
   "source": [
    "# load json\n",
    "\n",
    "file_path = os.path.join(json_path, 'non_novel', 'non_novel_fewshot.json')\n",
    "# objects = ('shirt', 'building', 'sign', 'car', 'flower', 'pants', 'helmet', 'pole', 'leaves', 'wall', 'door', 'fence', 'hat', 'shorts')      # fresh\n",
    "objects = (('plate', 'grass', 'table', 'chair', 'jacket', 'shoe', 'bench'))      # old\n",
    "new_name = 'nons.json'\n",
    "\n",
    "info = json.load(open(file_path))\n"
   ],
   "metadata": {
    "collapsed": false,
    "pycharm": {
     "name": "#%%\n"
    }
   }
  },
  {
   "cell_type": "code",
   "execution_count": 5,
   "outputs": [
    {
     "name": "stdout",
     "output_type": "stream",
     "text": [
      "1000\n",
      "[('bench', 'chair'), ('bench', 'jacket'), ('bench', 'table'), ('chair', 'grass'), ('chair', 'shoe'), ('grass', 'jacket'), ('grass', 'plate'), ('grass', 'shoe'), ('grass', 'table'), ('jacket', 'shoe')]\n"
     ]
    }
   ],
   "source": [
    "\n",
    "subset = []\n",
    "for item in info:\n",
    "    if len(set(item['comb']).difference(objects)) == 0:     # all objects in our desired set\n",
    "        subset.append(item)\n",
    "\n",
    "print(len(subset))\n",
    "print(sorted(list(set([tuple(sorted(item['comb'])) for item in subset]))))"
   ],
   "metadata": {
    "collapsed": false,
    "pycharm": {
     "name": "#%%\n"
    }
   }
  },
  {
   "cell_type": "code",
   "execution_count": 12,
   "outputs": [],
   "source": [
    "# save subset\n",
    "\n",
    "# with open(os.path.join(json_path, new_name), 'w') as f:\n",
    "#     json.dump(subset, f)"
   ],
   "metadata": {
    "collapsed": false,
    "pycharm": {
     "name": "#%%\n"
    }
   }
  },
  {
   "cell_type": "code",
   "execution_count": 7,
   "outputs": [
    {
     "name": "stdout",
     "output_type": "stream",
     "text": [
      "4200\n",
      "[('building', 'car'), ('building', 'door'), ('building', 'fence'), ('building', 'helmet'), ('building', 'pants'), ('building', 'shirt'), ('building', 'shorts'), ('building', 'wall'), ('car', 'door'), ('car', 'fence'), ('car', 'hat'), ('car', 'pole'), ('car', 'wall'), ('door', 'flower'), ('door', 'hat'), ('door', 'helmet'), ('door', 'pants'), ('door', 'shirt'), ('door', 'shorts'), ('door', 'sign'), ('door', 'wall'), ('fence', 'hat'), ('fence', 'shirt'), ('fence', 'sign'), ('flower', 'hat'), ('flower', 'leaves'), ('flower', 'shorts'), ('flower', 'sign'), ('hat', 'helmet'), ('hat', 'leaves'), ('hat', 'pants'), ('helmet', 'pants'), ('leaves', 'pants'), ('leaves', 'pole'), ('pants', 'pole'), ('pants', 'sign'), ('pole', 'shorts'), ('pole', 'sign'), ('shirt', 'shorts'), ('shirt', 'sign'), ('shorts', 'wall'), ('sign', 'wall')]\n"
     ]
    }
   ],
   "source": [
    "# for sys\n",
    "\n",
    "file_path = os.path.join(json_path, 'sys', 'sys_fewshot.json')\n",
    "objects = ('shirt', 'building', 'sign', 'car', 'flower', 'pants', 'helmet', 'pole', 'leaves', 'wall', 'door', 'fence', 'hat', 'shorts')      # fresh\n",
    "# objects = (('plate', 'grass', 'table', 'chair', 'jacket', 'shoe', 'bench'))      # old\n",
    "new_name = 'syss.json'\n",
    "\n",
    "info = json.load(open(file_path))\n",
    "\n",
    "subset = []\n",
    "for item in info:\n",
    "    if len(set(item['comb']).difference(objects)) == 0:     # all objects in our desired set\n",
    "        subset.append(item)\n",
    "\n",
    "print(len(subset))\n",
    "print(sorted(list(set([tuple(sorted(item['comb'])) for item in subset]))))\n",
    "\n",
    "# # save subset\n",
    "#\n",
    "# with open(os.path.join(json_path, new_name), 'w') as f:\n",
    "#     json.dump(subset, f)"
   ],
   "metadata": {
    "collapsed": false,
    "pycharm": {
     "name": "#%%\n"
    }
   }
  },
  {
   "cell_type": "markdown",
   "source": [
    "# Generate results table"
   ],
   "metadata": {
    "collapsed": false,
    "pycharm": {
     "name": "#%% md\n"
    }
   }
  },
  {
   "cell_type": "code",
   "execution_count": 1,
   "outputs": [],
   "source": [
    "import numpy as np\n",
    "import os\n",
    "import pandas as pd\n",
    "\n",
    "def get_accs(exp_name, mode='sys', project_name='CGQA', name='Top1_Acc_Stream/eval_phase/test_stream'):\n",
    "    if not os.path.exists(os.path.join('../../avalanche-experiments', project_name, exp_name, f'results-{exp_name}.npy')):\n",
    "        return np.array([[np.nan]])\n",
    "    if mode == 'continual':\n",
    "        results = np.load(os.path.join('../../avalanche-experiments', project_name, exp_name, f'results-{exp_name}.npy'), allow_pickle=True)\n",
    "    else:\n",
    "        results = np.load(os.path.join('../../avalanche-experiments', project_name, exp_name, f'results-{exp_name}-{mode}-naive-frz.npy'), allow_pickle=True)\n",
    "\n",
    "    accs = []\n",
    "\n",
    "    for k, v in results[-1].items():\n",
    "        if k.startswith(name):\n",
    "            accs.append(v)\n",
    "\n",
    "    return np.array(accs)\n",
    "\n",
    "# '''Load one exp'''\n",
    "# exp_name = 'Naive-tsk'\n",
    "# results = np.load(os.path.join('../../avalanche-experiments', project_name, exp_name, f'results-{exp_name}.npy'), allow_pickle=True)\n",
    "# last_result = results[-1]\n",
    "# # print('Average test acc:', get_average_metric(results[-1], 'Top1_Acc_Stream/eval_phase/test_stream'))"
   ],
   "metadata": {
    "collapsed": false,
    "pycharm": {
     "name": "#%%\n"
    }
   }
  },
  {
   "cell_type": "code",
   "execution_count": 15,
   "outputs": [],
   "source": [
    "\n",
    "\n",
    "modes = ['continual', 'sys', 'pro', 'sub', 'non', 'noc']\n",
    "'''resnet18'''\n",
    "# exps = ['naive-cls-lr0_003', 'er-cls-lr0_003', 'gem-cls-lr0_01-p32-m0_3', 'lwf-cls-lr0_005-a1-t1', 'ewc-cls-lr0_005-lambda0_1']\n",
    "# exps_dis = ['Finetune', 'ER', 'GEM', 'LwF', 'EWC']\n",
    "# exps = ['naive-tsk-lr0_008', 'er-tsk-lr0_0008', 'gem-tsk-lr0_001-p32-m0_3', 'lwf-tsk-lr0_01-a1-t1', 'ewc-tsk-lr0_005-lambda2']\n",
    "# exps_dis = ['Finetune*', 'ER*', 'GEM*', 'LwF*', 'EWC*']\n",
    "\n",
    "'''vit'''\n",
    "# exps = ['ht-vit-naive-cls-lr0_0001', 'ht-vit-er-cls-lr0_0001', 'ht-vit-gem-cls-lr5e-05', 'ht-vit-lwf-cls-lr0_0001', 'ht-vit-ewc-cls-lr0_0001']\n",
    "# exps_dis = ['Finetune', 'ER', 'GEM', 'LwF', 'EWC']\n",
    "# exps = ['ht-vit-naive-tsk-lr0_0001', 'ht-vit-er-tsk-lr0_0001', 'ht-vit-gem-tsk-lr1e-05', 'ht-vit-lwf-tsk-lr0_0001', 'ht-vit-ewc-tsk-lr0_0001']\n",
    "# exps_dis = ['Finetune*', 'ER*', 'GEM*', 'LwF*', 'EWC*']\n",
    "\n",
    "'''concept'''\n",
    "exps = [\n",
    "\n",
    "    ]\n",
    "exps_dis = ['Finetune', 'ER', 'GEM', 'LwF', 'EWC', 'Finetune*', 'ER*', 'GEM*', 'LwF*', 'EWC*']\n",
    "\n",
    "\n",
    "collected_data = []\n",
    "for exp_idx, exp_name in enumerate(exps):\n",
    "    for mode in modes:\n",
    "        accs = get_accs(exp_name, mode, 'CGQA')\n",
    "\n",
    "        collected_data.append(pd.DataFrame({'Method': exps_dis[exp_idx], 'Phase': mode, 'Accuracy': accs}))\n",
    "\n",
    "collected_data = pd.concat(collected_data, ignore_index=True)"
   ],
   "metadata": {
    "collapsed": false,
    "pycharm": {
     "name": "#%%\n"
    }
   }
  },
  {
   "cell_type": "code",
   "execution_count": 13,
   "outputs": [
    {
     "name": "stdout",
     "output_type": "stream",
     "text": [
      "\\begin{tabular}{lllllll}\n",
      "Phase & continual & sys & pro & sub & non & noc \\\\\n",
      "Method &  &  &  &  &  &  \\\\\n",
      "Finetune & 8.59 & 50.49 $\\pm$ 0.73 & 55.14 $\\pm$ 0.82 & 60.91 $\\pm$ 0.77 & 54.26 $\\pm$ 0.73 & 48.44 $\\pm$ 0.83 \\\\\n",
      "ER & 10.58 & 47.63 $\\pm$ 0.72 & 52.92 $\\pm$ 0.84 & 59.47 $\\pm$ 0.76 & 51.12 $\\pm$ 0.79 & 47.23 $\\pm$ 0.82 \\\\\n",
      "GEM & 8.62 & 31.59 $\\pm$ 0.75 & 34.21 $\\pm$ 0.90 & 43.19 $\\pm$ 0.90 & 34.41 $\\pm$ 0.83 & 31.94 $\\pm$ 0.77 \\\\\n",
      "LwF & 10.58 & 54.26 $\\pm$ 0.79 & 58.43 $\\pm$ 0.77 & 64.23 $\\pm$ 0.70 & 58.79 $\\pm$ 0.75 & 51.26 $\\pm$ 0.77 \\\\\n",
      "EWC & 8.77 & 50.13 $\\pm$ 0.79 & 53.56 $\\pm$ 0.79 & 60.18 $\\pm$ 0.75 & 53.63 $\\pm$ 0.77 & 47.05 $\\pm$ 0.79 \\\\\n",
      "\\end{tabular}\n",
      "\n"
     ]
    },
    {
     "data": {
      "text/plain": "Phase    continual            sys            pro            sub  \\\nMethod                                                            \nFinetune      8.59  50.49 +- 0.73  55.14 +- 0.82  60.91 +- 0.77   \nER           10.58  47.63 +- 0.72  52.92 +- 0.84  59.47 +- 0.76   \nGEM           8.62  31.59 +- 0.75  34.21 +- 0.90  43.19 +- 0.90   \nLwF          10.58  54.26 +- 0.79  58.43 +- 0.77  64.23 +- 0.70   \nEWC           8.77  50.13 +- 0.79  53.56 +- 0.79  60.18 +- 0.75   \n\nPhase               non            noc  \nMethod                                  \nFinetune  54.26 +- 0.73  48.44 +- 0.83  \nER        51.12 +- 0.79  47.23 +- 0.82  \nGEM       34.41 +- 0.83  31.94 +- 0.77  \nLwF       58.79 +- 0.75  51.26 +- 0.77  \nEWC       53.63 +- 0.77  47.05 +- 0.79  ",
      "text/html": "<div>\n<style scoped>\n    .dataframe tbody tr th:only-of-type {\n        vertical-align: middle;\n    }\n\n    .dataframe tbody tr th {\n        vertical-align: top;\n    }\n\n    .dataframe thead th {\n        text-align: right;\n    }\n</style>\n<table border=\"1\" class=\"dataframe\">\n  <thead>\n    <tr style=\"text-align: right;\">\n      <th>Phase</th>\n      <th>continual</th>\n      <th>sys</th>\n      <th>pro</th>\n      <th>sub</th>\n      <th>non</th>\n      <th>noc</th>\n    </tr>\n    <tr>\n      <th>Method</th>\n      <th></th>\n      <th></th>\n      <th></th>\n      <th></th>\n      <th></th>\n      <th></th>\n    </tr>\n  </thead>\n  <tbody>\n    <tr>\n      <th>Finetune</th>\n      <td>8.59</td>\n      <td>50.49 +- 0.73</td>\n      <td>55.14 +- 0.82</td>\n      <td>60.91 +- 0.77</td>\n      <td>54.26 +- 0.73</td>\n      <td>48.44 +- 0.83</td>\n    </tr>\n    <tr>\n      <th>ER</th>\n      <td>10.58</td>\n      <td>47.63 +- 0.72</td>\n      <td>52.92 +- 0.84</td>\n      <td>59.47 +- 0.76</td>\n      <td>51.12 +- 0.79</td>\n      <td>47.23 +- 0.82</td>\n    </tr>\n    <tr>\n      <th>GEM</th>\n      <td>8.62</td>\n      <td>31.59 +- 0.75</td>\n      <td>34.21 +- 0.90</td>\n      <td>43.19 +- 0.90</td>\n      <td>34.41 +- 0.83</td>\n      <td>31.94 +- 0.77</td>\n    </tr>\n    <tr>\n      <th>LwF</th>\n      <td>10.58</td>\n      <td>54.26 +- 0.79</td>\n      <td>58.43 +- 0.77</td>\n      <td>64.23 +- 0.70</td>\n      <td>58.79 +- 0.75</td>\n      <td>51.26 +- 0.77</td>\n    </tr>\n    <tr>\n      <th>EWC</th>\n      <td>8.77</td>\n      <td>50.13 +- 0.79</td>\n      <td>53.56 +- 0.79</td>\n      <td>60.18 +- 0.75</td>\n      <td>53.63 +- 0.77</td>\n      <td>47.05 +- 0.79</td>\n    </tr>\n  </tbody>\n</table>\n</div>"
     },
     "execution_count": 13,
     "metadata": {},
     "output_type": "execute_result"
    }
   ],
   "source": [
    "'''cal mean and ci95, then formulate table str-cell and to latex.'''\n",
    "# exp = 'Finetune'\n",
    "# mode = 'continual'\n",
    "# acc_list = collected_data[(collected_data['Method'] == exp) & (collected_data['Phase'] == mode)]['Accuracy']\n",
    "data = []\n",
    "for exp in exps_dis:\n",
    "    for mode in modes:\n",
    "        acc_list = collected_data[(collected_data['Method'] == exp) & (collected_data['Phase'] == mode)]['Accuracy']\n",
    "        mean = acc_list.mean()\n",
    "        ci95 = 1.96 * (acc_list.std()/np.sqrt(len(acc_list)))\n",
    "        acc_str = f'{mean*100:.2f} +- {ci95*100:.2f}' if mode != 'continual' else f'{mean*100:.2f}'\n",
    "        data.append(pd.DataFrame({'Method': exp, 'Phase': mode, 'mean': mean, 'ci95': ci95, 'str': acc_str}, index=[0]))\n",
    "data = pd.concat(data, ignore_index=True)\n",
    "# print(data)\n",
    "\n",
    "# to latex\n",
    "\n",
    "data = data.pivot(index='Method', values='str', columns='Phase')\n",
    "data = data[modes]\n",
    "data = data.reindex(exps_dis)\n",
    "print(data.style.to_latex().replace('+-', '$\\\\pm$'))\n",
    "data.head()"
   ],
   "metadata": {
    "collapsed": false,
    "pycharm": {
     "name": "#%%\n"
    }
   }
  },
  {
   "cell_type": "code",
   "execution_count": 16,
   "outputs": [
    {
     "name": "stdout",
     "output_type": "stream",
     "text": [
      "\\begin{tabular}{lllllllllllll}\n",
      "Phase & continual & continual_score & sys & sys_score & pro & pro_score & sub & sub_score & non & non_score & noc & noc_score \\\\\n",
      "Method &  &  &  &  &  &  &  &  &  &  &  &  \\\\\n",
      "Finetune* & 44.84 & -17.22 & 50.61 $\\pm$ 0.78 & -6.57 & 54.66 $\\pm$ 0.78 & +0.91 & 60.45 $\\pm$ 0.78 & +11.61 & 54.17 $\\pm$ 0.77 & +0.00 & 47.69 $\\pm$ 0.82 & -11.96 \\\\\n",
      "ER* & 65.43 & +19.97 & 50.58 $\\pm$ 0.74 & -7.26 & 55.90 $\\pm$ 0.82 & +2.50 & 61.65 $\\pm$ 0.75 & +13.04 & 54.54 $\\pm$ 0.77 & +0.00 & 48.98 $\\pm$ 0.82 & -10.19 \\\\\n",
      "GEM* & 29.85 & +94.93 & 14.09 $\\pm$ 0.47 & -7.99 & 16.67 $\\pm$ 0.48 & +8.86 & 15.32 $\\pm$ 0.53 & +0.02 & 15.31 $\\pm$ 0.49 & +0.00 & 16.42 $\\pm$ 0.52 & +7.25 \\\\\n",
      "LwF* & 45.65 & -16.74 & 50.77 $\\pm$ 0.80 & -7.40 & 54.90 $\\pm$ 0.79 & +0.12 & 60.91 $\\pm$ 0.73 & +11.08 & 54.83 $\\pm$ 0.76 & +0.00 & 47.63 $\\pm$ 0.80 & -13.13 \\\\\n",
      "EWC* & 44.10 & -8.59 & 45.57 $\\pm$ 0.78 & -5.54 & 47.70 $\\pm$ 0.78 & -1.13 & 55.70 $\\pm$ 0.80 & +15.44 & 48.25 $\\pm$ 0.80 & +0.00 & 42.81 $\\pm$ 0.79 & -11.26 \\\\\n",
      "\\end{tabular}\n",
      "\n"
     ]
    },
    {
     "data": {
      "text/plain": "Phase     continual continual_score            sys sys_score            pro  \\\nMethod                                                                        \nFinetune*     44.84          -17.22  50.61 +- 0.78     -6.57  54.66 +- 0.78   \nER*           65.43          +19.97  50.58 +- 0.74     -7.26  55.90 +- 0.82   \nGEM*          29.85          +94.93  14.09 +- 0.47     -7.99  16.67 +- 0.48   \nLwF*          45.65          -16.74  50.77 +- 0.80     -7.40  54.90 +- 0.79   \nEWC*          44.10           -8.59  45.57 +- 0.78     -5.54  47.70 +- 0.78   \n\nPhase     pro_score            sub sub_score            non non_score  \\\nMethod                                                                  \nFinetune*     +0.91  60.45 +- 0.78    +11.61  54.17 +- 0.77     +0.00   \nER*           +2.50  61.65 +- 0.75    +13.04  54.54 +- 0.77     +0.00   \nGEM*          +8.86  15.32 +- 0.53     +0.02  15.31 +- 0.49     +0.00   \nLwF*          +0.12  60.91 +- 0.73    +11.08  54.83 +- 0.76     +0.00   \nEWC*          -1.13  55.70 +- 0.80    +15.44  48.25 +- 0.80     +0.00   \n\nPhase                noc noc_score  \nMethod                              \nFinetune*  47.69 +- 0.82    -11.96  \nER*        48.98 +- 0.82    -10.19  \nGEM*       16.42 +- 0.52     +7.25  \nLwF*       47.63 +- 0.80    -13.13  \nEWC*       42.81 +- 0.79    -11.26  ",
      "text/html": "<div>\n<style scoped>\n    .dataframe tbody tr th:only-of-type {\n        vertical-align: middle;\n    }\n\n    .dataframe tbody tr th {\n        vertical-align: top;\n    }\n\n    .dataframe thead th {\n        text-align: right;\n    }\n</style>\n<table border=\"1\" class=\"dataframe\">\n  <thead>\n    <tr style=\"text-align: right;\">\n      <th>Phase</th>\n      <th>continual</th>\n      <th>continual_score</th>\n      <th>sys</th>\n      <th>sys_score</th>\n      <th>pro</th>\n      <th>pro_score</th>\n      <th>sub</th>\n      <th>sub_score</th>\n      <th>non</th>\n      <th>non_score</th>\n      <th>noc</th>\n      <th>noc_score</th>\n    </tr>\n    <tr>\n      <th>Method</th>\n      <th></th>\n      <th></th>\n      <th></th>\n      <th></th>\n      <th></th>\n      <th></th>\n      <th></th>\n      <th></th>\n      <th></th>\n      <th></th>\n      <th></th>\n      <th></th>\n    </tr>\n  </thead>\n  <tbody>\n    <tr>\n      <th>Finetune*</th>\n      <td>44.84</td>\n      <td>-17.22</td>\n      <td>50.61 +- 0.78</td>\n      <td>-6.57</td>\n      <td>54.66 +- 0.78</td>\n      <td>+0.91</td>\n      <td>60.45 +- 0.78</td>\n      <td>+11.61</td>\n      <td>54.17 +- 0.77</td>\n      <td>+0.00</td>\n      <td>47.69 +- 0.82</td>\n      <td>-11.96</td>\n    </tr>\n    <tr>\n      <th>ER*</th>\n      <td>65.43</td>\n      <td>+19.97</td>\n      <td>50.58 +- 0.74</td>\n      <td>-7.26</td>\n      <td>55.90 +- 0.82</td>\n      <td>+2.50</td>\n      <td>61.65 +- 0.75</td>\n      <td>+13.04</td>\n      <td>54.54 +- 0.77</td>\n      <td>+0.00</td>\n      <td>48.98 +- 0.82</td>\n      <td>-10.19</td>\n    </tr>\n    <tr>\n      <th>GEM*</th>\n      <td>29.85</td>\n      <td>+94.93</td>\n      <td>14.09 +- 0.47</td>\n      <td>-7.99</td>\n      <td>16.67 +- 0.48</td>\n      <td>+8.86</td>\n      <td>15.32 +- 0.53</td>\n      <td>+0.02</td>\n      <td>15.31 +- 0.49</td>\n      <td>+0.00</td>\n      <td>16.42 +- 0.52</td>\n      <td>+7.25</td>\n    </tr>\n    <tr>\n      <th>LwF*</th>\n      <td>45.65</td>\n      <td>-16.74</td>\n      <td>50.77 +- 0.80</td>\n      <td>-7.40</td>\n      <td>54.90 +- 0.79</td>\n      <td>+0.12</td>\n      <td>60.91 +- 0.73</td>\n      <td>+11.08</td>\n      <td>54.83 +- 0.76</td>\n      <td>+0.00</td>\n      <td>47.63 +- 0.80</td>\n      <td>-13.13</td>\n    </tr>\n    <tr>\n      <th>EWC*</th>\n      <td>44.10</td>\n      <td>-8.59</td>\n      <td>45.57 +- 0.78</td>\n      <td>-5.54</td>\n      <td>47.70 +- 0.78</td>\n      <td>-1.13</td>\n      <td>55.70 +- 0.80</td>\n      <td>+15.44</td>\n      <td>48.25 +- 0.80</td>\n      <td>+0.00</td>\n      <td>42.81 +- 0.79</td>\n      <td>-11.26</td>\n    </tr>\n  </tbody>\n</table>\n</div>"
     },
     "execution_count": 16,
     "metadata": {},
     "output_type": "execute_result"
    }
   ],
   "source": [
    "'''cal mean and ci95 and relative score, then formulate table str-cell and to latex.'''\n",
    "data = []\n",
    "for exp in exps_dis:\n",
    "    mean_dict = {}\n",
    "    for mode in modes:\n",
    "        acc_list = collected_data[(collected_data['Method'] == exp) & (collected_data['Phase'] == mode)]['Accuracy']\n",
    "        mean = acc_list.mean()\n",
    "        mean_dict[mode] = mean\n",
    "        ci95 = 1.96 * (acc_list.std()/np.sqrt(len(acc_list)))\n",
    "        acc_str = f'{mean*100:.2f} +- {ci95*100:.2f}' if mode != 'continual' else f'{mean*100:.2f}'\n",
    "        data.append(pd.DataFrame({'Method': exp, 'Phase': mode, 'mean': mean, 'ci95': ci95, 'str': acc_str}, index=[0]))\n",
    "\n",
    "    for mode, mean in mean_dict.items():\n",
    "        score = (mean - mean_dict['non']) / mean_dict['non']\n",
    "        data.append(pd.DataFrame({'Method': exp, 'Phase': f'{mode}_score', 'str': f'{score*100:+.2f}'}, index=[0]))\n",
    "\n",
    "data = pd.concat(data, ignore_index=True)\n",
    "# print(data)\n",
    "\n",
    "# to latex\n",
    "\n",
    "data = data.pivot(index='Method', values='str', columns='Phase')\n",
    "data = data[['continual', 'continual_score', 'sys', 'sys_score', 'pro', 'pro_score', 'sub', 'sub_score', 'non', 'non_score',  'noc', 'noc_score']]\n",
    "data = data.reindex(exps_dis)\n",
    "print(data.style.to_latex().replace('+-', '$\\\\pm$'))\n",
    "data.head()"
   ],
   "metadata": {
    "collapsed": false,
    "pycharm": {
     "name": "#%%\n"
    }
   }
  },
  {
   "cell_type": "markdown",
   "source": [
    "# Concept in or not in the last train task"
   ],
   "metadata": {
    "collapsed": false,
    "pycharm": {
     "name": "#%% md\n"
    }
   }
  },
  {
   "cell_type": "code",
   "execution_count": 1,
   "outputs": [
    {
     "name": "stdout",
     "output_type": "stream",
     "text": [
      "\\\\172.18.36.77\\datasets\\continual-learning-baselines\n"
     ]
    }
   ],
   "source": [
    "%cd .."
   ],
   "metadata": {
    "collapsed": false,
    "pycharm": {
     "name": "#%%\n"
    }
   }
  },
  {
   "cell_type": "code",
   "execution_count": 2,
   "outputs": [
    {
     "name": "stdout",
     "output_type": "stream",
     "text": [
      "[[('fence', 'flower'), ('door', 'grass'), ('leaves', 'shirt'), ('grass', 'table'), ('shoe', 'shorts'), ('hat', 'table'), ('leaves', 'wall'), ('chair', 'grass'), ('door', 'shoe'), ('fence', 'helmet')], [('chair', 'sign'), ('grass', 'shorts'), ('hat', 'plate'), ('pole', 'shirt'), ('grass', 'pants'), ('pants', 'shoe'), ('pole', 'wall'), ('bench', 'chair'), ('helmet', 'plate'), ('leaves', 'shoe')], [('bench', 'shorts'), ('flower', 'pole'), ('chair', 'helmet'), ('pants', 'shorts'), ('helmet', 'shorts'), ('helmet', 'shoe'), ('hat', 'jacket'), ('hat', 'shorts'), ('jacket', 'shoe'), ('fence', 'wall')], [('bench', 'helmet'), ('hat', 'shirt'), ('bench', 'sign'), ('plate', 'wall'), ('grass', 'plate'), ('helmet', 'pole'), ('door', 'leaves'), ('bench', 'pants'), ('grass', 'jacket'), ('jacket', 'pole')], [('car', 'jacket'), ('building', 'plate'), ('helmet', 'leaves'), ('pants', 'shirt'), ('car', 'leaves'), ('bench', 'leaves'), ('fence', 'pants'), ('bench', 'shirt'), ('fence', 'grass'), ('building', 'jacket')], [('fence', 'plate'), ('car', 'helmet'), ('car', 'shorts'), ('grass', 'leaves'), ('jacket', 'shirt'), ('chair', 'shirt'), ('plate', 'sign'), ('bench', 'jacket'), ('leaves', 'sign'), ('chair', 'shoe')], [('flower', 'shirt'), ('building', 'chair'), ('plate', 'shorts'), ('building', 'leaves'), ('chair', 'hat'), ('fence', 'pole'), ('grass', 'sign'), ('building', 'grass'), ('hat', 'shoe'), ('bench', 'wall')], [('car', 'flower'), ('bench', 'door'), ('bench', 'hat'), ('bench', 'building'), ('bench', 'table'), ('hat', 'sign'), ('shirt', 'wall'), ('door', 'fence'), ('door', 'plate'), ('pole', 'table')], [('flower', 'pants'), ('shoe', 'sign'), ('helmet', 'shirt'), ('leaves', 'plate'), ('hat', 'wall'), ('grass', 'shoe'), ('plate', 'shirt'), ('pants', 'wall'), ('fence', 'leaves'), ('chair', 'pole')], [('car', 'sign'), ('car', 'pants'), ('flower', 'helmet'), ('building', 'hat'), ('car', 'shirt'), ('helmet', 'sign'), ('flower', 'wall'), ('door', 'pole'), ('leaves', 'shorts'), ('fence', 'shorts')]]\n"
     ]
    }
   ],
   "source": [
    "from datasets.cgqa import continual_training_benchmark\n",
    "benchmark = continual_training_benchmark(\n",
    "    n_experiences=10, return_task_id=True,\n",
    "    seed=1234, shuffle=True,\n",
    "    dataset_root='../datasets',\n",
    "    memory_size=0,\n",
    ")\n",
    "class_exp = benchmark.original_classes_in_exp\n",
    "maps = benchmark.label_info[2]\n",
    "str_class_exp = []\n",
    "for classes in class_exp:\n",
    "    str_class_exp.append([maps[c] for c in classes])\n",
    "print(str_class_exp)"
   ],
   "metadata": {
    "collapsed": false,
    "pycharm": {
     "name": "#%%\n"
    }
   }
  },
  {
   "cell_type": "code",
   "execution_count": 3,
   "outputs": [
    {
     "name": "stdout",
     "output_type": "stream",
     "text": [
      "fresh_concepts: ['building', 'car', 'door', 'fence', 'flower', 'hat', 'helmet', 'leaves', 'pants', 'pole', 'shirt', 'shorts', 'sign', 'wall'].\n",
      "old_concepts: ['bench', 'chair', 'grass', 'jacket', 'plate', 'shoe', 'table'].\n"
     ]
    }
   ],
   "source": [
    "fresh_concepts = sorted(set([concept for concept_tuple in str_class_exp[-1] for concept in concept_tuple]))\n",
    "old_concepts = sorted(set([concept for concept_tuple in benchmark.label_info[0] for concept in concept_tuple]) - set(fresh_concepts))\n",
    "print(f'fresh_concepts: {fresh_concepts}.')\n",
    "print(f'old_concepts: {old_concepts}.')"
   ],
   "metadata": {
    "collapsed": false,
    "pycharm": {
     "name": "#%%\n"
    }
   }
  },
  {
   "cell_type": "code",
   "execution_count": 4,
   "outputs": [
    {
     "name": "stdout",
     "output_type": "stream",
     "text": [
      "nonf: [('building', 'hat'), ('building', 'leaves'), ('car', 'flower'), ('car', 'helmet'), ('car', 'leaves'), ('car', 'pants'), ('car', 'shirt'), ('car', 'shorts'), ('car', 'sign'), ('door', 'fence'), ('door', 'leaves'), ('door', 'pole'), ('fence', 'flower'), ('fence', 'helmet'), ('fence', 'leaves'), ('fence', 'pants'), ('fence', 'pole'), ('fence', 'shorts'), ('fence', 'wall'), ('flower', 'helmet'), ('flower', 'pants'), ('flower', 'pole'), ('flower', 'shirt'), ('flower', 'wall'), ('hat', 'shirt'), ('hat', 'shorts'), ('hat', 'sign'), ('hat', 'wall'), ('helmet', 'leaves'), ('helmet', 'pole'), ('helmet', 'shirt'), ('helmet', 'shorts'), ('helmet', 'sign'), ('leaves', 'shirt'), ('leaves', 'shorts'), ('leaves', 'sign'), ('leaves', 'wall'), ('pants', 'shirt'), ('pants', 'shorts'), ('pants', 'wall'), ('pole', 'shirt'), ('pole', 'wall'), ('shirt', 'wall')]\n",
      "nono: [('bench', 'chair'), ('bench', 'jacket'), ('bench', 'table'), ('chair', 'grass'), ('chair', 'shoe'), ('grass', 'jacket'), ('grass', 'plate'), ('grass', 'shoe'), ('grass', 'table'), ('jacket', 'shoe')]\n",
      "sysf: [('building', 'car'), ('building', 'door'), ('building', 'fence'), ('building', 'helmet'), ('building', 'pants'), ('building', 'shirt'), ('building', 'shorts'), ('building', 'wall'), ('car', 'door'), ('car', 'fence'), ('car', 'hat'), ('car', 'pole'), ('car', 'wall'), ('door', 'flower'), ('door', 'hat'), ('door', 'helmet'), ('door', 'pants'), ('door', 'shirt'), ('door', 'shorts'), ('door', 'sign'), ('door', 'wall'), ('fence', 'hat'), ('fence', 'shirt'), ('fence', 'sign'), ('flower', 'hat'), ('flower', 'leaves'), ('flower', 'shorts'), ('flower', 'sign'), ('hat', 'helmet'), ('hat', 'leaves'), ('hat', 'pants'), ('helmet', 'pants'), ('leaves', 'pants'), ('leaves', 'pole'), ('pants', 'pole'), ('pants', 'sign'), ('pole', 'shorts'), ('pole', 'sign'), ('shirt', 'shorts'), ('shirt', 'sign'), ('shorts', 'wall'), ('sign', 'wall')]\n",
      "syso: [('bench', 'grass'), ('bench', 'plate'), ('bench', 'shoe'), ('chair', 'jacket'), ('chair', 'plate'), ('chair', 'table'), ('jacket', 'plate'), ('jacket', 'table'), ('plate', 'shoe'), ('plate', 'table'), ('shoe', 'table')]\n"
     ]
    }
   ],
   "source": [
    "from datasets.cgqa import fewshot_testing_benchmark\n",
    "\n",
    "benchmark_non = fewshot_testing_benchmark(\n",
    "    n_experiences=300, mode='non', n_way=10, n_shot=10, n_val=5, n_query=10, task_offset=1, seed=1234, dataset_root='../datasets')\n",
    "# non(f)\n",
    "nonf = []\n",
    "for concept_tuple in benchmark_non.label_info[0]:\n",
    "    is_target = True\n",
    "    for concept in concept_tuple:\n",
    "        if concept not in fresh_concepts:\n",
    "            is_target = False\n",
    "    if is_target:\n",
    "        nonf.append(concept_tuple)\n",
    "nonf = sorted(nonf)\n",
    "print(f'nonf: {nonf}')\n",
    "# non(o)\n",
    "nono = []\n",
    "for concept_tuple in benchmark_non.label_info[0]:\n",
    "    is_target = True\n",
    "    for concept in concept_tuple:\n",
    "        if concept not in old_concepts:\n",
    "            is_target = False\n",
    "    if is_target:\n",
    "        nono.append(concept_tuple)\n",
    "nono = sorted(nono)\n",
    "print(f'nono: {nono}')\n",
    "\n",
    "benchmark_non = fewshot_testing_benchmark(\n",
    "    n_experiences=300, mode='sys', n_way=10, n_shot=10, n_val=5, n_query=10, task_offset=1, seed=1234, dataset_root='../datasets')\n",
    "# sys(f)\n",
    "sysf = []\n",
    "for concept_tuple in benchmark_non.label_info[0]:\n",
    "    is_target = True\n",
    "    for concept in concept_tuple:\n",
    "        if concept not in fresh_concepts:\n",
    "            is_target = False\n",
    "    if is_target:\n",
    "        sysf.append(concept_tuple)\n",
    "sysf = sorted(sysf)\n",
    "print(f'sysf: {sysf}')\n",
    "# sys(o)\n",
    "syso = []\n",
    "for concept_tuple in benchmark_non.label_info[0]:\n",
    "    is_target = True\n",
    "    for concept in concept_tuple:\n",
    "        if concept not in old_concepts:\n",
    "            is_target = False\n",
    "    if is_target:\n",
    "        syso.append(concept_tuple)\n",
    "syso = sorted(syso)\n",
    "print(f'syso: {syso}')"
   ],
   "metadata": {
    "collapsed": false,
    "pycharm": {
     "name": "#%%\n"
    }
   }
  },
  {
   "cell_type": "code",
   "execution_count": 5,
   "outputs": [
    {
     "name": "stdout",
     "output_type": "stream",
     "text": [
      "nonf: [26, 43, 67, 17, 49, 19, 76, 66, 70, 50, 81, 86, 22, 51, 84, 75, 66, 42, 25, 94, 26, 47, 75, 44, 15, 52, 76, 96, 67, 76, 36, 70, 83, 48, 15, 81, 17, 85, 76, 47, 85, 66, 96, 46, 36, 76, 73, 50, 26, 36, 51, 38, 46, 70, 48, 73, 84, 49, 88, 44, 86, 40, 43, 53, 84, 51, 15, 19, 51, 48, 89, 34, 66, 97, 83, 73, 19, 23, 76, 26, 53, 88, 19, 70, 34, 36, 64, 15, 66, 20, 64, 51, 89, 42, 81, 66, 15, 67, 96, 48, 51, 94, 89, 81, 25, 23, 94, 46, 97, 51, 64, 86, 53, 86, 88, 84, 69, 83, 44, 38, 17, 96, 96, 50, 46, 25, 34, 50, 49, 89, 69, 49, 85, 97, 23, 83, 20, 48, 75, 36, 81, 17, 66, 81, 53, 48, 26, 51, 43, 89, 50, 24, 73, 97, 49, 38, 94, 50, 22, 64, 40, 44, 36, 22, 19, 43, 38, 67, 86, 49, 48, 69, 36, 96, 46, 49, 15, 70, 40, 53, 72, 15, 69, 75, 49, 67, 25, 22, 66, 86, 52, 15, 38, 40, 94, 22, 36, 44, 97, 64, 15, 89, 66, 76, 17, 94, 36, 50, 52, 75, 88, 43, 72, 38, 38, 40, 83, 49, 67, 75, 85, 26, 46, 67, 20, 46, 48, 72, 83, 97, 34, 76, 20, 24, 23, 46, 53, 26, 96, 86, 20, 38, 83, 47, 20, 72, 86, 42, 84, 38, 69, 26, 52, 96, 24, 70, 46, 25, 19, 40, 66, 97, 81, 75, 94, 22, 38, 76, 38, 24, 47, 43, 89, 50, 94, 19, 88, 89, 38, 23, 38, 51, 81, 85, 40, 72, 64, 88, 48, 36, 43, 40, 96, 43, 64, 97, 19, 81, 89, 69, 76, 42, 96, 22, 23, 49, 47, 69, 47, 73, 49, 26, 66, 76, 23, 76, 42, 67, 53, 26, 94, 24, 23, 19, 46, 25, 70, 69, 94, 76, 88, 48, 48, 44, 85, 70, 50, 75, 47, 73, 94, 49, 66, 34, 49, 69, 75, 17, 44, 51, 75, 66, 23, 40, 46, 86, 97, 85, 96, 15, 42, 17, 84, 25, 23, 17, 75, 49, 66, 64, 24, 52, 53, 66, 89, 24, 36, 34, 43, 89, 22, 42, 94, 34, 85, 38, 64, 26, 46, 64, 17, 96, 64, 97, 46, 86, 64, 38, 66, 88, 25, 66, 50, 43, 34, 43, 26, 48, 51, 73, 94, 23, 96, 44, 83, 50, 97, 43, 43, 47, 25, 89, 69, 89, 36, 50, 70, 15, 20, 94, 69, 38, 53, 22, 76, 67, 24, 84, 50, 85, 83, 24, 48, 49, 81, 86, 24, 42, 22, 70, 85, 75, 86, 25, 75, 76, 38, 26, 83, 42, 15, 70, 67, 23, 84, 17, 17, 85, 76, 73, 25, 73, 43, 42, 49, 50, 49, 26, 44, 42, 43, 51, 83, 86, 25, 50, 34, 64, 69, 81, 25, 44, 40, 47, 76, 50, 52, 20, 20, 88, 72, 84, 42, 48, 49, 50, 73, 69, 42, 44, 48, 20, 34, 42, 34, 25, 36, 72, 36, 47, 52, 86, 73, 52, 42, 47, 84, 67, 89, 25, 83, 51, 53, 69, 97, 46, 19, 40, 23, 97, 81, 88, 69, 20, 48, 84, 69, 34, 73, 50, 76, 50, 19, 83, 73, 42, 89, 42, 15, 19, 76, 22, 36, 83, 97, 73, 75, 85, 44, 66, 40, 73, 83, 94, 66, 38, 24, 67, 22, 84, 69, 20, 22, 75, 70, 42, 19, 48, 83, 48, 85, 47, 94, 44, 84, 15, 24, 50, 73, 66]\n",
      "nono: [58, 11, 58, 27, 58, 5, 32, 79, 61, 1, 61, 11, 58, 11, 54, 1, 1, 58, 27, 5, 61, 32, 79, 32, 54, 27, 1, 61, 5, 57, 27, 54, 32, 54, 57, 79, 61, 11, 58, 54, 11, 57, 61, 58, 11, 32, 1, 32, 79, 32, 79, 57, 11, 79, 61, 32, 57, 61, 5, 11, 11, 54, 1, 79, 1, 61, 57, 58, 58, 32, 58, 1, 79, 54, 5, 54, 27, 32, 27, 57, 32, 58, 5, 57, 1, 58, 57, 5, 32, 1, 61, 11, 1, 27, 1, 32, 57, 5, 54, 61, 11, 1, 1, 57, 32, 58, 27, 58, 58, 11, 1, 58, 32, 11, 27, 11, 58, 79, 54, 57, 54, 32, 57, 5, 1, 61, 1, 58, 32, 1, 58, 11, 79, 1, 1, 11, 11, 1, 57, 27, 27, 1, 57, 32, 79, 1, 11, 79, 32, 54, 61, 11, 27, 58, 1, 5, 5, 61, 79, 11, 27, 1, 57, 32, 57, 11, 79, 1, 57, 27, 54, 79, 5, 32, 57, 11, 1, 32, 61, 54, 57, 32, 57, 58, 32, 79, 5, 61, 61, 58, 57, 1, 57, 1, 1, 61, 11, 27, 57, 1, 5, 61, 61, 5, 27, 61, 1, 58, 27, 32, 58, 5, 27, 1, 58, 57, 27, 58, 5, 58, 32, 5, 79, 5, 5, 58, 1, 11, 27, 57, 1, 54, 61, 58, 61, 54, 57, 27, 61, 27, 32, 58, 79, 58, 1, 58, 61, 27, 32, 11, 5, 61, 27, 79, 32, 57, 27, 61, 1, 5, 58, 11, 79, 32, 54, 5, 57, 27, 11, 5, 5, 54, 32, 5, 27, 32, 5, 32, 54, 11, 32, 61, 79, 54, 61, 27, 58, 57, 5, 79, 32, 58, 61, 57, 58, 61, 58, 61, 61, 58, 58, 5, 54, 79, 57, 61, 57, 5, 54, 58, 61, 1, 58, 54, 32, 79, 79, 58, 54, 58, 32, 11, 54, 1, 58, 54, 32, 11, 5, 54, 5, 54, 54, 79, 54, 11, 11, 54, 32, 11, 32, 79, 32, 58, 11, 61, 1, 11, 27, 79, 54, 79, 5, 79, 79, 32, 1, 58, 57, 11, 32, 57, 58, 32, 5, 27, 5, 61, 58, 5, 1, 11, 54, 61, 57, 54, 1, 54, 32, 27, 57, 1, 32, 5, 11, 58, 79, 58, 5, 58, 27, 32, 5, 79, 79, 57, 5, 27, 11, 1, 11, 32, 79, 27, 32, 54, 79, 1, 32, 58, 79, 61, 1, 54, 1, 11, 54, 27, 11, 5, 1, 32, 27, 11, 11, 61, 79, 5, 57, 5, 58, 27, 5, 54, 79, 58, 32, 79, 27, 1, 61, 1, 27, 1, 54, 32, 57, 11, 58, 79, 32, 27, 79, 61, 1, 79, 27, 5, 32, 61, 11, 58, 11, 79, 32, 1, 79, 54, 54, 32, 58, 27, 57, 32, 58, 54, 11, 58, 58, 11, 11, 5, 57, 58, 58, 1, 32, 1, 61, 58, 79, 61, 58, 61, 5, 32, 5, 79, 54, 11, 61, 5, 27, 79, 57, 27, 11, 54, 58, 54, 61, 11, 11, 54, 1, 32, 11, 61, 5, 11, 11, 79, 61, 11, 79, 61, 57, 61, 1, 79, 61, 32, 1, 61, 1, 54, 1, 5, 1, 54, 11, 27, 27, 58, 57, 11, 58, 61, 58, 32, 61, 1, 79, 61, 57, 79, 79, 61, 5, 79, 54, 11, 11, 5, 5, 79, 11, 1, 58, 61, 32, 54, 11, 61, 5, 11, 79, 32, 61, 5, 79, 11, 79, 61, 58, 61, 1, 54, 58, 79, 11, 54, 57, 27, 11, 27, 11, 1, 27, 57]\n",
      "sysf: [19, 98, 7, 52, 47, 8, 65, 64, 91, 9, 78, 88, 10, 57, 78, 65, 54, 35, 98, 45, 6, 9, 88, 91, 98, 17, 24, 54, 10, 24, 37, 8, 77, 44, 6, 21, 7, 88, 65, 49, 36, 54, 47, 17, 91, 7, 37, 11, 36, 21, 35, 77, 87, 9, 7, 19, 52, 64, 47, 42, 16, 14, 35, 16, 36, 49, 35, 52, 80, 8, 8, 91, 52, 98, 49, 54, 41, 52, 90, 64, 8, 35, 65, 19, 6, 41, 11, 17, 19, 11, 16, 36, 39, 42, 96, 36, 78, 44, 7, 77, 41, 19, 8, 49, 96, 6, 68, 40, 91, 39, 64, 12, 11, 42, 45, 44, 36, 24, 47, 88, 65, 66, 42, 47, 65, 6, 9, 42, 78, 65, 80, 7, 12, 37, 36, 96, 9, 36, 65, 17, 9, 54, 68, 90, 45, 65, 41, 16, 98, 44, 6, 10, 88, 44, 11, 7, 42, 54, 44, 8, 87, 21, 12, 81, 56, 64, 7, 39, 9, 45, 19, 24, 39, 91, 54, 96, 10, 17, 39, 44, 6, 57, 68, 45, 65, 6, 57, 98, 42, 56, 14, 10, 54, 96, 47, 6, 21, 24, 56, 10, 44, 47, 90, 77, 6, 88, 65, 66, 7, 24, 42, 16, 65, 81, 41, 11, 6, 35, 81, 78, 65, 91, 45, 8, 47, 77, 78, 77, 96, 39, 88, 44, 80, 14, 80, 91, 17, 77, 9, 12, 11, 39, 64, 16, 45, 96, 9, 21, 78, 37, 19, 40, 98, 37, 36, 41, 12, 16, 14, 44, 8, 39, 35, 80, 52, 11, 57, 54, 90, 9, 11, 96, 52, 96, 57, 14, 12, 17, 41, 81, 88, 44, 80, 87, 35, 66, 54, 87, 54, 40, 78, 12, 19, 77, 49, 24, 64, 39, 44, 36, 77, 42, 9, 11, 91, 54, 87, 12, 56, 7, 39, 8, 49, 44, 49, 6, 88, 45, 98, 78, 77, 11, 11, 52, 24, 10, 42, 87, 98, 54, 45, 11, 81, 12, 98, 9, 19, 77, 12, 52, 35, 87, 66, 16, 47, 78, 6, 19, 90, 17, 65, 16, 11, 17, 47, 87, 21, 45, 24, 49, 68, 36, 8, 68, 12, 16, 96, 91, 96, 6, 35, 7, 80, 14, 81, 39, 14, 81, 10, 78, 12, 91, 98, 49, 44, 11, 17, 52, 36, 90, 10, 35, 91, 17, 87, 21, 80, 16, 81, 17, 39, 68, 8, 65, 78, 49, 47, 41, 96, 47, 96, 14, 49, 90, 17, 36, 9, 45, 10, 54, 40, 19, 6, 77, 81, 17, 9, 96, 36, 80, 19, 90, 36, 42, 10, 42, 78, 56, 56, 42, 80, 16, 81, 7, 42, 16, 11, 21, 57, 21, 8, 40, 87, 52, 91, 56, 39, 98, 44, 52, 49, 7, 66, 41, 21, 81, 78, 24, 80, 54, 7, 49, 54, 52, 16, 40, 24, 77, 7, 56, 78, 17, 12, 19, 14, 37, 65, 8, 17, 87, 68, 16, 39, 64, 10, 64, 64, 44, 44, 57, 40, 68, 57, 78, 41, 39, 24, 19, 57, 81, 47, 90, 45, 98, 96, 68, 88, 54, 42, 9, 37, 39, 8, 98, 65, 21, 88, 65, 88, 90, 9, 21, 66, 57, 45, 7, 90, 12, 90, 11, 49, 68, 41, 45, 64, 90, 10, 81, 11, 66, 42, 77, 78, 37, 47, 39, 40, 96, 81, 7, 52, 47, 96, 90, 80, 40, 68, 9, 8, 54, 88, 14, 91, 35, 19, 8, 45, 90, 39, 64, 96, 81, 68, 87, 65, 37, 77, 98, 49, 90, 77, 54, 45, 40, 68, 52, 7, 78, 19, 9]\n",
      "syso: [84, 5, 28, 93, 84, 3, 93, 33, 93, 5, 75, 5, 31, 2, 3, 84, 84, 31, 93, 31, 33, 28, 75, 2, 5, 28, 3, 75, 28, 93, 93, 85, 84, 75, 2, 84, 75, 84, 5, 31, 85, 2, 75, 2, 31, 72, 5, 85, 84, 31, 72, 5, 5, 33, 33, 2, 33, 84, 75, 31, 85, 33, 75, 3, 5, 28, 28, 72, 75, 85, 3, 75, 75, 5, 84, 72, 28, 85, 2, 85, 2, 31, 84, 3, 28, 85, 75, 3, 3, 5, 2, 28, 93, 84, 84, 5, 5, 93, 75, 85, 33, 84, 72, 75, 2, 33, 2, 85, 93, 5, 85, 3, 85, 5, 75, 31, 75, 28, 72, 31, 93, 2, 93, 5, 93, 85, 2, 93, 5, 75, 75, 3, 85, 5, 84, 93, 31, 85, 93, 5, 3, 2, 84, 28, 2, 28, 93, 72, 72, 93, 5, 33, 72, 31, 84, 72, 31, 5, 3, 2, 72, 85, 5, 2, 5, 84, 31, 33, 5, 33, 3, 31, 33, 3, 84, 33, 2, 28, 84, 5, 75, 3, 85, 2, 84, 72, 28, 85, 3, 93, 33, 31, 72, 93, 75, 72, 85, 93, 31, 2, 72, 28, 33, 84, 33, 31, 31, 75, 2, 72, 33, 5, 31, 5, 3, 84, 72, 28, 2, 31, 85, 93, 28, 33, 93, 31, 3, 2, 28, 85, 3, 28, 72, 3, 28, 31, 3, 85, 72, 5, 72, 85, 5, 33, 84, 28, 31, 93, 72, 31, 84, 72, 84, 85, 84, 93, 85, 72, 75, 3, 3, 85, 33, 3, 85, 3, 31, 84, 75, 33, 31, 85, 75, 85, 72, 84, 31, 5, 28, 33, 31, 5, 3, 72, 93, 3, 85, 5, 5, 33, 31, 5, 31, 33, 5, 93, 2, 5, 28, 85, 93, 31, 3, 33, 2, 72, 72, 5, 31, 72, 31, 85, 3, 28, 3, 85, 75, 3, 5, 2, 85, 5, 72, 75, 31, 28, 75, 2, 31, 3, 28, 75, 93, 2, 28, 93, 84, 33, 84, 33, 3, 84, 2, 72, 28, 2, 93, 33, 85, 28, 85, 84, 2, 28, 84, 2, 28, 2, 5, 93, 2, 31, 5, 28, 33, 3, 93, 3, 3, 72, 28, 31, 3, 28, 72, 33, 85, 72, 28, 85, 85, 2, 33, 31, 72, 5, 93, 75, 93, 28, 84, 3, 85, 84, 33, 93, 5, 75, 2, 93, 75, 31, 3, 93, 31, 72, 84, 75, 31, 5, 85, 84, 5, 33, 72, 84, 72, 33, 84, 93, 93, 2, 85, 75, 2, 85, 93, 31, 33, 3, 31, 85, 3, 28, 85, 93, 75, 93, 28, 5, 85, 5, 33, 5, 85, 5, 3, 5, 93, 28, 72, 5, 72, 28, 85, 84, 33, 31, 33, 93, 2, 28, 85, 72, 33, 72, 84, 85, 33, 93, 75, 5, 75, 31, 72, 85, 3, 5, 93, 2, 31, 33, 3, 5, 72, 5, 3, 85, 33, 5, 28, 75, 31, 33, 5, 85, 3, 5, 75, 33, 33, 84, 31, 84, 72, 85, 93, 33, 28, 93, 5, 33, 2, 93, 28, 5, 2, 85, 28, 84, 93, 75, 28, 93, 84, 85, 93, 85, 3, 72, 31, 2, 28, 93, 85, 2, 75, 3, 93, 5, 28, 2, 84, 28, 93, 5, 75, 93, 2, 3, 93, 85, 75, 28, 28, 84, 2, 93, 28, 3, 72, 2, 84, 31, 31, 75, 28, 33, 3, 75, 84, 75, 3, 72, 84, 85, 33, 28, 2, 5, 28, 72, 93, 84, 93, 5, 33, 28, 85, 33, 75, 5, 3, 72, 28, 5, 28, 2, 85, 33]\n"
     ]
    }
   ],
   "source": [
    "'''Generate fixed_class_order for 4 subset'''\n",
    "import numpy as np\n",
    "from datasets.cgqa import fewshot_testing_benchmark\n",
    "\n",
    "# nonf\n",
    "benchmark_non = fewshot_testing_benchmark(\n",
    "    n_experiences=300, mode='non', n_way=10, n_shot=10, n_val=5, n_query=10, task_offset=1, seed=1234, dataset_root='../datasets')\n",
    "\n",
    "maps = benchmark_non.label_info[1]      # from str to int\n",
    "nonf_int = [maps[c] for c in nonf]\n",
    "n_experiences = 300\n",
    "selected_classes_in_exp = []\n",
    "rng = np.random.RandomState(seed=1234)\n",
    "for exp_idx in range(n_experiences):\n",
    "    '''select n_way classes for each exp'''\n",
    "    selected_class_idxs = list(rng.choice(nonf_int, 2, replace=False))   # 2-way\n",
    "    selected_classes_in_exp.extend(selected_class_idxs)\n",
    "\n",
    "print(f'nonf: {selected_classes_in_exp}')\n",
    "\n",
    "# nono\n",
    "nono_int = [maps[c] for c in nono]\n",
    "n_experiences = 300\n",
    "selected_classes_in_exp = []\n",
    "rng = np.random.RandomState(seed=1234)\n",
    "for exp_idx in range(n_experiences):\n",
    "    '''select n_way classes for each exp'''\n",
    "    selected_class_idxs = list(rng.choice(nono_int, 2, replace=False))   # 2-way\n",
    "    selected_classes_in_exp.extend(selected_class_idxs)\n",
    "\n",
    "print(f'nono: {selected_classes_in_exp}')\n",
    "\n",
    "# sysf\n",
    "benchmark_sys = fewshot_testing_benchmark(\n",
    "    n_experiences=300, mode='sys', n_way=10, n_shot=10, n_val=5, n_query=10, task_offset=1, seed=1234, dataset_root='../datasets')\n",
    "\n",
    "maps = benchmark_sys.label_info[1]      # from str to int\n",
    "sysf_int = [maps[c] for c in sysf]\n",
    "n_experiences = 300\n",
    "selected_classes_in_exp = []\n",
    "rng = np.random.RandomState(seed=1234)\n",
    "for exp_idx in range(n_experiences):\n",
    "    '''select n_way classes for each exp'''\n",
    "    selected_class_idxs = list(rng.choice(sysf_int, 2, replace=False))   # 2-way\n",
    "    selected_classes_in_exp.extend(selected_class_idxs)\n",
    "\n",
    "print(f'sysf: {selected_classes_in_exp}')\n",
    "\n",
    "# syso\n",
    "syso_int = [maps[c] for c in syso]\n",
    "n_experiences = 300\n",
    "selected_classes_in_exp = []\n",
    "rng = np.random.RandomState(seed=1234)\n",
    "for exp_idx in range(n_experiences):\n",
    "    '''select n_way classes for each exp'''\n",
    "    selected_class_idxs = list(rng.choice(syso_int, 2, replace=False))   # 2-way\n",
    "    selected_classes_in_exp.extend(selected_class_idxs)\n",
    "\n",
    "print(f'syso: {selected_classes_in_exp}')"
   ],
   "metadata": {
    "collapsed": false,
    "pycharm": {
     "name": "#%%\n"
    }
   }
  },
  {
   "cell_type": "markdown",
   "source": [
    "# Generate results table for LMC"
   ],
   "metadata": {
    "collapsed": false,
    "pycharm": {
     "name": "#%% md\n"
    }
   }
  },
  {
   "cell_type": "code",
   "execution_count": 6,
   "outputs": [
    {
     "name": "stdout",
     "output_type": "stream",
     "text": [
      "continual: 21.73 & -0.55\n",
      "sys: 43.96 $\\pm$ 0.89 & -0.09\n",
      "pro: 49.38 $\\pm$ 0.79 & +0.02\n",
      "sub: 44.20 $\\pm$ 0.77 & -0.08\n",
      "non: 48.18 $\\pm$ 0.81 & +0.00\n",
      "noc: 28.96 $\\pm$ 0.73 & -0.40\n"
     ]
    }
   ],
   "source": [
    "import numpy as np\n",
    "import os\n",
    "import pandas as pd\n",
    "\n",
    "exp_name = 'lmc_resnet18_cgqa_dp5'\n",
    "# exp_name = 'mntdp_resnet18_cgqa_dp5'\n",
    "\n",
    "results = np.load(os.path.join('../../LMC-experiments', exp_name, 'results-continual.npy'))\n",
    "\n",
    "results_sys = np.load(os.path.join('../../LMC-experiments', exp_name, 'results-sys.npy'))\n",
    "results_pro = np.load(os.path.join('../../LMC-experiments', exp_name, 'results-pro.npy'))\n",
    "results_sub = np.load(os.path.join('../../LMC-experiments', exp_name, 'results-sub.npy'))\n",
    "results_non = np.load(os.path.join('../../LMC-experiments', exp_name, 'results-non.npy'))\n",
    "results_noc = np.load(os.path.join('../../LMC-experiments', exp_name, 'results-noc.npy'))\n",
    "\n",
    "print(f'continual: {results.mean()*100:.2f} & {(results.mean() - results_non.mean()) / results_non.mean():+.2f}')\n",
    "print(f'sys: {results_sys.mean()*100:.2f} $\\\\pm$ {1.96 * (results_sys.std()/np.sqrt(len(results_sys)))*100:.2f} & {(results_sys.mean() - results_non.mean()) / results_non.mean():+.2f}')\n",
    "print(f'pro: {results_pro.mean()*100:.2f} $\\\\pm$ {1.96 * (results_pro.std()/np.sqrt(len(results_pro)))*100:.2f} & {(results_pro.mean() - results_non.mean()) / results_non.mean():+.2f}')\n",
    "print(f'sub: {results_sub.mean()*100:.2f} $\\\\pm$ {1.96 * (results_sub.std()/np.sqrt(len(results_sub)))*100:.2f} & {(results_sub.mean() - results_non.mean()) / results_non.mean():+.2f}')\n",
    "print(f'non: {results_non.mean()*100:.2f} $\\\\pm$ {1.96 * (results_non.std()/np.sqrt(len(results_non)))*100:.2f} & {(results_non.mean() - results_non.mean()) / results_non.mean():+.2f}')\n",
    "print(f'noc: {results_noc.mean()*100:.2f} $\\\\pm$ {1.96 * (results_noc.std()/np.sqrt(len(results_noc)))*100:.2f} & {(results_noc.mean() - results_non.mean()) / results_non.mean():+.2f}')\n"
   ],
   "metadata": {
    "collapsed": false,
    "pycharm": {
     "name": "#%%\n"
    }
   }
  },
  {
   "cell_type": "code",
   "execution_count": 3,
   "outputs": [],
   "source": [
    "import torch\n",
    "\n",
    "checkpoint = torch.load(os.path.join('../../LMC-experiments', 'mntdp_resnet18_cgqa_lr1e-3_', 'model.pt'), map_location=torch.device('cuda'))\n",
    "\n",
    "checkpoint['structure_pool'] = [[0, 0, 0, 0], [1, 1, 1, 1], [1, 1, 2, 2], [1, 2, 3, 3], [1, 3, 4, 4], [0, 4, 5, 5], [1, 5, 6, 6], [1, 6, 7, 7], [2, 7, 8, 8], [1, 8, 9, 9]]\n",
    "\n",
    "torch.save(checkpoint, os.path.join('../../LMC-experiments', 'mntdp_resnet18_cgqa_lr1e-3_', 'model_.pt'))"
   ],
   "metadata": {
    "collapsed": false,
    "pycharm": {
     "name": "#%%\n"
    }
   }
  },
  {
   "cell_type": "code",
   "execution_count": 4,
   "outputs": [
    {
     "name": "stdout",
     "output_type": "stream",
     "text": [
      "odict_keys(['_n_modules', 'min_temp_buffer', '_log_at_this_iter_flag_buffer', '_steps_since_last_addition', 'components.0.0.module_learned_buffer', 'components.0.0.bn_eval_buffer', 'components.0.0.module.0.conv1.weight', 'components.0.0.module.0.bn1.weight', 'components.0.0.module.0.bn1.bias', 'components.0.0.module.0.bn1.running_mean', 'components.0.0.module.0.bn1.running_var', 'components.0.0.module.0.bn1.num_batches_tracked', 'components.0.0.module.0.conv2.weight', 'components.0.0.module.0.bn2.weight', 'components.0.0.module.0.bn2.bias', 'components.0.0.module.0.bn2.running_mean', 'components.0.0.module.0.bn2.running_var', 'components.0.0.module.0.bn2.num_batches_tracked', 'components.0.0.module.1.conv1.weight', 'components.0.0.module.1.bn1.weight', 'components.0.0.module.1.bn1.bias', 'components.0.0.module.1.bn1.running_mean', 'components.0.0.module.1.bn1.running_var', 'components.0.0.module.1.bn1.num_batches_tracked', 'components.0.0.module.1.conv2.weight', 'components.0.0.module.1.bn2.weight', 'components.0.0.module.1.bn2.bias', 'components.0.0.module.1.bn2.running_mean', 'components.0.0.module.1.bn2.running_var', 'components.0.0.module.1.bn2.num_batches_tracked', 'components.0.1.module_learned_buffer', 'components.0.1.bn_eval_buffer', 'components.0.1.module.0.conv1.weight', 'components.0.1.module.0.bn1.weight', 'components.0.1.module.0.bn1.bias', 'components.0.1.module.0.bn1.running_mean', 'components.0.1.module.0.bn1.running_var', 'components.0.1.module.0.bn1.num_batches_tracked', 'components.0.1.module.0.conv2.weight', 'components.0.1.module.0.bn2.weight', 'components.0.1.module.0.bn2.bias', 'components.0.1.module.0.bn2.running_mean', 'components.0.1.module.0.bn2.running_var', 'components.0.1.module.0.bn2.num_batches_tracked', 'components.0.1.module.1.conv1.weight', 'components.0.1.module.1.bn1.weight', 'components.0.1.module.1.bn1.bias', 'components.0.1.module.1.bn1.running_mean', 'components.0.1.module.1.bn1.running_var', 'components.0.1.module.1.bn1.num_batches_tracked', 'components.0.1.module.1.conv2.weight', 'components.0.1.module.1.bn2.weight', 'components.0.1.module.1.bn2.bias', 'components.0.1.module.1.bn2.running_mean', 'components.0.1.module.1.bn2.running_var', 'components.0.1.module.1.bn2.num_batches_tracked', 'components.0.2.module_learned_buffer', 'components.0.2.bn_eval_buffer', 'components.0.2.module.0.conv1.weight', 'components.0.2.module.0.bn1.weight', 'components.0.2.module.0.bn1.bias', 'components.0.2.module.0.bn1.running_mean', 'components.0.2.module.0.bn1.running_var', 'components.0.2.module.0.bn1.num_batches_tracked', 'components.0.2.module.0.conv2.weight', 'components.0.2.module.0.bn2.weight', 'components.0.2.module.0.bn2.bias', 'components.0.2.module.0.bn2.running_mean', 'components.0.2.module.0.bn2.running_var', 'components.0.2.module.0.bn2.num_batches_tracked', 'components.0.2.module.1.conv1.weight', 'components.0.2.module.1.bn1.weight', 'components.0.2.module.1.bn1.bias', 'components.0.2.module.1.bn1.running_mean', 'components.0.2.module.1.bn1.running_var', 'components.0.2.module.1.bn1.num_batches_tracked', 'components.0.2.module.1.conv2.weight', 'components.0.2.module.1.bn2.weight', 'components.0.2.module.1.bn2.bias', 'components.0.2.module.1.bn2.running_mean', 'components.0.2.module.1.bn2.running_var', 'components.0.2.module.1.bn2.num_batches_tracked', 'components.1.0.module_learned_buffer', 'components.1.0.bn_eval_buffer', 'components.1.0.module.0.conv1.weight', 'components.1.0.module.0.bn1.weight', 'components.1.0.module.0.bn1.bias', 'components.1.0.module.0.bn1.running_mean', 'components.1.0.module.0.bn1.running_var', 'components.1.0.module.0.bn1.num_batches_tracked', 'components.1.0.module.0.conv2.weight', 'components.1.0.module.0.bn2.weight', 'components.1.0.module.0.bn2.bias', 'components.1.0.module.0.bn2.running_mean', 'components.1.0.module.0.bn2.running_var', 'components.1.0.module.0.bn2.num_batches_tracked', 'components.1.0.module.0.downsample.0.weight', 'components.1.0.module.0.downsample.1.weight', 'components.1.0.module.0.downsample.1.bias', 'components.1.0.module.0.downsample.1.running_mean', 'components.1.0.module.0.downsample.1.running_var', 'components.1.0.module.0.downsample.1.num_batches_tracked', 'components.1.0.module.1.conv1.weight', 'components.1.0.module.1.bn1.weight', 'components.1.0.module.1.bn1.bias', 'components.1.0.module.1.bn1.running_mean', 'components.1.0.module.1.bn1.running_var', 'components.1.0.module.1.bn1.num_batches_tracked', 'components.1.0.module.1.conv2.weight', 'components.1.0.module.1.bn2.weight', 'components.1.0.module.1.bn2.bias', 'components.1.0.module.1.bn2.running_mean', 'components.1.0.module.1.bn2.running_var', 'components.1.0.module.1.bn2.num_batches_tracked', 'components.1.1.module_learned_buffer', 'components.1.1.bn_eval_buffer', 'components.1.1.module.0.conv1.weight', 'components.1.1.module.0.bn1.weight', 'components.1.1.module.0.bn1.bias', 'components.1.1.module.0.bn1.running_mean', 'components.1.1.module.0.bn1.running_var', 'components.1.1.module.0.bn1.num_batches_tracked', 'components.1.1.module.0.conv2.weight', 'components.1.1.module.0.bn2.weight', 'components.1.1.module.0.bn2.bias', 'components.1.1.module.0.bn2.running_mean', 'components.1.1.module.0.bn2.running_var', 'components.1.1.module.0.bn2.num_batches_tracked', 'components.1.1.module.0.downsample.0.weight', 'components.1.1.module.0.downsample.1.weight', 'components.1.1.module.0.downsample.1.bias', 'components.1.1.module.0.downsample.1.running_mean', 'components.1.1.module.0.downsample.1.running_var', 'components.1.1.module.0.downsample.1.num_batches_tracked', 'components.1.1.module.1.conv1.weight', 'components.1.1.module.1.bn1.weight', 'components.1.1.module.1.bn1.bias', 'components.1.1.module.1.bn1.running_mean', 'components.1.1.module.1.bn1.running_var', 'components.1.1.module.1.bn1.num_batches_tracked', 'components.1.1.module.1.conv2.weight', 'components.1.1.module.1.bn2.weight', 'components.1.1.module.1.bn2.bias', 'components.1.1.module.1.bn2.running_mean', 'components.1.1.module.1.bn2.running_var', 'components.1.1.module.1.bn2.num_batches_tracked', 'components.1.2.module_learned_buffer', 'components.1.2.bn_eval_buffer', 'components.1.2.module.0.conv1.weight', 'components.1.2.module.0.bn1.weight', 'components.1.2.module.0.bn1.bias', 'components.1.2.module.0.bn1.running_mean', 'components.1.2.module.0.bn1.running_var', 'components.1.2.module.0.bn1.num_batches_tracked', 'components.1.2.module.0.conv2.weight', 'components.1.2.module.0.bn2.weight', 'components.1.2.module.0.bn2.bias', 'components.1.2.module.0.bn2.running_mean', 'components.1.2.module.0.bn2.running_var', 'components.1.2.module.0.bn2.num_batches_tracked', 'components.1.2.module.0.downsample.0.weight', 'components.1.2.module.0.downsample.1.weight', 'components.1.2.module.0.downsample.1.bias', 'components.1.2.module.0.downsample.1.running_mean', 'components.1.2.module.0.downsample.1.running_var', 'components.1.2.module.0.downsample.1.num_batches_tracked', 'components.1.2.module.1.conv1.weight', 'components.1.2.module.1.bn1.weight', 'components.1.2.module.1.bn1.bias', 'components.1.2.module.1.bn1.running_mean', 'components.1.2.module.1.bn1.running_var', 'components.1.2.module.1.bn1.num_batches_tracked', 'components.1.2.module.1.conv2.weight', 'components.1.2.module.1.bn2.weight', 'components.1.2.module.1.bn2.bias', 'components.1.2.module.1.bn2.running_mean', 'components.1.2.module.1.bn2.running_var', 'components.1.2.module.1.bn2.num_batches_tracked', 'components.1.3.module_learned_buffer', 'components.1.3.bn_eval_buffer', 'components.1.3.module.0.conv1.weight', 'components.1.3.module.0.bn1.weight', 'components.1.3.module.0.bn1.bias', 'components.1.3.module.0.bn1.running_mean', 'components.1.3.module.0.bn1.running_var', 'components.1.3.module.0.bn1.num_batches_tracked', 'components.1.3.module.0.conv2.weight', 'components.1.3.module.0.bn2.weight', 'components.1.3.module.0.bn2.bias', 'components.1.3.module.0.bn2.running_mean', 'components.1.3.module.0.bn2.running_var', 'components.1.3.module.0.bn2.num_batches_tracked', 'components.1.3.module.0.downsample.0.weight', 'components.1.3.module.0.downsample.1.weight', 'components.1.3.module.0.downsample.1.bias', 'components.1.3.module.0.downsample.1.running_mean', 'components.1.3.module.0.downsample.1.running_var', 'components.1.3.module.0.downsample.1.num_batches_tracked', 'components.1.3.module.1.conv1.weight', 'components.1.3.module.1.bn1.weight', 'components.1.3.module.1.bn1.bias', 'components.1.3.module.1.bn1.running_mean', 'components.1.3.module.1.bn1.running_var', 'components.1.3.module.1.bn1.num_batches_tracked', 'components.1.3.module.1.conv2.weight', 'components.1.3.module.1.bn2.weight', 'components.1.3.module.1.bn2.bias', 'components.1.3.module.1.bn2.running_mean', 'components.1.3.module.1.bn2.running_var', 'components.1.3.module.1.bn2.num_batches_tracked', 'components.1.4.module_learned_buffer', 'components.1.4.bn_eval_buffer', 'components.1.4.module.0.conv1.weight', 'components.1.4.module.0.bn1.weight', 'components.1.4.module.0.bn1.bias', 'components.1.4.module.0.bn1.running_mean', 'components.1.4.module.0.bn1.running_var', 'components.1.4.module.0.bn1.num_batches_tracked', 'components.1.4.module.0.conv2.weight', 'components.1.4.module.0.bn2.weight', 'components.1.4.module.0.bn2.bias', 'components.1.4.module.0.bn2.running_mean', 'components.1.4.module.0.bn2.running_var', 'components.1.4.module.0.bn2.num_batches_tracked', 'components.1.4.module.0.downsample.0.weight', 'components.1.4.module.0.downsample.1.weight', 'components.1.4.module.0.downsample.1.bias', 'components.1.4.module.0.downsample.1.running_mean', 'components.1.4.module.0.downsample.1.running_var', 'components.1.4.module.0.downsample.1.num_batches_tracked', 'components.1.4.module.1.conv1.weight', 'components.1.4.module.1.bn1.weight', 'components.1.4.module.1.bn1.bias', 'components.1.4.module.1.bn1.running_mean', 'components.1.4.module.1.bn1.running_var', 'components.1.4.module.1.bn1.num_batches_tracked', 'components.1.4.module.1.conv2.weight', 'components.1.4.module.1.bn2.weight', 'components.1.4.module.1.bn2.bias', 'components.1.4.module.1.bn2.running_mean', 'components.1.4.module.1.bn2.running_var', 'components.1.4.module.1.bn2.num_batches_tracked', 'components.1.5.module_learned_buffer', 'components.1.5.bn_eval_buffer', 'components.1.5.module.0.conv1.weight', 'components.1.5.module.0.bn1.weight', 'components.1.5.module.0.bn1.bias', 'components.1.5.module.0.bn1.running_mean', 'components.1.5.module.0.bn1.running_var', 'components.1.5.module.0.bn1.num_batches_tracked', 'components.1.5.module.0.conv2.weight', 'components.1.5.module.0.bn2.weight', 'components.1.5.module.0.bn2.bias', 'components.1.5.module.0.bn2.running_mean', 'components.1.5.module.0.bn2.running_var', 'components.1.5.module.0.bn2.num_batches_tracked', 'components.1.5.module.0.downsample.0.weight', 'components.1.5.module.0.downsample.1.weight', 'components.1.5.module.0.downsample.1.bias', 'components.1.5.module.0.downsample.1.running_mean', 'components.1.5.module.0.downsample.1.running_var', 'components.1.5.module.0.downsample.1.num_batches_tracked', 'components.1.5.module.1.conv1.weight', 'components.1.5.module.1.bn1.weight', 'components.1.5.module.1.bn1.bias', 'components.1.5.module.1.bn1.running_mean', 'components.1.5.module.1.bn1.running_var', 'components.1.5.module.1.bn1.num_batches_tracked', 'components.1.5.module.1.conv2.weight', 'components.1.5.module.1.bn2.weight', 'components.1.5.module.1.bn2.bias', 'components.1.5.module.1.bn2.running_mean', 'components.1.5.module.1.bn2.running_var', 'components.1.5.module.1.bn2.num_batches_tracked', 'components.1.6.module_learned_buffer', 'components.1.6.bn_eval_buffer', 'components.1.6.module.0.conv1.weight', 'components.1.6.module.0.bn1.weight', 'components.1.6.module.0.bn1.bias', 'components.1.6.module.0.bn1.running_mean', 'components.1.6.module.0.bn1.running_var', 'components.1.6.module.0.bn1.num_batches_tracked', 'components.1.6.module.0.conv2.weight', 'components.1.6.module.0.bn2.weight', 'components.1.6.module.0.bn2.bias', 'components.1.6.module.0.bn2.running_mean', 'components.1.6.module.0.bn2.running_var', 'components.1.6.module.0.bn2.num_batches_tracked', 'components.1.6.module.0.downsample.0.weight', 'components.1.6.module.0.downsample.1.weight', 'components.1.6.module.0.downsample.1.bias', 'components.1.6.module.0.downsample.1.running_mean', 'components.1.6.module.0.downsample.1.running_var', 'components.1.6.module.0.downsample.1.num_batches_tracked', 'components.1.6.module.1.conv1.weight', 'components.1.6.module.1.bn1.weight', 'components.1.6.module.1.bn1.bias', 'components.1.6.module.1.bn1.running_mean', 'components.1.6.module.1.bn1.running_var', 'components.1.6.module.1.bn1.num_batches_tracked', 'components.1.6.module.1.conv2.weight', 'components.1.6.module.1.bn2.weight', 'components.1.6.module.1.bn2.bias', 'components.1.6.module.1.bn2.running_mean', 'components.1.6.module.1.bn2.running_var', 'components.1.6.module.1.bn2.num_batches_tracked', 'components.1.7.module_learned_buffer', 'components.1.7.bn_eval_buffer', 'components.1.7.module.0.conv1.weight', 'components.1.7.module.0.bn1.weight', 'components.1.7.module.0.bn1.bias', 'components.1.7.module.0.bn1.running_mean', 'components.1.7.module.0.bn1.running_var', 'components.1.7.module.0.bn1.num_batches_tracked', 'components.1.7.module.0.conv2.weight', 'components.1.7.module.0.bn2.weight', 'components.1.7.module.0.bn2.bias', 'components.1.7.module.0.bn2.running_mean', 'components.1.7.module.0.bn2.running_var', 'components.1.7.module.0.bn2.num_batches_tracked', 'components.1.7.module.0.downsample.0.weight', 'components.1.7.module.0.downsample.1.weight', 'components.1.7.module.0.downsample.1.bias', 'components.1.7.module.0.downsample.1.running_mean', 'components.1.7.module.0.downsample.1.running_var', 'components.1.7.module.0.downsample.1.num_batches_tracked', 'components.1.7.module.1.conv1.weight', 'components.1.7.module.1.bn1.weight', 'components.1.7.module.1.bn1.bias', 'components.1.7.module.1.bn1.running_mean', 'components.1.7.module.1.bn1.running_var', 'components.1.7.module.1.bn1.num_batches_tracked', 'components.1.7.module.1.conv2.weight', 'components.1.7.module.1.bn2.weight', 'components.1.7.module.1.bn2.bias', 'components.1.7.module.1.bn2.running_mean', 'components.1.7.module.1.bn2.running_var', 'components.1.7.module.1.bn2.num_batches_tracked', 'components.1.8.module_learned_buffer', 'components.1.8.bn_eval_buffer', 'components.1.8.module.0.conv1.weight', 'components.1.8.module.0.bn1.weight', 'components.1.8.module.0.bn1.bias', 'components.1.8.module.0.bn1.running_mean', 'components.1.8.module.0.bn1.running_var', 'components.1.8.module.0.bn1.num_batches_tracked', 'components.1.8.module.0.conv2.weight', 'components.1.8.module.0.bn2.weight', 'components.1.8.module.0.bn2.bias', 'components.1.8.module.0.bn2.running_mean', 'components.1.8.module.0.bn2.running_var', 'components.1.8.module.0.bn2.num_batches_tracked', 'components.1.8.module.0.downsample.0.weight', 'components.1.8.module.0.downsample.1.weight', 'components.1.8.module.0.downsample.1.bias', 'components.1.8.module.0.downsample.1.running_mean', 'components.1.8.module.0.downsample.1.running_var', 'components.1.8.module.0.downsample.1.num_batches_tracked', 'components.1.8.module.1.conv1.weight', 'components.1.8.module.1.bn1.weight', 'components.1.8.module.1.bn1.bias', 'components.1.8.module.1.bn1.running_mean', 'components.1.8.module.1.bn1.running_var', 'components.1.8.module.1.bn1.num_batches_tracked', 'components.1.8.module.1.conv2.weight', 'components.1.8.module.1.bn2.weight', 'components.1.8.module.1.bn2.bias', 'components.1.8.module.1.bn2.running_mean', 'components.1.8.module.1.bn2.running_var', 'components.1.8.module.1.bn2.num_batches_tracked', 'components.2.0.module_learned_buffer', 'components.2.0.bn_eval_buffer', 'components.2.0.module.0.conv1.weight', 'components.2.0.module.0.bn1.weight', 'components.2.0.module.0.bn1.bias', 'components.2.0.module.0.bn1.running_mean', 'components.2.0.module.0.bn1.running_var', 'components.2.0.module.0.bn1.num_batches_tracked', 'components.2.0.module.0.conv2.weight', 'components.2.0.module.0.bn2.weight', 'components.2.0.module.0.bn2.bias', 'components.2.0.module.0.bn2.running_mean', 'components.2.0.module.0.bn2.running_var', 'components.2.0.module.0.bn2.num_batches_tracked', 'components.2.0.module.0.downsample.0.weight', 'components.2.0.module.0.downsample.1.weight', 'components.2.0.module.0.downsample.1.bias', 'components.2.0.module.0.downsample.1.running_mean', 'components.2.0.module.0.downsample.1.running_var', 'components.2.0.module.0.downsample.1.num_batches_tracked', 'components.2.0.module.1.conv1.weight', 'components.2.0.module.1.bn1.weight', 'components.2.0.module.1.bn1.bias', 'components.2.0.module.1.bn1.running_mean', 'components.2.0.module.1.bn1.running_var', 'components.2.0.module.1.bn1.num_batches_tracked', 'components.2.0.module.1.conv2.weight', 'components.2.0.module.1.bn2.weight', 'components.2.0.module.1.bn2.bias', 'components.2.0.module.1.bn2.running_mean', 'components.2.0.module.1.bn2.running_var', 'components.2.0.module.1.bn2.num_batches_tracked', 'components.2.1.module_learned_buffer', 'components.2.1.bn_eval_buffer', 'components.2.1.module.0.conv1.weight', 'components.2.1.module.0.bn1.weight', 'components.2.1.module.0.bn1.bias', 'components.2.1.module.0.bn1.running_mean', 'components.2.1.module.0.bn1.running_var', 'components.2.1.module.0.bn1.num_batches_tracked', 'components.2.1.module.0.conv2.weight', 'components.2.1.module.0.bn2.weight', 'components.2.1.module.0.bn2.bias', 'components.2.1.module.0.bn2.running_mean', 'components.2.1.module.0.bn2.running_var', 'components.2.1.module.0.bn2.num_batches_tracked', 'components.2.1.module.0.downsample.0.weight', 'components.2.1.module.0.downsample.1.weight', 'components.2.1.module.0.downsample.1.bias', 'components.2.1.module.0.downsample.1.running_mean', 'components.2.1.module.0.downsample.1.running_var', 'components.2.1.module.0.downsample.1.num_batches_tracked', 'components.2.1.module.1.conv1.weight', 'components.2.1.module.1.bn1.weight', 'components.2.1.module.1.bn1.bias', 'components.2.1.module.1.bn1.running_mean', 'components.2.1.module.1.bn1.running_var', 'components.2.1.module.1.bn1.num_batches_tracked', 'components.2.1.module.1.conv2.weight', 'components.2.1.module.1.bn2.weight', 'components.2.1.module.1.bn2.bias', 'components.2.1.module.1.bn2.running_mean', 'components.2.1.module.1.bn2.running_var', 'components.2.1.module.1.bn2.num_batches_tracked', 'components.2.2.module_learned_buffer', 'components.2.2.bn_eval_buffer', 'components.2.2.module.0.conv1.weight', 'components.2.2.module.0.bn1.weight', 'components.2.2.module.0.bn1.bias', 'components.2.2.module.0.bn1.running_mean', 'components.2.2.module.0.bn1.running_var', 'components.2.2.module.0.bn1.num_batches_tracked', 'components.2.2.module.0.conv2.weight', 'components.2.2.module.0.bn2.weight', 'components.2.2.module.0.bn2.bias', 'components.2.2.module.0.bn2.running_mean', 'components.2.2.module.0.bn2.running_var', 'components.2.2.module.0.bn2.num_batches_tracked', 'components.2.2.module.0.downsample.0.weight', 'components.2.2.module.0.downsample.1.weight', 'components.2.2.module.0.downsample.1.bias', 'components.2.2.module.0.downsample.1.running_mean', 'components.2.2.module.0.downsample.1.running_var', 'components.2.2.module.0.downsample.1.num_batches_tracked', 'components.2.2.module.1.conv1.weight', 'components.2.2.module.1.bn1.weight', 'components.2.2.module.1.bn1.bias', 'components.2.2.module.1.bn1.running_mean', 'components.2.2.module.1.bn1.running_var', 'components.2.2.module.1.bn1.num_batches_tracked', 'components.2.2.module.1.conv2.weight', 'components.2.2.module.1.bn2.weight', 'components.2.2.module.1.bn2.bias', 'components.2.2.module.1.bn2.running_mean', 'components.2.2.module.1.bn2.running_var', 'components.2.2.module.1.bn2.num_batches_tracked', 'components.2.3.module_learned_buffer', 'components.2.3.bn_eval_buffer', 'components.2.3.module.0.conv1.weight', 'components.2.3.module.0.bn1.weight', 'components.2.3.module.0.bn1.bias', 'components.2.3.module.0.bn1.running_mean', 'components.2.3.module.0.bn1.running_var', 'components.2.3.module.0.bn1.num_batches_tracked', 'components.2.3.module.0.conv2.weight', 'components.2.3.module.0.bn2.weight', 'components.2.3.module.0.bn2.bias', 'components.2.3.module.0.bn2.running_mean', 'components.2.3.module.0.bn2.running_var', 'components.2.3.module.0.bn2.num_batches_tracked', 'components.2.3.module.0.downsample.0.weight', 'components.2.3.module.0.downsample.1.weight', 'components.2.3.module.0.downsample.1.bias', 'components.2.3.module.0.downsample.1.running_mean', 'components.2.3.module.0.downsample.1.running_var', 'components.2.3.module.0.downsample.1.num_batches_tracked', 'components.2.3.module.1.conv1.weight', 'components.2.3.module.1.bn1.weight', 'components.2.3.module.1.bn1.bias', 'components.2.3.module.1.bn1.running_mean', 'components.2.3.module.1.bn1.running_var', 'components.2.3.module.1.bn1.num_batches_tracked', 'components.2.3.module.1.conv2.weight', 'components.2.3.module.1.bn2.weight', 'components.2.3.module.1.bn2.bias', 'components.2.3.module.1.bn2.running_mean', 'components.2.3.module.1.bn2.running_var', 'components.2.3.module.1.bn2.num_batches_tracked', 'components.2.4.module_learned_buffer', 'components.2.4.bn_eval_buffer', 'components.2.4.module.0.conv1.weight', 'components.2.4.module.0.bn1.weight', 'components.2.4.module.0.bn1.bias', 'components.2.4.module.0.bn1.running_mean', 'components.2.4.module.0.bn1.running_var', 'components.2.4.module.0.bn1.num_batches_tracked', 'components.2.4.module.0.conv2.weight', 'components.2.4.module.0.bn2.weight', 'components.2.4.module.0.bn2.bias', 'components.2.4.module.0.bn2.running_mean', 'components.2.4.module.0.bn2.running_var', 'components.2.4.module.0.bn2.num_batches_tracked', 'components.2.4.module.0.downsample.0.weight', 'components.2.4.module.0.downsample.1.weight', 'components.2.4.module.0.downsample.1.bias', 'components.2.4.module.0.downsample.1.running_mean', 'components.2.4.module.0.downsample.1.running_var', 'components.2.4.module.0.downsample.1.num_batches_tracked', 'components.2.4.module.1.conv1.weight', 'components.2.4.module.1.bn1.weight', 'components.2.4.module.1.bn1.bias', 'components.2.4.module.1.bn1.running_mean', 'components.2.4.module.1.bn1.running_var', 'components.2.4.module.1.bn1.num_batches_tracked', 'components.2.4.module.1.conv2.weight', 'components.2.4.module.1.bn2.weight', 'components.2.4.module.1.bn2.bias', 'components.2.4.module.1.bn2.running_mean', 'components.2.4.module.1.bn2.running_var', 'components.2.4.module.1.bn2.num_batches_tracked', 'components.2.5.module_learned_buffer', 'components.2.5.bn_eval_buffer', 'components.2.5.module.0.conv1.weight', 'components.2.5.module.0.bn1.weight', 'components.2.5.module.0.bn1.bias', 'components.2.5.module.0.bn1.running_mean', 'components.2.5.module.0.bn1.running_var', 'components.2.5.module.0.bn1.num_batches_tracked', 'components.2.5.module.0.conv2.weight', 'components.2.5.module.0.bn2.weight', 'components.2.5.module.0.bn2.bias', 'components.2.5.module.0.bn2.running_mean', 'components.2.5.module.0.bn2.running_var', 'components.2.5.module.0.bn2.num_batches_tracked', 'components.2.5.module.0.downsample.0.weight', 'components.2.5.module.0.downsample.1.weight', 'components.2.5.module.0.downsample.1.bias', 'components.2.5.module.0.downsample.1.running_mean', 'components.2.5.module.0.downsample.1.running_var', 'components.2.5.module.0.downsample.1.num_batches_tracked', 'components.2.5.module.1.conv1.weight', 'components.2.5.module.1.bn1.weight', 'components.2.5.module.1.bn1.bias', 'components.2.5.module.1.bn1.running_mean', 'components.2.5.module.1.bn1.running_var', 'components.2.5.module.1.bn1.num_batches_tracked', 'components.2.5.module.1.conv2.weight', 'components.2.5.module.1.bn2.weight', 'components.2.5.module.1.bn2.bias', 'components.2.5.module.1.bn2.running_mean', 'components.2.5.module.1.bn2.running_var', 'components.2.5.module.1.bn2.num_batches_tracked', 'components.2.6.module_learned_buffer', 'components.2.6.bn_eval_buffer', 'components.2.6.module.0.conv1.weight', 'components.2.6.module.0.bn1.weight', 'components.2.6.module.0.bn1.bias', 'components.2.6.module.0.bn1.running_mean', 'components.2.6.module.0.bn1.running_var', 'components.2.6.module.0.bn1.num_batches_tracked', 'components.2.6.module.0.conv2.weight', 'components.2.6.module.0.bn2.weight', 'components.2.6.module.0.bn2.bias', 'components.2.6.module.0.bn2.running_mean', 'components.2.6.module.0.bn2.running_var', 'components.2.6.module.0.bn2.num_batches_tracked', 'components.2.6.module.0.downsample.0.weight', 'components.2.6.module.0.downsample.1.weight', 'components.2.6.module.0.downsample.1.bias', 'components.2.6.module.0.downsample.1.running_mean', 'components.2.6.module.0.downsample.1.running_var', 'components.2.6.module.0.downsample.1.num_batches_tracked', 'components.2.6.module.1.conv1.weight', 'components.2.6.module.1.bn1.weight', 'components.2.6.module.1.bn1.bias', 'components.2.6.module.1.bn1.running_mean', 'components.2.6.module.1.bn1.running_var', 'components.2.6.module.1.bn1.num_batches_tracked', 'components.2.6.module.1.conv2.weight', 'components.2.6.module.1.bn2.weight', 'components.2.6.module.1.bn2.bias', 'components.2.6.module.1.bn2.running_mean', 'components.2.6.module.1.bn2.running_var', 'components.2.6.module.1.bn2.num_batches_tracked', 'components.2.7.module_learned_buffer', 'components.2.7.bn_eval_buffer', 'components.2.7.module.0.conv1.weight', 'components.2.7.module.0.bn1.weight', 'components.2.7.module.0.bn1.bias', 'components.2.7.module.0.bn1.running_mean', 'components.2.7.module.0.bn1.running_var', 'components.2.7.module.0.bn1.num_batches_tracked', 'components.2.7.module.0.conv2.weight', 'components.2.7.module.0.bn2.weight', 'components.2.7.module.0.bn2.bias', 'components.2.7.module.0.bn2.running_mean', 'components.2.7.module.0.bn2.running_var', 'components.2.7.module.0.bn2.num_batches_tracked', 'components.2.7.module.0.downsample.0.weight', 'components.2.7.module.0.downsample.1.weight', 'components.2.7.module.0.downsample.1.bias', 'components.2.7.module.0.downsample.1.running_mean', 'components.2.7.module.0.downsample.1.running_var', 'components.2.7.module.0.downsample.1.num_batches_tracked', 'components.2.7.module.1.conv1.weight', 'components.2.7.module.1.bn1.weight', 'components.2.7.module.1.bn1.bias', 'components.2.7.module.1.bn1.running_mean', 'components.2.7.module.1.bn1.running_var', 'components.2.7.module.1.bn1.num_batches_tracked', 'components.2.7.module.1.conv2.weight', 'components.2.7.module.1.bn2.weight', 'components.2.7.module.1.bn2.bias', 'components.2.7.module.1.bn2.running_mean', 'components.2.7.module.1.bn2.running_var', 'components.2.7.module.1.bn2.num_batches_tracked', 'components.2.8.module_learned_buffer', 'components.2.8.bn_eval_buffer', 'components.2.8.module.0.conv1.weight', 'components.2.8.module.0.bn1.weight', 'components.2.8.module.0.bn1.bias', 'components.2.8.module.0.bn1.running_mean', 'components.2.8.module.0.bn1.running_var', 'components.2.8.module.0.bn1.num_batches_tracked', 'components.2.8.module.0.conv2.weight', 'components.2.8.module.0.bn2.weight', 'components.2.8.module.0.bn2.bias', 'components.2.8.module.0.bn2.running_mean', 'components.2.8.module.0.bn2.running_var', 'components.2.8.module.0.bn2.num_batches_tracked', 'components.2.8.module.0.downsample.0.weight', 'components.2.8.module.0.downsample.1.weight', 'components.2.8.module.0.downsample.1.bias', 'components.2.8.module.0.downsample.1.running_mean', 'components.2.8.module.0.downsample.1.running_var', 'components.2.8.module.0.downsample.1.num_batches_tracked', 'components.2.8.module.1.conv1.weight', 'components.2.8.module.1.bn1.weight', 'components.2.8.module.1.bn1.bias', 'components.2.8.module.1.bn1.running_mean', 'components.2.8.module.1.bn1.running_var', 'components.2.8.module.1.bn1.num_batches_tracked', 'components.2.8.module.1.conv2.weight', 'components.2.8.module.1.bn2.weight', 'components.2.8.module.1.bn2.bias', 'components.2.8.module.1.bn2.running_mean', 'components.2.8.module.1.bn2.running_var', 'components.2.8.module.1.bn2.num_batches_tracked', 'components.2.9.module_learned_buffer', 'components.2.9.bn_eval_buffer', 'components.2.9.module.0.conv1.weight', 'components.2.9.module.0.bn1.weight', 'components.2.9.module.0.bn1.bias', 'components.2.9.module.0.bn1.running_mean', 'components.2.9.module.0.bn1.running_var', 'components.2.9.module.0.bn1.num_batches_tracked', 'components.2.9.module.0.conv2.weight', 'components.2.9.module.0.bn2.weight', 'components.2.9.module.0.bn2.bias', 'components.2.9.module.0.bn2.running_mean', 'components.2.9.module.0.bn2.running_var', 'components.2.9.module.0.bn2.num_batches_tracked', 'components.2.9.module.0.downsample.0.weight', 'components.2.9.module.0.downsample.1.weight', 'components.2.9.module.0.downsample.1.bias', 'components.2.9.module.0.downsample.1.running_mean', 'components.2.9.module.0.downsample.1.running_var', 'components.2.9.module.0.downsample.1.num_batches_tracked', 'components.2.9.module.1.conv1.weight', 'components.2.9.module.1.bn1.weight', 'components.2.9.module.1.bn1.bias', 'components.2.9.module.1.bn1.running_mean', 'components.2.9.module.1.bn1.running_var', 'components.2.9.module.1.bn1.num_batches_tracked', 'components.2.9.module.1.conv2.weight', 'components.2.9.module.1.bn2.weight', 'components.2.9.module.1.bn2.bias', 'components.2.9.module.1.bn2.running_mean', 'components.2.9.module.1.bn2.running_var', 'components.2.9.module.1.bn2.num_batches_tracked', 'components.3.0.module_learned_buffer', 'components.3.0.bn_eval_buffer', 'components.3.0.module.0.conv1.weight', 'components.3.0.module.0.bn1.weight', 'components.3.0.module.0.bn1.bias', 'components.3.0.module.0.bn1.running_mean', 'components.3.0.module.0.bn1.running_var', 'components.3.0.module.0.bn1.num_batches_tracked', 'components.3.0.module.0.conv2.weight', 'components.3.0.module.0.bn2.weight', 'components.3.0.module.0.bn2.bias', 'components.3.0.module.0.bn2.running_mean', 'components.3.0.module.0.bn2.running_var', 'components.3.0.module.0.bn2.num_batches_tracked', 'components.3.0.module.0.downsample.0.weight', 'components.3.0.module.0.downsample.1.weight', 'components.3.0.module.0.downsample.1.bias', 'components.3.0.module.0.downsample.1.running_mean', 'components.3.0.module.0.downsample.1.running_var', 'components.3.0.module.0.downsample.1.num_batches_tracked', 'components.3.0.module.1.conv1.weight', 'components.3.0.module.1.bn1.weight', 'components.3.0.module.1.bn1.bias', 'components.3.0.module.1.bn1.running_mean', 'components.3.0.module.1.bn1.running_var', 'components.3.0.module.1.bn1.num_batches_tracked', 'components.3.0.module.1.conv2.weight', 'components.3.0.module.1.bn2.weight', 'components.3.0.module.1.bn2.bias', 'components.3.0.module.1.bn2.running_mean', 'components.3.0.module.1.bn2.running_var', 'components.3.0.module.1.bn2.num_batches_tracked', 'components.3.1.module_learned_buffer', 'components.3.1.bn_eval_buffer', 'components.3.1.module.0.conv1.weight', 'components.3.1.module.0.bn1.weight', 'components.3.1.module.0.bn1.bias', 'components.3.1.module.0.bn1.running_mean', 'components.3.1.module.0.bn1.running_var', 'components.3.1.module.0.bn1.num_batches_tracked', 'components.3.1.module.0.conv2.weight', 'components.3.1.module.0.bn2.weight', 'components.3.1.module.0.bn2.bias', 'components.3.1.module.0.bn2.running_mean', 'components.3.1.module.0.bn2.running_var', 'components.3.1.module.0.bn2.num_batches_tracked', 'components.3.1.module.0.downsample.0.weight', 'components.3.1.module.0.downsample.1.weight', 'components.3.1.module.0.downsample.1.bias', 'components.3.1.module.0.downsample.1.running_mean', 'components.3.1.module.0.downsample.1.running_var', 'components.3.1.module.0.downsample.1.num_batches_tracked', 'components.3.1.module.1.conv1.weight', 'components.3.1.module.1.bn1.weight', 'components.3.1.module.1.bn1.bias', 'components.3.1.module.1.bn1.running_mean', 'components.3.1.module.1.bn1.running_var', 'components.3.1.module.1.bn1.num_batches_tracked', 'components.3.1.module.1.conv2.weight', 'components.3.1.module.1.bn2.weight', 'components.3.1.module.1.bn2.bias', 'components.3.1.module.1.bn2.running_mean', 'components.3.1.module.1.bn2.running_var', 'components.3.1.module.1.bn2.num_batches_tracked', 'components.3.2.module_learned_buffer', 'components.3.2.bn_eval_buffer', 'components.3.2.module.0.conv1.weight', 'components.3.2.module.0.bn1.weight', 'components.3.2.module.0.bn1.bias', 'components.3.2.module.0.bn1.running_mean', 'components.3.2.module.0.bn1.running_var', 'components.3.2.module.0.bn1.num_batches_tracked', 'components.3.2.module.0.conv2.weight', 'components.3.2.module.0.bn2.weight', 'components.3.2.module.0.bn2.bias', 'components.3.2.module.0.bn2.running_mean', 'components.3.2.module.0.bn2.running_var', 'components.3.2.module.0.bn2.num_batches_tracked', 'components.3.2.module.0.downsample.0.weight', 'components.3.2.module.0.downsample.1.weight', 'components.3.2.module.0.downsample.1.bias', 'components.3.2.module.0.downsample.1.running_mean', 'components.3.2.module.0.downsample.1.running_var', 'components.3.2.module.0.downsample.1.num_batches_tracked', 'components.3.2.module.1.conv1.weight', 'components.3.2.module.1.bn1.weight', 'components.3.2.module.1.bn1.bias', 'components.3.2.module.1.bn1.running_mean', 'components.3.2.module.1.bn1.running_var', 'components.3.2.module.1.bn1.num_batches_tracked', 'components.3.2.module.1.conv2.weight', 'components.3.2.module.1.bn2.weight', 'components.3.2.module.1.bn2.bias', 'components.3.2.module.1.bn2.running_mean', 'components.3.2.module.1.bn2.running_var', 'components.3.2.module.1.bn2.num_batches_tracked', 'components.3.3.module_learned_buffer', 'components.3.3.bn_eval_buffer', 'components.3.3.module.0.conv1.weight', 'components.3.3.module.0.bn1.weight', 'components.3.3.module.0.bn1.bias', 'components.3.3.module.0.bn1.running_mean', 'components.3.3.module.0.bn1.running_var', 'components.3.3.module.0.bn1.num_batches_tracked', 'components.3.3.module.0.conv2.weight', 'components.3.3.module.0.bn2.weight', 'components.3.3.module.0.bn2.bias', 'components.3.3.module.0.bn2.running_mean', 'components.3.3.module.0.bn2.running_var', 'components.3.3.module.0.bn2.num_batches_tracked', 'components.3.3.module.0.downsample.0.weight', 'components.3.3.module.0.downsample.1.weight', 'components.3.3.module.0.downsample.1.bias', 'components.3.3.module.0.downsample.1.running_mean', 'components.3.3.module.0.downsample.1.running_var', 'components.3.3.module.0.downsample.1.num_batches_tracked', 'components.3.3.module.1.conv1.weight', 'components.3.3.module.1.bn1.weight', 'components.3.3.module.1.bn1.bias', 'components.3.3.module.1.bn1.running_mean', 'components.3.3.module.1.bn1.running_var', 'components.3.3.module.1.bn1.num_batches_tracked', 'components.3.3.module.1.conv2.weight', 'components.3.3.module.1.bn2.weight', 'components.3.3.module.1.bn2.bias', 'components.3.3.module.1.bn2.running_mean', 'components.3.3.module.1.bn2.running_var', 'components.3.3.module.1.bn2.num_batches_tracked', 'components.3.4.module_learned_buffer', 'components.3.4.bn_eval_buffer', 'components.3.4.module.0.conv1.weight', 'components.3.4.module.0.bn1.weight', 'components.3.4.module.0.bn1.bias', 'components.3.4.module.0.bn1.running_mean', 'components.3.4.module.0.bn1.running_var', 'components.3.4.module.0.bn1.num_batches_tracked', 'components.3.4.module.0.conv2.weight', 'components.3.4.module.0.bn2.weight', 'components.3.4.module.0.bn2.bias', 'components.3.4.module.0.bn2.running_mean', 'components.3.4.module.0.bn2.running_var', 'components.3.4.module.0.bn2.num_batches_tracked', 'components.3.4.module.0.downsample.0.weight', 'components.3.4.module.0.downsample.1.weight', 'components.3.4.module.0.downsample.1.bias', 'components.3.4.module.0.downsample.1.running_mean', 'components.3.4.module.0.downsample.1.running_var', 'components.3.4.module.0.downsample.1.num_batches_tracked', 'components.3.4.module.1.conv1.weight', 'components.3.4.module.1.bn1.weight', 'components.3.4.module.1.bn1.bias', 'components.3.4.module.1.bn1.running_mean', 'components.3.4.module.1.bn1.running_var', 'components.3.4.module.1.bn1.num_batches_tracked', 'components.3.4.module.1.conv2.weight', 'components.3.4.module.1.bn2.weight', 'components.3.4.module.1.bn2.bias', 'components.3.4.module.1.bn2.running_mean', 'components.3.4.module.1.bn2.running_var', 'components.3.4.module.1.bn2.num_batches_tracked', 'components.3.5.module_learned_buffer', 'components.3.5.bn_eval_buffer', 'components.3.5.module.0.conv1.weight', 'components.3.5.module.0.bn1.weight', 'components.3.5.module.0.bn1.bias', 'components.3.5.module.0.bn1.running_mean', 'components.3.5.module.0.bn1.running_var', 'components.3.5.module.0.bn1.num_batches_tracked', 'components.3.5.module.0.conv2.weight', 'components.3.5.module.0.bn2.weight', 'components.3.5.module.0.bn2.bias', 'components.3.5.module.0.bn2.running_mean', 'components.3.5.module.0.bn2.running_var', 'components.3.5.module.0.bn2.num_batches_tracked', 'components.3.5.module.0.downsample.0.weight', 'components.3.5.module.0.downsample.1.weight', 'components.3.5.module.0.downsample.1.bias', 'components.3.5.module.0.downsample.1.running_mean', 'components.3.5.module.0.downsample.1.running_var', 'components.3.5.module.0.downsample.1.num_batches_tracked', 'components.3.5.module.1.conv1.weight', 'components.3.5.module.1.bn1.weight', 'components.3.5.module.1.bn1.bias', 'components.3.5.module.1.bn1.running_mean', 'components.3.5.module.1.bn1.running_var', 'components.3.5.module.1.bn1.num_batches_tracked', 'components.3.5.module.1.conv2.weight', 'components.3.5.module.1.bn2.weight', 'components.3.5.module.1.bn2.bias', 'components.3.5.module.1.bn2.running_mean', 'components.3.5.module.1.bn2.running_var', 'components.3.5.module.1.bn2.num_batches_tracked', 'components.3.6.module_learned_buffer', 'components.3.6.bn_eval_buffer', 'components.3.6.module.0.conv1.weight', 'components.3.6.module.0.bn1.weight', 'components.3.6.module.0.bn1.bias', 'components.3.6.module.0.bn1.running_mean', 'components.3.6.module.0.bn1.running_var', 'components.3.6.module.0.bn1.num_batches_tracked', 'components.3.6.module.0.conv2.weight', 'components.3.6.module.0.bn2.weight', 'components.3.6.module.0.bn2.bias', 'components.3.6.module.0.bn2.running_mean', 'components.3.6.module.0.bn2.running_var', 'components.3.6.module.0.bn2.num_batches_tracked', 'components.3.6.module.0.downsample.0.weight', 'components.3.6.module.0.downsample.1.weight', 'components.3.6.module.0.downsample.1.bias', 'components.3.6.module.0.downsample.1.running_mean', 'components.3.6.module.0.downsample.1.running_var', 'components.3.6.module.0.downsample.1.num_batches_tracked', 'components.3.6.module.1.conv1.weight', 'components.3.6.module.1.bn1.weight', 'components.3.6.module.1.bn1.bias', 'components.3.6.module.1.bn1.running_mean', 'components.3.6.module.1.bn1.running_var', 'components.3.6.module.1.bn1.num_batches_tracked', 'components.3.6.module.1.conv2.weight', 'components.3.6.module.1.bn2.weight', 'components.3.6.module.1.bn2.bias', 'components.3.6.module.1.bn2.running_mean', 'components.3.6.module.1.bn2.running_var', 'components.3.6.module.1.bn2.num_batches_tracked', 'components.3.7.module_learned_buffer', 'components.3.7.bn_eval_buffer', 'components.3.7.module.0.conv1.weight', 'components.3.7.module.0.bn1.weight', 'components.3.7.module.0.bn1.bias', 'components.3.7.module.0.bn1.running_mean', 'components.3.7.module.0.bn1.running_var', 'components.3.7.module.0.bn1.num_batches_tracked', 'components.3.7.module.0.conv2.weight', 'components.3.7.module.0.bn2.weight', 'components.3.7.module.0.bn2.bias', 'components.3.7.module.0.bn2.running_mean', 'components.3.7.module.0.bn2.running_var', 'components.3.7.module.0.bn2.num_batches_tracked', 'components.3.7.module.0.downsample.0.weight', 'components.3.7.module.0.downsample.1.weight', 'components.3.7.module.0.downsample.1.bias', 'components.3.7.module.0.downsample.1.running_mean', 'components.3.7.module.0.downsample.1.running_var', 'components.3.7.module.0.downsample.1.num_batches_tracked', 'components.3.7.module.1.conv1.weight', 'components.3.7.module.1.bn1.weight', 'components.3.7.module.1.bn1.bias', 'components.3.7.module.1.bn1.running_mean', 'components.3.7.module.1.bn1.running_var', 'components.3.7.module.1.bn1.num_batches_tracked', 'components.3.7.module.1.conv2.weight', 'components.3.7.module.1.bn2.weight', 'components.3.7.module.1.bn2.bias', 'components.3.7.module.1.bn2.running_mean', 'components.3.7.module.1.bn2.running_var', 'components.3.7.module.1.bn2.num_batches_tracked', 'components.3.8.module_learned_buffer', 'components.3.8.bn_eval_buffer', 'components.3.8.module.0.conv1.weight', 'components.3.8.module.0.bn1.weight', 'components.3.8.module.0.bn1.bias', 'components.3.8.module.0.bn1.running_mean', 'components.3.8.module.0.bn1.running_var', 'components.3.8.module.0.bn1.num_batches_tracked', 'components.3.8.module.0.conv2.weight', 'components.3.8.module.0.bn2.weight', 'components.3.8.module.0.bn2.bias', 'components.3.8.module.0.bn2.running_mean', 'components.3.8.module.0.bn2.running_var', 'components.3.8.module.0.bn2.num_batches_tracked', 'components.3.8.module.0.downsample.0.weight', 'components.3.8.module.0.downsample.1.weight', 'components.3.8.module.0.downsample.1.bias', 'components.3.8.module.0.downsample.1.running_mean', 'components.3.8.module.0.downsample.1.running_var', 'components.3.8.module.0.downsample.1.num_batches_tracked', 'components.3.8.module.1.conv1.weight', 'components.3.8.module.1.bn1.weight', 'components.3.8.module.1.bn1.bias', 'components.3.8.module.1.bn1.running_mean', 'components.3.8.module.1.bn1.running_var', 'components.3.8.module.1.bn1.num_batches_tracked', 'components.3.8.module.1.conv2.weight', 'components.3.8.module.1.bn2.weight', 'components.3.8.module.1.bn2.bias', 'components.3.8.module.1.bn2.running_mean', 'components.3.8.module.1.bn2.running_var', 'components.3.8.module.1.bn2.num_batches_tracked', 'components.3.9.module_learned_buffer', 'components.3.9.bn_eval_buffer', 'components.3.9.module.0.conv1.weight', 'components.3.9.module.0.bn1.weight', 'components.3.9.module.0.bn1.bias', 'components.3.9.module.0.bn1.running_mean', 'components.3.9.module.0.bn1.running_var', 'components.3.9.module.0.bn1.num_batches_tracked', 'components.3.9.module.0.conv2.weight', 'components.3.9.module.0.bn2.weight', 'components.3.9.module.0.bn2.bias', 'components.3.9.module.0.bn2.running_mean', 'components.3.9.module.0.bn2.running_var', 'components.3.9.module.0.bn2.num_batches_tracked', 'components.3.9.module.0.downsample.0.weight', 'components.3.9.module.0.downsample.1.weight', 'components.3.9.module.0.downsample.1.bias', 'components.3.9.module.0.downsample.1.running_mean', 'components.3.9.module.0.downsample.1.running_var', 'components.3.9.module.0.downsample.1.num_batches_tracked', 'components.3.9.module.1.conv1.weight', 'components.3.9.module.1.bn1.weight', 'components.3.9.module.1.bn1.bias', 'components.3.9.module.1.bn1.running_mean', 'components.3.9.module.1.bn1.running_var', 'components.3.9.module.1.bn1.num_batches_tracked', 'components.3.9.module.1.conv2.weight', 'components.3.9.module.1.bn2.weight', 'components.3.9.module.1.bn2.bias', 'components.3.9.module.1.bn2.running_mean', 'components.3.9.module.1.bn2.running_var', 'components.3.9.module.1.bn2.num_batches_tracked', 'encoder.0.weight', 'encoder.1.weight', 'encoder.1.bias', 'encoder.1.running_mean', 'encoder.1.running_var', 'encoder.1.num_batches_tracked', 'decoder.0.weight', 'decoder.0.bias', 'decoder.1.weight', 'decoder.1.bias', 'decoder.2.weight', 'decoder.2.bias', 'decoder.3.weight', 'decoder.3.bias', 'decoder.4.weight', 'decoder.4.bias', 'decoder.5.weight', 'decoder.5.bias', 'decoder.6.weight', 'decoder.6.bias', 'decoder.7.weight', 'decoder.7.bias', 'decoder.8.weight', 'decoder.8.bias', 'decoder.9.weight', 'decoder.9.bias', 'decoder.10.weight', 'decoder.10.bias'])\n"
     ]
    }
   ],
   "source": [
    "print(checkpoint['state_dict'].keys())"
   ],
   "metadata": {
    "collapsed": false,
    "pycharm": {
     "name": "#%%\n"
    }
   }
  },
  {
   "cell_type": "markdown",
   "source": [
    "# Learn new dataset"
   ],
   "metadata": {
    "collapsed": false,
    "pycharm": {
     "name": "#%% md\n"
    }
   }
  },
  {
   "cell_type": "code",
   "execution_count": 3,
   "outputs": [
    {
     "name": "stdout",
     "output_type": "stream",
     "text": [
      "50\n",
      "100\n",
      "targets 100\n",
      "targets_task_labels 100\n",
      "targets 10\n",
      "targets_task_labels 10\n",
      "targets 200\n",
      "targets_task_labels 200\n"
     ]
    }
   ],
   "source": [
    "import torch\n",
    "from torch.utils.data.dataset import TensorDataset\n",
    "from avalanche.benchmarks.utils import AvalancheDataset\n",
    "\n",
    "# Create a dataset of 100 data points described by 22 features + 1 class label\n",
    "x_data = torch.rand(100, 22)\n",
    "y_data = torch.randint(0, 5, (100,))\n",
    "\n",
    "# Create the Dataset\n",
    "torch_data = TensorDataset(x_data, y_data)\n",
    "\n",
    "avl_data = AvalancheDataset(torch_data)\n",
    "\n",
    "sub_data = avl_data.subset(list(range(50)))\n",
    "print(len(sub_data))  # 50\n",
    "print(len(avl_data))  # 100, original data stays the same\n",
    "\n",
    "from avalanche.benchmarks.utils import make_classification_dataset\n",
    "\n",
    "# first, we add targets to the dataset. This will be used by the AvalancheDataset\n",
    "# If possible, avalanche tries to extract the targets from the dataset.\n",
    "# most datasets in torchvision already have a targets field so you don't need this step.\n",
    "torch_data.targets = torch.randint(0, 5, (100,)).tolist()\n",
    "tls = [0 for _ in range(100)] # one task label for each sample\n",
    "sup_data = make_classification_dataset(torch_data, task_labels=tls)\n",
    "\n",
    "print(sup_data.targets.name, len(sup_data.targets._data))\n",
    "print(sup_data.targets_task_labels.name, len(sup_data.targets_task_labels._data))\n",
    "\n",
    "# after subsampling\n",
    "sub_data = sup_data.subset(range(10))\n",
    "print(sub_data.targets.name, len(sub_data.targets._data))\n",
    "print(sub_data.targets_task_labels.name, len(sub_data.targets_task_labels._data))\n",
    "\n",
    "# after concat\n",
    "cat_data = sup_data.concat(sup_data)\n",
    "print(cat_data.targets.name, len(cat_data.targets._data))\n",
    "print(cat_data.targets_task_labels.name, len(cat_data.targets_task_labels._data))"
   ],
   "metadata": {
    "collapsed": false,
    "pycharm": {
     "name": "#%%\n"
    }
   }
  },
  {
   "cell_type": "code",
   "execution_count": null,
   "outputs": [],
   "source": [],
   "metadata": {
    "collapsed": false,
    "pycharm": {
     "name": "#%%\n"
    }
   }
  }
 ],
 "metadata": {
  "kernelspec": {
   "display_name": "Python 3",
   "language": "python",
   "name": "python3"
  },
  "language_info": {
   "codemirror_mode": {
    "name": "ipython",
    "version": 2
   },
   "file_extension": ".py",
   "mimetype": "text/x-python",
   "name": "python",
   "nbconvert_exporter": "python",
   "pygments_lexer": "ipython2",
   "version": "2.7.6"
  }
 },
 "nbformat": 4,
 "nbformat_minor": 0
}